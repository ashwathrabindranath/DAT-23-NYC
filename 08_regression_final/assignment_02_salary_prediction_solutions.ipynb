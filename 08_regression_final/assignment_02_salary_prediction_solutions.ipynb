{
 "cells": [
  {
   "cell_type": "markdown",
   "metadata": {},
   "source": [
    "# Assignment 2: Linear Regression\n",
    "\n",
    "### The Problem\n",
    "In this assignment, we are going to recreate the Kaggle competition to predict salaries based on job descriptions: http://www.kaggle.com/c/job-salary-prediction.  This problem came from a company called [Adzuna](http://www.adzuna.co.uk/), that wanted to be able to predict the salary of a job just based on it's description.\n",
    "\n",
    "### The Data\n",
    "We've paired down the problem a bit to make the dataset small and allow you to complete it in a reasonable time frame.  There are 3 important files available.\n",
    "\n",
    "1. [train.csv](http://gadatascience.com/datasets/adzuna_salary_prediction/train.csv)\n",
    "1. [test.csv](http://gadatascience.com/datasets/adzuna_salary_prediction/test.csv)\n",
    "1. [Location_Tree.csv](https://www.dropbox.com/s/hhieedt1b92adw5/Location_Tree.csv?dl=0)\n",
    "\n",
    "You will train and test your model on the `train.csv` dataset. This dataset is reasonably small, with 10k samples, so you can work smoothly. If you'd like to use larger datasets, you could try [train-50k.csv](https://www.dropbox.com/s/ssc14lubyua8hii/train_50k.csv?dl=0) or even [train-100k.csv](https://www.dropbox.com/s/tau4sv0vusr8xca/train_100k.csv?dl=0).\n",
    "\n",
    "If you have found a model you like, you can make predictions on the samples of the `test.csv` dataset. The test files contains all but the final two columns (the salary information), so you won't know how well you do. We will compare your predictions with those from the other students.\n",
    "\n",
    "\n",
    "\n",
    "### Assignment\n",
    "\n",
    "Your job is to submit\n",
    "- a commented IPython notebook with some of the things you tried,\n",
    "- your best predictions for the test file, in a file `[your_name]_predictions.csv`, in the format\n",
    "    ```\n",
    "    Id, Salary\n",
    "    1234, 77999\n",
    "    2345, 88999\n",
    "    ```\n",
    "\n",
    "At any point in the following steps you can use your model to predict salaries on the final test set and submit. \n",
    "Some bullets have stars and rank from Basic (no star) to Challenging (3 stars)\n",
    "\n",
    "- 1 star (\\*) - Try these out but they will be harder\n",
    "- 2 stars (\\*\\*) - For those looking for a challenge or really explore the topic\n",
    "- 3 stars (\\*\\*\\*) - Test out some of the ideas using different tools"
   ]
  },
  {
   "cell_type": "markdown",
   "metadata": {},
   "source": [
    "###Steps\n"
   ]
  },
  {
   "cell_type": "markdown",
   "metadata": {},
   "source": [
    "#### Data Exploration\n",
    "Let's do some data exploration first"
   ]
  },
  {
   "cell_type": "code",
   "execution_count": 1,
   "metadata": {
    "collapsed": true
   },
   "outputs": [],
   "source": [
    "import pandas as pd\n",
    "data = pd.read_csv(\"/Users/ruben/Downloads/train.csv\")"
   ]
  },
  {
   "cell_type": "code",
   "execution_count": 2,
   "metadata": {
    "collapsed": false
   },
   "outputs": [
    {
     "name": "stdout",
     "output_type": "stream",
     "text": [
      "10000\n"
     ]
    },
    {
     "data": {
      "text/html": [
       "<div>\n",
       "<table border=\"1\" class=\"dataframe\">\n",
       "  <thead>\n",
       "    <tr style=\"text-align: right;\">\n",
       "      <th></th>\n",
       "      <th>Id</th>\n",
       "      <th>Title</th>\n",
       "      <th>FullDescription</th>\n",
       "      <th>LocationRaw</th>\n",
       "      <th>LocationNormalized</th>\n",
       "      <th>ContractType</th>\n",
       "      <th>ContractTime</th>\n",
       "      <th>Company</th>\n",
       "      <th>Category</th>\n",
       "      <th>SalaryRaw</th>\n",
       "      <th>SalaryNormalized</th>\n",
       "      <th>SourceName</th>\n",
       "    </tr>\n",
       "  </thead>\n",
       "  <tbody>\n",
       "    <tr>\n",
       "      <th>0</th>\n",
       "      <td>12612628</td>\n",
       "      <td>Engineering Systems Analyst</td>\n",
       "      <td>Engineering Systems Analyst Dorking Surrey Sal...</td>\n",
       "      <td>Dorking, Surrey, Surrey</td>\n",
       "      <td>Dorking</td>\n",
       "      <td>NaN</td>\n",
       "      <td>permanent</td>\n",
       "      <td>Gregory Martin International</td>\n",
       "      <td>Engineering Jobs</td>\n",
       "      <td>20000 - 30000/annum 20-30K</td>\n",
       "      <td>25000</td>\n",
       "      <td>cv-library.co.uk</td>\n",
       "    </tr>\n",
       "    <tr>\n",
       "      <th>1</th>\n",
       "      <td>12612830</td>\n",
       "      <td>Stress Engineer Glasgow</td>\n",
       "      <td>Stress Engineer Glasgow Salary **** to **** We...</td>\n",
       "      <td>Glasgow, Scotland, Scotland</td>\n",
       "      <td>Glasgow</td>\n",
       "      <td>NaN</td>\n",
       "      <td>permanent</td>\n",
       "      <td>Gregory Martin International</td>\n",
       "      <td>Engineering Jobs</td>\n",
       "      <td>25000 - 35000/annum 25-35K</td>\n",
       "      <td>30000</td>\n",
       "      <td>cv-library.co.uk</td>\n",
       "    </tr>\n",
       "  </tbody>\n",
       "</table>\n",
       "</div>"
      ],
      "text/plain": [
       "         Id                        Title  \\\n",
       "0  12612628  Engineering Systems Analyst   \n",
       "1  12612830      Stress Engineer Glasgow   \n",
       "\n",
       "                                     FullDescription  \\\n",
       "0  Engineering Systems Analyst Dorking Surrey Sal...   \n",
       "1  Stress Engineer Glasgow Salary **** to **** We...   \n",
       "\n",
       "                   LocationRaw LocationNormalized ContractType ContractTime  \\\n",
       "0      Dorking, Surrey, Surrey            Dorking          NaN    permanent   \n",
       "1  Glasgow, Scotland, Scotland            Glasgow          NaN    permanent   \n",
       "\n",
       "                        Company          Category                   SalaryRaw  \\\n",
       "0  Gregory Martin International  Engineering Jobs  20000 - 30000/annum 20-30K   \n",
       "1  Gregory Martin International  Engineering Jobs  25000 - 35000/annum 25-35K   \n",
       "\n",
       "   SalaryNormalized        SourceName  \n",
       "0             25000  cv-library.co.uk  \n",
       "1             30000  cv-library.co.uk  "
      ]
     },
     "execution_count": 2,
     "metadata": {},
     "output_type": "execute_result"
    }
   ],
   "source": [
    "print len(data)\n",
    "data.head(2)"
   ]
  },
  {
   "cell_type": "markdown",
   "metadata": {},
   "source": [
    "What salaries are we talking about?"
   ]
  },
  {
   "cell_type": "code",
   "execution_count": 3,
   "metadata": {
    "collapsed": false
   },
   "outputs": [
    {
     "data": {
      "image/png": "[encoded data removed]",
      "text/plain": [
       "<matplotlib.figure.Figure at 0x10a196a50>"
      ]
     },
     "metadata": {},
     "output_type": "display_data"
    }
   ],
   "source": [
    "from matplotlib import pyplot as plt\n",
    "%matplotlib inline\n",
    "f = (data.SalaryNormalized / 1000).hist(bins=20)  # show in thousand dollars"
   ]
  },
  {
   "cell_type": "markdown",
   "metadata": {},
   "source": [
    "This skew distributed is common for salaries. Money often behaves multiplicative (eg, a 4 _percent_ increase) rather than additive (eg, a \\$500 increase)."
   ]
  },
  {
   "cell_type": "code",
   "execution_count": 4,
   "metadata": {
    "collapsed": false
   },
   "outputs": [
    {
     "data": {
      "image/png": "[encoded data removed]",
      "text/plain": [
       "<matplotlib.figure.Figure at 0x10a537990>"
      ]
     },
     "metadata": {},
     "output_type": "display_data"
    }
   ],
   "source": [
    "import numpy as np\n",
    "f = np.log10(data.SalaryNormalized).hist(bins=20)"
   ]
  },
  {
   "cell_type": "markdown",
   "metadata": {},
   "source": [
    "Almost everyone makes between 4 and 5 figures (eg, between \\$10,000 and \\$100,000) – and that distribution looks pretty Gaussian."
   ]
  },
  {
   "cell_type": "markdown",
   "metadata": {},
   "source": [
    "How many unique entries do we have in the columns?"
   ]
  },
  {
   "cell_type": "code",
   "execution_count": 5,
   "metadata": {
    "collapsed": false
   },
   "outputs": [
    {
     "name": "stdout",
     "output_type": "stream",
     "text": [
      "Column Id                   has 10000 unique entries\n",
      "Column Title                has  8273 unique entries\n",
      "Column FullDescription      has  9940 unique entries\n",
      "Column LocationRaw          has  2399 unique entries\n",
      "Column LocationNormalized   has   899 unique entries\n",
      "Column ContractType         has     2 unique entries\n",
      "Column ContractTime         has     2 unique entries\n",
      "Column Company              has  1197 unique entries\n",
      "Column Category             has    28 unique entries\n",
      "Column SalaryRaw            has  5780 unique entries\n",
      "Column SalaryNormalized     has  1023 unique entries\n",
      "Column SourceName           has    74 unique entries\n"
     ]
    }
   ],
   "source": [
    "for col in data:\n",
    "    print \"Column %-20s has %5d unique entries\" % (col, data[col].nunique())"
   ]
  },
  {
   "cell_type": "code",
   "execution_count": 6,
   "metadata": {
    "collapsed": false
   },
   "outputs": [
    {
     "data": {
      "text/plain": [
       "full_time    2978\n",
       "part_time     578\n",
       "dtype: int64"
      ]
     },
     "execution_count": 6,
     "metadata": {},
     "output_type": "execute_result"
    }
   ],
   "source": [
    "data.ContractType.value_counts()"
   ]
  },
  {
   "cell_type": "code",
   "execution_count": 7,
   "metadata": {
    "collapsed": false
   },
   "outputs": [
    {
     "data": {
      "text/plain": [
       "ContractType\n",
       "full_time    33521\n",
       "part_time    22759\n",
       "Name: SalaryNormalized, dtype: float64"
      ]
     },
     "execution_count": 7,
     "metadata": {},
     "output_type": "execute_result"
    }
   ],
   "source": [
    "data.groupby('ContractType').SalaryNormalized.mean().round()"
   ]
  },
  {
   "cell_type": "markdown",
   "metadata": {},
   "source": [
    "We have more FT records than PT records, and FT comes with higher salaries."
   ]
  },
  {
   "cell_type": "code",
   "execution_count": 8,
   "metadata": {
    "collapsed": false
   },
   "outputs": [
    {
     "data": {
      "text/plain": [
       "Healthcare & Nursing Jobs           3149\n",
       "IT Jobs                             1414\n",
       "Engineering Jobs                    1152\n",
       "Accounting & Finance Jobs            606\n",
       "HR & Recruitment Jobs                578\n",
       "Hospitality & Catering Jobs          525\n",
       "Sales Jobs                           426\n",
       "Teaching Jobs                        342\n",
       "Customer Services Jobs               257\n",
       "Other/General Jobs                   236\n",
       "Admin Jobs                           151\n",
       "Trade & Construction Jobs            148\n",
       "Scientific & QA Jobs                 129\n",
       "Logistics & Warehouse Jobs           110\n",
       "Manufacturing Jobs                   106\n",
       "Travel Jobs                          100\n",
       "Retail Jobs                           93\n",
       "Legal Jobs                            88\n",
       "PR, Advertising & Marketing Jobs      88\n",
       "Consultancy Jobs                      80\n",
       "Social work Jobs                      53\n",
       "Property Jobs                         44\n",
       "Energy, Oil & Gas Jobs                31\n",
       "Charity & Voluntary Jobs              23\n",
       "Creative & Design Jobs                22\n",
       "Maintenance Jobs                      20\n",
       "Graduate Jobs                         19\n",
       "Domestic help & Cleaning Jobs         10\n",
       "dtype: int64"
      ]
     },
     "execution_count": 8,
     "metadata": {},
     "output_type": "execute_result"
    }
   ],
   "source": [
    "data.Category.value_counts()"
   ]
  },
  {
   "cell_type": "markdown",
   "metadata": {},
   "source": [
    "Let's checkout the top paying job categories."
   ]
  },
  {
   "cell_type": "code",
   "execution_count": 9,
   "metadata": {
    "collapsed": false
   },
   "outputs": [
    {
     "data": {
      "image/png": "[encoded data removed]",
      "text/plain": [
       "<matplotlib.figure.Figure at 0x10a506f10>"
      ]
     },
     "metadata": {},
     "output_type": "display_data"
    }
   ],
   "source": [
    "f = data.groupby('Category')[['SalaryNormalized']].mean().sort('SalaryNormalized')[-10:].plot(kind='barh', legend=False)"
   ]
  },
  {
   "cell_type": "markdown",
   "metadata": {},
   "source": [
    "####Modeling \n",
    "- Build a simple linear regression using the available categorical variables.\n",
    "  - Make sure you use a training and a test set to measure your model accurately\n",
    "  - Try adding and dropping parameters and see if they improve the model.\n",
    "  - Try adding interaction effects to improve your model. (Note: beware of the computational overhead)\n",
    "  - Compare both R-squared and MAE on your test set."
   ]
  },
  {
   "cell_type": "code",
   "execution_count": 10,
   "metadata": {
    "collapsed": false
   },
   "outputs": [
    {
     "name": "stdout",
     "output_type": "stream",
     "text": [
      "['Id', 'Title', 'FullDescription', 'LocationRaw', 'LocationNormalized', 'ContractType', 'ContractTime', 'Company', 'Category', 'SalaryRaw', 'SalaryNormalized', 'SourceName']\n"
     ]
    }
   ],
   "source": [
    "print list(data.columns)"
   ]
  },
  {
   "cell_type": "code",
   "execution_count": 11,
   "metadata": {
    "collapsed": true
   },
   "outputs": [],
   "source": [
    "all_features = ['Id', 'Title', 'FullDescription', 'LocationRaw', 'LocationNormalized',\n",
    "                'ContractType', 'ContractTime', 'Company', 'Category']"
   ]
  },
  {
   "cell_type": "code",
   "execution_count": 12,
   "metadata": {
    "collapsed": false
   },
   "outputs": [],
   "source": [
    "from sklearn.cross_validation import train_test_split\n",
    "from sklearn.linear_model import LinearRegression, Lasso, Ridge\n",
    "from sklearn.metrics import mean_absolute_error\n",
    "from patsy import dmatrices  #, dmatrix, demo_data"
   ]
  },
  {
   "cell_type": "markdown",
   "metadata": {},
   "source": [
    "Let's try ContractType and Category, since we already saw that those have different average salaries."
   ]
  },
  {
   "cell_type": "code",
   "execution_count": 13,
   "metadata": {
    "collapsed": false
   },
   "outputs": [
    {
     "name": "stdout",
     "output_type": "stream",
     "text": [
      "0.130954652371\n",
      "9921.15035049\n"
     ]
    }
   ],
   "source": [
    "Y, X = dmatrices(\"SalaryNormalized ~ ContractType + Category\", data=data, return_type='dataframe')\n",
    "y = Y.SalaryNormalized\n",
    "model = LinearRegression()\n",
    "X_train, X_test, y_train, y_test = train_test_split(X, y)\n",
    "model.fit(X_train, y_train)\n",
    "print model.score(X_test, y_test)\n",
    "print mean_absolute_error(y_test, model.predict(X_test))"
   ]
  },
  {
   "cell_type": "markdown",
   "metadata": {},
   "source": [
    "Our predictions are off $10K on average. Not terribly bad, not super great.\n",
    "\n",
    "Let's try to predict the **log salary**, since we already noticed that money behaves multiplicative."
   ]
  },
  {
   "cell_type": "code",
   "execution_count": 14,
   "metadata": {
    "collapsed": false
   },
   "outputs": [
    {
     "name": "stdout",
     "output_type": "stream",
     "text": [
      "0.23172142798\n",
      "0.305961706004\n",
      "9766.2727832\n"
     ]
    }
   ],
   "source": [
    "y = np.log(Y.SalaryNormalized)\n",
    "X_train, X_test, y_train, y_test = train_test_split(X, y)\n",
    "model.fit(X_train, y_train)\n",
    "print model.score(X_test, y_test)\n",
    "print mean_absolute_error(y_test, model.predict(X_test))\n",
    "print mean_absolute_error(np.exp(y_test), np.exp(model.predict(X_test)))"
   ]
  },
  {
   "cell_type": "markdown",
   "metadata": {},
   "source": [
    "Indeed a small improvement!\n",
    "- Indeed, we got a higher $R^2$ score!\n",
    "- Note that the mean absolute error is now in log space, so we need to convert the values back to dollars.\n",
    "\n",
    "Let's add more features."
   ]
  },
  {
   "cell_type": "code",
   "execution_count": 15,
   "metadata": {
    "collapsed": false
   },
   "outputs": [
    {
     "name": "stdout",
     "output_type": "stream",
     "text": [
      "0.13393128956\n",
      "0.299658205025\n",
      "10423.1862265\n"
     ]
    }
   ],
   "source": [
    "Y, X = dmatrices(\"SalaryNormalized ~ ContractType + ContractTime + Category\", data=data, return_type='dataframe')\n",
    "y = np.log(Y.SalaryNormalized)\n",
    "model = LinearRegression()\n",
    "X_train, X_test, y_train, y_test = train_test_split(X, y)\n",
    "model.fit(X_train, y_train)\n",
    "print model.score(X_test, y_test)\n",
    "print mean_absolute_error(y_test, model.predict(X_test))\n",
    "print mean_absolute_error(np.exp(y_test), np.exp(model.predict(X_test)))"
   ]
  },
  {
   "cell_type": "markdown",
   "metadata": {},
   "source": [
    "This actually seems to do worse."
   ]
  },
  {
   "cell_type": "code",
   "execution_count": 16,
   "metadata": {
    "collapsed": false
   },
   "outputs": [
    {
     "name": "stdout",
     "output_type": "stream",
     "text": [
      "-4.05014626816e+25\n",
      "122748052655.0\n"
     ]
    }
   ],
   "source": [
    "Y, X = dmatrices(\"SalaryNormalized ~ LocationNormalized\", data=data, return_type='dataframe')\n",
    "y = np.log(Y.SalaryNormalized)\n",
    "model = LinearRegression()\n",
    "X_train, X_test, y_train, y_test = train_test_split(X, y)\n",
    "model.fit(X_train, y_train)\n",
    "print model.score(X_test, y_test)\n",
    "print mean_absolute_error(y_test, model.predict(X_test))"
   ]
  },
  {
   "cell_type": "markdown",
   "metadata": {},
   "source": [
    "This is horrible."
   ]
  },
  {
   "cell_type": "markdown",
   "metadata": {},
   "source": [
    "####Imputation\n",
    "Note that some columns contain empty cells (the `NaN`s), and that `patsy` simply throws those samples out of the dataset. For example, we see that 64% of the contract types are unknown, and 52% of the contract times. In the end, we only have 19% of all training data left."
   ]
  },
  {
   "cell_type": "code",
   "execution_count": 17,
   "metadata": {
    "collapsed": false
   },
   "outputs": [
    {
     "name": "stdout",
     "output_type": "stream",
     "text": [
      "10000 1882\n"
     ]
    },
    {
     "data": {
      "text/plain": [
       "Id                       0\n",
       "Title                    1\n",
       "FullDescription          0\n",
       "LocationRaw              0\n",
       "LocationNormalized       0\n",
       "ContractType          6444\n",
       "ContractTime          5263\n",
       "Company               4049\n",
       "Category                 0\n",
       "SalaryRaw                0\n",
       "SalaryNormalized         0\n",
       "SourceName               0\n",
       "dtype: int64"
      ]
     },
     "execution_count": 17,
     "metadata": {},
     "output_type": "execute_result"
    }
   ],
   "source": [
    "Y, X = dmatrices(\"SalaryNormalized ~ ContractType + ContractTime + Category\", data=data, return_type='dataframe')\n",
    "print len(data), len(X)\n",
    "data.isnull().sum()"
   ]
  },
  {
   "cell_type": "markdown",
   "metadata": {},
   "source": [
    "We could replace the empty cells with a placeholder, say `\"unknown\"`, so that the samples are still in the model. This is called imputation."
   ]
  },
  {
   "cell_type": "code",
   "execution_count": 18,
   "metadata": {
    "collapsed": false
   },
   "outputs": [
    {
     "name": "stdout",
     "output_type": "stream",
     "text": [
      "0.236510327094\n",
      "0.313472066066\n",
      "9993.74904121\n"
     ]
    }
   ],
   "source": [
    "Y, X = dmatrices(\"SalaryNormalized ~ ContractType + Category\", data=data.fillna(\"unknown\"), return_type='dataframe')\n",
    "y = np.log(Y.SalaryNormalized)\n",
    "model = LinearRegression()\n",
    "X_train, X_test, y_train, y_test = train_test_split(X, y)\n",
    "model.fit(X_train, y_train)\n",
    "print model.score(X_test, y_test)\n",
    "print mean_absolute_error(y_test, model.predict(X_test))\n",
    "print mean_absolute_error(np.exp(y_test), np.exp(model.predict(X_test)))"
   ]
  },
  {
   "cell_type": "markdown",
   "metadata": {},
   "source": [
    "So far, it doesn't seem to help much."
   ]
  },
  {
   "cell_type": "markdown",
   "metadata": {},
   "source": [
    "####Interactions\n",
    "\n",
    "Try adding interaction effects to improve your model. "
   ]
  },
  {
   "cell_type": "code",
   "execution_count": 19,
   "metadata": {
    "collapsed": false
   },
   "outputs": [
    {
     "name": "stdout",
     "output_type": "stream",
     "text": [
      "0.182568459659\n",
      "0.294218099005\n",
      "10511.1737197\n"
     ]
    }
   ],
   "source": [
    "Y, X = dmatrices(\"SalaryNormalized ~ ContractType * ContractTime + Category\", data=data, return_type='dataframe')\n",
    "y = np.log(Y.SalaryNormalized)\n",
    "model = LinearRegression()\n",
    "X_train, X_test, y_train, y_test = train_test_split(X, y)\n",
    "model.fit(X_train, y_train)\n",
    "print model.score(X_test, y_test)\n",
    "print mean_absolute_error(y_test, model.predict(X_test))\n",
    "print mean_absolute_error(np.exp(y_test), np.exp(model.predict(X_test)))"
   ]
  },
  {
   "cell_type": "markdown",
   "metadata": {},
   "source": [
    "Not really a convincing result. Let's try with the imputed data."
   ]
  },
  {
   "cell_type": "code",
   "execution_count": 20,
   "metadata": {
    "collapsed": false
   },
   "outputs": [
    {
     "name": "stdout",
     "output_type": "stream",
     "text": [
      "0.240402069757\n",
      "0.307381265775\n",
      "9721.86932512\n"
     ]
    }
   ],
   "source": [
    "Y, X = dmatrices(\"SalaryNormalized ~ ContractType * ContractTime + Category\", \n",
    "                 data=data.fillna(\"\"), return_type='dataframe')\n",
    "y = np.log(Y.SalaryNormalized)\n",
    "model = LinearRegression()\n",
    "X_train, X_test, y_train, y_test = train_test_split(X, y)\n",
    "model.fit(X_train, y_train)\n",
    "print model.score(X_test, y_test)\n",
    "print mean_absolute_error(y_test, model.predict(X_test))\n",
    "print mean_absolute_error(np.exp(y_test), np.exp(model.predict(X_test)))"
   ]
  },
  {
   "cell_type": "markdown",
   "metadata": {},
   "source": [
    "Better, indeed! \n",
    "\n",
    "For now, it seems that the simplest model **`log SalaryNormalized ~ ContractType + Category`** performs the best.\n",
    "\n",
    "We'll look at some other features later on.\n",
    "\n",
    "#### Cross vaildation\n",
    "- Perform cross-validation to verify that the inclusion (or exclusion) of any variables provides a tangible improvement to the model.\n",
    "\n",
    "Let's try our earlier features. Note that we put a negatice sign in front of `cross_val_score`, since that function returns _negative_ numbers for the mean absolute error. While this might be confusing, this is to comply with other functions in sklearn that might expect that \"a higher score is better\", which is indeed the case for many other scoring metrics (such as $R^2$)."
   ]
  },
  {
   "cell_type": "code",
   "execution_count": 21,
   "metadata": {
    "collapsed": false
   },
   "outputs": [
    {
     "name": "stdout",
     "output_type": "stream",
     "text": [
      "R2 0.13  MAE 0.320  SalaryNormalized ~ ContractType + Category\n",
      "R2 0.16  MAE 0.315  SalaryNormalized ~ ContractType * ContractTime + Category\n",
      "R2 -230165058204800210960384.00  MAE 5987097699.793  SalaryNormalized ~ ContractType * ContractTime * Category\n"
     ]
    }
   ],
   "source": [
    "from sklearn.cross_validation import cross_val_score\n",
    "\n",
    "model = LinearRegression()\n",
    "\n",
    "my_features = [\n",
    "    \"SalaryNormalized ~ ContractType + Category\",\n",
    "    \"SalaryNormalized ~ ContractType * ContractTime + Category\",\n",
    "    \"SalaryNormalized ~ ContractType * ContractTime * Category\"]\n",
    "    \n",
    "for features in my_features:\n",
    "    Y, X = dmatrices(features, data=data.fillna(\"\"), return_type='dataframe')\n",
    "    y = np.log(Y.SalaryNormalized)\n",
    "    print \"R2 %.2f  MAE %.3f  %s\" % \\\n",
    "        (cross_val_score(model, X, y, cv=5, scoring='r2').mean(),\n",
    "         -cross_val_score(model, X, y, cv=5, scoring='mean_absolute_error').mean(),\n",
    "         features)"
   ]
  },
  {
   "cell_type": "markdown",
   "metadata": {},
   "source": [
    "Seems like `SalaryNormalized ~ ContractType * ContractTime + Category` performs best: highest $R^2$ and lowest MAE."
   ]
  },
  {
   "cell_type": "markdown",
   "metadata": {},
   "source": [
    "####Regularization\n",
    "- (\\*) Use the regularization options available to attempt to improve the model\n",
    "\n",
    "We're back at using `data` instead of using `data_imputed` since that leads to higher scores. You could check for yourself if that is actually true."
   ]
  },
  {
   "cell_type": "code",
   "execution_count": 22,
   "metadata": {
    "collapsed": false
   },
   "outputs": [
    {
     "name": "stdout",
     "output_type": "stream",
     "text": [
      "R2  0.14  MAE 0.315  LinearRegression (alpha None)  SalaryNormalized ~ ContractType + Category\n",
      "R2  0.07  MAE 0.311  LinearRegression (alpha None)  SalaryNormalized ~ ContractType * ContractTime + Category\n",
      "R2 -5838384853510604969738240.00  MAE 71368706918.844  LinearRegression (alpha None)  SalaryNormalized ~ ContractType * ContractTime * Category\n",
      "R2 -0.10  MAE 0.370  Lasso            (alpha    1)  SalaryNormalized ~ ContractType + Category\n",
      "R2 -0.11  MAE 0.343  Lasso            (alpha    1)  SalaryNormalized ~ ContractType * ContractTime + Category\n",
      "R2 -0.11  MAE 0.343  Lasso            (alpha    1)  SalaryNormalized ~ ContractType * ContractTime * Category\n",
      "R2 -0.10  MAE 0.370  Lasso            (alpha   10)  SalaryNormalized ~ ContractType + Category\n",
      "R2 -0.11  MAE 0.343  Lasso            (alpha   10)  SalaryNormalized ~ ContractType * ContractTime + Category\n",
      "R2 -0.11  MAE 0.343  Lasso            (alpha   10)  SalaryNormalized ~ ContractType * ContractTime * Category\n",
      "R2 -0.10  MAE 0.370  Lasso            (alpha  100)  SalaryNormalized ~ ContractType + Category\n",
      "R2 -0.11  MAE 0.343  Lasso            (alpha  100)  SalaryNormalized ~ ContractType * ContractTime + Category\n",
      "R2 -0.11  MAE 0.343  Lasso            (alpha  100)  SalaryNormalized ~ ContractType * ContractTime * Category\n",
      "R2  0.14  MAE 0.315  Ridge            (alpha    1)  SalaryNormalized ~ ContractType + Category\n",
      "R2  0.07  MAE 0.312  Ridge            (alpha    1)  SalaryNormalized ~ ContractType * ContractTime + Category\n",
      "R2  0.08  MAE 0.311  Ridge            (alpha    1)  SalaryNormalized ~ ContractType * ContractTime * Category\n",
      "R2  0.13  MAE 0.318  Ridge            (alpha   10)  SalaryNormalized ~ ContractType + Category\n",
      "R2  0.05  MAE 0.317  Ridge            (alpha   10)  SalaryNormalized ~ ContractType * ContractTime + Category\n",
      "R2  0.07  MAE 0.314  Ridge            (alpha   10)  SalaryNormalized ~ ContractType * ContractTime * Category\n",
      "R2  0.11  MAE 0.326  Ridge            (alpha  100)  SalaryNormalized ~ ContractType + Category\n",
      "R2  0.00  MAE 0.324  Ridge            (alpha  100)  SalaryNormalized ~ ContractType * ContractTime + Category\n",
      "R2  0.01  MAE 0.323  Ridge            (alpha  100)  SalaryNormalized ~ ContractType * ContractTime * Category\n"
     ]
    }
   ],
   "source": [
    "alphas = [1, 10, 100]\n",
    "my_models = \\\n",
    "    [LinearRegression()] + \\\n",
    "    [Lasso(alpha=alpha) for alpha in alphas] + \\\n",
    "    [Ridge(alpha=alpha) for alpha in alphas]\n",
    "\n",
    "my_features = [\n",
    "    \"SalaryNormalized ~ ContractType + Category\",\n",
    "    \"SalaryNormalized ~ ContractType * ContractTime + Category\",\n",
    "    \"SalaryNormalized ~ ContractType * ContractTime * Category\"]\n",
    "    \n",
    "for model in my_models:\n",
    "    for features in my_features:\n",
    "        Y, X = dmatrices(features, data=data, return_type='dataframe')\n",
    "        y = np.log(Y.SalaryNormalized)\n",
    "        print \"R2 %5.2f  MAE %.3f  %-16s (alpha %4s)  %s\" % \\\n",
    "            (cross_val_score(model, X, y, cv=5, scoring='r2').mean(),\n",
    "             -cross_val_score(model, X, y, cv=5, scoring='mean_absolute_error').mean(),\n",
    "             model.__class__.__name__, model.__dict__.get('alpha'),\n",
    "             features)"
   ]
  },
  {
   "cell_type": "markdown",
   "metadata": {},
   "source": [
    "Not very convincing improvements. Let's stick with\n",
    "- `SalaryNormalized ~ ContractType + Category`\n",
    "- Ridge and `alpha=1`.\n",
    "Let's see what the MAE in log space means for the actual price."
   ]
  },
  {
   "cell_type": "code",
   "execution_count": 23,
   "metadata": {
    "collapsed": false
   },
   "outputs": [
    {
     "name": "stdout",
     "output_type": "stream",
     "text": [
      "9751.15215333\n"
     ]
    }
   ],
   "source": [
    "model = Ridge(alpha=10)\n",
    "Y, X = dmatrices(\"SalaryNormalized ~ ContractType + Category\", data=data, return_type='dataframe')\n",
    "y = np.log(Y.SalaryNormalized)\n",
    "\n",
    "mae = []\n",
    "for k in xrange(100):\n",
    "    X_train, X_test, y_train, y_test = train_test_split(X, y)\n",
    "    y_pred = model.fit(X_train, y_train).predict(X_test)\n",
    "    mae.append(np.abs(np.exp(y_pred) - np.exp(y_test)).mean())\n",
    "cross_validated_mae = np.mean(mae)\n",
    "print cross_validated_mae"
   ]
  },
  {
   "cell_type": "markdown",
   "metadata": {},
   "source": [
    "####Feature creation\n",
    "- (\\*\\*) Now let's try adding some text features.  You can create these by hand using `.map` on your dataframe or using scikits-learn and the CountVectorizer\n",
    "\n",
    "Until now, I kept the columns with a lot of different unique values out of the model, since with 10k samples and 1k entries, you'd otherwise have only 10 samples per dimension on average, which is very little. Especially in combination with other dimesions. It would be nice to somehow aggregate the 1k unique values into a smaller number of similar groups."
   ]
  },
  {
   "cell_type": "code",
   "execution_count": 24,
   "metadata": {
    "collapsed": false
   },
   "outputs": [
    {
     "data": {
      "text/plain": [
       "8273"
      ]
     },
     "execution_count": 24,
     "metadata": {},
     "output_type": "execute_result"
    }
   ],
   "source": [
    "data.Title.nunique()"
   ]
  },
  {
   "cell_type": "markdown",
   "metadata": {},
   "source": [
    "These are too many different values to be useful. \n",
    "\n",
    "Let's be creative and find some inferred metrics. Maybe the longer the title, the higher the salary."
   ]
  },
  {
   "cell_type": "code",
   "execution_count": 25,
   "metadata": {
    "collapsed": false
   },
   "outputs": [],
   "source": [
    "data[\"Title_n_chars\"] = data.Title.dropna().map(len)\n",
    "data[\"Title_n_words\"] = data.Title.dropna().map(lambda x: len(x.split()))"
   ]
  },
  {
   "cell_type": "code",
   "execution_count": 26,
   "metadata": {
    "collapsed": false
   },
   "outputs": [
    {
     "name": "stdout",
     "output_type": "stream",
     "text": [
      "0.145563709945\n",
      "0.317015765661\n"
     ]
    }
   ],
   "source": [
    "Y, X = dmatrices(\"SalaryNormalized ~ ContractType + Category + Title_n_words + Title_n_chars\", \n",
    "                 data=data, return_type='dataframe')\n",
    "y = np.log(Y.SalaryNormalized)\n",
    "model = Ridge(alpha=10)\n",
    "print cross_val_score(model, X, y, cv=5, scoring='r2').mean()\n",
    "print -cross_val_score(model, X, y, cv=5, scoring='mean_absolute_error').mean()"
   ]
  },
  {
   "cell_type": "markdown",
   "metadata": {},
   "source": [
    "Doesn't seem to help much.\n",
    "\n",
    "Let's look for common keywords instead."
   ]
  },
  {
   "cell_type": "code",
   "execution_count": 27,
   "metadata": {
    "collapsed": false
   },
   "outputs": [
    {
     "name": "stdout",
     "output_type": "stream",
     "text": [
      "['engineering', 'systems', 'analyst', 'stress', 'engineer', 'glasgow', 'modelling', 'and', 'simulation', 'analyst', 'engineering', 'systems', 'analyst', '/', 'mathematical', 'modeller', 'pioneer,', 'miser', 'engineering', 'systems']\n"
     ]
    }
   ],
   "source": [
    "keywords = [word for title in data.Title.dropna().values for word in title.lower().split()]\n",
    "print keywords[:20]"
   ]
  },
  {
   "cell_type": "markdown",
   "metadata": {},
   "source": [
    "Let's clean up the set and look for the most common keywords."
   ]
  },
  {
   "cell_type": "code",
   "execution_count": 28,
   "metadata": {
    "collapsed": false
   },
   "outputs": [
    {
     "name": "stdout",
     "output_type": "stream",
     "text": [
      "['$****', '$****', '$****', '$****', '$****', '&', '&', '&', '&', '&']\n",
      "['\\xe2\\x80\\x93', '\\xe2\\x80\\x93', '\\xe2\\x80\\x93', '\\xe2\\x80\\x93', '\\xe2\\x80\\x93financial', '\\xe2\\x80\\x93purchasing/supply', '\\xe2\\x82\\xac****k', '\\xe2\\x82\\xac****k', '\\xe2\\x82\\xac\\xe2\\x80\\x9c', '\\xef\\xbb\\xbfcall']\n"
     ]
    }
   ],
   "source": [
    "print list(np.sort(keywords))[:10]  # sorting alphabetically quickly shows some ugly keywords\n",
    "print list(np.sort(keywords))[-10:]  # sorting alphabetically quickly shows some ugly keywords"
   ]
  },
  {
   "cell_type": "code",
   "execution_count": 29,
   "metadata": {
    "collapsed": false
   },
   "outputs": [],
   "source": [
    "keywords = [str(word.decode('ascii', 'ignore')) for word in keywords]  # remove weird unicode characters (like euro sign)\n",
    "\n",
    "# replace ugly characters by white spaces and split words again\n",
    "ugly_chars = list(\"$*()/?'\\\"[]`_,%&1234567890\")  \n",
    "for c in ugly_chars:\n",
    "    keywords = [word for ugly_word in keywords for word in ugly_word.split(c)]\n",
    "\n",
    "# Remove very small words: 'and', single characters, etc.\n",
    "keywords = [word for word in keywords if len(word) >= 4]  "
   ]
  },
  {
   "cell_type": "code",
   "execution_count": 30,
   "metadata": {
    "collapsed": false,
    "scrolled": true
   },
   "outputs": [
    {
     "name": "stdout",
     "output_type": "stream",
     "text": [
      "['manager', 'nurse', 'engineer', 'senior', 'home', 'care', 'sales', 'support', 'developer', 'worker']\n"
     ]
    }
   ],
   "source": [
    "top = 10  # And look for most common words\n",
    "top_keywords = list(pd.Series(keywords).value_counts().head(top).index)\n",
    "print top_keywords"
   ]
  },
  {
   "cell_type": "markdown",
   "metadata": {},
   "source": [
    "We can add features for each of these words."
   ]
  },
  {
   "cell_type": "code",
   "execution_count": 31,
   "metadata": {
    "collapsed": false
   },
   "outputs": [],
   "source": [
    "for keyword in top_keywords:\n",
    "    data[keyword] = data.Title.map(lambda x: x.find(keyword) > -1 if isinstance(x, basestring) else None)"
   ]
  },
  {
   "cell_type": "code",
   "execution_count": 32,
   "metadata": {
    "collapsed": false,
    "scrolled": true
   },
   "outputs": [
    {
     "data": {
      "text/html": [
       "<div>\n",
       "<table border=\"1\" class=\"dataframe\">\n",
       "  <thead>\n",
       "    <tr style=\"text-align: right;\">\n",
       "      <th></th>\n",
       "      <th>Id</th>\n",
       "      <th>Title</th>\n",
       "      <th>FullDescription</th>\n",
       "      <th>LocationRaw</th>\n",
       "      <th>LocationNormalized</th>\n",
       "      <th>ContractType</th>\n",
       "      <th>ContractTime</th>\n",
       "      <th>Company</th>\n",
       "      <th>Category</th>\n",
       "      <th>SalaryRaw</th>\n",
       "      <th>SalaryNormalized</th>\n",
       "      <th>SourceName</th>\n",
       "      <th>Title_n_chars</th>\n",
       "      <th>Title_n_words</th>\n",
       "      <th>manager</th>\n",
       "      <th>nurse</th>\n",
       "      <th>engineer</th>\n",
       "      <th>senior</th>\n",
       "      <th>home</th>\n",
       "      <th>care</th>\n",
       "      <th>sales</th>\n",
       "      <th>support</th>\n",
       "      <th>developer</th>\n",
       "      <th>worker</th>\n",
       "    </tr>\n",
       "  </thead>\n",
       "  <tbody>\n",
       "    <tr>\n",
       "      <th>0</th>\n",
       "      <td>12612628</td>\n",
       "      <td>Engineering Systems Analyst</td>\n",
       "      <td>Engineering Systems Analyst Dorking Surrey Sal...</td>\n",
       "      <td>Dorking, Surrey, Surrey</td>\n",
       "      <td>Dorking</td>\n",
       "      <td>NaN</td>\n",
       "      <td>permanent</td>\n",
       "      <td>Gregory Martin International</td>\n",
       "      <td>Engineering Jobs</td>\n",
       "      <td>20000 - 30000/annum 20-30K</td>\n",
       "      <td>25000</td>\n",
       "      <td>cv-library.co.uk</td>\n",
       "      <td>27</td>\n",
       "      <td>3</td>\n",
       "      <td>False</td>\n",
       "      <td>False</td>\n",
       "      <td>False</td>\n",
       "      <td>False</td>\n",
       "      <td>False</td>\n",
       "      <td>False</td>\n",
       "      <td>False</td>\n",
       "      <td>False</td>\n",
       "      <td>False</td>\n",
       "      <td>False</td>\n",
       "    </tr>\n",
       "  </tbody>\n",
       "</table>\n",
       "</div>"
      ],
      "text/plain": [
       "         Id                        Title  \\\n",
       "0  12612628  Engineering Systems Analyst   \n",
       "\n",
       "                                     FullDescription              LocationRaw  \\\n",
       "0  Engineering Systems Analyst Dorking Surrey Sal...  Dorking, Surrey, Surrey   \n",
       "\n",
       "  LocationNormalized ContractType ContractTime                       Company  \\\n",
       "0            Dorking          NaN    permanent  Gregory Martin International   \n",
       "\n",
       "           Category                   SalaryRaw  SalaryNormalized  \\\n",
       "0  Engineering Jobs  20000 - 30000/annum 20-30K             25000   \n",
       "\n",
       "         SourceName  Title_n_chars  Title_n_words manager  nurse engineer  \\\n",
       "0  cv-library.co.uk             27              3   False  False    False   \n",
       "\n",
       "  senior   home   care  sales support developer worker  \n",
       "0  False  False  False  False   False     False  False  "
      ]
     },
     "execution_count": 32,
     "metadata": {},
     "output_type": "execute_result"
    }
   ],
   "source": [
    "pd.options.display.max_columns = 35\n",
    "data.head(1)"
   ]
  },
  {
   "cell_type": "code",
   "execution_count": 33,
   "metadata": {
    "collapsed": false
   },
   "outputs": [
    {
     "name": "stdout",
     "output_type": "stream",
     "text": [
      "SalaryNormalized ~ ContractType + Category + manager + nurse + engineer + senior + home + care + sales + support + developer + worker\n"
     ]
    }
   ],
   "source": [
    "features = \"SalaryNormalized ~ ContractType + Category + \" + \" + \".join(top_keywords)\n",
    "print features"
   ]
  },
  {
   "cell_type": "code",
   "execution_count": 34,
   "metadata": {
    "collapsed": false
   },
   "outputs": [
    {
     "name": "stdout",
     "output_type": "stream",
     "text": [
      "0.319108382325\n"
     ]
    }
   ],
   "source": [
    "Y, X = dmatrices(features, data=data.fillna(\"\"), return_type='dataframe')\n",
    "y = np.log(Y.SalaryNormalized)\n",
    "print -cross_val_score(Ridge(alpha=10), X, y, cv=5, scoring='mean_absolute_error').mean()"
   ]
  },
  {
   "cell_type": "markdown",
   "metadata": {},
   "source": [
    "Bummer! This is not even better than we already had!\n",
    "\n",
    "More on this later."
   ]
  },
  {
   "cell_type": "markdown",
   "metadata": {},
   "source": [
    "####Location tree\n",
    "\n",
    "- (\\*\\*) Merge `Location_Tree.csv` on to your dataset - do any features from here to improve performance. You'll need to **convert this file** before you can effectively use it. You might want to try using shell commands. For example, this command will change the `~` to a comma and remove the quote marks. Note: do **not** redirect this to the same file, since using `>` on a file that exists will wipe it.\n",
    "    ```sh\n",
    "    cat Location_Tree.csv | sed 's/~/,/g' | sed 's/\"//g' > Location_Tree2.csv\n",
    "    ```"
   ]
  },
  {
   "cell_type": "code",
   "execution_count": 35,
   "metadata": {
    "collapsed": false
   },
   "outputs": [
    {
     "data": {
      "text/html": [
       "<div>\n",
       "<table border=\"1\" class=\"dataframe\">\n",
       "  <thead>\n",
       "    <tr style=\"text-align: right;\">\n",
       "      <th></th>\n",
       "      <th>0</th>\n",
       "      <th>1</th>\n",
       "      <th>2</th>\n",
       "      <th>3</th>\n",
       "      <th>4</th>\n",
       "      <th>5</th>\n",
       "      <th>6</th>\n",
       "    </tr>\n",
       "  </thead>\n",
       "  <tbody>\n",
       "    <tr>\n",
       "      <th>0</th>\n",
       "      <td>UK</td>\n",
       "      <td>London</td>\n",
       "      <td>East London</td>\n",
       "      <td>Mile End</td>\n",
       "      <td>None</td>\n",
       "      <td>None</td>\n",
       "      <td>None</td>\n",
       "    </tr>\n",
       "    <tr>\n",
       "      <th>1</th>\n",
       "      <td>UK</td>\n",
       "      <td>London</td>\n",
       "      <td>East London</td>\n",
       "      <td>Shadwell</td>\n",
       "      <td>None</td>\n",
       "      <td>None</td>\n",
       "      <td>None</td>\n",
       "    </tr>\n",
       "    <tr>\n",
       "      <th>2</th>\n",
       "      <td>UK</td>\n",
       "      <td>London</td>\n",
       "      <td>East London</td>\n",
       "      <td>Spitalfields</td>\n",
       "      <td>None</td>\n",
       "      <td>None</td>\n",
       "      <td>None</td>\n",
       "    </tr>\n",
       "  </tbody>\n",
       "</table>\n",
       "</div>"
      ],
      "text/plain": [
       "    0       1            2             3     4     5     6\n",
       "0  UK  London  East London      Mile End  None  None  None\n",
       "1  UK  London  East London      Shadwell  None  None  None\n",
       "2  UK  London  East London  Spitalfields  None  None  None"
      ]
     },
     "execution_count": 35,
     "metadata": {},
     "output_type": "execute_result"
    }
   ],
   "source": [
    "filename = \"/Users/ruben/Downloads/Location_Tree.csv\"\n",
    "with open(filename) as f:\n",
    "    # format is in \"UK~London~East London~Bethnal Green\"\n",
    "    lines = [line.strip()[1:-1].split(\"~\") for line in f]\n",
    "df = pd.DataFrame(lines)\n",
    "df.head(3)"
   ]
  },
  {
   "cell_type": "code",
   "execution_count": 36,
   "metadata": {
    "collapsed": false
   },
   "outputs": [],
   "source": [
    "region = {}\n",
    "for from_col in xrange(7):\n",
    "    for to_col in xrange(0, from_col):\n",
    "        if to_col not in region:\n",
    "            region[to_col] = {}\n",
    "        region[to_col].update(dict(df[[from_col, to_col]].dropna().groupby([from_col, to_col]).groups.keys()))"
   ]
  },
  {
   "cell_type": "code",
   "execution_count": 37,
   "metadata": {
    "collapsed": false
   },
   "outputs": [
    {
     "name": "stdout",
     "output_type": "stream",
     "text": [
      "Monalla : UK, Northern Ireland, Fermanagh, Enniskillen, Ballinamallard\n"
     ]
    },
    {
     "data": {
      "text/html": [
       "<div>\n",
       "<table border=\"1\" class=\"dataframe\">\n",
       "  <thead>\n",
       "    <tr style=\"text-align: right;\">\n",
       "      <th></th>\n",
       "      <th>0</th>\n",
       "      <th>1</th>\n",
       "      <th>2</th>\n",
       "      <th>3</th>\n",
       "      <th>4</th>\n",
       "      <th>5</th>\n",
       "      <th>6</th>\n",
       "    </tr>\n",
       "  </thead>\n",
       "  <tbody>\n",
       "    <tr>\n",
       "      <th>11877</th>\n",
       "      <td>UK</td>\n",
       "      <td>Northern Ireland</td>\n",
       "      <td>Fermanagh</td>\n",
       "      <td>Enniskillen</td>\n",
       "      <td>Ballinamallard</td>\n",
       "      <td>Monalla</td>\n",
       "      <td>None</td>\n",
       "    </tr>\n",
       "  </tbody>\n",
       "</table>\n",
       "</div>"
      ],
      "text/plain": [
       "        0                 1          2            3               4        5  \\\n",
       "11877  UK  Northern Ireland  Fermanagh  Enniskillen  Ballinamallard  Monalla   \n",
       "\n",
       "          6  \n",
       "11877  None  "
      ]
     },
     "execution_count": 37,
     "metadata": {},
     "output_type": "execute_result"
    }
   ],
   "source": [
    "town = 'Monalla'\n",
    "print town, \":\", \", \".join(region[i][town] for i in range(5))\n",
    "df[df[5] == town]"
   ]
  },
  {
   "cell_type": "code",
   "execution_count": 38,
   "metadata": {
    "collapsed": false
   },
   "outputs": [],
   "source": [
    "data['Country'] = data.LocationNormalized.map(region[0])\n",
    "data['County'] = data.LocationNormalized.map(region[1])\n",
    "data['City'] = data.LocationNormalized.map(region[2])\n",
    "data['Town'] = data.LocationNormalized.map(region[3])\n",
    "data['Hood'] = data.LocationNormalized.map(region[4])"
   ]
  },
  {
   "cell_type": "code",
   "execution_count": 39,
   "metadata": {
    "collapsed": false
   },
   "outputs": [
    {
     "name": "stdout",
     "output_type": "stream",
     "text": [
      "Country 1\n",
      "County 13\n",
      "City 111\n",
      "Town 158\n",
      "Hood 30\n"
     ]
    }
   ],
   "source": [
    "for col in ['Country', 'County', 'City', 'Town', 'Hood']:\n",
    "    print col, data[col].nunique()"
   ]
  },
  {
   "cell_type": "markdown",
   "metadata": {},
   "source": [
    "- Country is only UK, so that doesn't help. But we could use the other ones. \n",
    "- We definitely want to include the empty cells now, since throwing them away would leave us with only 36 samples."
   ]
  },
  {
   "cell_type": "code",
   "execution_count": 40,
   "metadata": {
    "collapsed": false
   },
   "outputs": [
    {
     "name": "stdout",
     "output_type": "stream",
     "text": [
      "SalaryNormalized ~ ContractType + Category + manager + nurse + engineer + senior + home + care + sales + support + developer + worker + County + City + Town + Hood\n",
      "0.306050419643\n"
     ]
    }
   ],
   "source": [
    "features = \"SalaryNormalized ~ ContractType + Category + \" + \\\n",
    "    \" + \".join(top_keywords) + \\\n",
    "    \" + County + City + Town + Hood\"\n",
    "print features    \n",
    "Y, X = dmatrices(features, data=data.fillna(\"\"), return_type='dataframe')\n",
    "y = np.log(Y.SalaryNormalized)\n",
    "print -cross_val_score(Ridge(alpha=10), X, y, cv=5, scoring='mean_absolute_error').mean()"
   ]
  },
  {
   "cell_type": "markdown",
   "metadata": {},
   "source": [
    "If it is an improvement, it's a very small one.."
   ]
  },
  {
   "cell_type": "code",
   "execution_count": 41,
   "metadata": {
    "collapsed": false
   },
   "outputs": [
    {
     "name": "stdout",
     "output_type": "stream",
     "text": [
      "Last MAE: 9751.15215333\n",
      "New  MAE: 9514.28835517\n"
     ]
    }
   ],
   "source": [
    "print \"Last MAE:\", cross_validated_mae\n",
    "mae = []\n",
    "for k in xrange(100):\n",
    "    X_train, X_test, y_train, y_test = train_test_split(X, y)\n",
    "    y_pred = model.fit(X_train, y_train).predict(X_test)\n",
    "    mae.append(np.abs(np.exp(y_pred) - np.exp(y_test)).mean())\n",
    "print \"New  MAE:\", np.mean(mae)"
   ]
  },
  {
   "cell_type": "markdown",
   "metadata": {},
   "source": [
    "A $300+ improvement. Could be worse!\n",
    "\n",
    "#### More text features\n",
    "\n",
    "Earlier we looked at the top keywords in the `Title` column. We could do the same for the text in the `FullDescription` column. We'll use a standard package for this.\n",
    "\n",
    "\n",
    "\n"
   ]
  },
  {
   "cell_type": "code",
   "execution_count": 42,
   "metadata": {
    "collapsed": false
   },
   "outputs": [
    {
     "name": "stdout",
     "output_type": "stream",
     "text": [
      "CPU times: user 5.74 s, sys: 202 ms, total: 5.94 s\n",
      "Wall time: 5.94 s\n"
     ]
    }
   ],
   "source": [
    "%%time\n",
    "from sklearn.feature_extraction.text import CountVectorizer\n",
    "cv = CountVectorizer(stop_words = 'english', ngram_range=(1,2), max_features = 1000)  #, min_df=3, max_df=.97\n",
    "description_features = cv.fit_transform(data.FullDescription).todense()"
   ]
  },
  {
   "cell_type": "code",
   "execution_count": 43,
   "metadata": {
    "collapsed": false
   },
   "outputs": [
    {
     "name": "stdout",
     "output_type": "stream",
     "text": [
      "0.253244747231\n"
     ]
    }
   ],
   "source": [
    "Y, X = dmatrices(features, data=data.fillna(0), return_type='dataframe')\n",
    "X = np.hstack((X, description_features))  # use both feature sets\n",
    "y = np.log(Y.SalaryNormalized)\n",
    "print -cross_val_score(Ridge(alpha=10), X, y, cv=5, scoring='mean_absolute_error').mean()"
   ]
  },
  {
   "cell_type": "markdown",
   "metadata": {},
   "source": [
    "THAT's more like it! Let's check what this MAE is in $$."
   ]
  },
  {
   "cell_type": "code",
   "execution_count": 44,
   "metadata": {
    "collapsed": false
   },
   "outputs": [
    {
     "name": "stdout",
     "output_type": "stream",
     "text": [
      "7722.72513332\n",
      "CPU times: user 28.3 s, sys: 1.31 s, total: 29.6 s\n",
      "Wall time: 8.36 s\n"
     ]
    }
   ],
   "source": [
    "%%time\n",
    "model = Ridge(alpha=10)\n",
    "mae = []\n",
    "for k in xrange(30):\n",
    "    X_train, X_test, y_train, y_test = train_test_split(X, y)\n",
    "    y_pred = model.fit(X_train, y_train).predict(X_test)\n",
    "    mae.append(np.abs(np.exp(y_pred) - np.exp(y_test)).mean())\n",
    "print np.mean(mae)"
   ]
  },
  {
   "cell_type": "markdown",
   "metadata": {},
   "source": [
    "Not bad: our model if $7700 off on average. Note that this is still better than if we would model the salary directly instead of the log salary."
   ]
  },
  {
   "cell_type": "code",
   "execution_count": 45,
   "metadata": {
    "collapsed": false
   },
   "outputs": [
    {
     "data": {
      "text/plain": [
       "8986.0687851635448"
      ]
     },
     "execution_count": 45,
     "metadata": {},
     "output_type": "execute_result"
    }
   ],
   "source": [
    "-cross_val_score(Ridge(alpha=10), X, Y.SalaryNormalized, cv=5, scoring='mean_absolute_error').mean()"
   ]
  },
  {
   "cell_type": "markdown",
   "metadata": {},
   "source": [
    "We stop here, but you could try to further improve your model:\n",
    "- Try different options for `CountVectorizer`, such as `min_df`, `max_df`, `max_features`, etc.\n",
    "- Try different `alpha`s for both `Lasso` and `Ridge` again, for your new feature set."
   ]
  },
  {
   "cell_type": "markdown",
   "metadata": {
    "collapsed": true
   },
   "source": [
    "###Final solution\n",
    "Let's make our predictions on the test set."
   ]
  },
  {
   "cell_type": "code",
   "execution_count": 46,
   "metadata": {
    "collapsed": true
   },
   "outputs": [],
   "source": [
    "test = pd.read_csv(\"/Users/ruben/Downloads/test.csv\")"
   ]
  },
  {
   "cell_type": "markdown",
   "metadata": {},
   "source": [
    "Add additional features: keywords and locations"
   ]
  },
  {
   "cell_type": "code",
   "execution_count": 47,
   "metadata": {
    "collapsed": false
   },
   "outputs": [],
   "source": [
    "for keyword in top_keywords:\n",
    "    test[keyword] = test.Title.map(lambda x: x.find(keyword) > -1 if isinstance(x, basestring) else None)\n",
    "    \n",
    "# Only add these location features if they were in the training set\n",
    "places = set(data[['Country', 'County', 'Town', 'Hood']].values.reshape(len(data) * 4))\n",
    "region = {no: {key: region[no][key] for key in places.intersection(region)} for no in region}\n",
    "test['County'] = data.LocationNormalized.map(region[1])\n",
    "test['City'] = data.LocationNormalized.map(region[2])\n",
    "test['Town'] = data.LocationNormalized.map(region[3])\n",
    "test['Hood'] = data.LocationNormalized.map(region[4])    "
   ]
  },
  {
   "cell_type": "markdown",
   "metadata": {},
   "source": [
    "Design model on entire dataset, so that columns and coefficients will be aligned."
   ]
  },
  {
   "cell_type": "code",
   "execution_count": 48,
   "metadata": {
    "collapsed": false
   },
   "outputs": [],
   "source": [
    "from patsy import dmatrix\n",
    "all_data = pd.concat([data, test])\n",
    "features = \"SalaryNormalized ~ ContractType + Category + County + City + Town + Hood + \" + \" + \".join(top_keywords)\n",
    "Y, X = dmatrices(features, data=all_data.fillna(0), return_type='dataframe')\n",
    "description_features = cv.fit_transform(all_data.FullDescription).todense()\n",
    "X = np.hstack((X, description_features))"
   ]
  },
  {
   "cell_type": "code",
   "execution_count": 49,
   "metadata": {
    "collapsed": false
   },
   "outputs": [],
   "source": [
    "X_train, y_train = X[:len(data)], np.log(Y.SalaryNormalized[:len(data)])\n",
    "X_test = X[len(data):]"
   ]
  },
  {
   "cell_type": "code",
   "execution_count": 50,
   "metadata": {
    "collapsed": false
   },
   "outputs": [],
   "source": [
    "model = Ridge(alpha=10).fit(X_train, y_train)\n",
    "y_pred = np.exp(model.predict(X_test))  # predict salaries in real dollars (not in log space)\n",
    "predictions = pd.DataFrame(dict(Id=test.Id, Salary=y_pred.round()))\n",
    "predictions.to_csv(\"/Users/ruben/Downloads/HW2 Linear Regression/ruben_naeff_predictions.csv\", index=False)"
   ]
  },
  {
   "cell_type": "markdown",
   "metadata": {},
   "source": [
    "Done!\n",
    "\n",
    "Let's check just to be sure if our predicted salaries are not way off."
   ]
  },
  {
   "cell_type": "code",
   "execution_count": 51,
   "metadata": {
    "collapsed": false
   },
   "outputs": [
    {
     "data": {
      "image/png": "[encoded data removed]",
      "text/plain": [
       "<matplotlib.figure.Figure at 0x11acb37d0>"
      ]
     },
     "metadata": {},
     "output_type": "display_data"
    }
   ],
   "source": [
    "bins = np.linspace(0, 100000, 30)\n",
    "f = plt.hist(data.SalaryNormalized, bins=bins, alpha=.4, normed=True, label='real')\n",
    "f = plt.hist(y_pred, bins=bins, alpha=.4, normed=True, label='predicted')\n",
    "f = plt.legend(), plt.yticks([])"
   ]
  },
  {
   "cell_type": "markdown",
   "metadata": {},
   "source": [
    "The predictions seem a little too much concentrated around the center, and a little higher on average."
   ]
  },
  {
   "cell_type": "markdown",
   "metadata": {},
   "source": [
    "####Big data\n",
    "- (\\*\\*) If you were just loading the `train.csv` file so far, try loading one of the large datasets.  Does the larger dataset improve performance on the held-out test set?  If possible, try loading an even larger file."
   ]
  },
  {
   "cell_type": "code",
   "execution_count": 52,
   "metadata": {
    "collapsed": true
   },
   "outputs": [],
   "source": [
    "# Left as a playful exercise to the reader"
   ]
  },
  {
   "cell_type": "code",
   "execution_count": null,
   "metadata": {
    "collapsed": true
   },
   "outputs": [],
   "source": []
  },
  {
   "cell_type": "code",
   "execution_count": null,
   "metadata": {
    "collapsed": true
   },
   "outputs": [],
   "source": []
  },
  {
   "cell_type": "markdown",
   "metadata": {},
   "source": [
    "###Checking your answers\n",
    "\n",
    "The real salaries of the dataset can be downloaded from the following link.\n",
    "\n",
    "- [test-solution.csv](http://gadatascience.com/datasets/adzuna_salary_prediction/test-solution.csv)\n",
    "\n",
    "This file has the same data as the `test.csv`, but has the final two columns added back. \n",
    "\n",
    "Let's check our answers with it."
   ]
  },
  {
   "cell_type": "code",
   "execution_count": 53,
   "metadata": {
    "collapsed": false
   },
   "outputs": [],
   "source": [
    "solution = pd.read_csv(\"/Users/ruben/Downloads/test-solution.csv\", index_col=0)\n",
    "predictions.index = predictions.Id"
   ]
  },
  {
   "cell_type": "code",
   "execution_count": 54,
   "metadata": {
    "collapsed": false
   },
   "outputs": [
    {
     "data": {
      "text/plain": [
       "11017.8128"
      ]
     },
     "execution_count": 54,
     "metadata": {},
     "output_type": "execute_result"
    }
   ],
   "source": [
    "np.abs(predictions.Salary - solution.SalaryNormalized).mean()"
   ]
  },
  {
   "cell_type": "markdown",
   "metadata": {},
   "source": [
    "Ough! A mean absolute error of $11k, much more than we thought. Not shown here, but if we would have modeled real salaries directly instead of log salaries, we would have had an even bigger error. \n",
    "\n",
    "It could very well be that the test set consisted of different jobs than our training set, with a slightly different source and category distribution.\n",
    "\n",
    "Let's check the distributions."
   ]
  },
  {
   "cell_type": "code",
   "execution_count": 55,
   "metadata": {
    "collapsed": false
   },
   "outputs": [
    {
     "data": {
      "image/png": "[encoded data removed]",
      "text/plain": [
       "<matplotlib.figure.Figure at 0x10eb438d0>"
      ]
     },
     "metadata": {},
     "output_type": "display_data"
    }
   ],
   "source": [
    "f = predictions.Salary.hist(bins=bins, alpha=.4, normed=True, label='my predictions')\n",
    "f = solution.SalaryNormalized.hist(bins=bins, alpha=.4, normed=True, label='solution')\n",
    "f = plt.legend(), plt.yticks([])"
   ]
  },
  {
   "cell_type": "markdown",
   "metadata": {},
   "source": [
    "Indeed, my predictions were a bit too concentrated around the center."
   ]
  },
  {
   "cell_type": "code",
   "execution_count": null,
   "metadata": {
    "collapsed": true
   },
   "outputs": [],
   "source": []
  }
 ],
 "metadata": {
  "kernelspec": {
   "display_name": "Python 2",
   "language": "python",
   "name": "python2"
  },
  "language_info": {
   "codemirror_mode": {
    "name": "ipython",
    "version": 2
   },
   "file_extension": ".py",
   "mimetype": "text/x-python",
   "name": "python",
   "nbconvert_exporter": "python",
   "pygments_lexer": "ipython2",
   "version": "2.7.10"
  }
 },
 "nbformat": 4,
 "nbformat_minor": 0
}
