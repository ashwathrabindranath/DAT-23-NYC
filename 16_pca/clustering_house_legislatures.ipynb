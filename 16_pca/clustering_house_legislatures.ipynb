{
 "cells": [
  {
   "cell_type": "markdown",
   "metadata": {},
   "source": [
    "# Clustering House Legislatures\n",
    "\n",
    "In this notebook, we will reduce voting behavior from a multidimensional matrix accounting each bill, to a two-dimensional matrix representing relevant voting attributes.\n",
    "\n",
    "We will look both at PCA and KMeans."
   ]
  },
  {
   "cell_type": "markdown",
   "metadata": {},
   "source": [
    "#### Import packages and download data"
   ]
  },
  {
   "cell_type": "code",
   "execution_count": 1,
   "metadata": {
    "collapsed": false
   },
   "outputs": [],
   "source": [
    "import pandas as pd\n",
    "import numpy as np\n",
    "from sklearn.decomposition import PCA\n",
    "from sklearn.cluster import KMeans\n",
    "import seaborn as sb\n",
    "import matplotlib.pyplot as plt\n",
    "%matplotlib inline"
   ]
  },
  {
   "cell_type": "markdown",
   "metadata": {},
   "source": [
    "Download voting data."
   ]
  },
  {
   "cell_type": "code",
   "execution_count": 2,
   "metadata": {
    "collapsed": false
   },
   "outputs": [
    {
     "name": "stdout",
     "output_type": "stream",
     "text": [
      "We have 53863 votes on 129 bills from 438 members in congress.\n"
     ]
    }
   ],
   "source": [
    "votes = pd.read_csv('http://gadatascience.com/datasets/congress/congressional_votes.csv')\n",
    "congress = votes[['display_name', 'id', 'party', 'state']].drop_duplicates().sort('display_name').reset_index(drop=True)\n",
    "print \"We have %d votes on %d bills from %d members in congress.\" % \\\n",
    "    (len(votes), votes.question.nunique(), len(congress))"
   ]
  },
  {
   "cell_type": "code",
   "execution_count": 3,
   "metadata": {
    "collapsed": false
   },
   "outputs": [
    {
     "data": {
      "text/html": [
       "<div>\n",
       "<table border=\"1\" class=\"dataframe\">\n",
       "  <thead>\n",
       "    <tr style=\"text-align: right;\">\n",
       "      <th></th>\n",
       "      <th>display_name</th>\n",
       "      <th>id</th>\n",
       "      <th>party</th>\n",
       "      <th>state</th>\n",
       "      <th>Vote</th>\n",
       "      <th>question</th>\n",
       "    </tr>\n",
       "  </thead>\n",
       "  <tbody>\n",
       "    <tr>\n",
       "      <th>0</th>\n",
       "      <td>Amash</td>\n",
       "      <td>A000367</td>\n",
       "      <td>R</td>\n",
       "      <td>MI</td>\n",
       "      <td>1</td>\n",
       "      <td>On Passage: H R 2279 Reducing Excessive Deadli...</td>\n",
       "    </tr>\n",
       "    <tr>\n",
       "      <th>1</th>\n",
       "      <td>Amodei</td>\n",
       "      <td>A000369</td>\n",
       "      <td>R</td>\n",
       "      <td>NV</td>\n",
       "      <td>1</td>\n",
       "      <td>On Passage: H R 2279 Reducing Excessive Deadli...</td>\n",
       "    </tr>\n",
       "    <tr>\n",
       "      <th>2</th>\n",
       "      <td>Bachmann</td>\n",
       "      <td>B001256</td>\n",
       "      <td>R</td>\n",
       "      <td>MN</td>\n",
       "      <td>1</td>\n",
       "      <td>On Passage: H R 2279 Reducing Excessive Deadli...</td>\n",
       "    </tr>\n",
       "    <tr>\n",
       "      <th>3</th>\n",
       "      <td>Bachus</td>\n",
       "      <td>B000013</td>\n",
       "      <td>R</td>\n",
       "      <td>AL</td>\n",
       "      <td>1</td>\n",
       "      <td>On Passage: H R 2279 Reducing Excessive Deadli...</td>\n",
       "    </tr>\n",
       "    <tr>\n",
       "      <th>4</th>\n",
       "      <td>Barletta</td>\n",
       "      <td>B001269</td>\n",
       "      <td>R</td>\n",
       "      <td>PA</td>\n",
       "      <td>1</td>\n",
       "      <td>On Passage: H R 2279 Reducing Excessive Deadli...</td>\n",
       "    </tr>\n",
       "  </tbody>\n",
       "</table>\n",
       "</div>"
      ],
      "text/plain": [
       "  display_name       id party state  Vote  \\\n",
       "0        Amash  A000367     R    MI     1   \n",
       "1       Amodei  A000369     R    NV     1   \n",
       "2     Bachmann  B001256     R    MN     1   \n",
       "3       Bachus  B000013     R    AL     1   \n",
       "4     Barletta  B001269     R    PA     1   \n",
       "\n",
       "                                            question  \n",
       "0  On Passage: H R 2279 Reducing Excessive Deadli...  \n",
       "1  On Passage: H R 2279 Reducing Excessive Deadli...  \n",
       "2  On Passage: H R 2279 Reducing Excessive Deadli...  \n",
       "3  On Passage: H R 2279 Reducing Excessive Deadli...  \n",
       "4  On Passage: H R 2279 Reducing Excessive Deadli...  "
      ]
     },
     "execution_count": 3,
     "metadata": {},
     "output_type": "execute_result"
    }
   ],
   "source": [
    "votes.head()"
   ]
  },
  {
   "cell_type": "code",
   "execution_count": 4,
   "metadata": {
    "collapsed": false
   },
   "outputs": [
    {
     "data": {
      "text/html": [
       "<div>\n",
       "<table border=\"1\" class=\"dataframe\">\n",
       "  <thead>\n",
       "    <tr style=\"text-align: right;\">\n",
       "      <th></th>\n",
       "      <th>display_name</th>\n",
       "      <th>id</th>\n",
       "      <th>party</th>\n",
       "      <th>state</th>\n",
       "    </tr>\n",
       "  </thead>\n",
       "  <tbody>\n",
       "    <tr>\n",
       "      <th>0</th>\n",
       "      <td>Adams</td>\n",
       "      <td>A000370</td>\n",
       "      <td>D</td>\n",
       "      <td>NC</td>\n",
       "    </tr>\n",
       "    <tr>\n",
       "      <th>1</th>\n",
       "      <td>Aderholt</td>\n",
       "      <td>A000055</td>\n",
       "      <td>R</td>\n",
       "      <td>AL</td>\n",
       "    </tr>\n",
       "    <tr>\n",
       "      <th>2</th>\n",
       "      <td>Amash</td>\n",
       "      <td>A000367</td>\n",
       "      <td>R</td>\n",
       "      <td>MI</td>\n",
       "    </tr>\n",
       "    <tr>\n",
       "      <th>3</th>\n",
       "      <td>Amodei</td>\n",
       "      <td>A000369</td>\n",
       "      <td>R</td>\n",
       "      <td>NV</td>\n",
       "    </tr>\n",
       "    <tr>\n",
       "      <th>4</th>\n",
       "      <td>Andrews</td>\n",
       "      <td>A000210</td>\n",
       "      <td>D</td>\n",
       "      <td>NJ</td>\n",
       "    </tr>\n",
       "  </tbody>\n",
       "</table>\n",
       "</div>"
      ],
      "text/plain": [
       "  display_name       id party state\n",
       "0        Adams  A000370     D    NC\n",
       "1     Aderholt  A000055     R    AL\n",
       "2        Amash  A000367     R    MI\n",
       "3       Amodei  A000369     R    NV\n",
       "4      Andrews  A000210     D    NJ"
      ]
     },
     "execution_count": 4,
     "metadata": {},
     "output_type": "execute_result"
    }
   ],
   "source": [
    "congress.head()"
   ]
  },
  {
   "cell_type": "markdown",
   "metadata": {},
   "source": [
    "#### Create a representative-by-bill voting matrix\n",
    "\n",
    "Pivot tables are commonly used to transform a dataset from long form to wide form.\n",
    "This means we take data that appears in a column and make a new column per value.\n",
    "For each row in the new columns, we can aggregate or fill in a value from another column.\n",
    "\n",
    "Here, we use them to take each row of a vote and make a new column per bill, with the Yes/No vote as the value. We denote Yes by `1`, No by `-1` and No Vote by `None`.\n",
    "\n",
    "    voting_matrix = pd.pivot_table(votes, index='display_name', columns='question', values='Vote', fill_value=None)\n",
    "    \n",
    "- `index` is the column to use as a 'primary key', one per record item,\n",
    "- `columns` is the column to be used to create the new header, and\n",
    "- `values` is the column to be used to fill the newly create columns.\n",
    "\n",
    "Equivalenty, we could use a `groupby` statement, which creates a multilevel series, and `unstack` back to a dataframe.\n",
    "\n",
    "    voting_matrix = votes.groupby(['display_name', 'question']).Vote.first().unstack()\n",
    "    \n"
   ]
  },
  {
   "cell_type": "code",
   "execution_count": 5,
   "metadata": {
    "collapsed": false
   },
   "outputs": [],
   "source": [
    "voting_matrix = votes.groupby(['display_name', 'question']).Vote.first().unstack()\n",
    "# same as: pd.pivot_table(votes, index='display_name', columns='question', values='Vote', fill_value=None)\n",
    "voting_matrix = voting_matrix.replace(0, -1).fillna(0)"
   ]
  },
  {
   "cell_type": "markdown",
   "metadata": {},
   "source": [
    "#### PCA\n",
    "Pick an arbitrary number of components you'd be interested in. Since the PCs will be ordered by relevance, you'll always catch the most relevant ones. In theory, you could extract as many components as you have features (columns) in your data."
   ]
  },
  {
   "cell_type": "code",
   "execution_count": 6,
   "metadata": {
    "collapsed": true
   },
   "outputs": [],
   "source": [
    "n_components = 4"
   ]
  },
  {
   "cell_type": "code",
   "execution_count": 7,
   "metadata": {
    "collapsed": false
   },
   "outputs": [
    {
     "data": {
      "text/html": [
       "<div>\n",
       "<table border=\"1\" class=\"dataframe\">\n",
       "  <thead>\n",
       "    <tr style=\"text-align: right;\">\n",
       "      <th></th>\n",
       "      <th>display_name</th>\n",
       "      <th>id</th>\n",
       "      <th>party</th>\n",
       "      <th>state</th>\n",
       "      <th>PC1</th>\n",
       "      <th>PC2</th>\n",
       "    </tr>\n",
       "  </thead>\n",
       "  <tbody>\n",
       "    <tr>\n",
       "      <th>0</th>\n",
       "      <td>Adams</td>\n",
       "      <td>A000370</td>\n",
       "      <td>D</td>\n",
       "      <td>NC</td>\n",
       "      <td>2.483730</td>\n",
       "      <td>-1.367399</td>\n",
       "    </tr>\n",
       "    <tr>\n",
       "      <th>1</th>\n",
       "      <td>Aderholt</td>\n",
       "      <td>A000055</td>\n",
       "      <td>R</td>\n",
       "      <td>AL</td>\n",
       "      <td>-8.229238</td>\n",
       "      <td>0.381537</td>\n",
       "    </tr>\n",
       "    <tr>\n",
       "      <th>2</th>\n",
       "      <td>Amash</td>\n",
       "      <td>A000367</td>\n",
       "      <td>R</td>\n",
       "      <td>MI</td>\n",
       "      <td>-7.170478</td>\n",
       "      <td>-6.018009</td>\n",
       "    </tr>\n",
       "    <tr>\n",
       "      <th>3</th>\n",
       "      <td>Amodei</td>\n",
       "      <td>A000369</td>\n",
       "      <td>R</td>\n",
       "      <td>NV</td>\n",
       "      <td>-7.404195</td>\n",
       "      <td>1.136015</td>\n",
       "    </tr>\n",
       "    <tr>\n",
       "      <th>4</th>\n",
       "      <td>Andrews</td>\n",
       "      <td>A000210</td>\n",
       "      <td>D</td>\n",
       "      <td>NJ</td>\n",
       "      <td>2.591377</td>\n",
       "      <td>-1.905903</td>\n",
       "    </tr>\n",
       "  </tbody>\n",
       "</table>\n",
       "</div>"
      ],
      "text/plain": [
       "  display_name       id party state       PC1       PC2\n",
       "0        Adams  A000370     D    NC  2.483730 -1.367399\n",
       "1     Aderholt  A000055     R    AL -8.229238  0.381537\n",
       "2        Amash  A000367     R    MI -7.170478 -6.018009\n",
       "3       Amodei  A000369     R    NV -7.404195  1.136015\n",
       "4      Andrews  A000210     D    NJ  2.591377 -1.905903"
      ]
     },
     "execution_count": 7,
     "metadata": {},
     "output_type": "execute_result"
    }
   ],
   "source": [
    "model = PCA(n_components=n_components)\n",
    "PCs = model.fit_transform(voting_matrix)  # principal components\n",
    "congress['PC1'] = PCs[:, 0]\n",
    "congress['PC2'] = PCs[:, 1]\n",
    "congress.head()"
   ]
  },
  {
   "cell_type": "code",
   "execution_count": 8,
   "metadata": {
    "collapsed": false
   },
   "outputs": [
    {
     "data": {
      "image/png": "[encoded data removed]",
      "text/plain": [
       "<matplotlib.figure.Figure at 0x10248ca50>"
      ]
     },
     "metadata": {},
     "output_type": "display_data"
    }
   ],
   "source": [
    "colors = {'D': 'b', 'R': 'r'}\n",
    "for party in congress.party.unique():\n",
    "    representatives = congress[congress.party == party]\n",
    "    plt.scatter(representatives.PC1, representatives.PC2, color=colors[party], alpha=.5, label=party)\n",
    "f = plt.legend(), plt.xticks([]), plt.yticks([]), plt.xlabel(\"PC #1\"), plt.ylabel(\"PC #2\")"
   ]
  },
  {
   "cell_type": "markdown",
   "metadata": {},
   "source": [
    "Clearly, the first principal component represents a member's political affiliation.\n",
    "\n",
    "You might wonder if you could extract more patterns from the data, like geographical behavior that goes across parties."
   ]
  },
  {
   "cell_type": "code",
   "execution_count": 9,
   "metadata": {
    "collapsed": false
   },
   "outputs": [
    {
     "data": {
      "image/png": "[encoded data removed]",
      "text/plain": [
       "<matplotlib.figure.Figure at 0x10c0f3690>"
      ]
     },
     "metadata": {},
     "output_type": "display_data"
    }
   ],
   "source": [
    "fig, axes = plt.subplots(1, n_components + 1, figsize=(20, 4))\n",
    "ax = axes[0]\n",
    "ax.bar(np.arange(n_components)-.5, model.explained_variance_ratio_)\n",
    "ax.set_ylim(0, 1), ax.set_xticks(range(n_components)), ax.set_title(\"% Variance explained\")\n",
    "bins = np.linspace(PCs.min(), PCs.max(), 20)\n",
    "for no, ax in enumerate(axes[1:]):\n",
    "    f = ax.hist(PCs[:, no], bins=bins, normed=True)\n",
    "    ax.set_title(\"PC #%d\" % (no + 1)), ax.set_ylim(0, .6), ax.set_xticks([])"
   ]
  },
  {
   "cell_type": "markdown",
   "metadata": {},
   "source": [
    "It's reasonable to believe that only the first principal component matters, since\n",
    "- it explains 80% of all variance, whereas the next in line only accounts for about 3%,\n",
    "- the Gaussian-like distribution of the other PCs suggests their variance is just noise.\n",
    "\n",
    "#### KMeans\n",
    "\n",
    "What will we get if we'd apply k-means instead of PCA?\n",
    "\n",
    "Note that our data has already been normalized (with only -1, 0, 1 in each column)."
   ]
  },
  {
   "cell_type": "code",
   "execution_count": 10,
   "metadata": {
    "collapsed": false
   },
   "outputs": [
    {
     "data": {
      "image/png": "[encoded data removed]",
      "text/plain": [
       "<matplotlib.figure.Figure at 0x1024a5750>"
      ]
     },
     "metadata": {},
     "output_type": "display_data"
    }
   ],
   "source": [
    "model = KMeans(n_clusters=2)\n",
    "congress['cluster'] = model.fit_predict(voting_matrix)\n",
    "f = congress.groupby('cluster').party.value_counts().unstack().plot(kind='bar', rot=0, stacked=True)"
   ]
  },
  {
   "cell_type": "markdown",
   "metadata": {
    "collapsed": true
   },
   "source": [
    "Voting behavior is clearly dependend on political affiliation.\n",
    "\n",
    "Wheras the previous analysis of PCs #2 and up was discouraging, let's see if it would make sense to find more clusters."
   ]
  },
  {
   "cell_type": "code",
   "execution_count": 12,
   "metadata": {
    "collapsed": false
   },
   "outputs": [
    {
     "data": {
      "image/png": "[encoded data removed]",
      "text/plain": [
       "<matplotlib.figure.Figure at 0x10c0d8c90>"
      ]
     },
     "metadata": {},
     "output_type": "display_data"
    }
   ],
   "source": [
    "max_clusters = 15\n",
    "scores = []\n",
    "for k in xrange(1, max_clusters):\n",
    "    model = KMeans(n_clusters=k)\n",
    "    scores.append(model.fit(voting_matrix).score(voting_matrix))\n",
    "f = plt.plot(range(1, max_clusters), scores), plt.yticks([])"
   ]
  },
  {
   "cell_type": "markdown",
   "metadata": {},
   "source": [
    "Nope. Further clustering seems not valuable."
   ]
  }
 ],
 "metadata": {
  "kernelspec": {
   "display_name": "Python 2",
   "language": "python",
   "name": "python2"
  },
  "language_info": {
   "codemirror_mode": {
    "name": "ipython",
    "version": 2
   },
   "file_extension": ".py",
   "mimetype": "text/x-python",
   "name": "python",
   "nbconvert_exporter": "python",
   "pygments_lexer": "ipython2",
   "version": "2.7.10"
  }
 },
 "nbformat": 4,
 "nbformat_minor": 0
}
