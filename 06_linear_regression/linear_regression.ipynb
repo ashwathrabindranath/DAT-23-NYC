{
 "cells": [
  {
   "cell_type": "markdown",
   "metadata": {},
   "source": [
    "# Linear Regression"
   ]
  },
  {
   "cell_type": "markdown",
   "metadata": {},
   "source": [
    "## Princeton Salary Datasets"
   ]
  },
  {
   "cell_type": "markdown",
   "metadata": {},
   "source": [
    "- In this task, we will study the impact of various factors (education, experience and gender) on salaries in academia.\n",
    "- The dataset is a historic dataset of salaries in an academic department and is easy to study."
   ]
  },
  {
   "cell_type": "code",
   "execution_count": 1,
   "metadata": {
    "collapsed": false
   },
   "outputs": [],
   "source": [
    "import pandas as pd\n",
    "data = pd.read_csv(\"http://data.princeton.edu/wws509/datasets/salary.dat\", sep='\\s+')"
   ]
  },
  {
   "cell_type": "markdown",
   "metadata": {},
   "source": [
    "Note that we just downloaded a dataset from the Internet straight into `pandas`."
   ]
  },
  {
   "cell_type": "markdown",
   "metadata": {},
   "source": [
    "### Salary Distribution"
   ]
  },
  {
   "cell_type": "markdown",
   "metadata": {},
   "source": [
    "As always, we start with exploring the dataset for a little."
   ]
  },
  {
   "cell_type": "code",
   "execution_count": 2,
   "metadata": {
    "collapsed": false
   },
   "outputs": [
    {
     "name": "stdout",
     "output_type": "stream",
     "text": [
      "52 rows\n"
     ]
    },
    {
     "data": {
      "text/html": [
       "<div style=\"max-height:1000px;max-width:1500px;overflow:auto;\">\n",
       "<table border=\"1\" class=\"dataframe\">\n",
       "  <thead>\n",
       "    <tr style=\"text-align: right;\">\n",
       "      <th></th>\n",
       "      <th>sx</th>\n",
       "      <th>rk</th>\n",
       "      <th>yr</th>\n",
       "      <th>dg</th>\n",
       "      <th>yd</th>\n",
       "      <th>sl</th>\n",
       "    </tr>\n",
       "  </thead>\n",
       "  <tbody>\n",
       "    <tr>\n",
       "      <th>0</th>\n",
       "      <td>   male</td>\n",
       "      <td> full</td>\n",
       "      <td> 25</td>\n",
       "      <td> doctorate</td>\n",
       "      <td> 35</td>\n",
       "      <td> 36350</td>\n",
       "    </tr>\n",
       "    <tr>\n",
       "      <th>1</th>\n",
       "      <td>   male</td>\n",
       "      <td> full</td>\n",
       "      <td> 13</td>\n",
       "      <td> doctorate</td>\n",
       "      <td> 22</td>\n",
       "      <td> 35350</td>\n",
       "    </tr>\n",
       "    <tr>\n",
       "      <th>2</th>\n",
       "      <td>   male</td>\n",
       "      <td> full</td>\n",
       "      <td> 10</td>\n",
       "      <td> doctorate</td>\n",
       "      <td> 23</td>\n",
       "      <td> 28200</td>\n",
       "    </tr>\n",
       "    <tr>\n",
       "      <th>3</th>\n",
       "      <td> female</td>\n",
       "      <td> full</td>\n",
       "      <td>  7</td>\n",
       "      <td> doctorate</td>\n",
       "      <td> 27</td>\n",
       "      <td> 26775</td>\n",
       "    </tr>\n",
       "    <tr>\n",
       "      <th>4</th>\n",
       "      <td>   male</td>\n",
       "      <td> full</td>\n",
       "      <td> 19</td>\n",
       "      <td>   masters</td>\n",
       "      <td> 30</td>\n",
       "      <td> 33696</td>\n",
       "    </tr>\n",
       "  </tbody>\n",
       "</table>\n",
       "</div>"
      ],
      "text/plain": [
       "       sx    rk  yr         dg  yd     sl\n",
       "0    male  full  25  doctorate  35  36350\n",
       "1    male  full  13  doctorate  22  35350\n",
       "2    male  full  10  doctorate  23  28200\n",
       "3  female  full   7  doctorate  27  26775\n",
       "4    male  full  19    masters  30  33696"
      ]
     },
     "execution_count": 2,
     "metadata": {},
     "output_type": "execute_result"
    }
   ],
   "source": [
    "print len(data), 'rows'\n",
    "data.head()"
   ]
  },
  {
   "cell_type": "markdown",
   "metadata": {},
   "source": [
    "First note we only have 52 rows, which is very little.\n",
    "\n",
    "As we can read on the [Princeton website](http://data.princeton.edu/wws509/datasets/#salary), these columns mean the following:\n",
    "- sx = Sex: male or female,\n",
    "- rk = Rank: full, associate or assistant professor,\n",
    "- yr = Number of years in current rank,\n",
    "- dg = Highest degree: doctorate or masters,\n",
    "- yd = Number of years since highest degree was earned,\n",
    "- sl = Academic year salary, in dollars."
   ]
  },
  {
   "cell_type": "markdown",
   "metadata": {},
   "source": [
    "One of our initial questions is what the distributon of salaries is."
   ]
  },
  {
   "cell_type": "code",
   "execution_count": 3,
   "metadata": {
    "collapsed": false
   },
   "outputs": [
    {
     "data": {
      "image/png": "[encoded data removed]",
      "text/plain": [
       "<matplotlib.figure.Figure at 0x10dc18f10>"
      ]
     },
     "metadata": {},
     "output_type": "display_data"
    }
   ],
   "source": [
    "from matplotlib import pyplot as plt\n",
    "%matplotlib inline\n",
    "f = data.sl.hist(bins=20)"
   ]
  },
  {
   "cell_type": "markdown",
   "metadata": {},
   "source": [
    "### What correlates with salary?\n",
    "\n",
    "Next, we would want to what factors may be correlated with salary.  We would expect that as experience or education increases, the salary should increases as well."
   ]
  },
  {
   "cell_type": "code",
   "execution_count": 4,
   "metadata": {
    "collapsed": false
   },
   "outputs": [
    {
     "data": {
      "image/png": "[encoded data removed]",
      "text/plain": [
       "<matplotlib.figure.Figure at 0x10dd63550>"
      ]
     },
     "metadata": {},
     "output_type": "display_data"
    }
   ],
   "source": [
    "fig, axes = plt.subplots(ncols=2) \n",
    "f = data.plot(kind='scatter', x='yd', y='sl', ax=axes[0], title=\"Years since degree\", figsize=(12,3))\n",
    "f = data.plot(kind='scatter', x='yr', y='sl', ax=axes[1], title=\"Years in current rank\")"
   ]
  },
  {
   "cell_type": "markdown",
   "metadata": {},
   "source": [
    "Most importantly, while using **linear** regression, we should see if the relationship is **linear**.  Does every increase in X lead to a constant increase in Y?  We may expect for the first 5-10 year of experience this true, but perhaps after 10 year the salaries stop increasing or jump dramatically.  Linear regression would be unable to capture these nonlinearaties. "
   ]
  },
  {
   "cell_type": "markdown",
   "metadata": {},
   "source": [
    "### sklearn"
   ]
  },
  {
   "cell_type": "code",
   "execution_count": 5,
   "metadata": {
    "collapsed": false
   },
   "outputs": [
    {
     "data": {
      "text/plain": [
       "0.5782019226431887"
      ]
     },
     "execution_count": 5,
     "metadata": {},
     "output_type": "execute_result"
    }
   ],
   "source": [
    "from sklearn.linear_model import LinearRegression\n",
    "model = LinearRegression()\n",
    "X, y = data[['yr', 'yd']], data.sl\n",
    "model.fit(X, y)\n",
    "model.score(X, y)  # for regression, this is R2"
   ]
  },
  {
   "cell_type": "code",
   "execution_count": 6,
   "metadata": {
    "collapsed": false
   },
   "outputs": [
    {
     "data": {
      "text/plain": [
       "16555.689673113389"
      ]
     },
     "execution_count": 6,
     "metadata": {},
     "output_type": "execute_result"
    }
   ],
   "source": [
    "# intercept of model\n",
    "model.intercept_"
   ]
  },
  {
   "cell_type": "code",
   "execution_count": 7,
   "metadata": {
    "collapsed": false
   },
   "outputs": [
    {
     "data": {
      "text/plain": [
       "array([ 489.29445905,  222.25130361])"
      ]
     },
     "execution_count": 7,
     "metadata": {},
     "output_type": "execute_result"
    }
   ],
   "source": [
    "# slope per dimension\n",
    "model.coef_"
   ]
  },
  {
   "cell_type": "code",
   "execution_count": 8,
   "metadata": {
    "collapsed": false
   },
   "outputs": [
    {
     "data": {
      "text/plain": [
       "[(489.29445904610566, 'yr'), (222.25130361475976, 'yd')]"
      ]
     },
     "execution_count": 8,
     "metadata": {},
     "output_type": "execute_result"
    }
   ],
   "source": [
    "# these go with each dimension\n",
    "coefs = zip(model.coef_, X.columns)\n",
    "coefs"
   ]
  },
  {
   "cell_type": "code",
   "execution_count": 9,
   "metadata": {
    "collapsed": false
   },
   "outputs": [
    {
     "name": "stdout",
     "output_type": "stream",
     "text": [
      "sl = 16555.7 + 489.3 yr + 222.3 yd\n"
     ]
    }
   ],
   "source": [
    "# so the linear model would be the following\n",
    "print \"sl = %.1f + \" % model.intercept_ + \\\n",
    "    \" + \".join(\"%.1f %s\" % coef for coef in coefs)"
   ]
  },
  {
   "cell_type": "markdown",
   "metadata": {},
   "source": [
    "Meaning, the base salary is almost \\$17K, each year in the current position adds another \\$500, and each year after your degree adds another \\$200."
   ]
  },
  {
   "cell_type": "markdown",
   "metadata": {},
   "source": [
    "#### Cross-validation\n",
    "Supervised problems, like linear regression, always require a training and a testset, to avoid having overfitted your model.\n"
   ]
  },
  {
   "cell_type": "code",
   "execution_count": 10,
   "metadata": {
    "collapsed": false,
    "scrolled": true
   },
   "outputs": [
    {
     "name": "stdout",
     "output_type": "stream",
     "text": [
      "0.623 0.61 0.555 0.761 0.674 0.801 -0.09 0.2 0.619 0.508\n"
     ]
    }
   ],
   "source": [
    "from sklearn.cross_validation import train_test_split\n",
    "for k in xrange(10):\n",
    "    X_train, X_test, y_train, y_test = train_test_split(X, y, train_size=.8)\n",
    "    print model.fit(X_train, y_train).score(X_test, y_test).round(3), "
   ]
  },
  {
   "cell_type": "markdown",
   "metadata": {},
   "source": [
    "These are not so great numbers, and not that consistent either. This is not that surprising if you realize how little samples we have (52) and how little structure we saw in the plots."
   ]
  },
  {
   "cell_type": "markdown",
   "metadata": {},
   "source": [
    "### Categorical features"
   ]
  },
  {
   "cell_type": "markdown",
   "metadata": {},
   "source": [
    "- We'd like to somehow incorporate the categorical features as well, even though they're not numerical values\n",
    "- One way to do this is adding columns for each category, with a boolean flag\n",
    "- An easy off-the-shelves solution is `patsy`, a library for describing statistical models using symbolic formulas and building design matrices. Patsy is very similar to `R`."
   ]
  },
  {
   "cell_type": "code",
   "execution_count": 11,
   "metadata": {
    "collapsed": true
   },
   "outputs": [],
   "source": [
    "from patsy import dmatrices"
   ]
  },
  {
   "cell_type": "markdown",
   "metadata": {},
   "source": [
    "We'd like to try a linear model predicting the salary, with features sex, years in rank and rank."
   ]
  },
  {
   "cell_type": "code",
   "execution_count": 12,
   "metadata": {
    "collapsed": true
   },
   "outputs": [],
   "source": [
    "y, X = dmatrices('sl ~ sx + yr + rk', data=data, return_type='dataframe')"
   ]
  },
  {
   "cell_type": "code",
   "execution_count": 13,
   "metadata": {
    "collapsed": false
   },
   "outputs": [
    {
     "data": {
      "text/html": [
       "<div style=\"max-height:1000px;max-width:1500px;overflow:auto;\">\n",
       "<table border=\"1\" class=\"dataframe\">\n",
       "  <thead>\n",
       "    <tr style=\"text-align: right;\">\n",
       "      <th></th>\n",
       "      <th>Intercept</th>\n",
       "      <th>sx[T.male]</th>\n",
       "      <th>rk[T.associate]</th>\n",
       "      <th>rk[T.full]</th>\n",
       "      <th>yr</th>\n",
       "    </tr>\n",
       "  </thead>\n",
       "  <tbody>\n",
       "    <tr>\n",
       "      <th>0</th>\n",
       "      <td> 1</td>\n",
       "      <td> 1</td>\n",
       "      <td> 0</td>\n",
       "      <td> 1</td>\n",
       "      <td> 25</td>\n",
       "    </tr>\n",
       "    <tr>\n",
       "      <th>1</th>\n",
       "      <td> 1</td>\n",
       "      <td> 1</td>\n",
       "      <td> 0</td>\n",
       "      <td> 1</td>\n",
       "      <td> 13</td>\n",
       "    </tr>\n",
       "    <tr>\n",
       "      <th>2</th>\n",
       "      <td> 1</td>\n",
       "      <td> 1</td>\n",
       "      <td> 0</td>\n",
       "      <td> 1</td>\n",
       "      <td> 10</td>\n",
       "    </tr>\n",
       "    <tr>\n",
       "      <th>3</th>\n",
       "      <td> 1</td>\n",
       "      <td> 0</td>\n",
       "      <td> 0</td>\n",
       "      <td> 1</td>\n",
       "      <td>  7</td>\n",
       "    </tr>\n",
       "    <tr>\n",
       "      <th>4</th>\n",
       "      <td> 1</td>\n",
       "      <td> 1</td>\n",
       "      <td> 0</td>\n",
       "      <td> 1</td>\n",
       "      <td> 19</td>\n",
       "    </tr>\n",
       "  </tbody>\n",
       "</table>\n",
       "</div>"
      ],
      "text/plain": [
       "   Intercept  sx[T.male]  rk[T.associate]  rk[T.full]  yr\n",
       "0          1           1                0           1  25\n",
       "1          1           1                0           1  13\n",
       "2          1           1                0           1  10\n",
       "3          1           0                0           1   7\n",
       "4          1           1                0           1  19"
      ]
     },
     "execution_count": 13,
     "metadata": {},
     "output_type": "execute_result"
    }
   ],
   "source": [
    "X.head()"
   ]
  },
  {
   "cell_type": "markdown",
   "metadata": {},
   "source": [
    "X is now our feature matrix\n",
    "- `Intercept` always contains a one, which offers a convenient way of computing the intercept\n",
    "- `sx[T.male]` is 1 if `sx == 'male'`, and 0 otherwise\n",
    "- `rk[T.associate]` is 1 if `rk == 'associate'`, and 0 otherwise\n",
    "- `rk[T.full]` is 1 if `rk == 'full'`, and 0 otherwise\n",
    "- `yr` is just `yr`\n",
    "\n",
    "\n",
    "Note that the two `rk` columns can never be both one. If they're both zero, then `rk == assistant`."
   ]
  },
  {
   "cell_type": "markdown",
   "metadata": {},
   "source": [
    "Also note that `y` is now a one-column dataframe."
   ]
  },
  {
   "cell_type": "code",
   "execution_count": 14,
   "metadata": {
    "collapsed": false
   },
   "outputs": [
    {
     "data": {
      "text/html": [
       "<div style=\"max-height:1000px;max-width:1500px;overflow:auto;\">\n",
       "<table border=\"1\" class=\"dataframe\">\n",
       "  <thead>\n",
       "    <tr style=\"text-align: right;\">\n",
       "      <th></th>\n",
       "      <th>sl</th>\n",
       "    </tr>\n",
       "  </thead>\n",
       "  <tbody>\n",
       "    <tr>\n",
       "      <th>0</th>\n",
       "      <td> 36350</td>\n",
       "    </tr>\n",
       "    <tr>\n",
       "      <th>1</th>\n",
       "      <td> 35350</td>\n",
       "    </tr>\n",
       "    <tr>\n",
       "      <th>2</th>\n",
       "      <td> 28200</td>\n",
       "    </tr>\n",
       "    <tr>\n",
       "      <th>3</th>\n",
       "      <td> 26775</td>\n",
       "    </tr>\n",
       "    <tr>\n",
       "      <th>4</th>\n",
       "      <td> 33696</td>\n",
       "    </tr>\n",
       "  </tbody>\n",
       "</table>\n",
       "</div>"
      ],
      "text/plain": [
       "      sl\n",
       "0  36350\n",
       "1  35350\n",
       "2  28200\n",
       "3  26775\n",
       "4  33696"
      ]
     },
     "execution_count": 14,
     "metadata": {},
     "output_type": "execute_result"
    }
   ],
   "source": [
    "y.head()"
   ]
  },
  {
   "cell_type": "code",
   "execution_count": 15,
   "metadata": {
    "collapsed": false
   },
   "outputs": [
    {
     "data": {
      "text/plain": [
       "0.8461760134902937"
      ]
     },
     "execution_count": 15,
     "metadata": {},
     "output_type": "execute_result"
    }
   ],
   "source": [
    "model = LinearRegression()\n",
    "model.fit(X, y).score(X, y)"
   ]
  },
  {
   "cell_type": "markdown",
   "metadata": {},
   "source": [
    "Better score for sure!"
   ]
  },
  {
   "cell_type": "code",
   "execution_count": 16,
   "metadata": {
    "collapsed": false
   },
   "outputs": [
    {
     "name": "stdout",
     "output_type": "stream",
     "text": [
      "[ 16430.96168389]\n",
      "[[    0.          -524.14921086  4373.91539051  9483.84186941\n",
      "    390.93575731]]\n"
     ]
    }
   ],
   "source": [
    "print model.intercept_\n",
    "print model.coef_"
   ]
  },
  {
   "cell_type": "markdown",
   "metadata": {},
   "source": [
    "Note that the first coefficient is zero, since we already fitted an intercept. \n",
    "\n",
    "Alternatively, we can do:"
   ]
  },
  {
   "cell_type": "code",
   "execution_count": 17,
   "metadata": {
    "collapsed": false
   },
   "outputs": [
    {
     "name": "stdout",
     "output_type": "stream",
     "text": [
      "0.84617601349\n",
      "0.0\n",
      "[[ 16430.96168389   -524.14921086   4373.91539051   9483.84186941\n",
      "     390.93575731]]\n"
     ]
    }
   ],
   "source": [
    "model = LinearRegression(fit_intercept=False)\n",
    "print model.fit(X, y).score(X, y)\n",
    "print model.intercept_\n",
    "print model.coef_"
   ]
  },
  {
   "cell_type": "markdown",
   "metadata": {},
   "source": [
    "Also note that `model.coef_` is now a matrix, since we gave the model a dataframe `y` instead of a series. It is possible to fit more `y`s at once."
   ]
  },
  {
   "cell_type": "code",
   "execution_count": 18,
   "metadata": {
    "collapsed": false
   },
   "outputs": [
    {
     "name": "stdout",
     "output_type": "stream",
     "text": [
      "sl = 16431.0 Intercept + -524.1 sx[T.male] + 4373.9 rk[T.associate] + 9483.8 rk[T.full] + 390.9 yr\n"
     ]
    }
   ],
   "source": [
    "coefs = zip(model.coef_[0], X.columns)\n",
    "print \"sl = \" + \" + \".join(\"%.1f %s\" % coef for coef in coefs)"
   ]
  },
  {
   "cell_type": "markdown",
   "metadata": {},
   "source": [
    "**You should now be able to complete the exercises at the bottom of this notebook.**"
   ]
  },
  {
   "cell_type": "markdown",
   "metadata": {},
   "source": [
    "<hr>"
   ]
  },
  {
   "cell_type": "markdown",
   "metadata": {},
   "source": [
    "### statsmodels\n",
    "\n",
    "- Statsmodels is a relatively new package that provides convenient utilities for investigating the results of a model. \n",
    "- It uses `patsy` to provide R formula syntax\n",
    "\n",
    "A formula allows you to write a functional relationship between variables.  \n",
    "Example:\n",
    "```R\n",
    "Y ~ X1 + X2 + X3\n",
    "```\n",
    "\n",
    "It automatically assumes there  is an intercept term. You can make this explicit by using \n",
    "\n",
    "```R\n",
    "Y ~ 1 + X1 + X2 + X3\n",
    "```"
   ]
  },
  {
   "cell_type": "code",
   "execution_count": 19,
   "metadata": {
    "collapsed": true
   },
   "outputs": [],
   "source": [
    "import statsmodels.formula.api as sm"
   ]
  },
  {
   "cell_type": "code",
   "execution_count": 20,
   "metadata": {
    "collapsed": false
   },
   "outputs": [
    {
     "data": {
      "text/html": [
       "<table class=\"simpletable\">\n",
       "<caption>OLS Regression Results</caption>\n",
       "<tr>\n",
       "  <th>Dep. Variable:</th>           <td>sl</td>        <th>  R-squared:         </th> <td>   0.491</td>\n",
       "</tr>\n",
       "<tr>\n",
       "  <th>Model:</th>                   <td>OLS</td>       <th>  Adj. R-squared:    </th> <td>   0.481</td>\n",
       "</tr>\n",
       "<tr>\n",
       "  <th>Method:</th>             <td>Least Squares</td>  <th>  F-statistic:       </th> <td>   48.22</td>\n",
       "</tr>\n",
       "<tr>\n",
       "  <th>Date:</th>             <td>Sun, 12 Jul 2015</td> <th>  Prob (F-statistic):</th> <td>7.34e-09</td>\n",
       "</tr>\n",
       "<tr>\n",
       "  <th>Time:</th>                 <td>14:04:00</td>     <th>  Log-Likelihood:    </th> <td> -507.38</td>\n",
       "</tr>\n",
       "<tr>\n",
       "  <th>No. Observations:</th>      <td>    52</td>      <th>  AIC:               </th> <td>   1019.</td>\n",
       "</tr>\n",
       "<tr>\n",
       "  <th>Df Residuals:</th>          <td>    50</td>      <th>  BIC:               </th> <td>   1023.</td>\n",
       "</tr>\n",
       "<tr>\n",
       "  <th>Df Model:</th>              <td>     1</td>      <th>                     </th>     <td> </td>   \n",
       "</tr>\n",
       "</table>\n",
       "<table class=\"simpletable\">\n",
       "<tr>\n",
       "      <td></td>         <th>coef</th>     <th>std err</th>      <th>t</th>      <th>P>|t|</th> <th>[95.0% Conf. Int.]</th> \n",
       "</tr>\n",
       "<tr>\n",
       "  <th>Intercept</th> <td> 1.817e+04</td> <td> 1003.658</td> <td>   18.100</td> <td> 0.000</td> <td> 1.62e+04  2.02e+04</td>\n",
       "</tr>\n",
       "<tr>\n",
       "  <th>yr</th>        <td>  752.7978</td> <td>  108.409</td> <td>    6.944</td> <td> 0.000</td> <td>  535.051   970.544</td>\n",
       "</tr>\n",
       "</table>\n",
       "<table class=\"simpletable\">\n",
       "<tr>\n",
       "  <th>Omnibus:</th>       <td> 5.716</td> <th>  Durbin-Watson:     </th> <td>   1.430</td>\n",
       "</tr>\n",
       "<tr>\n",
       "  <th>Prob(Omnibus):</th> <td> 0.057</td> <th>  Jarque-Bera (JB):  </th> <td>   5.015</td>\n",
       "</tr>\n",
       "<tr>\n",
       "  <th>Skew:</th>          <td> 0.509</td> <th>  Prob(JB):          </th> <td>  0.0815</td>\n",
       "</tr>\n",
       "<tr>\n",
       "  <th>Kurtosis:</th>      <td> 4.130</td> <th>  Cond. No.          </th> <td>    15.8</td>\n",
       "</tr>\n",
       "</table>"
      ],
      "text/plain": [
       "<class 'statsmodels.iolib.summary.Summary'>\n",
       "\"\"\"\n",
       "                            OLS Regression Results                            \n",
       "==============================================================================\n",
       "Dep. Variable:                     sl   R-squared:                       0.491\n",
       "Model:                            OLS   Adj. R-squared:                  0.481\n",
       "Method:                 Least Squares   F-statistic:                     48.22\n",
       "Date:                Sun, 12 Jul 2015   Prob (F-statistic):           7.34e-09\n",
       "Time:                        14:04:00   Log-Likelihood:                -507.38\n",
       "No. Observations:                  52   AIC:                             1019.\n",
       "Df Residuals:                      50   BIC:                             1023.\n",
       "Df Model:                           1                                         \n",
       "==============================================================================\n",
       "                 coef    std err          t      P>|t|      [95.0% Conf. Int.]\n",
       "------------------------------------------------------------------------------\n",
       "Intercept   1.817e+04   1003.658     18.100      0.000      1.62e+04  2.02e+04\n",
       "yr           752.7978    108.409      6.944      0.000       535.051   970.544\n",
       "==============================================================================\n",
       "Omnibus:                        5.716   Durbin-Watson:                   1.430\n",
       "Prob(Omnibus):                  0.057   Jarque-Bera (JB):                5.015\n",
       "Skew:                           0.509   Prob(JB):                       0.0815\n",
       "Kurtosis:                       4.130   Cond. No.                         15.8\n",
       "==============================================================================\n",
       "\"\"\""
      ]
     },
     "execution_count": 20,
     "metadata": {},
     "output_type": "execute_result"
    }
   ],
   "source": [
    "model = sm.ols(formula=\"sl ~ yr\", data=data).fit()\n",
    "model.summary()"
   ]
  },
  {
   "cell_type": "markdown",
   "metadata": {},
   "source": [
    "We can use categorical features as well, and `statsmodels` will use `patsy` for that just as we have been before."
   ]
  },
  {
   "cell_type": "code",
   "execution_count": 21,
   "metadata": {
    "collapsed": false
   },
   "outputs": [
    {
     "data": {
      "text/html": [
       "<table class=\"simpletable\">\n",
       "<caption>OLS Regression Results</caption>\n",
       "<tr>\n",
       "  <th>Dep. Variable:</th>           <td>sl</td>        <th>  R-squared:         </th> <td>   0.491</td>\n",
       "</tr>\n",
       "<tr>\n",
       "  <th>Model:</th>                   <td>OLS</td>       <th>  Adj. R-squared:    </th> <td>   0.470</td>\n",
       "</tr>\n",
       "<tr>\n",
       "  <th>Method:</th>             <td>Least Squares</td>  <th>  F-statistic:       </th> <td>   23.65</td>\n",
       "</tr>\n",
       "<tr>\n",
       "  <th>Date:</th>             <td>Sun, 12 Jul 2015</td> <th>  Prob (F-statistic):</th> <td>6.48e-08</td>\n",
       "</tr>\n",
       "<tr>\n",
       "  <th>Time:</th>                 <td>14:04:00</td>     <th>  Log-Likelihood:    </th> <td> -507.37</td>\n",
       "</tr>\n",
       "<tr>\n",
       "  <th>No. Observations:</th>      <td>    52</td>      <th>  AIC:               </th> <td>   1021.</td>\n",
       "</tr>\n",
       "<tr>\n",
       "  <th>Df Residuals:</th>          <td>    49</td>      <th>  BIC:               </th> <td>   1027.</td>\n",
       "</tr>\n",
       "<tr>\n",
       "  <th>Df Model:</th>              <td>     2</td>      <th>                     </th>     <td> </td>   \n",
       "</tr>\n",
       "</table>\n",
       "<table class=\"simpletable\">\n",
       "<tr>\n",
       "       <td></td>         <th>coef</th>     <th>std err</th>      <th>t</th>      <th>P>|t|</th> <th>[95.0% Conf. Int.]</th> \n",
       "</tr>\n",
       "<tr>\n",
       "  <th>Intercept</th>  <td> 1.827e+04</td> <td> 1247.700</td> <td>   14.640</td> <td> 0.000</td> <td> 1.58e+04  2.08e+04</td>\n",
       "</tr>\n",
       "<tr>\n",
       "  <th>sx[T.male]</th> <td> -201.4668</td> <td> 1455.145</td> <td>   -0.138</td> <td> 0.890</td> <td>-3125.690  2722.757</td>\n",
       "</tr>\n",
       "<tr>\n",
       "  <th>yr</th>         <td>  759.0138</td> <td>  118.336</td> <td>    6.414</td> <td> 0.000</td> <td>  521.208   996.820</td>\n",
       "</tr>\n",
       "</table>\n",
       "<table class=\"simpletable\">\n",
       "<tr>\n",
       "  <th>Omnibus:</th>       <td> 5.237</td> <th>  Durbin-Watson:     </th> <td>   1.437</td>\n",
       "</tr>\n",
       "<tr>\n",
       "  <th>Prob(Omnibus):</th> <td> 0.073</td> <th>  Jarque-Bera (JB):  </th> <td>   4.418</td>\n",
       "</tr>\n",
       "<tr>\n",
       "  <th>Skew:</th>          <td> 0.485</td> <th>  Prob(JB):          </th> <td>   0.110</td>\n",
       "</tr>\n",
       "<tr>\n",
       "  <th>Kurtosis:</th>      <td> 4.048</td> <th>  Cond. No.          </th> <td>    26.7</td>\n",
       "</tr>\n",
       "</table>"
      ],
      "text/plain": [
       "<class 'statsmodels.iolib.summary.Summary'>\n",
       "\"\"\"\n",
       "                            OLS Regression Results                            \n",
       "==============================================================================\n",
       "Dep. Variable:                     sl   R-squared:                       0.491\n",
       "Model:                            OLS   Adj. R-squared:                  0.470\n",
       "Method:                 Least Squares   F-statistic:                     23.65\n",
       "Date:                Sun, 12 Jul 2015   Prob (F-statistic):           6.48e-08\n",
       "Time:                        14:04:00   Log-Likelihood:                -507.37\n",
       "No. Observations:                  52   AIC:                             1021.\n",
       "Df Residuals:                      49   BIC:                             1027.\n",
       "Df Model:                           2                                         \n",
       "==============================================================================\n",
       "                 coef    std err          t      P>|t|      [95.0% Conf. Int.]\n",
       "------------------------------------------------------------------------------\n",
       "Intercept   1.827e+04   1247.700     14.640      0.000      1.58e+04  2.08e+04\n",
       "sx[T.male]  -201.4668   1455.145     -0.138      0.890     -3125.690  2722.757\n",
       "yr           759.0138    118.336      6.414      0.000       521.208   996.820\n",
       "==============================================================================\n",
       "Omnibus:                        5.237   Durbin-Watson:                   1.437\n",
       "Prob(Omnibus):                  0.073   Jarque-Bera (JB):                4.418\n",
       "Skew:                           0.485   Prob(JB):                        0.110\n",
       "Kurtosis:                       4.048   Cond. No.                         26.7\n",
       "==============================================================================\n",
       "\"\"\""
      ]
     },
     "execution_count": 21,
     "metadata": {},
     "output_type": "execute_result"
    }
   ],
   "source": [
    "model = sm.ols(formula=\"sl ~ sx + yr\", data=data).fit()\n",
    "model.summary()"
   ]
  },
  {
   "cell_type": "code",
   "execution_count": 22,
   "metadata": {
    "collapsed": false
   },
   "outputs": [
    {
     "data": {
      "text/html": [
       "<table class=\"simpletable\">\n",
       "<caption>OLS Regression Results</caption>\n",
       "<tr>\n",
       "  <th>Dep. Variable:</th>           <td>sl</td>        <th>  R-squared:         </th> <td>   0.846</td>\n",
       "</tr>\n",
       "<tr>\n",
       "  <th>Model:</th>                   <td>OLS</td>       <th>  Adj. R-squared:    </th> <td>   0.833</td>\n",
       "</tr>\n",
       "<tr>\n",
       "  <th>Method:</th>             <td>Least Squares</td>  <th>  F-statistic:       </th> <td>   64.64</td>\n",
       "</tr>\n",
       "<tr>\n",
       "  <th>Date:</th>             <td>Sun, 12 Jul 2015</td> <th>  Prob (F-statistic):</th> <td>1.64e-18</td>\n",
       "</tr>\n",
       "<tr>\n",
       "  <th>Time:</th>                 <td>14:04:00</td>     <th>  Log-Likelihood:    </th> <td> -476.26</td>\n",
       "</tr>\n",
       "<tr>\n",
       "  <th>No. Observations:</th>      <td>    52</td>      <th>  AIC:               </th> <td>   962.5</td>\n",
       "</tr>\n",
       "<tr>\n",
       "  <th>Df Residuals:</th>          <td>    47</td>      <th>  BIC:               </th> <td>   972.3</td>\n",
       "</tr>\n",
       "<tr>\n",
       "  <th>Df Model:</th>              <td>     4</td>      <th>                     </th>     <td> </td>   \n",
       "</tr>\n",
       "</table>\n",
       "<table class=\"simpletable\">\n",
       "<tr>\n",
       "         <td></td>            <th>coef</th>     <th>std err</th>      <th>t</th>      <th>P>|t|</th> <th>[95.0% Conf. Int.]</th> \n",
       "</tr>\n",
       "<tr>\n",
       "  <th>Intercept</th>       <td> 1.643e+04</td> <td>  737.966</td> <td>   22.265</td> <td> 0.000</td> <td> 1.49e+04  1.79e+04</td>\n",
       "</tr>\n",
       "<tr>\n",
       "  <th>sx[T.male]</th>      <td> -524.1492</td> <td>  834.687</td> <td>   -0.628</td> <td> 0.533</td> <td>-2203.323  1155.024</td>\n",
       "</tr>\n",
       "<tr>\n",
       "  <th>rk[T.associate]</th> <td> 4373.9154</td> <td>  906.124</td> <td>    4.827</td> <td> 0.000</td> <td> 2551.030  6196.801</td>\n",
       "</tr>\n",
       "<tr>\n",
       "  <th>rk[T.full]</th>      <td> 9483.8419</td> <td>  912.795</td> <td>   10.390</td> <td> 0.000</td> <td> 7647.536  1.13e+04</td>\n",
       "</tr>\n",
       "<tr>\n",
       "  <th>yr</th>              <td>  390.9358</td> <td>   75.383</td> <td>    5.186</td> <td> 0.000</td> <td>  239.285   542.587</td>\n",
       "</tr>\n",
       "</table>\n",
       "<table class=\"simpletable\">\n",
       "<tr>\n",
       "  <th>Omnibus:</th>       <td>23.039</td> <th>  Durbin-Watson:     </th> <td>   1.832</td>\n",
       "</tr>\n",
       "<tr>\n",
       "  <th>Prob(Omnibus):</th> <td> 0.000</td> <th>  Jarque-Bera (JB):  </th> <td>  38.727</td>\n",
       "</tr>\n",
       "<tr>\n",
       "  <th>Skew:</th>          <td> 1.410</td> <th>  Prob(JB):          </th> <td>3.90e-09</td>\n",
       "</tr>\n",
       "<tr>\n",
       "  <th>Kurtosis:</th>      <td> 6.150</td> <th>  Cond. No.          </th> <td>    32.3</td>\n",
       "</tr>\n",
       "</table>"
      ],
      "text/plain": [
       "<class 'statsmodels.iolib.summary.Summary'>\n",
       "\"\"\"\n",
       "                            OLS Regression Results                            \n",
       "==============================================================================\n",
       "Dep. Variable:                     sl   R-squared:                       0.846\n",
       "Model:                            OLS   Adj. R-squared:                  0.833\n",
       "Method:                 Least Squares   F-statistic:                     64.64\n",
       "Date:                Sun, 12 Jul 2015   Prob (F-statistic):           1.64e-18\n",
       "Time:                        14:04:00   Log-Likelihood:                -476.26\n",
       "No. Observations:                  52   AIC:                             962.5\n",
       "Df Residuals:                      47   BIC:                             972.3\n",
       "Df Model:                           4                                         \n",
       "===================================================================================\n",
       "                      coef    std err          t      P>|t|      [95.0% Conf. Int.]\n",
       "-----------------------------------------------------------------------------------\n",
       "Intercept        1.643e+04    737.966     22.265      0.000      1.49e+04  1.79e+04\n",
       "sx[T.male]       -524.1492    834.687     -0.628      0.533     -2203.323  1155.024\n",
       "rk[T.associate]  4373.9154    906.124      4.827      0.000      2551.030  6196.801\n",
       "rk[T.full]       9483.8419    912.795     10.390      0.000      7647.536  1.13e+04\n",
       "yr                390.9358     75.383      5.186      0.000       239.285   542.587\n",
       "==============================================================================\n",
       "Omnibus:                       23.039   Durbin-Watson:                   1.832\n",
       "Prob(Omnibus):                  0.000   Jarque-Bera (JB):               38.727\n",
       "Skew:                           1.410   Prob(JB):                     3.90e-09\n",
       "Kurtosis:                       6.150   Cond. No.                         32.3\n",
       "==============================================================================\n",
       "\"\"\""
      ]
     },
     "execution_count": 22,
     "metadata": {},
     "output_type": "execute_result"
    }
   ],
   "source": [
    "model = sm.ols(formula=\"sl ~ sx + yr + rk\", data=data).fit()\n",
    "model.summary()"
   ]
  },
  {
   "cell_type": "markdown",
   "metadata": {},
   "source": [
    "As you can see `+` is not acting as an addition operator but as a separator between other variables.\n",
    "\n",
    "There are other operators that lose their algebraic meaning in a formula. \n",
    "\n",
    "- `+` adds a new variable.\n",
    "- `:` adds the _interaction_ of two variables. \n",
    "- `*` adds the original terms as well as their interaction effect."
   ]
  },
  {
   "cell_type": "code",
   "execution_count": 23,
   "metadata": {
    "collapsed": false
   },
   "outputs": [
    {
     "data": {
      "text/html": [
       "<table class=\"simpletable\">\n",
       "<caption>OLS Regression Results</caption>\n",
       "<tr>\n",
       "  <th>Dep. Variable:</th>           <td>sl</td>        <th>  R-squared:         </th> <td>   0.760</td>\n",
       "</tr>\n",
       "<tr>\n",
       "  <th>Model:</th>                   <td>OLS</td>       <th>  Adj. R-squared:    </th> <td>   0.734</td>\n",
       "</tr>\n",
       "<tr>\n",
       "  <th>Method:</th>             <td>Least Squares</td>  <th>  F-statistic:       </th> <td>   29.12</td>\n",
       "</tr>\n",
       "<tr>\n",
       "  <th>Date:</th>             <td>Sun, 12 Jul 2015</td> <th>  Prob (F-statistic):</th> <td>3.41e-13</td>\n",
       "</tr>\n",
       "<tr>\n",
       "  <th>Time:</th>                 <td>14:04:00</td>     <th>  Log-Likelihood:    </th> <td> -487.84</td>\n",
       "</tr>\n",
       "<tr>\n",
       "  <th>No. Observations:</th>      <td>    52</td>      <th>  AIC:               </th> <td>   987.7</td>\n",
       "</tr>\n",
       "<tr>\n",
       "  <th>Df Residuals:</th>          <td>    46</td>      <th>  BIC:               </th> <td>   999.4</td>\n",
       "</tr>\n",
       "<tr>\n",
       "  <th>Df Model:</th>              <td>     5</td>      <th>                     </th>     <td> </td>   \n",
       "</tr>\n",
       "</table>\n",
       "<table class=\"simpletable\">\n",
       "<tr>\n",
       "               <td></td>                 <th>coef</th>     <th>std err</th>      <th>t</th>      <th>P>|t|</th> <th>[95.0% Conf. Int.]</th> \n",
       "</tr>\n",
       "<tr>\n",
       "  <th>Intercept</th>                  <td> 1.758e+04</td> <td> 1079.414</td> <td>   16.287</td> <td> 0.000</td> <td> 1.54e+04  1.98e+04</td>\n",
       "</tr>\n",
       "<tr>\n",
       "  <th>sx[T.male]</th>                 <td>  339.6000</td> <td> 1448.186</td> <td>    0.235</td> <td> 0.816</td> <td>-2575.447  3254.647</td>\n",
       "</tr>\n",
       "<tr>\n",
       "  <th>rk[T.associate]</th>            <td> 3990.0000</td> <td> 2413.643</td> <td>    1.653</td> <td> 0.105</td> <td> -868.412  8848.412</td>\n",
       "</tr>\n",
       "<tr>\n",
       "  <th>rk[T.full]</th>                 <td> 1.123e+04</td> <td> 1869.600</td> <td>    6.004</td> <td> 0.000</td> <td> 7461.690   1.5e+04</td>\n",
       "</tr>\n",
       "<tr>\n",
       "  <th>sx[T.male]:rk[T.associate]</th> <td> 1533.9833</td> <td> 2744.912</td> <td>    0.559</td> <td> 0.579</td> <td>-3991.237  7059.204</td>\n",
       "</tr>\n",
       "<tr>\n",
       "  <th>sx[T.male]:rk[T.full]</th>      <td>  727.8375</td> <td> 2238.321</td> <td>    0.325</td> <td> 0.747</td> <td>-3777.669  5233.344</td>\n",
       "</tr>\n",
       "</table>\n",
       "<table class=\"simpletable\">\n",
       "<tr>\n",
       "  <th>Omnibus:</th>       <td> 9.241</td> <th>  Durbin-Watson:     </th> <td>   1.982</td>\n",
       "</tr>\n",
       "<tr>\n",
       "  <th>Prob(Omnibus):</th> <td> 0.010</td> <th>  Jarque-Bera (JB):  </th> <td>   8.588</td>\n",
       "</tr>\n",
       "<tr>\n",
       "  <th>Skew:</th>          <td> 0.867</td> <th>  Prob(JB):          </th> <td>  0.0136</td>\n",
       "</tr>\n",
       "<tr>\n",
       "  <th>Kurtosis:</th>      <td> 3.979</td> <th>  Cond. No.          </th> <td>    13.2</td>\n",
       "</tr>\n",
       "</table>"
      ],
      "text/plain": [
       "<class 'statsmodels.iolib.summary.Summary'>\n",
       "\"\"\"\n",
       "                            OLS Regression Results                            \n",
       "==============================================================================\n",
       "Dep. Variable:                     sl   R-squared:                       0.760\n",
       "Model:                            OLS   Adj. R-squared:                  0.734\n",
       "Method:                 Least Squares   F-statistic:                     29.12\n",
       "Date:                Sun, 12 Jul 2015   Prob (F-statistic):           3.41e-13\n",
       "Time:                        14:04:00   Log-Likelihood:                -487.84\n",
       "No. Observations:                  52   AIC:                             987.7\n",
       "Df Residuals:                      46   BIC:                             999.4\n",
       "Df Model:                           5                                         \n",
       "==============================================================================================\n",
       "                                 coef    std err          t      P>|t|      [95.0% Conf. Int.]\n",
       "----------------------------------------------------------------------------------------------\n",
       "Intercept                   1.758e+04   1079.414     16.287      0.000      1.54e+04  1.98e+04\n",
       "sx[T.male]                   339.6000   1448.186      0.235      0.816     -2575.447  3254.647\n",
       "rk[T.associate]             3990.0000   2413.643      1.653      0.105      -868.412  8848.412\n",
       "rk[T.full]                  1.123e+04   1869.600      6.004      0.000      7461.690   1.5e+04\n",
       "sx[T.male]:rk[T.associate]  1533.9833   2744.912      0.559      0.579     -3991.237  7059.204\n",
       "sx[T.male]:rk[T.full]        727.8375   2238.321      0.325      0.747     -3777.669  5233.344\n",
       "==============================================================================\n",
       "Omnibus:                        9.241   Durbin-Watson:                   1.982\n",
       "Prob(Omnibus):                  0.010   Jarque-Bera (JB):                8.588\n",
       "Skew:                           0.867   Prob(JB):                       0.0136\n",
       "Kurtosis:                       3.979   Cond. No.                         13.2\n",
       "==============================================================================\n",
       "\"\"\""
      ]
     },
     "execution_count": 23,
     "metadata": {},
     "output_type": "execute_result"
    }
   ],
   "source": [
    "# Adding an interaction effect\n",
    "model = sm.ols(\" sl ~ sx*rk\", data).fit()\n",
    "model.summary()"
   ]
  },
  {
   "cell_type": "markdown",
   "metadata": {},
   "source": [
    "- You can also convert a numerical field to a categorical variable, if you think that might be a better representation.\n",
    "- Please be aware though that changing numerical values into categories will increase the number of features in your dataset, as each category will have its own column.\n",
    "- This will increase the complexity of the model, and hence your chances of **overfitting**."
   ]
  },
  {
   "cell_type": "code",
   "execution_count": 24,
   "metadata": {
    "collapsed": false
   },
   "outputs": [
    {
     "data": {
      "text/html": [
       "<table class=\"simpletable\">\n",
       "<caption>OLS Regression Results</caption>\n",
       "<tr>\n",
       "  <th>Dep. Variable:</th>           <td>sl</td>        <th>  R-squared:         </th> <td>   0.906</td>\n",
       "</tr>\n",
       "<tr>\n",
       "  <th>Model:</th>                   <td>OLS</td>       <th>  Adj. R-squared:    </th> <td>   0.834</td>\n",
       "</tr>\n",
       "<tr>\n",
       "  <th>Method:</th>             <td>Least Squares</td>  <th>  F-statistic:       </th> <td>   12.66</td>\n",
       "</tr>\n",
       "<tr>\n",
       "  <th>Date:</th>             <td>Sun, 12 Jul 2015</td> <th>  Prob (F-statistic):</th> <td>1.37e-09</td>\n",
       "</tr>\n",
       "<tr>\n",
       "  <th>Time:</th>                 <td>14:04:00</td>     <th>  Log-Likelihood:    </th> <td> -463.55</td>\n",
       "</tr>\n",
       "<tr>\n",
       "  <th>No. Observations:</th>      <td>    52</td>      <th>  AIC:               </th> <td>   973.1</td>\n",
       "</tr>\n",
       "<tr>\n",
       "  <th>Df Residuals:</th>          <td>    29</td>      <th>  BIC:               </th> <td>   1018.</td>\n",
       "</tr>\n",
       "<tr>\n",
       "  <th>Df Model:</th>              <td>    22</td>      <th>                     </th>     <td> </td>   \n",
       "</tr>\n",
       "</table>\n",
       "<table class=\"simpletable\">\n",
       "<tr>\n",
       "               <td></td>                 <th>coef</th>     <th>std err</th>      <th>t</th>      <th>P>|t|</th> <th>[95.0% Conf. Int.]</th> \n",
       "</tr>\n",
       "<tr>\n",
       "  <th>Intercept</th>                  <td> 1.714e+04</td> <td> 1642.578</td> <td>   10.434</td> <td> 0.000</td> <td> 1.38e+04  2.05e+04</td>\n",
       "</tr>\n",
       "<tr>\n",
       "  <th>sx[T.male]</th>                 <td>  348.8762</td> <td> 1338.698</td> <td>    0.261</td> <td> 0.796</td> <td>-2389.069  3086.821</td>\n",
       "</tr>\n",
       "<tr>\n",
       "  <th>rk[T.associate]</th>            <td> 5068.9276</td> <td> 2490.733</td> <td>    2.035</td> <td> 0.051</td> <td>  -25.193  1.02e+04</td>\n",
       "</tr>\n",
       "<tr>\n",
       "  <th>rk[T.full]</th>                 <td>  1.08e+04</td> <td> 1804.691</td> <td>    5.982</td> <td> 0.000</td> <td> 7105.258  1.45e+04</td>\n",
       "</tr>\n",
       "<tr>\n",
       "  <th>C(yr)[T.1]</th>                 <td>-1027.6836</td> <td> 1942.366</td> <td>   -0.529</td> <td> 0.601</td> <td>-5000.268  2944.901</td>\n",
       "</tr>\n",
       "<tr>\n",
       "  <th>C(yr)[T.2]</th>                 <td>-1290.0619</td> <td> 2020.848</td> <td>   -0.638</td> <td> 0.528</td> <td>-5423.160  2843.036</td>\n",
       "</tr>\n",
       "<tr>\n",
       "  <th>C(yr)[T.3]</th>                 <td> 1773.5805</td> <td> 1888.341</td> <td>    0.939</td> <td> 0.355</td> <td>-2088.510  5635.671</td>\n",
       "</tr>\n",
       "<tr>\n",
       "  <th>C(yr)[T.4]</th>                 <td> -646.7628</td> <td> 2239.348</td> <td>   -0.289</td> <td> 0.775</td> <td>-5226.744  3933.218</td>\n",
       "</tr>\n",
       "<tr>\n",
       "  <th>C(yr)[T.5]</th>                 <td>-1493.0090</td> <td> 2354.816</td> <td>   -0.634</td> <td> 0.531</td> <td>-6309.149  3323.131</td>\n",
       "</tr>\n",
       "<tr>\n",
       "  <th>C(yr)[T.6]</th>                 <td> -629.3399</td> <td> 2670.676</td> <td>   -0.236</td> <td> 0.815</td> <td>-6091.485  4832.805</td>\n",
       "</tr>\n",
       "<tr>\n",
       "  <th>C(yr)[T.7]</th>                 <td> 1413.1179</td> <td> 2173.677</td> <td>    0.650</td> <td> 0.521</td> <td>-3032.550  5858.786</td>\n",
       "</tr>\n",
       "<tr>\n",
       "  <th>C(yr)[T.8]</th>                 <td> 3558.3333</td> <td> 1967.752</td> <td>    1.808</td> <td> 0.081</td> <td> -466.171  7582.838</td>\n",
       "</tr>\n",
       "<tr>\n",
       "  <th>C(yr)[T.9]</th>                 <td> 2913.3539</td> <td> 1914.220</td> <td>    1.522</td> <td> 0.139</td> <td>-1001.665  6828.373</td>\n",
       "</tr>\n",
       "<tr>\n",
       "  <th>C(yr)[T.10]</th>                <td> 2830.5870</td> <td> 2047.152</td> <td>    1.383</td> <td> 0.177</td> <td>-1356.308  7017.482</td>\n",
       "</tr>\n",
       "<tr>\n",
       "  <th>C(yr)[T.11]</th>                <td> 3156.1799</td> <td> 2139.103</td> <td>    1.475</td> <td> 0.151</td> <td>-1218.776  7531.136</td>\n",
       "</tr>\n",
       "<tr>\n",
       "  <th>C(yr)[T.12]</th>                <td> 1074.3715</td> <td> 3061.134</td> <td>    0.351</td> <td> 0.728</td> <td>-5186.350  7335.093</td>\n",
       "</tr>\n",
       "<tr>\n",
       "  <th>C(yr)[T.13]</th>                <td> 6840.3715</td> <td> 2239.305</td> <td>    3.055</td> <td> 0.005</td> <td> 2260.479  1.14e+04</td>\n",
       "</tr>\n",
       "<tr>\n",
       "  <th>C(yr)[T.15]</th>                <td> 3625.5132</td> <td> 2906.511</td> <td>    1.247</td> <td> 0.222</td> <td>-2318.970  9569.997</td>\n",
       "</tr>\n",
       "<tr>\n",
       "  <th>C(yr)[T.16]</th>                <td> 3403.5810</td> <td> 2229.896</td> <td>    1.526</td> <td> 0.138</td> <td>-1157.068  7964.230</td>\n",
       "</tr>\n",
       "<tr>\n",
       "  <th>C(yr)[T.19]</th>                <td> 7745.3715</td> <td> 3061.134</td> <td>    2.530</td> <td> 0.017</td> <td> 1484.650   1.4e+04</td>\n",
       "</tr>\n",
       "<tr>\n",
       "  <th>C(yr)[T.25]</th>                <td>  1.04e+04</td> <td> 3061.134</td> <td>    3.397</td> <td> 0.002</td> <td> 4138.650  1.67e+04</td>\n",
       "</tr>\n",
       "<tr>\n",
       "  <th>sx[T.male]:rk[T.associate]</th> <td>-1432.4408</td> <td> 3035.654</td> <td>   -0.472</td> <td> 0.641</td> <td>-7641.050  4776.168</td>\n",
       "</tr>\n",
       "<tr>\n",
       "  <th>sx[T.male]:rk[T.full]</th>      <td>-2333.6372</td> <td> 1994.402</td> <td>   -1.170</td> <td> 0.251</td> <td>-6412.648  1745.374</td>\n",
       "</tr>\n",
       "</table>\n",
       "<table class=\"simpletable\">\n",
       "<tr>\n",
       "  <th>Omnibus:</th>       <td>12.616</td> <th>  Durbin-Watson:     </th> <td>   2.102</td>\n",
       "</tr>\n",
       "<tr>\n",
       "  <th>Prob(Omnibus):</th> <td> 0.002</td> <th>  Jarque-Bera (JB):  </th> <td>  17.035</td>\n",
       "</tr>\n",
       "<tr>\n",
       "  <th>Skew:</th>          <td> 0.817</td> <th>  Prob(JB):          </th> <td>0.000200</td>\n",
       "</tr>\n",
       "<tr>\n",
       "  <th>Kurtosis:</th>      <td> 5.279</td> <th>  Cond. No.          </th> <td>    29.9</td>\n",
       "</tr>\n",
       "</table>"
      ],
      "text/plain": [
       "<class 'statsmodels.iolib.summary.Summary'>\n",
       "\"\"\"\n",
       "                            OLS Regression Results                            \n",
       "==============================================================================\n",
       "Dep. Variable:                     sl   R-squared:                       0.906\n",
       "Model:                            OLS   Adj. R-squared:                  0.834\n",
       "Method:                 Least Squares   F-statistic:                     12.66\n",
       "Date:                Sun, 12 Jul 2015   Prob (F-statistic):           1.37e-09\n",
       "Time:                        14:04:00   Log-Likelihood:                -463.55\n",
       "No. Observations:                  52   AIC:                             973.1\n",
       "Df Residuals:                      29   BIC:                             1018.\n",
       "Df Model:                          22                                         \n",
       "==============================================================================================\n",
       "                                 coef    std err          t      P>|t|      [95.0% Conf. Int.]\n",
       "----------------------------------------------------------------------------------------------\n",
       "Intercept                   1.714e+04   1642.578     10.434      0.000      1.38e+04  2.05e+04\n",
       "sx[T.male]                   348.8762   1338.698      0.261      0.796     -2389.069  3086.821\n",
       "rk[T.associate]             5068.9276   2490.733      2.035      0.051       -25.193  1.02e+04\n",
       "rk[T.full]                   1.08e+04   1804.691      5.982      0.000      7105.258  1.45e+04\n",
       "C(yr)[T.1]                 -1027.6836   1942.366     -0.529      0.601     -5000.268  2944.901\n",
       "C(yr)[T.2]                 -1290.0619   2020.848     -0.638      0.528     -5423.160  2843.036\n",
       "C(yr)[T.3]                  1773.5805   1888.341      0.939      0.355     -2088.510  5635.671\n",
       "C(yr)[T.4]                  -646.7628   2239.348     -0.289      0.775     -5226.744  3933.218\n",
       "C(yr)[T.5]                 -1493.0090   2354.816     -0.634      0.531     -6309.149  3323.131\n",
       "C(yr)[T.6]                  -629.3399   2670.676     -0.236      0.815     -6091.485  4832.805\n",
       "C(yr)[T.7]                  1413.1179   2173.677      0.650      0.521     -3032.550  5858.786\n",
       "C(yr)[T.8]                  3558.3333   1967.752      1.808      0.081      -466.171  7582.838\n",
       "C(yr)[T.9]                  2913.3539   1914.220      1.522      0.139     -1001.665  6828.373\n",
       "C(yr)[T.10]                 2830.5870   2047.152      1.383      0.177     -1356.308  7017.482\n",
       "C(yr)[T.11]                 3156.1799   2139.103      1.475      0.151     -1218.776  7531.136\n",
       "C(yr)[T.12]                 1074.3715   3061.134      0.351      0.728     -5186.350  7335.093\n",
       "C(yr)[T.13]                 6840.3715   2239.305      3.055      0.005      2260.479  1.14e+04\n",
       "C(yr)[T.15]                 3625.5132   2906.511      1.247      0.222     -2318.970  9569.997\n",
       "C(yr)[T.16]                 3403.5810   2229.896      1.526      0.138     -1157.068  7964.230\n",
       "C(yr)[T.19]                 7745.3715   3061.134      2.530      0.017      1484.650   1.4e+04\n",
       "C(yr)[T.25]                  1.04e+04   3061.134      3.397      0.002      4138.650  1.67e+04\n",
       "sx[T.male]:rk[T.associate] -1432.4408   3035.654     -0.472      0.641     -7641.050  4776.168\n",
       "sx[T.male]:rk[T.full]      -2333.6372   1994.402     -1.170      0.251     -6412.648  1745.374\n",
       "==============================================================================\n",
       "Omnibus:                       12.616   Durbin-Watson:                   2.102\n",
       "Prob(Omnibus):                  0.002   Jarque-Bera (JB):               17.035\n",
       "Skew:                           0.817   Prob(JB):                     0.000200\n",
       "Kurtosis:                       5.279   Cond. No.                         29.9\n",
       "==============================================================================\n",
       "\"\"\""
      ]
     },
     "execution_count": 24,
     "metadata": {},
     "output_type": "execute_result"
    }
   ],
   "source": [
    "# Converting a field to a categorical variable\n",
    "model = sm.ols(\" sl ~ sx*rk + C(yr)\", data).fit()\n",
    "model.summary()"
   ]
  },
  {
   "cell_type": "markdown",
   "metadata": {},
   "source": [
    "### Seaborn"
   ]
  },
  {
   "cell_type": "markdown",
   "metadata": {},
   "source": [
    "The visualization library `seaborn` includes some linear regression functionality as well."
   ]
  },
  {
   "cell_type": "code",
   "execution_count": 25,
   "metadata": {
    "collapsed": false,
    "scrolled": true
   },
   "outputs": [],
   "source": [
    "import seaborn as sb"
   ]
  },
  {
   "cell_type": "markdown",
   "metadata": {},
   "source": [
    "In scatter plots, seaborn can add the trendline and confidence bounds automatically."
   ]
  },
  {
   "cell_type": "code",
   "execution_count": 26,
   "metadata": {
    "collapsed": false
   },
   "outputs": [
    {
     "data": {
      "image/png": "[encoded data removed]",
      "text/plain": [
       "<matplotlib.figure.Figure at 0x110456250>"
      ]
     },
     "metadata": {},
     "output_type": "display_data"
    }
   ],
   "source": [
    "f = sb.lmplot(x = 'yd', y='sl', data=data)\n",
    "f = plt.title(\"Salary vs years since degree\")"
   ]
  },
  {
   "cell_type": "code",
   "execution_count": 27,
   "metadata": {
    "collapsed": false
   },
   "outputs": [
    {
     "data": {
      "image/png": "[encoded data removed]",
      "text/plain": [
       "<matplotlib.figure.Figure at 0x11043bc90>"
      ]
     },
     "metadata": {},
     "output_type": "display_data"
    }
   ],
   "source": [
    "f = sb.lmplot(x = 'yd', y='sl', col='sx', data=data)"
   ]
  },
  {
   "cell_type": "code",
   "execution_count": 28,
   "metadata": {
    "collapsed": false
   },
   "outputs": [
    {
     "data": {
      "image/png": "[encoded data removed]",
      "text/plain": [
       "<matplotlib.figure.Figure at 0x11052bad0>"
      ]
     },
     "metadata": {},
     "output_type": "display_data"
    }
   ],
   "source": [
    "f = sb.lmplot(x = 'yr', y='sl', col='rk', row='sx', data=data)\n",
    "f = plt.ylim(0, 50000)"
   ]
  },
  {
   "cell_type": "markdown",
   "metadata": {},
   "source": [
    "Obviously, we're a little short on data to make these last plots convincing."
   ]
  },
  {
   "cell_type": "markdown",
   "metadata": {},
   "source": [
    "### Overfitting and regularization"
   ]
  },
  {
   "cell_type": "markdown",
   "metadata": {},
   "source": [
    "- Note that we haven't looked at cross-validation yet, while supervised problems, like linear regression, always require a training and a testset.\n",
    "- However, if you have a lot of data, and not so many features, trying to fit all these samples on a single line (or hyperplane in more dimensions) is a strong example of regularization already.\n",
    "- With many features, few samples, or a complex model (e.g., polynomial regression), overfitting is very likely, though, and not only need you to cross-validate your model, also you need to introduce regularization to make your model simpler.\n",
    "\n",
    "To keep things digestable, we'll look at all of this in a different notebook."
   ]
  },
  {
   "cell_type": "markdown",
   "metadata": {
    "collapsed": true
   },
   "source": [
    "### Further reading\n",
    "\n",
    "- [Linear Regression with Python](http://connor-johnson.com/2014/02/18/linear-regression-with-python/)\n",
    "- [Statsmodels Documentation](http://statsmodels.sourceforge.net/stable/index.html)\n",
    "- [Python 538 Model](https://github.com/jseabold/538model)"
   ]
  },
  {
   "cell_type": "markdown",
   "metadata": {},
   "source": [
    "<hr>"
   ]
  },
  {
   "cell_type": "markdown",
   "metadata": {},
   "source": [
    "## Exercises"
   ]
  },
  {
   "cell_type": "markdown",
   "metadata": {},
   "source": [
    "####First Anscombe dataset\n",
    "Have a look at the first Anscombe dataset, and fit a linear model to the data.\n",
    "- Plot the data\n",
    "- Fit a linear model\n",
    "- Find the $R^2$ of the correlation between $x$ and $y$\n",
    "- Write down the formula $y = ax + b$ and find $a$ and $b$\n",
    "- Do you think this is a reasonable model for the data?\n",
    "- Given this model, what $y$ would you expect for a point with $x = 10$?\n",
    "- (*) Compute the mean absolute error (MAE) and what is the mean square error (MSE)\n",
    "- (**) Show that indeed, $R^2 = 1 - \\text{MSE}/\\text{Var}(y)$"
   ]
  },
  {
   "cell_type": "code",
   "execution_count": 29,
   "metadata": {
    "collapsed": false
   },
   "outputs": [],
   "source": [
    "data = pd.DataFrame({'x': [10.0, 8.0, 13.0, 9.0, 11.0, 14.0, 6.0, 4.0, 12.0, 7.0, 5.0],\n",
    "     'y': [8.04, 6.95, 7.58, 8.81, 8.33, 9.96, 7.24, 4.26, 10.84, 4.82, 5.68]})"
   ]
  },
  {
   "cell_type": "code",
   "execution_count": 30,
   "metadata": {
    "collapsed": true
   },
   "outputs": [],
   "source": [
    "# your code here"
   ]
  },
  {
   "cell_type": "code",
   "execution_count": null,
   "metadata": {
    "collapsed": true
   },
   "outputs": [],
   "source": []
  },
  {
   "cell_type": "code",
   "execution_count": null,
   "metadata": {
    "collapsed": true
   },
   "outputs": [],
   "source": []
  },
  {
   "cell_type": "markdown",
   "metadata": {},
   "source": [
    "#### Boston"
   ]
  },
  {
   "cell_type": "markdown",
   "metadata": {},
   "source": [
    "In this exercise, we'll use one of sklearn's standard datasets to analyze Boston house prices."
   ]
  },
  {
   "cell_type": "code",
   "execution_count": 31,
   "metadata": {
    "collapsed": false
   },
   "outputs": [],
   "source": [
    "from sklearn.datasets import load_boston\n",
    "boston = load_boston()\n",
    "X, y = boston.data, boston.target\n",
    "features = boston.feature_names\n",
    "# print boston.DESCR  # print this to get information on the dataset"
   ]
  },
  {
   "cell_type": "markdown",
   "metadata": {},
   "source": [
    "- Let's make a histogram of all house prices in the dataset. \n",
    "- It's a little unclear in what units the prices are, let's assume it's in $K."
   ]
  },
  {
   "cell_type": "code",
   "execution_count": 32,
   "metadata": {
    "collapsed": false
   },
   "outputs": [],
   "source": [
    "# your code here"
   ]
  },
  {
   "cell_type": "markdown",
   "metadata": {},
   "source": [
    "- Find a linear model that fits the data, and with which you feel comfortable.\n",
    "- Compute the $R^2$ of the model with and without cross-validation\n",
    "- (*) Compute the MAE and MSE of the model as well\n",
    "- Prices often behave expontential, rather than linear (people often say +2%, rather than +\\$200). Let's try modeling the logarithm of the price and see if that improves your model: `y = np.log(boston.target)` \n",
    "\n",
    "- (*) How much more worth would a house be in a crime-free community, compared to the same house in a community with a crime rate of 6 per resident? (Note that this might not be a fair analysis as features might correlate with themselves  as well.)\n",
    "- (**) What would be a good way of analyzing which feature has the biggest influence on the house price?"
   ]
  },
  {
   "cell_type": "code",
   "execution_count": 33,
   "metadata": {
    "collapsed": false
   },
   "outputs": [],
   "source": [
    "# your code here"
   ]
  },
  {
   "cell_type": "code",
   "execution_count": null,
   "metadata": {
    "collapsed": true
   },
   "outputs": [],
   "source": []
  },
  {
   "cell_type": "code",
   "execution_count": null,
   "metadata": {
    "collapsed": true
   },
   "outputs": [],
   "source": []
  },
  {
   "cell_type": "code",
   "execution_count": null,
   "metadata": {
    "collapsed": true
   },
   "outputs": [],
   "source": []
  },
  {
   "cell_type": "code",
   "execution_count": null,
   "metadata": {
    "collapsed": true
   },
   "outputs": [],
   "source": []
  },
  {
   "cell_type": "code",
   "execution_count": null,
   "metadata": {
    "collapsed": true
   },
   "outputs": [],
   "source": []
  }
 ],
 "metadata": {
  "kernelspec": {
   "display_name": "Python 2",
   "language": "python",
   "name": "python2"
  },
  "language_info": {
   "codemirror_mode": {
    "name": "ipython",
    "version": 2
   },
   "file_extension": ".py",
   "mimetype": "text/x-python",
   "name": "python",
   "nbconvert_exporter": "python",
   "pygments_lexer": "ipython2",
   "version": "2.7.10"
  }
 },
 "nbformat": 4,
 "nbformat_minor": 0
}
