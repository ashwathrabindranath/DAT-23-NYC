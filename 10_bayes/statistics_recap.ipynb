{
 "cells": [
  {
   "cell_type": "markdown",
   "metadata": {},
   "source": [
    "# Statistics & Probability Recap"
   ]
  },
  {
   "cell_type": "markdown",
   "metadata": {},
   "source": [
    "### Basic statistics"
   ]
  },
  {
   "cell_type": "markdown",
   "metadata": {},
   "source": [
    "Basic aggregates to describe your dataset $a = (a_1, a_2, a_3, ..., a_n)$ are\n",
    "- mean or average, often denoted by $\\mu$,\n",
    "- median, \n",
    "- mode,\n",
    "- percentiles."
   ]
  },
  {
   "cell_type": "code",
   "execution_count": 1,
   "metadata": {
    "collapsed": false
   },
   "outputs": [],
   "source": [
    "import numpy as np\n",
    "from scipy import stats\n",
    "from matplotlib import pyplot as plt\n",
    "%matplotlib inline"
   ]
  },
  {
   "cell_type": "markdown",
   "metadata": {},
   "source": [
    "Let's get some crazy dataset"
   ]
  },
  {
   "cell_type": "code",
   "execution_count": 2,
   "metadata": {
    "collapsed": false
   },
   "outputs": [
    {
     "data": {
      "text/plain": [
       "array([ 99, 258, 241, ..., 164, 174,  97])"
      ]
     },
     "execution_count": 2,
     "metadata": {},
     "output_type": "execute_result"
    }
   ],
   "source": [
    "N = 1e6\n",
    "a = (100 - 20 * np.log(np.square(np.random.randn(N)))).astype(int)  # some crazy dataset\n",
    "a"
   ]
  },
  {
   "cell_type": "markdown",
   "metadata": {},
   "source": [
    "Let's draw a histogram"
   ]
  },
  {
   "cell_type": "code",
   "execution_count": 3,
   "metadata": {
    "collapsed": false
   },
   "outputs": [],
   "source": [
    "def hist(a, bins=40, denote_sigma=False):\n",
    "    counts, bins = np.histogram(a, bins=bins, normed=True)\n",
    "    bin_width = bins[1] - bins[0]\n",
    "    f = plt.bar(bins[:-1], counts, bin_width, alpha=.5)\n",
    "    if denote_sigma:\n",
    "        mu, std = a.mean(), a.std()\n",
    "        f = plt.xticks([mu - std, mu, mu + std], [\"$\\mu - \\sigma$\", \"$\\mu$\", \"$\\mu + \\sigma$\"])        "
   ]
  },
  {
   "cell_type": "code",
   "execution_count": 4,
   "metadata": {
    "collapsed": false
   },
   "outputs": [
    {
     "data": {
      "image/png": "[encoded data removed]",
      "text/plain": [
       "<matplotlib.figure.Figure at 0x1056ae990>"
      ]
     },
     "metadata": {},
     "output_type": "display_data"
    }
   ],
   "source": [
    "hist(a)"
   ]
  },
  {
   "cell_type": "markdown",
   "metadata": {},
   "source": [
    "And let's compute some basic statistics"
   ]
  },
  {
   "cell_type": "code",
   "execution_count": 5,
   "metadata": {
    "collapsed": false
   },
   "outputs": [
    {
     "name": "stdout",
     "output_type": "stream",
     "text": [
      "124.883108\n",
      "124.883108\n"
     ]
    }
   ],
   "source": [
    "print a.mean()\n",
    "print np.mean(a)"
   ]
  },
  {
   "cell_type": "code",
   "execution_count": 6,
   "metadata": {
    "collapsed": false
   },
   "outputs": [
    {
     "name": "stdout",
     "output_type": "stream",
     "text": [
      "115.0\n",
      "115.0\n"
     ]
    }
   ],
   "source": [
    "print np.median(a)\n",
    "print np.percentile(a, 50)  # median is the same as 50th percentile"
   ]
  },
  {
   "cell_type": "code",
   "execution_count": 7,
   "metadata": {
    "collapsed": false
   },
   "outputs": [
    {
     "name": "stdout",
     "output_type": "stream",
     "text": [
      "34 34 34 34.0\n",
      "798 798 798 798.0\n"
     ]
    }
   ],
   "source": [
    "print a.min(), np.min(a), min(a), np.percentile(a, 0)\n",
    "print a.max(), np.max(a), max(a), np.percentile(a, 100)"
   ]
  },
  {
   "cell_type": "code",
   "execution_count": 8,
   "metadata": {
    "collapsed": false
   },
   "outputs": [
    {
     "data": {
      "text/plain": [
       "210.0"
      ]
     },
     "execution_count": 8,
     "metadata": {},
     "output_type": "execute_result"
    }
   ],
   "source": [
    "np.percentile(a, 95)  # 95th percentile"
   ]
  },
  {
   "cell_type": "code",
   "execution_count": 9,
   "metadata": {
    "collapsed": false
   },
   "outputs": [
    {
     "name": "stdout",
     "output_type": "stream",
     "text": [
      "(array([ 103.]), array([ 12131.]))\n",
      "103\n",
      "103\n"
     ]
    }
   ],
   "source": [
    "# Mode\n",
    "print stats.mstats.mode(a)\n",
    "uniques, counts = np.unique(a, return_counts=True)\n",
    "print uniques[counts.argmax()]\n",
    "print np.bincount(a).argmax()"
   ]
  },
  {
   "cell_type": "markdown",
   "metadata": {},
   "source": [
    "### Variance and standard deviation"
   ]
  },
  {
   "cell_type": "markdown",
   "metadata": {},
   "source": [
    "- _Variance_ measures how far a set of numbers is spread out. \n",
    "- A variance of zero indicates that all the values are identical.\n",
    "- Variance is always non-negative: a small variance indicates that the data points tend to be very close to each other\n",
    "- Variance is computed by $\\text{Var}(X) = E((X - \\mu)^2)$."
   ]
  },
  {
   "cell_type": "code",
   "execution_count": 10,
   "metadata": {
    "collapsed": false
   },
   "outputs": [
    {
     "name": "stdout",
     "output_type": "stream",
     "text": [
      "124.883108\n",
      "1971.57880426\n",
      "1971.57880426\n"
     ]
    }
   ],
   "source": [
    "print a.mean()\n",
    "print a.var()\n",
    "print np.square(a - a.mean()).mean()"
   ]
  },
  {
   "cell_type": "markdown",
   "metadata": {},
   "source": [
    "- The _standard deviation_ is defined as the square root of the variance: $\\sigma_X = \\sqrt{\\text{Var} X} = \\sqrt{E((X - \\mu)^2)}$\n",
    "- The standard deviation is expressed in the same units as _X_, and hence is better comparable with the data."
   ]
  },
  {
   "cell_type": "code",
   "execution_count": 11,
   "metadata": {
    "collapsed": false
   },
   "outputs": [
    {
     "name": "stdout",
     "output_type": "stream",
     "text": [
      "44.4024639436\n",
      "44.4024639436\n"
     ]
    }
   ],
   "source": [
    "print np.std(a)\n",
    "print np.sqrt(np.var(a))"
   ]
  },
  {
   "cell_type": "code",
   "execution_count": 12,
   "metadata": {
    "collapsed": false
   },
   "outputs": [
    {
     "data": {
      "image/png": "[encoded data removed]",
      "text/plain": [
       "<matplotlib.figure.Figure at 0x10a9c5450>"
      ]
     },
     "metadata": {},
     "output_type": "display_data"
    }
   ],
   "source": [
    "hist(a, denote_sigma=True)"
   ]
  },
  {
   "cell_type": "markdown",
   "metadata": {},
   "source": [
    "In our distribution, we see that about 75% of the sample lie within one standard deviation away from the mean:"
   ]
  },
  {
   "cell_type": "code",
   "execution_count": 13,
   "metadata": {
    "collapsed": false
   },
   "outputs": [
    {
     "data": {
      "text/plain": [
       "0.75377300000000003"
      ]
     },
     "execution_count": 13,
     "metadata": {},
     "output_type": "execute_result"
    }
   ],
   "source": [
    "mu, std = a.mean(), a.std()\n",
    "((a > mu - std) & (a < mu + std)).mean()"
   ]
  },
  {
   "cell_type": "markdown",
   "metadata": {},
   "source": [
    "- Note that in most cases, it makes most sense to talk about mean and standard deviations if your distribution is _symmetric_: with the mean, median and mode more or less on the same location.\n",
    "- If your dataset is skewed like in our example, it might help your analyses to take some transformation of your dataset that is more symmetric."
   ]
  },
  {
   "cell_type": "code",
   "execution_count": 14,
   "metadata": {
    "collapsed": false,
    "scrolled": true
   },
   "outputs": [
    {
     "data": {
      "image/png": "[encoded data removed]",
      "text/plain": [
       "<matplotlib.figure.Figure at 0x10c0824d0>"
      ]
     },
     "metadata": {},
     "output_type": "display_data"
    }
   ],
   "source": [
    "hist(np.log(a), denote_sigma=True)"
   ]
  },
  {
   "cell_type": "markdown",
   "metadata": {},
   "source": [
    "### Common Distributions"
   ]
  },
  {
   "cell_type": "markdown",
   "metadata": {},
   "source": [
    "Certain distributions are very common in the daily life of a data scientist."
   ]
  },
  {
   "cell_type": "markdown",
   "metadata": {},
   "source": [
    "#### Uniform distribution"
   ]
  },
  {
   "cell_type": "markdown",
   "metadata": {},
   "source": [
    "In a uniform distribution, each element occurs with the same frequency (or probability)."
   ]
  },
  {
   "cell_type": "code",
   "execution_count": 15,
   "metadata": {
    "collapsed": false
   },
   "outputs": [],
   "source": [
    "def print_info(a):\n",
    "    mu, std = a.mean(), a.std()\n",
    "    print \"Mean %.2f, std %.2f, %d%% within one std from mean\" % \\\n",
    "        (mu, std, 100 * ((a > mu - std) & (a < mu + std)).mean())"
   ]
  },
  {
   "cell_type": "code",
   "execution_count": 16,
   "metadata": {
    "collapsed": false
   },
   "outputs": [
    {
     "name": "stdout",
     "output_type": "stream",
     "text": [
      "Mean 0.50, std 0.29, 57% within one std from mean\n"
     ]
    },
    {
     "data": {
      "image/png": "[encoded data removed]",
      "text/plain": [
       "<matplotlib.figure.Figure at 0x10c017750>"
      ]
     },
     "metadata": {},
     "output_type": "display_data"
    }
   ],
   "source": [
    "a = np.random.random(N)\n",
    "print_info(a)\n",
    "hist(a)"
   ]
  },
  {
   "cell_type": "markdown",
   "metadata": {},
   "source": [
    "#### Normal distribution"
   ]
  },
  {
   "cell_type": "markdown",
   "metadata": {},
   "source": [
    "- The _Gaussian_ or _normal distribution_ is the most common distribution we encounter in natural observations. \n",
    "- If $X$ is normally distributed, with mean $\\mu$ and standard deviation $\\sigma$, we write $X \\sim N(\\mu, \\sigma^2)$ \n",
    "- Its probability density function is given by:\n",
    "\n",
    "$$f(x) = \\frac{1}{\\sigma\\sqrt{2\\pi}} e^{ -\\frac{(x-\\mu)^2}{2\\sigma^2} }$$\n",
    "\n",
    "- A special case is the _standard normal distribution_, when $\\mu = 0$ and $\\sigma = 1$.\n",
    "- If $X \\sim N(0, 1)$ is a standard normally distributed variable, then $aX + b \\sim N(b, a^2)$\n",
    "- In general, if $X \\sim N(\\mu_X, \\sigma_X^2)$ and $Y \\sim N(\\mu_Y, \\sigma_Y^2)$, then $X + Y \\sim N(\\mu_X+\\mu_Y, \\sigma_X^2+\\sigma_X^2)$"
   ]
  },
  {
   "cell_type": "code",
   "execution_count": 17,
   "metadata": {
    "collapsed": false
   },
   "outputs": [],
   "source": [
    "def gaussian(x, mu=0, sigma=1):\n",
    "    return (2 * np.pi * sigma ** 2) ** (-1/2.) * np.exp(-np.square(x - mu)/(2 * sigma ** 2))"
   ]
  },
  {
   "cell_type": "code",
   "execution_count": 18,
   "metadata": {
    "collapsed": false
   },
   "outputs": [
    {
     "name": "stdout",
     "output_type": "stream",
     "text": [
      "Mean 10.00, std 2.00, 68% within one std from mean\n"
     ]
    },
    {
     "data": {
      "image/png": "[encoded data removed]",
      "text/plain": [
       "<matplotlib.figure.Figure at 0x10c77e850>"
      ]
     },
     "metadata": {},
     "output_type": "display_data"
    }
   ],
   "source": [
    "mu, std = 10, 2\n",
    "a = mu + std * np.random.randn(N)  # np.random.randn gives a standard normal distribution\n",
    "print_info(a)\n",
    "hist(a)\n",
    "xx = np.linspace(a.min(), a.max(), 100)\n",
    "f = plt.plot(xx, gaussian(xx, mu, std), 'r', linewidth=2)"
   ]
  },
  {
   "cell_type": "markdown",
   "metadata": {},
   "source": [
    "It's a result from the **central limit theorem** (CLT) that, given certain conditions, the mean of a sufficiently large number of iterates of independent random variables, each with a well-defined expected value and well-defined variance, will be approximately normally distributed, regardless of the underlying distribution.\n",
    "([Wikipedia](https://en.wikipedia.org/wiki/Central_limit_theorem))"
   ]
  },
  {
   "cell_type": "markdown",
   "metadata": {},
   "source": [
    "#### Binomial distribution"
   ]
  },
  {
   "cell_type": "markdown",
   "metadata": {},
   "source": [
    "- The _binomial distribution_ describes the probability of $k$ success in $n$ attempts, each with chance $p$.\n",
    "- For example, the probability of getting $k$ heads in $n$ coin tosses, each having a chance of $p = 1/2$.\n",
    "- Its probability mass function is given by:\n",
    "\n",
    "$$p(k) = {n\\choose k}p^k(1-p)^{n-k}$$\n",
    "- It has $\\mu = np$ and $\\sigma = \\sqrt{np(1-p)}$.\n",
    "- In the coin toss example, the expected value of the number of heads is $n/2$, and the variance is $n/4$."
   ]
  },
  {
   "cell_type": "code",
   "execution_count": 19,
   "metadata": {
    "collapsed": false
   },
   "outputs": [
    {
     "name": "stdout",
     "output_type": "stream",
     "text": [
      "Mean 4999.99, std 50.00, 68% within one std from mean\n"
     ]
    },
    {
     "data": {
      "image/png": "[encoded data removed]",
      "text/plain": [
       "<matplotlib.figure.Figure at 0x10cb036d0>"
      ]
     },
     "metadata": {},
     "output_type": "display_data"
    }
   ],
   "source": [
    "a = np.random.binomial(n=10000, p=.5, size=N)\n",
    "hist(a)\n",
    "print_info(a)"
   ]
  },
  {
   "cell_type": "markdown",
   "metadata": {},
   "source": [
    "- If $n$ is large enough, the binomial distribution $B(n, p)$ will approximate the normal distribution $N(np, \\sqrt{np(1-p)})$\n",
    "- This is generally a big timesaver as going through combinations ${n}\\choose{k}$ can be computationally expensive.\n",
    "- This fact is known as the [Moivre–Laplace theorem](https://en.wikipedia.org/wiki/De_Moivre%E2%80%93Laplace_theorem)\n"
   ]
  },
  {
   "cell_type": "code",
   "execution_count": 20,
   "metadata": {
    "collapsed": false
   },
   "outputs": [
    {
     "data": {
      "image/png": "[encoded data removed]",
      "text/plain": [
       "<matplotlib.figure.Figure at 0x10a8a2e10>"
      ]
     },
     "metadata": {},
     "output_type": "display_data"
    }
   ],
   "source": [
    "p = .3\n",
    "plt.figure(figsize=(20,4))\n",
    "for no, n in enumerate([3, 10, 100, 10000]):\n",
    "    plt.subplot(1,4,no+1)\n",
    "    a = np.random.binomial(n=n, p=p, size=N)\n",
    "    xx = np.linspace(a.min(), a.max(), 100)\n",
    "    f = plt.plot(xx, gaussian(xx, n * p, np.sqrt(n * p * (1 - p))), 'r', linewidth=2)    \n",
    "    hist(a, bins=min(n, 40)), plt.xticks([])"
   ]
  },
  {
   "cell_type": "markdown",
   "metadata": {},
   "source": [
    "#### Exponential distribution\n"
   ]
  },
  {
   "cell_type": "markdown",
   "metadata": {},
   "source": [
    "- The _exponential distribution_ with parameter $\\lambda$ is given by:\n",
    "\n",
    "$$f(x) = \\lambda e^{-\\lambda x}$$\n",
    "\n",
    "- It has $\\mu = \\sigma = 1/\\lambda$."
   ]
  },
  {
   "cell_type": "code",
   "execution_count": 21,
   "metadata": {
    "collapsed": false
   },
   "outputs": [
    {
     "name": "stdout",
     "output_type": "stream",
     "text": [
      "Mean 0.33, std 0.33, 86% within one std from mean\n"
     ]
    },
    {
     "data": {
      "image/png": "[encoded data removed]",
      "text/plain": [
       "<matplotlib.figure.Figure at 0x10c461190>"
      ]
     },
     "metadata": {},
     "output_type": "display_data"
    }
   ],
   "source": [
    "a = np.random.exponential(scale=1/3., size=N)  # scale parameter = 1/lambda, so lambda = 20 here\n",
    "hist(a, bins=80)\n",
    "print_info(a)"
   ]
  },
  {
   "cell_type": "markdown",
   "metadata": {
    "collapsed": true
   },
   "source": [
    "# Probability"
   ]
  },
  {
   "cell_type": "markdown",
   "metadata": {},
   "source": [
    "- Probability and statistics are closely related, as describing a random variable $X$ is the same as describing the distribution of the dataset where this variable is drawn from.\n",
    "- The probability of a randomly drawn value is equal to the relative frequency of the value in the distribution: \n",
    "\n",
    "$$P(X = x) = \\frac{\\text{ number of times } x \\text{ occurs in } X}{\\text{number of elements in }X}$$"
   ]
  },
  {
   "cell_type": "code",
   "execution_count": 22,
   "metadata": {
    "collapsed": false
   },
   "outputs": [
    {
     "data": {
      "image/png": "[encoded data removed]",
      "text/plain": [
       "<matplotlib.figure.Figure at 0x10d21aed0>"
      ]
     },
     "metadata": {},
     "output_type": "display_data"
    }
   ],
   "source": [
    "N = 1e6\n",
    "X = (100 - 20 * np.log(np.square(np.random.randn(N)))).astype(int)  # some crazy dataset\n",
    "hist(X)"
   ]
  },
  {
   "cell_type": "markdown",
   "metadata": {},
   "source": [
    "Note that the `numpy` notation turns out to be very intuitive for describing probabilities. "
   ]
  },
  {
   "cell_type": "code",
   "execution_count": 23,
   "metadata": {
    "collapsed": false
   },
   "outputs": [
    {
     "name": "stdout",
     "output_type": "stream",
     "text": [
      "0.012079\n",
      "0.317461\n",
      "0.682539\n"
     ]
    }
   ],
   "source": [
    "print (X == 100).mean()  # the chance that a randomly drawn variable X is equal to 100\n",
    "print (X < 100).mean()  # the chance that a random variable is smaller than 100\n",
    "print (X >= 100).mean()  # the chance that a random variable is greater than or equal to 100"
   ]
  },
  {
   "cell_type": "code",
   "execution_count": 24,
   "metadata": {
    "collapsed": true
   },
   "outputs": [],
   "source": [
    "P = lambda x: x.mean()  # let's write it as a function P(x) = x.mean()"
   ]
  },
  {
   "cell_type": "code",
   "execution_count": 25,
   "metadata": {
    "collapsed": false
   },
   "outputs": [
    {
     "name": "stdout",
     "output_type": "stream",
     "text": [
      "0.024001\n",
      "0.0\n",
      "1.0\n"
     ]
    }
   ],
   "source": [
    "print P((X == 100) | (X == 101))  # the chance that a random variable is equal to 100 or 101\n",
    "print P((X == 100) & (X == 101))  # the chance that X is both 100 and 101 - which is nonsense (so P = 0)\n",
    "print P((X <= 100) | (X > 100))  # the chance that X <= 100 or X > 100 (which is always)"
   ]
  },
  {
   "cell_type": "markdown",
   "metadata": {},
   "source": [
    "- The _expected value_ of $X$ is defined the weighted average of all possible outcomes of $X$, weigthed by their probabilities.\n",
    "- Mathematically, it is defined as $E(X) = \\sum_{x \\in X} x P(X = x)$.\n",
    "- The expected value E(X) is equal to the mean of the distribution from which X is drawn\n",
    "- Often we write $\\mu_X$ instead of $E(X)$"
   ]
  },
  {
   "cell_type": "code",
   "execution_count": 26,
   "metadata": {
    "collapsed": false
   },
   "outputs": [
    {
     "data": {
      "text/plain": [
       "124.915206"
      ]
     },
     "execution_count": 26,
     "metadata": {},
     "output_type": "execute_result"
    }
   ],
   "source": [
    "X.mean()"
   ]
  },
  {
   "cell_type": "code",
   "execution_count": 27,
   "metadata": {
    "collapsed": false
   },
   "outputs": [
    {
     "data": {
      "text/plain": [
       "124.91520600000003"
      ]
     },
     "execution_count": 27,
     "metadata": {},
     "output_type": "execute_result"
    }
   ],
   "source": [
    "sum([P(X == x) * x for x in xrange(X.min(), X.max() + 1)])"
   ]
  },
  {
   "cell_type": "code",
   "execution_count": 28,
   "metadata": {
    "collapsed": false
   },
   "outputs": [
    {
     "data": {
      "text/plain": [
       "124.915206"
      ]
     },
     "execution_count": 28,
     "metadata": {},
     "output_type": "execute_result"
    }
   ],
   "source": [
    "E = lambda x: x.mean()\n",
    "E(X)"
   ]
  },
  {
   "cell_type": "code",
   "execution_count": null,
   "metadata": {
    "collapsed": false
   },
   "outputs": [],
   "source": []
  },
  {
   "cell_type": "code",
   "execution_count": null,
   "metadata": {
    "collapsed": true
   },
   "outputs": [],
   "source": []
  }
 ],
 "metadata": {
  "kernelspec": {
   "display_name": "Python 2",
   "language": "python",
   "name": "python2"
  },
  "language_info": {
   "codemirror_mode": {
    "name": "ipython",
    "version": 2
   },
   "file_extension": ".py",
   "mimetype": "text/x-python",
   "name": "python",
   "nbconvert_exporter": "python",
   "pygments_lexer": "ipython2",
   "version": "2.7.10"
  }
 },
 "nbformat": 4,
 "nbformat_minor": 0
}
