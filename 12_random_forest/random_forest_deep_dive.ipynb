{
 "cells": [
  {
   "cell_type": "markdown",
   "metadata": {},
   "source": [
    "# Random Forests\n",
    "\n",
    "This notebook takes a deep dive in how Random Forests work.\n",
    "\n",
    "Kaggle's most popular competition is [Titanic: Machine Learning from Disaster](https://www.kaggle.com/c/titanic). In this challenge, you'll need to predict which passengers survived the tragedy. The Titanic dataset is also used by Bill Howe in lecture about [decision trees](https://class.coursera.org/datasci-001/lecture/143) on Coursera.\n",
    "\n",
    "Please download the Titanic training set from Kaggle. You might need to create an account first.\n",
    "- [train.csv](https://www.kaggle.com/c/titanic/data?train.csv)"
   ]
  },
  {
   "cell_type": "code",
   "execution_count": 1,
   "metadata": {
    "collapsed": true
   },
   "outputs": [],
   "source": [
    "path_to_repo = '/Users/ruben/repo/personal/ga/DAT-23-NYC/'\n",
    "path_to_downloads = '/Users/ruben/Downloads/'"
   ]
  },
  {
   "cell_type": "code",
   "execution_count": 2,
   "metadata": {
    "collapsed": false
   },
   "outputs": [],
   "source": [
    "import sys\n",
    "import pandas as pd\n",
    "from patsy import dmatrix\n",
    "from sklearn.cross_validation import train_test_split\n",
    "sys.path.append(path_to_repo)\n",
    "from random_forest import RandomForest, DecisionTree"
   ]
  },
  {
   "cell_type": "code",
   "execution_count": 3,
   "metadata": {
    "collapsed": false
   },
   "outputs": [
    {
     "name": "stdout",
     "output_type": "stream",
     "text": [
      "891 rows\n"
     ]
    },
    {
     "data": {
      "text/html": [
       "<div>\n",
       "<table border=\"1\" class=\"dataframe\">\n",
       "  <thead>\n",
       "    <tr style=\"text-align: right;\">\n",
       "      <th></th>\n",
       "      <th>PassengerId</th>\n",
       "      <th>Survived</th>\n",
       "      <th>Pclass</th>\n",
       "      <th>Name</th>\n",
       "      <th>Sex</th>\n",
       "      <th>Age</th>\n",
       "      <th>SibSp</th>\n",
       "      <th>Parch</th>\n",
       "      <th>Ticket</th>\n",
       "      <th>Fare</th>\n",
       "      <th>Cabin</th>\n",
       "      <th>Embarked</th>\n",
       "    </tr>\n",
       "  </thead>\n",
       "  <tbody>\n",
       "    <tr>\n",
       "      <th>0</th>\n",
       "      <td>1</td>\n",
       "      <td>0</td>\n",
       "      <td>3</td>\n",
       "      <td>Braund, Mr. Owen Harris</td>\n",
       "      <td>male</td>\n",
       "      <td>22</td>\n",
       "      <td>1</td>\n",
       "      <td>0</td>\n",
       "      <td>A/5 21171</td>\n",
       "      <td>7.2500</td>\n",
       "      <td>NaN</td>\n",
       "      <td>S</td>\n",
       "    </tr>\n",
       "    <tr>\n",
       "      <th>1</th>\n",
       "      <td>2</td>\n",
       "      <td>1</td>\n",
       "      <td>1</td>\n",
       "      <td>Cumings, Mrs. John Bradley (Florence Briggs Th...</td>\n",
       "      <td>female</td>\n",
       "      <td>38</td>\n",
       "      <td>1</td>\n",
       "      <td>0</td>\n",
       "      <td>PC 17599</td>\n",
       "      <td>71.2833</td>\n",
       "      <td>C85</td>\n",
       "      <td>C</td>\n",
       "    </tr>\n",
       "  </tbody>\n",
       "</table>\n",
       "</div>"
      ],
      "text/plain": [
       "   PassengerId  Survived  Pclass  \\\n",
       "0            1         0       3   \n",
       "1            2         1       1   \n",
       "\n",
       "                                                Name     Sex  Age  SibSp  \\\n",
       "0                            Braund, Mr. Owen Harris    male   22      1   \n",
       "1  Cumings, Mrs. John Bradley (Florence Briggs Th...  female   38      1   \n",
       "\n",
       "   Parch     Ticket     Fare Cabin Embarked  \n",
       "0      0  A/5 21171   7.2500   NaN        S  \n",
       "1      0   PC 17599  71.2833   C85        C  "
      ]
     },
     "execution_count": 3,
     "metadata": {},
     "output_type": "execute_result"
    }
   ],
   "source": [
    "data = pd.read_csv(path_to_downloads + 'train.csv')\n",
    "print len(data), 'rows'\n",
    "data.head(2)"
   ]
  },
  {
   "cell_type": "markdown",
   "metadata": {},
   "source": [
    "We will **not** do a proper analysis of this dataset, nor will we extract interestin features. We will just use these data to demontrate our home-made random forest algorithm. We leave it up to you be creative with the model and features."
   ]
  },
  {
   "cell_type": "code",
   "execution_count": 4,
   "metadata": {
    "collapsed": false
   },
   "outputs": [],
   "source": [
    "data['Cabin_letter'] = data.Cabin.str[0]  # We'll create one extra feature\n",
    "features = ['Pclass',  'Sex', 'Age', 'SibSp', 'Parch', 'Fare', 'Cabin_letter', 'Embarked']\n",
    "X = dmatrix(\" + \".join(features), data=data.fillna(0), return_type='dataframe')\n",
    "y = data.Survived"
   ]
  },
  {
   "cell_type": "markdown",
   "metadata": {},
   "source": [
    "### One Perfect Tree"
   ]
  },
  {
   "cell_type": "markdown",
   "metadata": {},
   "source": [
    "I have already coded up our home-made `DecisionTree` and `RandomForest` algorithms, which you can find the [course repo](./random_forest.py).\n",
    "\n",
    "We can train one single tree on all features, all the way until all the leaves are as pure as it gets. This will give near-perfect predictions on the training set, but bad ones on the test set, since it greatly overfits."
   ]
  },
  {
   "cell_type": "code",
   "execution_count": 5,
   "metadata": {
    "collapsed": false
   },
   "outputs": [
    {
     "name": "stdout",
     "output_type": "stream",
     "text": [
      "0.986531986532\n"
     ]
    }
   ],
   "source": [
    "model = DecisionTree(max_features=None).fit(X, y)\n",
    "print (model.predict(X) == y).mean()"
   ]
  },
  {
   "cell_type": "code",
   "execution_count": 6,
   "metadata": {
    "collapsed": false
   },
   "outputs": [
    {
     "name": "stdout",
     "output_type": "stream",
     "text": [
      "0.766816143498\n"
     ]
    }
   ],
   "source": [
    "X_train, X_test, y_train, y_test = train_test_split(X, y)\n",
    "model.fit(X_train, y_train)\n",
    "print (model.predict(X_test) == y_test).mean()"
   ]
  },
  {
   "cell_type": "markdown",
   "metadata": {},
   "source": [
    "I added a fun method which shows you the entire decision tree. The number between parentheses `(+0.123)` is the information gain, or gain in purity."
   ]
  },
  {
   "cell_type": "code",
   "execution_count": 7,
   "metadata": {
    "collapsed": false
   },
   "outputs": [
    {
     "name": "stdout",
     "output_type": "stream",
     "text": [
      "if [Sex[T.male]] > 0.000000:  (+0.231890)\n",
      "  if [Fare] > 26.250000:  (+0.049287)\n",
      "    if [SibSp] > 2.000000:  (+0.058861)\n",
      "      if [Age] > 3.000000:  (+0.079448)\n",
      "        0\n",
      "      else:\n",
      "        if [Age] > 2.000000:  (+0.591673)\n",
      "          1\n",
      "        else:\n",
      "          0\n",
      "    else:\n",
      "      if [Fare] > 26.387500:  (+0.036855)\n",
      "        if [Age] > 35.000000:  (+0.044422)\n",
      "          if [Cabin_letter[T.A]] > 0.000000:  (+0.052288)\n",
      "            if [Age] > 36.000000:  (+0.198117)\n",
      "              if [Age] > 49.000000:  (+0.251629)\n",
      "                if [Fare] > 30.000000:  (+0.311278)\n",
      "                  if [Fare] > 34.654200:  (+0.918296)\n",
      "                    1\n",
      "                  else:\n",
      "                    0\n",
      "                else:\n",
      "                  1\n",
      "              else:\n",
      "                1\n",
      "            else:\n",
      "              0\n",
      "          else:\n",
      "            if [Age] > 60.000000:  (+0.051437)\n",
      "              0\n",
      "            else:\n",
      "              if [Age] > 47.000000:  (+0.080347)\n",
      "                if [Age] > 52.000000:  (+0.257831)\n",
      "                  if [Fare] > 77.287500:  (+0.305958)\n",
      "                    if [Cabin_letter[T.D]] > 0.000000:  (+1.000000)\n",
      "                      0\n",
      "                    else:\n",
      "                      1\n",
      "                  else:\n",
      "                    0\n",
      "                else:\n",
      "                  if [Parch] > 0.000000:  (+0.863121)\n",
      "                    0\n",
      "                  else:\n",
      "                    1\n",
      "              else:\n",
      "                if [Cabin_letter[T.D]] > 0.000000:  (+0.189811)\n",
      "                  if [SibSp] > 0.000000:  (+0.918296)\n",
      "                    1\n",
      "                  else:\n",
      "                    0\n",
      "                else:\n",
      "                  if [Fare] > 83.475000:  (+0.148653)\n",
      "                    if [Embarked[T.Q]] > 0.000000:  (+0.251629)\n",
      "                      0\n",
      "                    else:\n",
      "                      if [Parch] > 0.000000:  (+1.000000)\n",
      "                        0\n",
      "                      else:\n",
      "                        1\n",
      "                  else:\n",
      "                    0\n",
      "        else:\n",
      "          if [Fare] > 26.550000:  (+0.075396)\n",
      "            if [Fare] > 27.750000:  (+0.072651)\n",
      "              if [Age] > 11.000000:  (+0.051661)\n",
      "                if [SibSp] > 0.000000:  (+0.139838)\n",
      "                  if [Cabin_letter[T.E]] > 0.000000:  (+0.237397)\n",
      "                    1\n",
      "                  else:\n",
      "                    if [Cabin_letter[T.B]] > 0.000000:  (+0.247150)\n",
      "                      if [Fare] > 52.000000:  (+1.000000)\n",
      "                        1\n",
      "                      else:\n",
      "                        0\n",
      "                    else:\n",
      "                      0\n",
      "                else:\n",
      "                  if [Age] > 29.000000:  (+0.195000)\n",
      "                    1\n",
      "                  else:\n",
      "                    if [Embarked[T.S]] > 0.000000:  (+0.168622)\n",
      "                      if [Cabin_letter[T.A]] > 0.000000:  (+0.193507)\n",
      "                        1\n",
      "                      else:\n",
      "                        if [Age] > 27.000000:  (+0.224788)\n",
      "                          0\n",
      "                        else:\n",
      "                          if [Fare] > 56.495800:  (+0.970951)\n",
      "                            0\n",
      "                          else:\n",
      "                            1\n",
      "                    else:\n",
      "                      if [Fare] > 110.883300:  (+0.721928)\n",
      "                        0\n",
      "                      else:\n",
      "                        1\n",
      "              else:\n",
      "                if [Age] > 0.000000:  (+0.338558)\n",
      "                  1\n",
      "                else:\n",
      "                  if [Fare] > 30.500000:  (+0.319760)\n",
      "                    if [Pclass] > 1.000000:  (+0.469565)\n",
      "                      1\n",
      "                    else:\n",
      "                      0\n",
      "                  else:\n",
      "                    1\n",
      "            else:\n",
      "              0\n",
      "          else:\n",
      "            1\n",
      "      else:\n",
      "        1\n",
      "  else:\n",
      "    if [Parch] > 0.000000:  (+0.021003)\n",
      "      if [Age] > 9.000000:  (+0.932112)\n",
      "        0\n",
      "      else:\n",
      "        1\n",
      "    else:\n",
      "      if [Cabin_letter[T.D]] > 0.000000:  (+0.011670)\n",
      "        1\n",
      "      else:\n",
      "        if [Age] > 32.000000:  (+0.015437)\n",
      "          if [Age] > 44.000000:  (+0.047268)\n",
      "            if [Age] > 45.000000:  (+0.171062)\n",
      "              if [Age] > 61.000000:  (+0.119260)\n",
      "                if [Age] > 62.000000:  (+0.811278)\n",
      "                  0\n",
      "                else:\n",
      "                  1\n",
      "              else:\n",
      "                0\n",
      "            else:\n",
      "              1\n",
      "          else:\n",
      "            0\n",
      "        else:\n",
      "          if [Age] > 25.000000:  (+0.015056)\n",
      "            if [Fare] > 6.975000:  (+0.043820)\n",
      "              if [Fare] > 16.100000:  (+0.048273)\n",
      "                if [Fare] > 18.787500:  (+0.251629)\n",
      "                  if [Embarked[T.C]] > 0.000000:  (+1.000000)\n",
      "                    0\n",
      "                  else:\n",
      "                    1\n",
      "                else:\n",
      "                  1\n",
      "              else:\n",
      "                if [SibSp] > 0.000000:  (+0.039950)\n",
      "                  0\n",
      "                else:\n",
      "                  if [Age] > 26.000000:  (+0.030692)\n",
      "                    if [Age] > 27.000000:  (+0.061209)\n",
      "                      if [Age] > 28.500000:  (+0.071433)\n",
      "                        if [Age] > 29.000000:  (+0.081792)\n",
      "                          if [Age] > 30.500000:  (+0.148870)\n",
      "                            if [Fare] > 10.500000:  (+0.189053)\n",
      "                              1\n",
      "                            else:\n",
      "                              if [Fare] > 7.775000:  (+0.117744)\n",
      "                                if [Fare] > 7.854200:  (+0.305958)\n",
      "                                  if [Age] > 31.000000:  (+0.316689)\n",
      "                                    0\n",
      "                                  else:\n",
      "                                    if [Pclass] > 2.000000:  (+1.000000)\n",
      "                                      1\n",
      "                                    else:\n",
      "                                      0\n",
      "                                else:\n",
      "                                  1\n",
      "                              else:\n",
      "                                0\n",
      "                          else:\n",
      "                            0\n",
      "                        else:\n",
      "                          if [Embarked[T.S]] > 0.000000:  (+0.459148)\n",
      "                            if [Fare] > 9.483300:  (+0.311278)\n",
      "                              if [Pclass] > 2.000000:  (+1.000000)\n",
      "                                1\n",
      "                              else:\n",
      "                                0\n",
      "                            else:\n",
      "                              0\n",
      "                          else:\n",
      "                            1\n",
      "                      else:\n",
      "                        0\n",
      "                    else:\n",
      "                      if [Pclass] > 2.000000:  (+0.918296)\n",
      "                        1\n",
      "                      else:\n",
      "                        0\n",
      "                  else:\n",
      "                    0\n",
      "            else:\n",
      "              1\n",
      "          else:\n",
      "            if [Fare] > 7.125000:  (+0.013655)\n",
      "              if [Fare] > 7.141700:  (+0.022701)\n",
      "                if [SibSp] > 0.000000:  (+0.013241)\n",
      "                  if [Fare] > 11.241700:  (+0.159005)\n",
      "                    if [Embarked[T.Q]] > 0.000000:  (+0.141620)\n",
      "                      if [SibSp] > 1.000000:  (+0.811278)\n",
      "                        1\n",
      "                      else:\n",
      "                        0\n",
      "                    else:\n",
      "                      0\n",
      "                  else:\n",
      "                    if [Fare] > 7.750000:  (+0.459148)\n",
      "                      if [Age] > 20.000000:  (+0.311278)\n",
      "                        0\n",
      "                      else:\n",
      "                        1\n",
      "                    else:\n",
      "                      0\n",
      "                else:\n",
      "                  if [Age] > 22.000000:  (+0.018146)\n",
      "                    0\n",
      "                  else:\n",
      "                    if [Fare] > 13.000000:  (+0.013392)\n",
      "                      0\n",
      "                    else:\n",
      "                      if [Fare] > 10.170800:  (+0.015069)\n",
      "                        if [Age] > 0.000000:  (+0.305958)\n",
      "                          if [Fare] > 10.500000:  (+0.316689)\n",
      "                            0\n",
      "                          else:\n",
      "                            if [Age] > 16.000000:  (+1.000000)\n",
      "                              1\n",
      "                            else:\n",
      "                              0\n",
      "                        else:\n",
      "                          1\n",
      "                      else:\n",
      "                        if [Fare] > 8.112500:  (+0.025196)\n",
      "                          0\n",
      "                        else:\n",
      "                          if [Fare] > 8.050000:  (+0.043850)\n",
      "                            1\n",
      "                          else:\n",
      "                            if [Age] > 0.000000:  (+0.027544)\n",
      "                              if [Fare] > 7.225000:  (+0.089152)\n",
      "                                if [Fare] > 7.925000:  (+0.097684)\n",
      "                                  if [Age] > 19.000000:  (+0.378879)\n",
      "                                    0\n",
      "                                  else:\n",
      "                                    if [Age] > 16.000000:  (+0.019973)\n",
      "                                      if [Age] > 18.000000:  (+0.251629)\n",
      "                                        0\n",
      "                                      else:\n",
      "                                        1\n",
      "                                    else:\n",
      "                                      0\n",
      "                                else:\n",
      "                                  if [Age] > 20.500000:  (+0.045983)\n",
      "                                    if [Fare] > 7.775000:  (+0.111348)\n",
      "                                      if [Fare] > 7.795800:  (+0.721928)\n",
      "                                        0\n",
      "                                      else:\n",
      "                                        1\n",
      "                                    else:\n",
      "                                      0\n",
      "                                  else:\n",
      "                                    0\n",
      "                              else:\n",
      "                                1\n",
      "                            else:\n",
      "                              if [Embarked[T.S]] > 0.000000:  (+0.047016)\n",
      "                                0\n",
      "                              else:\n",
      "                                if [Fare] > 7.225000:  (+0.020235)\n",
      "                                  if [Fare] > 7.750000:  (+0.027722)\n",
      "                                    0\n",
      "                                  else:\n",
      "                                    if [Fare] > 7.229200:  (+0.015808)\n",
      "                                      if [Fare] > 7.733300:  (+0.044177)\n",
      "                                        if [Cabin_letter[T.F]] > 0.000000:  (+0.025851)\n",
      "                                          0\n",
      "                                        else:\n",
      "                                          0\n",
      "                                      else:\n",
      "                                        0\n",
      "                                    else:\n",
      "                                      0\n",
      "                                else:\n",
      "                                  0\n",
      "              else:\n",
      "                1\n",
      "            else:\n",
      "              0\n",
      "else:\n",
      "  if [Pclass] > 2.000000:  (+0.218912)\n",
      "    if [Fare] > 23.250000:  (+0.183143)\n",
      "      if [SibSp] > 3.000000:  (+0.078971)\n",
      "        if [Age] > 2.000000:  (+0.198117)\n",
      "          if [Age] > 5.000000:  (+0.918296)\n",
      "            0\n",
      "          else:\n",
      "            1\n",
      "        else:\n",
      "          0\n",
      "      else:\n",
      "        0\n",
      "    else:\n",
      "      if [Age] > 16.000000:  (+0.117068)\n",
      "        if [Fare] > 7.650000:  (+0.050887)\n",
      "          if [Age] > 36.000000:  (+0.035995)\n",
      "            if [Age] > 47.000000:  (+0.650022)\n",
      "              1\n",
      "            else:\n",
      "              0\n",
      "          else:\n",
      "            if [Age] > 32.000000:  (+0.090554)\n",
      "              1\n",
      "            else:\n",
      "              if [SibSp] > 0.000000:  (+0.050829)\n",
      "                if [Fare] > 7.854200:  (+0.184243)\n",
      "                  if [Fare] > 18.000000:  (+0.257679)\n",
      "                    1\n",
      "                  else:\n",
      "                    if [Fare] > 15.500000:  (+0.144484)\n",
      "                      if [Fare] > 15.850000:  (+0.811278)\n",
      "                        0\n",
      "                      else:\n",
      "                        1\n",
      "                    else:\n",
      "                      0\n",
      "                else:\n",
      "                  1\n",
      "              else:\n",
      "                if [Age] > 30.000000:  (+0.099080)\n",
      "                  0\n",
      "                else:\n",
      "                  if [Age] > 23.000000:  (+0.131185)\n",
      "                    if [Fare] > 16.700000:  (+0.591673)\n",
      "                      0\n",
      "                    else:\n",
      "                      1\n",
      "                  else:\n",
      "                    if [Fare] > 9.841700:  (+0.204204)\n",
      "                      0\n",
      "                    else:\n",
      "                      if [Age] > 22.000000:  (+0.111348)\n",
      "                        0\n",
      "                      else:\n",
      "                        if [Parch] > 0.000000:  (+0.078982)\n",
      "                          1\n",
      "                        else:\n",
      "                          if [Fare] > 9.837500:  (+0.102187)\n",
      "                            1\n",
      "                          else:\n",
      "                            if [Fare] > 7.879200:  (+0.311278)\n",
      "                              0\n",
      "                            else:\n",
      "                              if [Age] > 21.000000:  (+0.459148)\n",
      "                                1\n",
      "                              else:\n",
      "                                if [Fare] > 7.775000:  (+0.918296)\n",
      "                                  1\n",
      "                                else:\n",
      "                                  0\n",
      "        else:\n",
      "          1\n",
      "      else:\n",
      "        if [Fare] > 15.245800:  (+0.124720)\n",
      "          1\n",
      "        else:\n",
      "          if [Fare] > 13.416700:  (+0.167149)\n",
      "            if [Age] > 14.500000:  (+0.811278)\n",
      "              1\n",
      "            else:\n",
      "              0\n",
      "          else:\n",
      "            if [Embarked[T.S]] > 0.000000:  (+0.200221)\n",
      "              if [Age] > 0.000000:  (+0.918296)\n",
      "                1\n",
      "              else:\n",
      "                0\n",
      "            else:\n",
      "              if [Parch] > 1.000000:  (+0.337290)\n",
      "                0\n",
      "              else:\n",
      "                1\n",
      "  else:\n",
      "    if [Embarked[T.S]] > 0.000000:  (+0.019640)\n",
      "      if [Fare] > 135.633300:  (+0.027446)\n",
      "        if [Fare] > 151.550000:  (+0.458106)\n",
      "          1\n",
      "        else:\n",
      "          if [SibSp] > 0.000000:  (+0.918296)\n",
      "            0\n",
      "          else:\n",
      "            1\n",
      "      else:\n",
      "        if [Fare] > 26.000000:  (+0.039117)\n",
      "          1\n",
      "        else:\n",
      "          if [Age] > 55.000000:  (+0.099789)\n",
      "            0\n",
      "          else:\n",
      "            if [SibSp] > 0.000000:  (+0.098884)\n",
      "              if [Age] > 27.000000:  (+0.320402)\n",
      "                1\n",
      "              else:\n",
      "                if [Age] > 24.000000:  (+1.000000)\n",
      "                  0\n",
      "                else:\n",
      "                  1\n",
      "            else:\n",
      "              1\n",
      "    else:\n",
      "      1\n"
     ]
    }
   ],
   "source": [
    "print model.to_str()"
   ]
  },
  {
   "cell_type": "markdown",
   "metadata": {},
   "source": [
    "We can easily count the number of nodes in the tree:"
   ]
  },
  {
   "cell_type": "code",
   "execution_count": 8,
   "metadata": {
    "collapsed": false
   },
   "outputs": [
    {
     "data": {
      "text/plain": [
       "277"
      ]
     },
     "execution_count": 8,
     "metadata": {},
     "output_type": "execute_result"
    }
   ],
   "source": [
    "model.count_nodes()"
   ]
  },
  {
   "cell_type": "markdown",
   "metadata": {},
   "source": [
    "### Random Forest\n",
    "\n",
    "In our search for the best split, we could limit the number of features we consider. This will force the tree to grow in a different direction. This will generally lead to a worse model. But by 'bagging' of a lot of these weak models, we will create a powerful ensemble method.  The idea is that the noise of the bad models will cancel each other out, while the good ones preserve their power.\n",
    "\n",
    "Let's repeat the above tree model but with less features per split. By default, `max_features` will be smaller than n_features, creating a 'worse' model"
   ]
  },
  {
   "cell_type": "code",
   "execution_count": 9,
   "metadata": {
    "collapsed": false
   },
   "outputs": [
    {
     "name": "stdout",
     "output_type": "stream",
     "text": [
      "In-sample accuracy     0.881032547699\n",
      "Out-of-sample accuracy 0.77130044843\n"
     ]
    }
   ],
   "source": [
    "model = DecisionTree().fit(X, y)  \n",
    "print \"In-sample accuracy    \", (model.predict(X) == y).mean()\n",
    "model.fit(X_train, y_train)\n",
    "print \"Out-of-sample accuracy\", (model.predict(X_test) == y_test).mean()"
   ]
  },
  {
   "cell_type": "markdown",
   "metadata": {},
   "source": [
    "It could be that it already performs a bit better on the out-of-sample set than our earlier model.  But we don't stop there, let's plant an entire forest."
   ]
  },
  {
   "cell_type": "code",
   "execution_count": 10,
   "metadata": {
    "collapsed": false
   },
   "outputs": [
    {
     "name": "stdout",
     "output_type": "stream",
     "text": [
      "In-sample accuracy     0.892255892256\n",
      "Out-of-sample accuracy 0.816143497758\n"
     ]
    }
   ],
   "source": [
    "model = RandomForest(n_estimators=50).fit(X, y)  \n",
    "print \"In-sample accuracy    \", (model.predict(X) == y).mean()\n",
    "model.fit(X_train, y_train)\n",
    "print \"Out-of-sample accuracy\", (model.predict(X_test) == y_test).mean()"
   ]
  },
  {
   "cell_type": "markdown",
   "metadata": {},
   "source": [
    "Indeed, much better on the out-of-sample dataset. Note that our home-made implementation is very slow.\n",
    "\n",
    "### Benchmark\n",
    "\n",
    "Let's briefly check how `sklearn`'s model performed."
   ]
  },
  {
   "cell_type": "code",
   "execution_count": 11,
   "metadata": {
    "collapsed": true
   },
   "outputs": [],
   "source": [
    "from sklearn.ensemble import RandomForestClassifier"
   ]
  },
  {
   "cell_type": "code",
   "execution_count": 12,
   "metadata": {
    "collapsed": false
   },
   "outputs": [
    {
     "name": "stdout",
     "output_type": "stream",
     "text": [
      "In-sample accuracy     0.986531986532\n",
      "Out-of-sample accuracy 0.811659192825\n"
     ]
    }
   ],
   "source": [
    "model = RandomForestClassifier(n_estimators=50).fit(X, y)  \n",
    "print \"In-sample accuracy    \", (model.predict(X) == y).mean()\n",
    "model.fit(X_train, y_train)\n",
    "print \"Out-of-sample accuracy\", (model.predict(X_test) == y_test).mean()"
   ]
  },
  {
   "cell_type": "markdown",
   "metadata": {},
   "source": [
    "- Definitely faster\n",
    "- Definitely more accurate on the training set\n",
    "- Not necessarily more accurate on the test set."
   ]
  },
  {
   "cell_type": "markdown",
   "metadata": {
    "collapsed": true
   },
   "source": [
    "### Further Studying\n",
    "\n",
    "- Please refer to the [source code](./random_forest.py) if you'd like to figure out how a random forest works exactly\n",
    "- I added a few links to papers to the [course repo](..) if you'd like to read more."
   ]
  }
 ],
 "metadata": {
  "kernelspec": {
   "display_name": "Python 2",
   "language": "python",
   "name": "python2"
  },
  "language_info": {
   "codemirror_mode": {
    "name": "ipython",
    "version": 2
   },
   "file_extension": ".py",
   "mimetype": "text/x-python",
   "name": "python",
   "nbconvert_exporter": "python",
   "pygments_lexer": "ipython2",
   "version": "2.7.10"
  }
 },
 "nbformat": 4,
 "nbformat_minor": 0
}
