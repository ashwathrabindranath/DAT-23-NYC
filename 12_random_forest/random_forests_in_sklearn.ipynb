{
 "cells": [
  {
   "cell_type": "markdown",
   "metadata": {},
   "source": [
    "# Ensemble Methods in `sklearn`\n",
    "\n",
    "## Random Forests\n",
    "\n",
    "Random Forests are some of the most widespread classifiers used.  They are relatively simple to use (very few parameters to set and easy to avoid overfitting).  The key parameter to remember is `n_estimators` - the number of trees to use in the model.  There is also a `RandomForestRegressor` for regression instead of classification.\n",
    "\n",
    "Advantages:\n",
    "- Easy to tune, built-in protection against overfitting, no regularization\n",
    "- Non-linear\n",
    "- Built-in interaction effects\n",
    "\n",
    "Disadvantages\n",
    "- Slow\n",
    "- Black-box\n",
    "- No \"coefficients\", we don't know what positively or negatively impacts a website being evergreen\n",
    "\n",
    "We can use a random forest to predict the categories of our 20-newsgroup dataset, which we already introduced in an earlier notebook."
   ]
  },
  {
   "cell_type": "code",
   "execution_count": 1,
   "metadata": {
    "collapsed": true
   },
   "outputs": [],
   "source": [
    "import time\n",
    "import pandas as pd\n",
    "from sklearn.datasets import fetch_20newsgroups\n",
    "from sklearn.feature_extraction.text import TfidfVectorizer\n",
    "from sklearn.tree import DecisionTreeClassifier\n",
    "from sklearn.ensemble import RandomForestClassifier, AdaBoostClassifier\n",
    "from sklearn.cross_validation import cross_val_score  # train_test_split, \n",
    "import seaborn\n",
    "from matplotlib import pyplot as plt\n",
    "%matplotlib inline"
   ]
  },
  {
   "cell_type": "markdown",
   "metadata": {},
   "source": [
    "We'll use the 20-newsgroups dataset and the `TfidfVectorizer` we have introduced [earlier](../11_bayes/20_newsgroups.ipynb). In short, this is a collection of newsgroups articles that is well-known in the machine learning field. The `TfidfVectorizer` is a variation on the `CountVectorizer`. Please see the earlier notebook for more details."
   ]
  },
  {
   "cell_type": "code",
   "execution_count": 2,
   "metadata": {
    "collapsed": false
   },
   "outputs": [
    {
     "name": "stdout",
     "output_type": "stream",
     "text": [
      "2034 ['alt.atheism', 'comp.graphics', 'sci.space', 'talk.religion.misc']\n"
     ]
    }
   ],
   "source": [
    "categories = ['alt.atheism', 'sci.space', 'talk.religion.misc', 'comp.graphics']\n",
    "data = fetch_20newsgroups(subset='train', categories=categories)\n",
    "print len(data.data), data.target_names"
   ]
  },
  {
   "cell_type": "code",
   "execution_count": 3,
   "metadata": {
    "collapsed": true
   },
   "outputs": [],
   "source": [
    "v = TfidfVectorizer(stop_words='english', lowercase=True, ngram_range=(1,1), min_df=2)\n",
    "X = v.fit_transform(data.data)"
   ]
  },
  {
   "cell_type": "markdown",
   "metadata": {},
   "source": [
    "### A Single Tree\n",
    "We'll start training one decision tree."
   ]
  },
  {
   "cell_type": "code",
   "execution_count": 4,
   "metadata": {
    "collapsed": false
   },
   "outputs": [
    {
     "name": "stdout",
     "output_type": "stream",
     "text": [
      "CPU times: user 2.08 s, sys: 6.44 ms, total: 2.09 s\n",
      "Wall time: 2.09 s\n"
     ]
    },
    {
     "data": {
      "text/plain": [
       "0.7880897188986008"
      ]
     },
     "execution_count": 4,
     "metadata": {},
     "output_type": "execute_result"
    }
   ],
   "source": [
    "model = DecisionTreeClassifier()\n",
    "%time cross_val_score(model, X, data.target).mean()"
   ]
  },
  {
   "cell_type": "markdown",
   "metadata": {},
   "source": [
    "Not a bad start. Note that the distribution of categories is rather equal, so this is a good accuracy."
   ]
  },
  {
   "cell_type": "code",
   "execution_count": 5,
   "metadata": {
    "collapsed": false
   },
   "outputs": [
    {
     "data": {
      "text/plain": [
       "2    593\n",
       "1    584\n",
       "0    480\n",
       "3    377\n",
       "dtype: int64"
      ]
     },
     "execution_count": 5,
     "metadata": {},
     "output_type": "execute_result"
    }
   ],
   "source": [
    "pd.Series(data.target).value_counts()"
   ]
  },
  {
   "cell_type": "markdown",
   "metadata": {},
   "source": [
    "### A Small Forest\n",
    "\n",
    "Let's try a small forest with a number of trees."
   ]
  },
  {
   "cell_type": "code",
   "execution_count": 6,
   "metadata": {
    "collapsed": false
   },
   "outputs": [
    {
     "name": "stdout",
     "output_type": "stream",
     "text": [
      "CPU times: user 918 ms, sys: 3.45 ms, total: 921 ms\n",
      "Wall time: 921 ms\n"
     ]
    },
    {
     "data": {
      "text/plain": [
       "0.86478186101500931"
      ]
     },
     "execution_count": 6,
     "metadata": {},
     "output_type": "execute_result"
    }
   ],
   "source": [
    "model = RandomForestClassifier(n_estimators=20)\n",
    "%time cross_val_score(model, X, data.target).mean()"
   ]
  },
  {
   "cell_type": "markdown",
   "metadata": {},
   "source": [
    "Even better!\n",
    "- Accuracy is higher than for a single tree.\n",
    "- Note that the forest is not proportionally slower than a single tree.\n",
    "\n",
    "### A Boosting Forest\n",
    "\n",
    "`sklearn` has more ensemble methods that are worth trying out. The `AdaBoostClassifier` and `GradientBoostingClassifier` are similar to a Random Forest, but use boosting rather than simply bagging the trees.  In short, this means that misclassified samples were weigthed heavier in the sampling of the next trainingset during the bootstrap process.  This often leads to higher accuracies. It is quite slower, though."
   ]
  },
  {
   "cell_type": "code",
   "execution_count": 7,
   "metadata": {
    "collapsed": false
   },
   "outputs": [
    {
     "name": "stdout",
     "output_type": "stream",
     "text": [
      "CPU times: user 5.66 s, sys: 14.9 ms, total: 5.68 s\n",
      "Wall time: 5.68 s\n"
     ]
    },
    {
     "data": {
      "text/plain": [
       "0.7772764507498845"
      ]
     },
     "execution_count": 7,
     "metadata": {},
     "output_type": "execute_result"
    }
   ],
   "source": [
    "model = AdaBoostClassifier(n_estimators=20)\n",
    "%time cross_val_score(model, X, data.target).mean()"
   ]
  },
  {
   "cell_type": "markdown",
   "metadata": {},
   "source": [
    "Worse on all accounts! Both lower accuracy and much slower than a normal random forest. \n",
    "\n",
    "We won't run the `GradientBoostingClassifier` since it is terribly slow on this dataset, but execution goes similar:\n",
    "\n",
    "```python\n",
    "X_array = X.toarray()  # Covert to dense matrix (model won't accept sparse matrices)\n",
    "model = GradientBoostingClassifier(n_estimators=k)\n",
    "%time cross_val_score(model, X_array, data.target).mean()\n",
    "```"
   ]
  },
  {
   "cell_type": "markdown",
   "metadata": {},
   "source": [
    "## Optimizing Forests\n",
    "The only option you really need to know is `n_estimators`, which indicates how many trees you'd like in yout forest.\n",
    "\n",
    "There are however other options you could play with, if you're interested. One is which algorithm to use for splitting nodes: Gini or Entropy."
   ]
  },
  {
   "cell_type": "code",
   "execution_count": 8,
   "metadata": {
    "collapsed": false
   },
   "outputs": [
    {
     "name": "stdout",
     "output_type": "stream",
     "text": [
      "CPU times: user 17.8 s, sys: 36.9 ms, total: 17.8 s\n",
      "Wall time: 17.8 s\n"
     ]
    }
   ],
   "source": [
    "%%time\n",
    "scores = []\n",
    "for n in [1, 2, 3, 5, 10, 20, 50, 100]:\n",
    "    for criterion in ['gini', 'entropy']:\n",
    "        start_time = time.time()  # let's time it, to see how long running a forest takes\n",
    "        model = RandomForestClassifier(n_estimators=n, criterion=criterion)\n",
    "        accuracy = cross_val_score(model, X, data.target).mean()  # out of sample accuracy\n",
    "        duration = time.time() - start_time\n",
    "        scores.append(dict(n_estimators=n, criterion=criterion, accuracy=accuracy, duration=duration))\n",
    "scores = pd.DataFrame(scores)"
   ]
  },
  {
   "cell_type": "code",
   "execution_count": 9,
   "metadata": {
    "collapsed": false
   },
   "outputs": [
    {
     "data": {
      "image/png": "[encoded data removed]",
      "text/plain": [
       "<matplotlib.figure.Figure at 0x105cd2f10>"
      ]
     },
     "metadata": {},
     "output_type": "display_data"
    }
   ],
   "source": [
    "fig, axes = plt.subplots(1, 2, figsize=(12, 4))\n",
    "f = scores.groupby(['n_estimators', 'criterion']).accuracy.mean().unstack() \\\n",
    "    .plot(ylim=(.5,1), title=\"Accuracy of Random Forests by number of trees\", ax=axes[0])\n",
    "f = scores.groupby(['n_estimators', 'criterion']).duration.mean().unstack() \\\n",
    "    .plot(title=\"Duration (incl. cross-validation) by number of trees\", ax=axes[1])    "
   ]
  },
  {
   "cell_type": "markdown",
   "metadata": {},
   "source": [
    "Pretty good results.\n",
    "\n",
    "Note that the criterion – Entropy or Gini – does not make a huge difference."
   ]
  },
  {
   "cell_type": "markdown",
   "metadata": {},
   "source": [
    "## Getting Important Features\n",
    "\n",
    "Instead of just predicting classes, we would like to get more insight about how features impact the classification.  Unfortunately, decision trees are not as interpretable as other models we have seen, and the interpretability only decreases as we apply ensemble methods.  This is why these methods are often called _black box_ methods.  Fortunately, though, Random Forests (and Decision Trees) _do_ indicate what features are important.  These 'feature importances' only tell us what features gave us the best splits – we do not see which feature had what impact on which class, as we saw with Logistic Regression and Naive Bayes.\n",
    "\n",
    "As we saw before, getting information on what features we are using in Python can be difficult.  Each vectorizer has `get_feature_names` which we can use to tie back to our dataset."
   ]
  },
  {
   "cell_type": "code",
   "execution_count": 10,
   "metadata": {
    "collapsed": false
   },
   "outputs": [
    {
     "data": {
      "image/png": "[encoded data removed]",
      "text/plain": [
       "<matplotlib.figure.Figure at 0x105d59dd0>"
      ]
     },
     "metadata": {},
     "output_type": "display_data"
    }
   ],
   "source": [
    "model = RandomForestClassifier(n_estimators=50)\n",
    "model.fit(X, data.target)\n",
    "coef = pd.Series(model.feature_importances_, index=v.get_feature_names()).sort(inplace=False)\n",
    "f = coef[-15:].plot(kind='barh', title=\"Most important features classifying\\n%s\" % \", \".join(data.target_names))"
   ]
  },
  {
   "cell_type": "markdown",
   "metadata": {},
   "source": [
    "Let's show some irrelevant features"
   ]
  },
  {
   "cell_type": "code",
   "execution_count": 11,
   "metadata": {
    "collapsed": false
   },
   "outputs": [
    {
     "name": "stdout",
     "output_type": "stream",
     "text": [
      "zyxel, healthy, seas, searcy, searches, searched, hears, search, heartedly, sebastian, hearts, heathen, heathers, heating, seanmac, seamlessly, seals, heavier, heavily, heat, heavly, healing, healed, hazret, secret, hcf, hcrlgw, hdf, hdsteven, he3, seconds, healer, headache, headers, heading, headings, headline, headquartered, headquarters, heads, heal, header, sealing, hebrews, hee, sculpture, sculpt, hemel, hemi, sctc, scsi, hemoraging, hemul, helping, scrutiny, henling, scrowe, henrik, scrolling, scriptural, hep, scripts, herb, henize, scum, sda, sdio, heel, hehehe, heidelberg, sealed, heightfield, seal, heines, heinlein, heir, seachg, se92psh, helicopter, helin, heliocentric, helium, helix, sdsu, sdsc, helmet, hazards, herbert, hazardous, hayes, hans, hanse, hansen, haphaestus, sells, selective, happenings, selections, selves, happier\n"
     ]
    }
   ],
   "source": [
    "print \", \".join(coef[coef == 0].index[:100])"
   ]
  },
  {
   "cell_type": "markdown",
   "metadata": {
    "collapsed": true
   },
   "source": [
    "Makes quite sense."
   ]
  },
  {
   "cell_type": "markdown",
   "metadata": {
    "collapsed": true
   },
   "source": [
    "<hr>\n",
    "## Exercise\n",
    "\n",
    "- Have a look at the Kaggle competition [Titanic: Machine Learning from Disaster](https://www.kaggle.com/c/titanic/)\n",
    "- Optionally, have a particular look at\n",
    "  - their [Getting Started With Random Forests](https://www.kaggle.com/c/titanic/details/getting-started-with-random-forests) section\n",
    "  - their [example in python](https://www.kaggle.com/c/titanic/download/myfirstforest.py) how to tackle this problem\n",
    "- Download the trainig data [`train.csv`](https://www.kaggle.com/c/titanic/download/train.csv). You might need to create a Kaggle account\n",
    "- Create useful features by adding inferred columns to the dataset\n",
    "- Convert the categorical values to numerical values. For random forests, you could simply replace them by integers (`1, 2, 3, ...`), but you can also use such tools as `patsy`, `CountVectorizer` or `TfidfVectorizer`, as we have used before\n",
    "- Fit a random forest to your data and compute your cross-validated accuracy\n",
    "- Improve your model by playing around with the features\n",
    "- If you feel lucky, you can make a submission – don't worry, your scores will be removed after a few months"
   ]
  },
  {
   "cell_type": "code",
   "execution_count": null,
   "metadata": {
    "collapsed": true
   },
   "outputs": [],
   "source": []
  },
  {
   "cell_type": "code",
   "execution_count": null,
   "metadata": {
    "collapsed": true
   },
   "outputs": [],
   "source": []
  }
 ],
 "metadata": {
  "kernelspec": {
   "display_name": "Python 2",
   "language": "python",
   "name": "python2"
  },
  "language_info": {
   "codemirror_mode": {
    "name": "ipython",
    "version": 2
   },
   "file_extension": ".py",
   "mimetype": "text/x-python",
   "name": "python",
   "nbconvert_exporter": "python",
   "pygments_lexer": "ipython2",
   "version": "2.7.10"
  }
 },
 "nbformat": 4,
 "nbformat_minor": 0
}
