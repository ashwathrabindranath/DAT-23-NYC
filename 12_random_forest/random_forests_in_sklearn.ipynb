{
 "cells": [
  {
   "cell_type": "markdown",
   "metadata": {},
   "source": [
    "# Ensemble Methods in `sklearn`\n",
    "\n",
    "## Random Forests\n",
    "\n",
    "Random Forests are some of the most widespread classifiers used.  They are relatively simple to use (very few parameters to set and easy to avoid overfitting).  The key parameter to remember is `n_estimators` - the number of trees to use in the model.  There is also a `RandomForestRegressor` for regression instead of classification.\n",
    "\n",
    "Advantages:\n",
    "- Easy to tune, built-in protection against overfitting, no regularization\n",
    "- Non-linear\n",
    "- Built-in interaction effects\n",
    "\n",
    "Disadvantages\n",
    "- Slow\n",
    "- Black-box\n",
    "- No \"coefficients\", we don't know what positively or negatively impacts a website being evergreen\n",
    "\n",
    "We can use a random forest to predict the categories of our 20-newsgroup dataset, which we already introduced in an earlier notebook."
   ]
  },
  {
   "cell_type": "code",
   "execution_count": null,
   "metadata": {
    "collapsed": true
   },
   "outputs": [],
   "source": [
    "import time\n",
    "import numpy as np\n",
    "import pandas as pd\n",
    "from sklearn.datasets import fetch_20newsgroups\n",
    "from sklearn.feature_extraction.text import TfidfVectorizer\n",
    "from sklearn.tree import DecisionTreeClassifier\n",
    "from sklearn.ensemble import RandomForestClassifier, GradientBoostingClassifier\n",
    "from sklearn.cross_validation import cross_val_score\n",
    "import seaborn\n",
    "%matplotlib inline"
   ]
  },
  {
   "cell_type": "markdown",
   "metadata": {},
   "source": [
    "We'll use the 20-newsgroups dataset and the `TfidfVectorizer` we have introduced [earlier](../11_bayes/20_newsgroups.ipynb). In short, this is a collection of newsgroups articles that is well-known in the machine learning field. The `TfidfVectorizer` is a variation on the `CountVectorizer`. Please see the earlier notebook for more details."
   ]
  },
  {
   "cell_type": "code",
   "execution_count": 20,
   "metadata": {
    "collapsed": false
   },
   "outputs": [
    {
     "name": "stdout",
     "output_type": "stream",
     "text": [
      "2034 ['alt.atheism', 'comp.graphics', 'sci.space', 'talk.religion.misc']\n"
     ]
    }
   ],
   "source": [
    "categories = ['alt.atheism', 'sci.space', 'talk.religion.misc', 'comp.graphics']\n",
    "data = fetch_20newsgroups(subset='train', categories=categories)\n",
    "print len(data.data), data.target_names"
   ]
  },
  {
   "cell_type": "code",
   "execution_count": 21,
   "metadata": {
    "collapsed": true
   },
   "outputs": [],
   "source": [
    "v = TfidfVectorizer(stop_words='english', lowercase=True, ngram_range=(1,1), min_df=2)\n",
    "X = v.fit_transform(data.data)"
   ]
  },
  {
   "cell_type": "markdown",
   "metadata": {},
   "source": [
    "### A Single Tree\n",
    "We'll start training one decision tree."
   ]
  },
  {
   "cell_type": "code",
   "execution_count": 34,
   "metadata": {
    "collapsed": false
   },
   "outputs": [
    {
     "name": "stdout",
     "output_type": "stream",
     "text": [
      "CPU times: user 49 µs, sys: 7 µs, total: 56 µs\n",
      "Wall time: 60.1 µs\n",
      "0.794966928393\n"
     ]
    }
   ],
   "source": [
    "%time model = DecisionTreeClassifier()\n",
    "# print cross_val_score(tree_model, X_train.toarray(), twenty_train_subset.target)\n",
    "print cross_val_score(model, X, data.target).mean()"
   ]
  },
  {
   "cell_type": "markdown",
   "metadata": {},
   "source": [
    "Not a bad start. Note that the distribution of categories is rather equal, so this is a good accuracy."
   ]
  },
  {
   "cell_type": "code",
   "execution_count": 35,
   "metadata": {
    "collapsed": false
   },
   "outputs": [
    {
     "data": {
      "text/plain": [
       "array([[  0, 480],\n",
       "       [  1, 584],\n",
       "       [  2, 593],\n",
       "       [  3, 377]])"
      ]
     },
     "execution_count": 35,
     "metadata": {},
     "output_type": "execute_result"
    }
   ],
   "source": [
    "np.array(np.unique(data.target, return_counts=True)).T"
   ]
  },
  {
   "cell_type": "markdown",
   "metadata": {},
   "source": [
    "### A Small Forest\n",
    "\n",
    "Let's try a small forest with a number of trees."
   ]
  },
  {
   "cell_type": "code",
   "execution_count": 49,
   "metadata": {
    "collapsed": false
   },
   "outputs": [
    {
     "name": "stdout",
     "output_type": "stream",
     "text": [
      "CPU times: user 184 µs, sys: 1 µs, total: 185 µs\n",
      "Wall time: 189 µs\n",
      "0.8687200983\n"
     ]
    }
   ],
   "source": [
    "%time model = RandomForestClassifier(n_estimators=20)\n",
    "print cross_val_score(model, X_train, data.target).mean()"
   ]
  },
  {
   "cell_type": "markdown",
   "metadata": {},
   "source": [
    "Even better!\n",
    "- Accuracy is higher than for a single tree.\n",
    "- Note that the forest is not proportionally slower than a single tree.\n",
    "\n",
    "### A Boosting Forest\n",
    "\n",
    "`sklearn` has more ensemble methods that are worth trying out. The `GradientBoostingClassifier` is similar to a Random Forest, but uses a special algorithm of bagging the trees. This often leads to higher accuracies. It is quite slower, though."
   ]
  },
  {
   "cell_type": "code",
   "execution_count": 50,
   "metadata": {
    "collapsed": false
   },
   "outputs": [],
   "source": [
    "# X_dense = X.todense()  # X.toarray()\n",
    "# %time model = GradientBoostingClassifier(n_estimators=5)\n",
    "# model.fit(X_dense, data.target)\n",
    "# print cross_val_score(model, X_dense, data.target).mean()"
   ]
  },
  {
   "cell_type": "markdown",
   "metadata": {},
   "source": [
    "## Optimizing Forests\n",
    "The only option you really need to know is `n_estimators`, which indicates how many trees you'd like in yout forest.\n",
    "\n",
    "There are however other options you could play with, if you're interested. One is which algorithm to use for splitting nodes: Gini or Entropy."
   ]
  },
  {
   "cell_type": "code",
   "execution_count": 54,
   "metadata": {
    "collapsed": false
   },
   "outputs": [],
   "source": [
    "scores = []\n",
    "for n in [1, 2, 3, 5, 10, 20, 50, 100]:\n",
    "    for criterion in ['gini', 'entropy']:\n",
    "        start_time = time.time()  # let's time it, to see how long running a forest takes\n",
    "        model = RandomForestClassifier(n_estimators=n, criterion=criterion)\n",
    "        accuracy = cross_val_score(model, X_train, data.target).mean()  # out of sample accuracy\n",
    "        duration = time.time() - start_time\n",
    "        scores.append(dict(n_estimators=n, criterion=criterion, accuracy=accuracy, duration=duration))\n",
    "scores = pd.DataFrame(scores)"
   ]
  },
  {
   "cell_type": "code",
   "execution_count": 60,
   "metadata": {
    "collapsed": false
   },
   "outputs": [
    {
     "data": {
      "image/png": "[encoded data removed]",
      "text/plain": [
       "<matplotlib.figure.Figure at 0x10e15b390>"
      ]
     },
     "metadata": {},
     "output_type": "display_data"
    }
   ],
   "source": [
    "f = scores.groupby(['n_estimators', 'criterion']).accuracy.mean().unstack() \\\n",
    "    .plot(ylim=(.5,1), title=\"Accuracy of Random Forests by number of trees\")"
   ]
  },
  {
   "cell_type": "markdown",
   "metadata": {},
   "source": [
    "Pretty good results.\n",
    "\n",
    "Note that Entropy or Gini does not make a big difference."
   ]
  },
  {
   "cell_type": "markdown",
   "metadata": {},
   "source": [
    "## Getting Important Features\n",
    "\n",
    "Instead of just predicting classes, we would like to get more insight about how features impact the classification.  Unfortunately, decision trees are not as interpretable as other models we have seen, and the interpretability only decreases as we apply ensemble methods.  This is why these methods are often called _black box_ methods.  Fortunately, though, Random Forests (and Decision Trees) _do_ indicate what features are important.  These 'feature importances' only tell us what features gave us the best splits – we do not see which feature had what impact on which class, as we saw with Logistic Regression and Naive Bayes.\n",
    "\n",
    "As we saw before, getting information on what features we are using in Python can be difficult.  Each vectorizer has `get_feature_names` which we can use to tie back to our dataset."
   ]
  },
  {
   "cell_type": "code",
   "execution_count": 56,
   "metadata": {
    "collapsed": false
   },
   "outputs": [
    {
     "data": {
      "image/png": "[encoded data removed]",
      "text/plain": [
       "<matplotlib.figure.Figure at 0x10d4dfad0>"
      ]
     },
     "metadata": {},
     "output_type": "display_data"
    }
   ],
   "source": [
    "model = RandomForestClassifier(n_estimators=50)\n",
    "model.fit(X_train, data.target)\n",
    "coef = pd.Series(model.feature_importances_, index=v.get_feature_names()).sort(inplace=False)\n",
    "f = coef[-15:].plot(kind='barh', title=\"Most important features classifying\\n%s\" % \", \".join(data.target_names))"
   ]
  },
  {
   "cell_type": "markdown",
   "metadata": {},
   "source": [
    "Let's show some irrelevant features"
   ]
  },
  {
   "cell_type": "code",
   "execution_count": 57,
   "metadata": {
    "collapsed": false
   },
   "outputs": [
    {
     "name": "stdout",
     "output_type": "stream",
     "text": [
      "integration, merge, meridian, merits, merkur, merton, mesh, meshes, mesosphere, mess, messages, messed, messengership, messy, metafile, metal, metallic, metaphor, metaphorical, metaphorically, metaphysically, metaphysics, merciful, mercies, menu, mentions, mediated, medical, medicine, mediterranean, medium, meek, meets, mega, megabyte, megabytes, metares, megs, melchizedek, mellenia, meme, memetic, memorable, memorial, memories, meng, menlo, mentally, mel, meteor, meteorological, methinks, mig, mighty, mik, mikelson, milan, mild, mileage, miles, militant, milk, midst, milkmen, millenia, millennia, millennium, millgram, milliseconds, milo, milton, milwaukee, mimas, mimi, milky, median, midnight, mid, methodically, methodists, methodology, metric, meyer, mfocus, mget, mgl, mhd, mica, middlesex, mice, microcomputer, microdata, microgravity, micrometeroid, micron, microscopes, microscopy, microware, microwave, microwaves\n"
     ]
    }
   ],
   "source": [
    "print \", \".join(coef[coef == 0].index[:100])"
   ]
  },
  {
   "cell_type": "markdown",
   "metadata": {
    "collapsed": true
   },
   "source": [
    "Makes quite sense."
   ]
  },
  {
   "cell_type": "code",
   "execution_count": null,
   "metadata": {
    "collapsed": true
   },
   "outputs": [],
   "source": []
  }
 ],
 "metadata": {
  "kernelspec": {
   "display_name": "Python 2",
   "language": "python",
   "name": "python2"
  },
  "language_info": {
   "codemirror_mode": {
    "name": "ipython",
    "version": 2
   },
   "file_extension": ".py",
   "mimetype": "text/x-python",
   "name": "python",
   "nbconvert_exporter": "python",
   "pygments_lexer": "ipython2",
   "version": "2.7.10"
  }
 },
 "nbformat": 4,
 "nbformat_minor": 0
}
