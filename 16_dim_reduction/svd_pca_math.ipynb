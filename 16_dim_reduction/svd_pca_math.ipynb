{
 "cells": [
  {
   "cell_type": "markdown",
   "metadata": {},
   "source": [
    "# Math behind SVD and PCA\n",
    "\n",
    "Please refer to our the linear algebra recap notebook of earlier in the course for a quick recap about linear algebra and eigenvectors. We'll repeat the section about eigenvectors in this notebook as well.\n",
    "\n",
    "### Setup\n",
    "\n",
    "#### Import and define code"
   ]
  },
  {
   "cell_type": "code",
   "execution_count": 1,
   "metadata": {
    "collapsed": true
   },
   "outputs": [],
   "source": [
    "import numpy as np\n",
    "import seaborn as sb\n",
    "from matplotlib import pyplot as plt\n",
    "%matplotlib inline"
   ]
  },
  {
   "cell_type": "code",
   "execution_count": 2,
   "metadata": {
    "collapsed": false
   },
   "outputs": [],
   "source": [
    "def draw(vectors, labels=None, lim=1.6):\n",
    "    colors = sb.color_palette()\n",
    "    for vector, label in zip(vectors, labels):\n",
    "        c = colors.pop()\n",
    "        f = plt.plot([0, vector[0]], [0, vector[1]], [\"-\", \":\"][label.find(\"M\") > -1], label=label)\n",
    "        f[0].figure.set_size_inches(3, 3) \n",
    "        plt.arrow(0, 0, vector[0], vector[1], head_width=0.2, fc=c, ec=c)\n",
    "    plt.xlim(-lim, lim), plt.ylim(-lim, lim), plt.legend(loc=\"upper left\", bbox_to_anchor=(1,1))"
   ]
  },
  {
   "cell_type": "markdown",
   "metadata": {},
   "source": [
    "#### Setup data\n",
    "\n",
    "Let's look at an arbitrary matrix _M_"
   ]
  },
  {
   "cell_type": "code",
   "execution_count": 3,
   "metadata": {
    "collapsed": false
   },
   "outputs": [
    {
     "data": {
      "text/plain": [
       "array([[ 0.89782125,  0.81277632],\n",
       "       [ 0.541886  ,  0.59142641]])"
      ]
     },
     "execution_count": 3,
     "metadata": {},
     "output_type": "execute_result"
    }
   ],
   "source": [
    "M = np.random.random((2,2))\n",
    "M"
   ]
  },
  {
   "cell_type": "markdown",
   "metadata": {},
   "source": [
    "We know we can multiply this matrix with any 2-dimensional vector, which whill give us another 2-dimensional vector."
   ]
  },
  {
   "cell_type": "code",
   "execution_count": 4,
   "metadata": {
    "collapsed": false
   },
   "outputs": [],
   "source": [
    "v = np.random.random(2)\n",
    "w = M.dot(v)"
   ]
  },
  {
   "cell_type": "markdown",
   "metadata": {},
   "source": [
    "Let's draw both vectors"
   ]
  },
  {
   "cell_type": "code",
   "execution_count": 5,
   "metadata": {
    "collapsed": false
   },
   "outputs": [
    {
     "data": {
      "image/png": "[encoded data removed]",
      "text/plain": [
       "<matplotlib.figure.Figure at 0x10bb02d50>"
      ]
     },
     "metadata": {},
     "output_type": "display_data"
    }
   ],
   "source": [
    "draw([v], [\"$v$\"])\n",
    "draw([w], [\"$Mv$\"])"
   ]
  },
  {
   "cell_type": "markdown",
   "metadata": {},
   "source": [
    "We see that the matrix $M$ both scales the vector $v$, .i.e., it makes it bigger or smaller, and rotates it.\n",
    "\n",
    "### Eigenvectors and Eigenvalues\n",
    "\n",
    "#### Eigenvectors\n",
    "\n",
    "For this matrix _M_, we now try to find a vector _v_, along with a scalar $\\lambda$, such that:\n",
    "- $M v = \\lambda v$\n",
    "\n",
    "In fact, if we accept complex numbers, we know that each $n \\times n$-matrix has\n",
    "- $n$ such vectors, called _eigenvectors_, along with their\n",
    "- respective scalars, called _eigenvalues_."
   ]
  },
  {
   "cell_type": "code",
   "execution_count": 6,
   "metadata": {
    "collapsed": false
   },
   "outputs": [
    {
     "name": "stdout",
     "output_type": "stream",
     "text": [
      "[ 1.42572702  0.06352064]\n",
      "[[ 0.83863161 -0.6978066 ]\n",
      " [ 0.54469902  0.71628622]]\n"
     ]
    }
   ],
   "source": [
    "eigenvalues, eigenvectors = np.linalg.eig(M)\n",
    "print eigenvalues\n",
    "print eigenvectors"
   ]
  },
  {
   "cell_type": "markdown",
   "metadata": {},
   "source": [
    "Let's check is if indeed holds that $M v = \\lambda v$."
   ]
  },
  {
   "cell_type": "code",
   "execution_count": 7,
   "metadata": {
    "collapsed": false
   },
   "outputs": [
    {
     "name": "stdout",
     "output_type": "stream",
     "text": [
      "Mv = [ 1.19565975  0.77659211] and lambda v = [ 1.19565975  0.77659211] : True\n",
      "Mv = [-0.04432512  0.04549896] and lambda v = [-0.04432512  0.04549896] : True\n"
     ]
    }
   ],
   "source": [
    "for i in xrange(len(eigenvalues)):\n",
    "    v = eigenvectors[:,i]  # columns are eigenvectors\n",
    "    print \"Mv =\", M.dot(v), \"and lambda v =\", eigenvalues[i] * v, \":\", \\\n",
    "        np.isclose(M.dot(v), eigenvalues[i] * v).all()"
   ]
  },
  {
   "cell_type": "markdown",
   "metadata": {},
   "source": [
    "Let's draw the eigenvectors."
   ]
  },
  {
   "cell_type": "code",
   "execution_count": 8,
   "metadata": {
    "collapsed": false
   },
   "outputs": [
    {
     "data": {
      "image/png": "[encoded data removed]",
      "text/plain": [
       "<matplotlib.figure.Figure at 0x10bb02610>"
      ]
     },
     "metadata": {},
     "output_type": "display_data"
    }
   ],
   "source": [
    "draw(eigenvectors.T, [\"$v_1$\", \"$v_2$\"])"
   ]
  },
  {
   "cell_type": "markdown",
   "metadata": {},
   "source": [
    "#### Eigenvalues\n",
    "\n",
    "What eigenvalues go with these eigenvectors?"
   ]
  },
  {
   "cell_type": "code",
   "execution_count": 9,
   "metadata": {
    "collapsed": false
   },
   "outputs": [
    {
     "name": "stdout",
     "output_type": "stream",
     "text": [
      "[ 1.42572702  0.06352064]\n"
     ]
    }
   ],
   "source": [
    "print eigenvalues"
   ]
  },
  {
   "cell_type": "markdown",
   "metadata": {},
   "source": [
    "Let's draw the images $Mv = \\lambda v$."
   ]
  },
  {
   "cell_type": "code",
   "execution_count": 10,
   "metadata": {
    "collapsed": false
   },
   "outputs": [
    {
     "data": {
      "image/png": "[encoded data removed]",
      "text/plain": [
       "<matplotlib.figure.Figure at 0x10c1a9650>"
      ]
     },
     "metadata": {},
     "output_type": "display_data"
    }
   ],
   "source": [
    "draw(eigenvectors.T, [\"$v_1$\", \"$v_2$\"])\n",
    "draw(M.dot(eigenvectors).T, [\"$Mv_1 = %.2fv_1$\" % eigenvalues[0], \"$Mv_2$ = %.2fv_2\" % eigenvalues[1]])"
   ]
  },
  {
   "cell_type": "code",
   "execution_count": 11,
   "metadata": {
    "collapsed": false
   },
   "outputs": [
    {
     "name": "stdout",
     "output_type": "stream",
     "text": [
      "[ 1.42572702  0.06352064]\n"
     ]
    }
   ],
   "source": [
    "print eigenvalues"
   ]
  },
  {
   "cell_type": "markdown",
   "metadata": {},
   "source": [
    "We see that the eigenvectors are the dimensions along which $M$ only _scales_ vectors, but not rotates them.\n",
    "\n",
    "### Singular Value Decomposition\n",
    "\n",
    "#### SVD\n",
    "\n",
    "If A is a $N \\times n$ matrix, then the _Singular Value Decomposition_ (SVD) of $A$ is given by \n",
    "\n",
    "\\begin{align}\n",
    "A = U \\Sigma V^{T},\n",
    "\\end{align}\n",
    "\n",
    "where\n",
    "- $U$ and $V$ are orthogonal matrices, meaning that $UU^T = \\textbf{1}$ and $VV^T = \\textbf{1}$ are identity matrices, and\n",
    "- $\\Sigma$ is a diagonal matrix, meaning that the values lie *only* on the diagonal. \n",
    "\n",
    "In particular, $U$ and $V$ are square matrices consisting of the eigenvectors of $AA^T$ and $A^TA$, respectively. Note that $\\Sigma$ is _not_ necessarily a square matrix (since generally $N \\neq n$). Its values are non-negative real numbers, and equal to the square root of the _singular values_ of $A$, which are defined as the eigenvalues of $AA^T$ (or $A^TA$, which are the same).\n",
    "\n",
    "Let's see that in action. Let's start with some arbitraty matrix $M$ and compute its SVD."
   ]
  },
  {
   "cell_type": "code",
   "execution_count": 12,
   "metadata": {
    "collapsed": false
   },
   "outputs": [
    {
     "data": {
      "text/plain": [
       "array([[ 0.99466043,  0.20954876,  0.15537406],\n",
       "       [ 0.09864257,  0.74682847,  0.52119935],\n",
       "       [ 0.44476089,  0.99187776,  0.89451446],\n",
       "       [ 0.64998163,  0.11579491,  0.08561388],\n",
       "       [ 0.81023573,  0.74270446,  0.00246527]])"
      ]
     },
     "execution_count": 12,
     "metadata": {},
     "output_type": "execute_result"
    }
   ],
   "source": [
    "M = np.random.random((5,3))\n",
    "M"
   ]
  },
  {
   "cell_type": "code",
   "execution_count": 13,
   "metadata": {
    "collapsed": false
   },
   "outputs": [
    {
     "name": "stdout",
     "output_type": "stream",
     "text": [
      "[[-0.39669546 -0.56802495 -0.40950255 -0.48625511 -0.34035864]\n",
      " [-0.37711531  0.45466445  0.1439675   0.19414499 -0.76983464]\n",
      " [-0.63509333  0.47380421 -0.32927019 -0.10930073  0.5017973 ]\n",
      " [-0.24915612 -0.38663772 -0.27073206  0.84380956  0.05587555]\n",
      " [-0.48476227 -0.31088381  0.79364118 -0.04361726  0.19127994]]\n",
      "[ 2.06035529  1.05951639  0.40248757]\n",
      "[[-0.61589387 -0.6715291  -0.41197501]\n",
      " [-0.76696282  0.39151618  0.50841235]\n",
      " [-0.18011881  0.62909756 -0.75617027]]\n"
     ]
    }
   ],
   "source": [
    "U, s, VT = np.linalg.svd(M)  # returns matrix, array (only diagonal)\n",
    "print U\n",
    "print s\n",
    "print VT"
   ]
  },
  {
   "cell_type": "markdown",
   "metadata": {},
   "source": [
    "Note that `numpy`'s `linalg.svd` returns `U, s, VT`, where\n",
    "- `s` is the actual diagonal of $\\Sigma$ (not the entire matrix) and\n",
    "- `VT` is the transpose of $V$.\n",
    "\n",
    "Note that $\\Sigma$ is a diagonal matrix, but not a square matrix."
   ]
  },
  {
   "cell_type": "code",
   "execution_count": 14,
   "metadata": {
    "collapsed": false
   },
   "outputs": [
    {
     "data": {
      "text/plain": [
       "array([[ 2.06035529,  0.        ,  0.        ],\n",
       "       [ 0.        ,  1.05951639,  0.        ],\n",
       "       [ 0.        ,  0.        ,  0.40248757],\n",
       "       [ 0.        ,  0.        ,  0.        ],\n",
       "       [ 0.        ,  0.        ,  0.        ]])"
      ]
     },
     "execution_count": 14,
     "metadata": {},
     "output_type": "execute_result"
    }
   ],
   "source": [
    "S = np.zeros(M.shape)\n",
    "S[:min(M.shape), :min(M.shape)] = np.diag(s)\n",
    "S"
   ]
  },
  {
   "cell_type": "markdown",
   "metadata": {},
   "source": [
    "Let's check if the SVD equation holds:"
   ]
  },
  {
   "cell_type": "code",
   "execution_count": 15,
   "metadata": {
    "collapsed": false
   },
   "outputs": [
    {
     "data": {
      "text/plain": [
       "True"
      ]
     },
     "execution_count": 15,
     "metadata": {},
     "output_type": "execute_result"
    }
   ],
   "source": [
    "np.isclose(M, U.dot(S).dot(VT)).all()"
   ]
  },
  {
   "cell_type": "markdown",
   "metadata": {},
   "source": [
    "Good!\n",
    "\n",
    "Let's check if the values in $\\Sigma$ are indeed the square roots of the eigenvalues of $AA^T$ resp. $A^TA$.  \n",
    "\n",
    "We sort the eigenvalues, so we can compare them easily. We also round down to some decimal to clearly show the values that are nearly zero."
   ]
  },
  {
   "cell_type": "code",
   "execution_count": 16,
   "metadata": {
    "collapsed": false,
    "scrolled": true
   },
   "outputs": [
    {
     "name": "stdout",
     "output_type": "stream",
     "text": [
      "[ 4.2450639  1.122575   0.1619962  0.        -0.       ]\n",
      "[ 4.2450639  1.122575   0.1619962]\n",
      "[ 4.2450639  1.122575   0.1619962]\n"
     ]
    }
   ],
   "source": [
    "values1 = np.sort(np.linalg.eig(M.dot(M.T))[0])[::-1].round(7)\n",
    "values2 = np.sort(np.linalg.eig(M.T.dot(M))[0])[::-1].round(7)\n",
    "squares = np.sort(np.square(s))[::-1].round(7)\n",
    "print values1\n",
    "print values2\n",
    "print squares"
   ]
  },
  {
   "cell_type": "markdown",
   "metadata": {},
   "source": [
    "Let's inspect $U$ check if its columns are indeed equal to the eigenvectors of $AA^T$.  \n",
    "\n",
    "We sort the eigenvectors according to their eigenvalue, so we can compare them easily again."
   ]
  },
  {
   "cell_type": "code",
   "execution_count": 17,
   "metadata": {
    "collapsed": false
   },
   "outputs": [
    {
     "name": "stdout",
     "output_type": "stream",
     "text": [
      "[[-0.39669546 -0.56802495 -0.40950255 -0.48625511 -0.34035864]\n",
      " [-0.37711531  0.45466445  0.1439675   0.19414499 -0.76983464]\n",
      " [-0.63509333  0.47380421 -0.32927019 -0.10930073  0.5017973 ]\n",
      " [-0.24915612 -0.38663772 -0.27073206  0.84380956  0.05587555]\n",
      " [-0.48476227 -0.31088381  0.79364118 -0.04361726  0.19127994]]\n",
      "[[-0.39669546 -0.56802495 -0.40950255  0.36611486 -0.2648063 ]\n",
      " [-0.37711531  0.45466445  0.1439675  -0.40984092 -0.79006639]\n",
      " [-0.63509333  0.47380421 -0.32927019  0.25064368  0.51243738]\n",
      " [-0.24915612 -0.38663772 -0.27073206 -0.79099883 -0.06936712]\n",
      " [-0.48476227 -0.31088381  0.79364118  0.09741115  0.19562428]]\n",
      "[[ 1.          1.          1.         -1.32814906  1.2853117 ]\n",
      " [ 1.          1.          1.         -0.47370816  0.97439234]\n",
      " [ 1.          1.          1.         -0.43608015  0.97923634]\n",
      " [ 1.          1.          1.         -1.06676462 -0.80550491]\n",
      " [ 1.          1.          1.         -0.44776455  0.97779245]]\n"
     ]
    }
   ],
   "source": [
    "values, vectors = np.linalg.eig(M.dot(M.T))\n",
    "vectors = vectors[:, values.argsort()[::-1]]\n",
    "print U\n",
    "print vectors\n",
    "print U / vectors"
   ]
  },
  {
   "cell_type": "markdown",
   "metadata": {},
   "source": [
    "Note that they're equal up to a possible sign (+/-), since the orientation of eigenvectors and eigenvalues is arbitrary. Also note that the last eigenvectors are just noise as their corresponding eigenvalues are near-zero.\n",
    "\n",
    "Let's inspect $V$ and $A^TA$."
   ]
  },
  {
   "cell_type": "code",
   "execution_count": 18,
   "metadata": {
    "collapsed": false
   },
   "outputs": [
    {
     "name": "stdout",
     "output_type": "stream",
     "text": [
      "[[-0.61589387 -0.76696282 -0.18011881]\n",
      " [-0.6715291   0.39151618  0.62909756]\n",
      " [-0.41197501  0.50841235 -0.75617027]]\n",
      "[[ 0.61589387  0.76696282  0.18011881]\n",
      " [ 0.6715291  -0.39151618 -0.62909756]\n",
      " [ 0.41197501 -0.50841235  0.75617027]]\n",
      "[[-1. -1. -1.]\n",
      " [-1. -1. -1.]\n",
      " [-1. -1. -1.]]\n"
     ]
    }
   ],
   "source": [
    "V = VT.T\n",
    "values, vectors = np.linalg.eig(M.T.dot(M))\n",
    "vectors = vectors[:, values.argsort()[::-1]]\n",
    "print V\n",
    "print vectors\n",
    "print V / vectors"
   ]
  },
  {
   "cell_type": "markdown",
   "metadata": {},
   "source": [
    "Great, that all seems to work!\n",
    "\n",
    "#### Truncated SVD\n",
    "\n",
    "How does this decomposition help us with data science?  As we saw in the example above already, if $\\Sigma$ is not a square matrix, a lot of the column vectors in $U$ are irrelevant since they correspond to zero-value eigenvalues. Moreover, in practice, you'd have many eigenvalues that are very small. Since the values in $\\Sigma$ are ordered from big to small, we could significantly reduce the dimensions of $\\Sigma$ by limiting this matrix to an actual square matrix of dimension $k$, only containing the first $k$ rows and columns of $\\Sigma$, and throwing away the smallest singular values.\n",
    "\n",
    "\\begin{align*}\n",
    "A = U \\Sigma V^{T} \\approx U' \\Sigma' V'^{T} \\\\\n",
    "\\end{align*}\n",
    "\n",
    "We often ommit these accents and simply write $A = U \\Sigma V^{T}$ when we in fact mean the _truncated SVD_ decomposition. Since we truncate only the smallest singular values, this loss in accuracy is only small if we choose $k$ large enough. This is a small price for a huge gain in insight in our data."
   ]
  },
  {
   "cell_type": "code",
   "execution_count": 19,
   "metadata": {
    "collapsed": false
   },
   "outputs": [
    {
     "name": "stdout",
     "output_type": "stream",
     "text": [
      "[[ 0.99466043  0.20954876  0.15537406]\n",
      " [ 0.09864257  0.74682847  0.52119935]\n",
      " [ 0.44476089  0.99187776  0.89451446]\n",
      " [ 0.64998163  0.11579491  0.08561388]\n",
      " [ 0.81023573  0.74270446  0.00246527]]\n",
      "[[ 0.96497331  0.31323642  0.03074232]\n",
      " [ 0.10907958  0.71037533  0.56501574]\n",
      " [ 0.42089026  1.07525027  0.79430136]\n",
      " [ 0.63035475  0.18434534  0.00321681]\n",
      " [ 0.86777121  0.54175138  0.24400927]]\n"
     ]
    }
   ],
   "source": [
    "n_samples, n_features = M.shape\n",
    "k = 2\n",
    "M_svd = U[:n_samples, :k].dot(S[:k, :k]).dot(V[:n_features, :k].T)\n",
    "print M\n",
    "print M_svd "
   ]
  },
  {
   "cell_type": "markdown",
   "metadata": {},
   "source": [
    "How to measure the quality of this?"
   ]
  },
  {
   "cell_type": "code",
   "execution_count": 20,
   "metadata": {
    "collapsed": false
   },
   "outputs": [
    {
     "name": "stdout",
     "output_type": "stream",
     "text": [
      "M is a 5x3-matrix, but we only choose the largest 2 singular values\n",
      "\n",
      "We kept 88% of our singular values, weigthed by their size:\n",
      "- before: [ 2.06035529  1.05951639  0.40248757]\n",
      "- after:  [ 2.06035529  1.05951639]\n",
      "\n",
      "Relative differences with original matrix (6.47 on average):\n",
      "[[ -3.00000000e-02   4.90000000e-01  -8.00000000e-01]\n",
      " [  1.10000000e-01  -5.00000000e-02   8.00000000e-02]\n",
      " [ -5.00000000e-02   8.00000000e-02  -1.10000000e-01]\n",
      " [ -3.00000000e-02   5.90000000e-01  -9.60000000e-01]\n",
      " [  7.00000000e-02  -2.70000000e-01   9.79800000e+01]]\n"
     ]
    }
   ],
   "source": [
    "s_kept = s[:k]\n",
    "print \"M is a %dx%d-matrix, but we only choose the largest %d singular values\" % (n_samples, n_features, k)\n",
    "print \"\\nWe kept %d%% of our singular values, weigthed by their size:\" % (100. * s_kept.sum() / s.sum())\n",
    "print \"- before:\", s\n",
    "print \"- after: \", s_kept\n",
    "diff = ((M_svd - M) / M).round(2)\n",
    "print \"\\nRelative differences with original matrix (%.2f on average):\" % diff.mean()\n",
    "print diff"
   ]
  },
  {
   "cell_type": "markdown",
   "metadata": {},
   "source": [
    "For an individual data point, the difference can be substantial, but for the population as a whole, we are pretty close to our initial matrix. \n",
    "\n",
    "\n",
    "#### Interpretation\n",
    "\n",
    "Let's $A$ be our $N \\times n$ feature matrix with $N$ samples and $n$ features, and let's write the SVD as follows, trunacted to some dimension $k < n$:\n",
    "\n",
    "\\begin{align}\n",
    "A = U \\Sigma V^{T}\n",
    "\\end{align}\n",
    "\n",
    "Each of these matrices represents some grouping the data:\n",
    "- $U$ ($N \\times k$) represents how each datapoint relates to some latent concept,\n",
    "- $V$ ($n \\times k$) represents how each concept relates to each original feature, and\n",
    "- $\\Sigma$ ($k \\times k$) represents the strength of each of those concepts in the dataset.\n",
    "\n",
    "This reduces the number of dimensions from $n$ to $k$, since instead of modelling our data for each feature, we now model our data for each concept. Our intuition is that datapoints with similar relevant features will get similar concepts.\n",
    "\n",
    "A very concrete example of this is text classification, in which case this method is often called _Latent semantic Analysis_ (LSA).  As always with Natural Language Processing (NLP), we transform our $N$ documents into a $N \\times n$ feature matrix, where each column represents a certain word or n-gram (e.g., using `CountVectorizer`).  Please refer to the **notebook about LSA** in this folder for a clear demonstration about this.\n",
    "\n",
    "### Principal Component Analysis\n",
    "\n",
    "Principal Component Analysis (PCA) is directlty related to SVD by the following expression:\n",
    "\n",
    "\\begin{align*}\n",
    "A &= U \\Sigma V^{T} \\\\\n",
    "AA^T &= (U \\Sigma V^{T})(V \\Sigma U^{T}) \\\\\n",
    "&= U \\Sigma^2 U^{T}\n",
    "\\end{align*}\n",
    "\n",
    "Note that we used that $V$ is an orthogonal matrix, and hence $V^TV = \\textbf{1}$.  Then we have:\n",
    "- $AA^T$ is called the _covariance matrix_ (assuimg that all features $A$ were scaled with mean zero),\n",
    "- $U$ is a square matrix consisting of the eigenvectors of $AA^T$, and\n",
    "- $\\Sigma^2$ is a square diagonal matrix with the eigenvalues of $AA^T$.\n",
    "\n",
    "This means they are unique set of points that can be scaled by the covariance matrix but not rotated.  Therefore, they represent a new set of axes for our space.  This means our data can be shifted form our current axes or perspective to a new coordinate system - we can move our data points from samples in our feature space to samples in some underlying concept space. Pease refer to the **notebook about PCA** for an in-depth look into the math behind this.\n",
    "\n",
    "### Further reading\n",
    "\n",
    "- [Linear algebra explained in four pages](http://cnd.mcgill.ca/~ivan/miniref/linear_algebra_in_4_pages.pdf)\n",
    "- [Latent Semantic Analysis](https://en.wikipedia.org/wiki/Latent_semantic_indexing) on Wikipedia"
   ]
  },
  {
   "cell_type": "code",
   "execution_count": null,
   "metadata": {
    "collapsed": true
   },
   "outputs": [],
   "source": []
  }
 ],
 "metadata": {
  "kernelspec": {
   "display_name": "Python 2",
   "language": "python",
   "name": "python2"
  },
  "language_info": {
   "codemirror_mode": {
    "name": "ipython",
    "version": 2
   },
   "file_extension": ".py",
   "mimetype": "text/x-python",
   "name": "python",
   "nbconvert_exporter": "python",
   "pygments_lexer": "ipython2",
   "version": "2.7.10"
  }
 },
 "nbformat": 4,
 "nbformat_minor": 0
}
