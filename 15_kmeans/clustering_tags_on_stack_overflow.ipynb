{
 "cells": [
  {
   "cell_type": "markdown",
   "metadata": {},
   "source": [
    "# Stack Overflow - Clustering\n",
    "\n",
    "This notebook continues exploring the the data of the GADS23 Kaggle Stack Overflow competition.\n",
    "\n",
    "Your goal was to build a classifier that predicts whether or not a question will be closed given the question as submitted.\n",
    "\n",
    "Let's see if clustering would be helpful"
   ]
  },
  {
   "cell_type": "code",
   "execution_count": 1,
   "metadata": {
    "collapsed": false
   },
   "outputs": [],
   "source": [
    "import numpy as np\n",
    "import pandas as pd\n",
    "from datetime import datetime\n",
    "from sklearn.feature_extraction.text import CountVectorizer\n",
    "from sklearn.preprocessing import StandardScaler\n",
    "from sklearn.cluster import KMeans\n",
    "import seaborn\n",
    "from matplotlib import pyplot as plt\n",
    "%matplotlib inline"
   ]
  },
  {
   "cell_type": "code",
   "execution_count": 2,
   "metadata": {
    "collapsed": false
   },
   "outputs": [],
   "source": [
    "data = pd.read_csv(\"/Users/ruben/Downloads/train.csv\", index_col=0)"
   ]
  },
  {
   "cell_type": "markdown",
   "metadata": {},
   "source": [
    "### Tags\n",
    "One obvious candidate for clustering would be the vast amount of tags we have."
   ]
  },
  {
   "cell_type": "code",
   "execution_count": 3,
   "metadata": {
    "collapsed": false
   },
   "outputs": [
    {
     "name": "stdout",
     "output_type": "stream",
     "text": [
      "CPU times: user 5.27 s, sys: 71.1 ms, total: 5.34 s\n",
      "Wall time: 5.32 s\n"
     ]
    }
   ],
   "source": [
    "%%time\n",
    "data['tags'] = data.apply(lambda x: \" \".join(set(str(x['Tag%d' % i]) for i in xrange(1, 6))), axis=1)\n",
    "data['tags'] = data['tags'].str.replace('nan', '').str.replace(\"  \", \" \").str.strip()"
   ]
  },
  {
   "cell_type": "code",
   "execution_count": 4,
   "metadata": {
    "collapsed": false
   },
   "outputs": [
    {
     "name": "stdout",
     "output_type": "stream",
     "text": [
      "We have 18309 tags.\n"
     ]
    }
   ],
   "source": [
    "tags = set([tag for tags in data.tags.values for tag in tags.split()])\n",
    "print \"We have\", len(tags), \"tags.\""
   ]
  },
  {
   "cell_type": "markdown",
   "metadata": {},
   "source": [
    "That is a lot. We could maybe cluster these, and then feed the cluster category into the model, rather than an ID for one of the 18K tags.  We could use `CountVectorizer` for this again."
   ]
  },
  {
   "cell_type": "code",
   "execution_count": 5,
   "metadata": {
    "collapsed": true
   },
   "outputs": [],
   "source": [
    "n_clusters = 10\n",
    "# N = 10000  # only use the first N documents for clustering (to speed up computations)\n",
    "# data = data.iloc[:N]"
   ]
  },
  {
   "cell_type": "code",
   "execution_count": 6,
   "metadata": {
    "collapsed": false
   },
   "outputs": [
    {
     "name": "stdout",
     "output_type": "stream",
     "text": [
      "CPU times: user 1.01 s, sys: 23 ms, total: 1.04 s\n",
      "Wall time: 1.03 s\n"
     ]
    }
   ],
   "source": [
    "%%time\n",
    "cv = CountVectorizer(stop_words='english', ngram_range=(1, 1), max_features=5000, min_df=10, max_df=.95, binary=True)\n",
    "X = cv.fit_transform(data.tags)"
   ]
  },
  {
   "cell_type": "markdown",
   "metadata": {},
   "source": [
    "#### Clustering tags by their documents"
   ]
  },
  {
   "cell_type": "code",
   "execution_count": 7,
   "metadata": {
    "collapsed": false
   },
   "outputs": [],
   "source": [
    "XT = X.T\n",
    "XT = StandardScaler().fit_transform(XT.toarray().astype(float))"
   ]
  },
  {
   "cell_type": "code",
   "execution_count": 8,
   "metadata": {
    "collapsed": false
   },
   "outputs": [
    {
     "name": "stdout",
     "output_type": "stream",
     "text": [
      "CPU times: user 4min 27s, sys: 5.2 s, total: 4min 32s\n",
      "Wall time: 1min 43s\n"
     ]
    }
   ],
   "source": [
    "%%time\n",
    "model = KMeans(n_clusters=n_clusters)\n",
    "model.fit(XT)"
   ]
  },
  {
   "cell_type": "code",
   "execution_count": 9,
   "metadata": {
    "collapsed": false
   },
   "outputs": [
    {
     "data": {
      "text/plain": [
       "(array([0, 1, 2, 3, 4, 5, 6, 7, 8, 9], dtype=int32),\n",
       " array([3225,    1,    1,    2,    1,    1,    1,    1,    1,    1]))"
      ]
     },
     "execution_count": 9,
     "metadata": {},
     "output_type": "execute_result"
    }
   ],
   "source": [
    "np.unique(model.predict(XT), return_counts=True)"
   ]
  },
  {
   "cell_type": "markdown",
   "metadata": {},
   "source": [
    "Hmm, that didn't quite work: almost all tags got into one cluster, and the other clusters just got one tag. (Note we have less tags since we only used part of the data.)\n",
    "\n",
    "#### Clustering documents by their tags\n",
    "\n",
    "One other way we could do, is clustering the documents according to their tags, and then use their document cluster to feed into the model."
   ]
  },
  {
   "cell_type": "code",
   "execution_count": 10,
   "metadata": {
    "collapsed": false
   },
   "outputs": [
    {
     "name": "stdout",
     "output_type": "stream",
     "text": [
      "CPU times: user 32.8 s, sys: 97.6 ms, total: 32.9 s\n",
      "Wall time: 32.9 s\n"
     ]
    },
    {
     "data": {
      "text/plain": [
       "KMeans(copy_x=True, init='k-means++', max_iter=300, n_clusters=10, n_init=10,\n",
       "    n_jobs=1, precompute_distances='auto', random_state=None, tol=0.0001,\n",
       "    verbose=0)"
      ]
     },
     "execution_count": 10,
     "metadata": {},
     "output_type": "execute_result"
    }
   ],
   "source": [
    "%%time\n",
    "model.fit(X)"
   ]
  },
  {
   "cell_type": "code",
   "execution_count": 11,
   "metadata": {
    "collapsed": false
   },
   "outputs": [
    {
     "name": "stderr",
     "output_type": "stream",
     "text": [
      "/Users/ruben/anaconda/lib/python2.7/site-packages/sklearn/cluster/k_means_.py:862: RuntimeWarning: Got data type int64, converted to float to avoid overflows\n",
      "  X = self._check_test_data(X)\n"
     ]
    },
    {
     "data": {
      "text/plain": [
       "(array([ 0.,  1.,  2.,  3.,  4.,  5.,  6.,  7.,  8.,  9.]),\n",
       " array([ 4100, 79086,  4237,  1996,  7608, 11944, 11935,  9816,  7418,  2132]))"
      ]
     },
     "execution_count": 11,
     "metadata": {},
     "output_type": "execute_result"
    }
   ],
   "source": [
    "np.unique(model.predict(X), return_counts=True)"
   ]
  },
  {
   "cell_type": "markdown",
   "metadata": {},
   "source": [
    "Much better! Let's inspect the most common tags in these clusters."
   ]
  },
  {
   "cell_type": "code",
   "execution_count": 12,
   "metadata": {
    "collapsed": false
   },
   "outputs": [
    {
     "name": "stdout",
     "output_type": "stream",
     "text": [
      "Top 12 tags per cluster:\n",
      "Cluster 0: jquery ajax php html ui css plugins mobile json forms internet explorer\n",
      "Cluster 1: iphone python ruby objective ios rails windows linux html css mysql facebook\n",
      "Cluster 2: sql server 2008 mysql database 2005 net tsql query linq asp oracle\n",
      "Cluster 3: google engine app maps chrome api javascript python java android extension analytics\n",
      "Cluster 4: javascript jquery html css ajax php html5 js events json internet regex\n",
      "Cluster 5: php mysql html javascript php5 arrays wordpress codeigniter database sql apache facebook\n",
      "Cluster 6: java android ee eclipse swing web spring xml php hibernate jsp javascript\n",
      "Cluster 7: net asp mvc vb jquery javascript web ajax framework entity windows winforms\n",
      "Cluster 8: android layout listview iphone emulator eclipse application sqlite mobile intent activity widget\n",
      "Cluster 9: visual studio 2010 net 2008 asp windows vb sql 2005 debugging mvc\n"
     ]
    }
   ],
   "source": [
    "top = 12\n",
    "print \"Top %d tags per cluster:\" % top\n",
    "order_centroids = model.cluster_centers_.argsort()[:, ::-1]\n",
    "terms = cv.get_feature_names()\n",
    "for i in range(n_clusters):\n",
    "    print \"Cluster %d:\" % i,\n",
    "    for ind in order_centroids[i, :top]:\n",
    "        print terms[ind],\n",
    "    print"
   ]
  },
  {
   "cell_type": "markdown",
   "metadata": {},
   "source": [
    "Seems like there are at least a front-end cluster, a database cluster, and a mobile cluster."
   ]
  },
  {
   "cell_type": "code",
   "execution_count": 13,
   "metadata": {
    "collapsed": false
   },
   "outputs": [
    {
     "data": {
      "image/png": "[encoded data removed]",
      "text/plain": [
       "<matplotlib.figure.Figure at 0x110d79c90>"
      ]
     },
     "metadata": {},
     "output_type": "display_data"
    }
   ],
   "source": [
    "data['tag_cluster'] = model.predict(X)\n",
    "s = data.groupby('tag_cluster').OpenStatus.mean().sort(inplace=False)\n",
    "f = s.plot(kind='barh')"
   ]
  },
  {
   "cell_type": "markdown",
   "metadata": {},
   "source": [
    "We difference in closings per cluster suggests we could try extracting some value from this.\n",
    "\n",
    "We leave it as an exercise to verify if adding these clusters to your feature matrix indeed leads to a higher oreduction accuracy."
   ]
  },
  {
   "cell_type": "markdown",
   "metadata": {},
   "source": [
    "#### Jaccard distance\n",
    "\n",
    "The _Jaccard distance_ is a distance metric between text documents. It measures how many words two documents have in common, as a fraction of the total number of distinct words in both documents.\n",
    "\n",
    "$$\\text{Jaccard distance} = \\frac{ |A \\cap B | }{ |A \\cup B| }$$"
   ]
  },
  {
   "cell_type": "markdown",
   "metadata": {},
   "source": [
    "We could also use it for comparing our tags: how many documents do two tages have in common?"
   ]
  },
  {
   "cell_type": "code",
   "execution_count": 15,
   "metadata": {
    "collapsed": false
   },
   "outputs": [
    {
     "name": "stdout",
     "output_type": "stream",
     "text": [
      "CPU times: user 925 ms, sys: 19 ms, total: 944 ms\n",
      "Wall time: 934 ms\n"
     ]
    }
   ],
   "source": [
    "%%time\n",
    "cv = CountVectorizer(stop_words='english', ngram_range=(1, 1), max_features=5000,\n",
    "                     min_df=10, max_df=.95, binary=True)  # binary=True is important!\n",
    "X = cv.fit_transform(data.tags)"
   ]
  },
  {
   "cell_type": "markdown",
   "metadata": {},
   "source": [
    "Let's create the Jaccard matrix:\n",
    "- `J[i, j]` = # words in common by doc `i` and `j`, over the total # of distinct words in `i` and `j`\n",
    "- `J[i, i]` = 1, obviously, and\n",
    "- `J[i, j]` = `J[i, j]`\n",
    "\n",
    "If we really want a _distance_, we want `J[i, i]` = 0, and bigger numbers the furter away a tag is. Let's define `Jinv = 1 - J` that has this property."
   ]
  },
  {
   "cell_type": "code",
   "execution_count": 16,
   "metadata": {
    "collapsed": false
   },
   "outputs": [],
   "source": [
    "n_tags = X.shape[1]  # number of tags\n",
    "I = X.T.dot(X).toarray()  # X-transposed times X gives a tag x tag matrix with the # of docs in common\n",
    "n_docs = np.diag(I)  # number of docs per tag\n",
    "# U = np.array([[n_docs[i] + n_docs[j] - I[i, j] for i in xrange(n_tags)] for j in xrange(n_tags)])  # this is slow\n",
    "N = np.array([n_docs] * n_tags)  # number of docs broadcasted over the entire row\n",
    "U = N + N.T - I  # total distinct docs = n_docs_i + n_docs_j - words in common\n",
    "J = I / U.astype(float)\n",
    "Jinv = 1 - J"
   ]
  },
  {
   "cell_type": "markdown",
   "metadata": {},
   "source": [
    "Let's pick a few random tags and see what the closest tags are."
   ]
  },
  {
   "cell_type": "code",
   "execution_count": 17,
   "metadata": {
    "collapsed": false
   },
   "outputs": [
    {
     "name": "stdout",
     "output_type": "stream",
     "text": [
      "backup            : backup restore backups ntfs strategy sd rsync mysqldump s3 copy\n",
      "textures          : textures direct3d lwjgl shader webgl texture glsl transparency overlay opengl\n",
      "utility           : utility scan small method thumbnail paging quality projects productivity navigation\n",
      "conf              : conf httpd virtualhost vhosts autotools ogg alias password protection apache\n",
      "cpan              : cpan rpc perl polls module standards crash date text search\n",
      "branch            : branch merge git mercurial master svn tortoisesvn tfs complex spaces\n",
      "development       : development career environment professional enterprise software web education jobs self\n",
      "reverse           : reverse engineering proxy geocoding decompiling assembly apache2 checksum x86 diagram\n",
      "markers           : markers maps shortest opacity kml selection zoom center add checkbox\n",
      "handle            : handle firemonkey mouse global cursor click reverse conventions naming intent\n"
     ]
    }
   ],
   "source": [
    "top = 10\n",
    "tags = np.array(cv.get_feature_names())\n",
    "for no in np.random.choice(n_tags, top, replace=False):  # pick 10 random tags\n",
    "    print \"%-18s:\" % tags[no], \" \".join(tags[Jinv[no].argsort()[:top]])"
   ]
  },
  {
   "cell_type": "markdown",
   "metadata": {},
   "source": [
    "Makes sense. Some tags have more meaning than others, I expect. Note that this is **not** a partitioning, as we only have a distance between words.\n",
    "\n",
    "We could also apply `KMeans` to this Jaccard matrix, as the entries are indeed distances."
   ]
  },
  {
   "cell_type": "code",
   "execution_count": 18,
   "metadata": {
    "collapsed": false
   },
   "outputs": [
    {
     "name": "stdout",
     "output_type": "stream",
     "text": [
      "Top 10 tags per cluster:\n",
      "Cluster 0: gpl licensing lgpl license organizing bsd opensource tagging copyright folders\n",
      "Cluster 1: web net server asp code programming sql framework ruby data\n",
      "Cluster 2: reports appstore approval crystal jni jasper loading recognition lazy opengl\n",
      "Cluster 3: cream sandwich ice honeycomb softkeyboard decompiling launcher spinner htc fullscreen\n",
      "Cluster 4: objective cocoa iphone ios touch xcode core osx ipad sdk\n",
      "Cluster 5: 960 gs queries media aggregate functions responsive viewport compass models\n",
      "Cluster 6: studio visual continuous 2010 automated tests build integration command line\n",
      "Cluster 7: intellij idea ide glassfish hints tips jslint proguard jdeveloper completion\n",
      "Cluster 8: chrome extension firefox google addon safari browser methods devtools opera\n",
      "Cluster 9: swipe gesture softkeyboard uiscrollview scrollview uiimageview edittext scroll horizontal uiviewcontroller\n"
     ]
    }
   ],
   "source": [
    "model.fit(Jinv)\n",
    "print \"Top %d tags per cluster:\" % top\n",
    "order_centroids = model.cluster_centers_.argsort()\n",
    "for i in range(n_clusters):\n",
    "    print \"Cluster %d:\" % i, \" \".join(tags[order_centroids[i, :top]])"
   ]
  },
  {
   "cell_type": "markdown",
   "metadata": {},
   "source": [
    "That looks quite promising.\n",
    "\n",
    "Unfortunately, the model has put a lot of tags into the same cluster again:"
   ]
  },
  {
   "cell_type": "code",
   "execution_count": 19,
   "metadata": {
    "collapsed": false
   },
   "outputs": [
    {
     "data": {
      "text/plain": [
       "(array([0, 1, 2, 3, 4, 5, 6, 7, 8, 9], dtype=int32),\n",
       " array([  15, 3072,   51,    3,    8,   23,   39,    2,   12,   10]))"
      ]
     },
     "execution_count": 19,
     "metadata": {},
     "output_type": "execute_result"
    }
   ],
   "source": [
    "np.unique(model.predict(Jinv), return_counts=True)"
   ]
  },
  {
   "cell_type": "code",
   "execution_count": null,
   "metadata": {
    "collapsed": true
   },
   "outputs": [],
   "source": []
  }
 ],
 "metadata": {
  "kernelspec": {
   "display_name": "Python 2",
   "language": "python",
   "name": "python2"
  },
  "language_info": {
   "codemirror_mode": {
    "name": "ipython",
    "version": 2
   },
   "file_extension": ".py",
   "mimetype": "text/x-python",
   "name": "python",
   "nbconvert_exporter": "python",
   "pygments_lexer": "ipython2",
   "version": "2.7.10"
  }
 },
 "nbformat": 4,
 "nbformat_minor": 0
}
