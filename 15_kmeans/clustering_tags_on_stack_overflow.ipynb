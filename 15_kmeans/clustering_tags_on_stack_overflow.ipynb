{
 "cells": [
  {
   "cell_type": "markdown",
   "metadata": {},
   "source": [
    "# Stack Overflow - Clustering\n",
    "\n",
    "This notebook continues exploring the the data of the GADS23 Kaggle Stack Overflow competition.\n",
    "\n",
    "Your goal was to build a classifier that predicts whether or not a question will be closed given the question as submitted.\n",
    "\n",
    "Let's see if clustering would be helpful"
   ]
  },
  {
   "cell_type": "code",
   "execution_count": 1,
   "metadata": {
    "collapsed": false
   },
   "outputs": [],
   "source": [
    "import numpy as np\n",
    "import pandas as pd\n",
    "from datetime import datetime\n",
    "from sklearn.feature_extraction.text import CountVectorizer\n",
    "from sklearn.preprocessing import StandardScaler\n",
    "from sklearn.cluster import KMeans\n",
    "import seaborn\n",
    "from matplotlib import pyplot as plt\n",
    "%matplotlib inline"
   ]
  },
  {
   "cell_type": "code",
   "execution_count": 2,
   "metadata": {
    "collapsed": false
   },
   "outputs": [],
   "source": [
    "data = pd.read_csv(\"/Users/ruben/Downloads/train.csv\", index_col=0)"
   ]
  },
  {
   "cell_type": "markdown",
   "metadata": {},
   "source": [
    "### Tags\n",
    "One obvious candidate for clustering would be the vast amount of tags we have."
   ]
  },
  {
   "cell_type": "code",
   "execution_count": 3,
   "metadata": {
    "collapsed": false
   },
   "outputs": [
    {
     "name": "stdout",
     "output_type": "stream",
     "text": [
      "CPU times: user 5.42 s, sys: 105 ms, total: 5.53 s\n",
      "Wall time: 5.49 s\n"
     ]
    }
   ],
   "source": [
    "%%time\n",
    "data['tags'] = data.apply(lambda x: \" \".join(set(str(x['Tag%d' % i]) for i in xrange(1, 6))), axis=1)\n",
    "data['tags'] = data['tags'].str.replace('nan', '').str.replace(\"  \", \" \").str.strip()"
   ]
  },
  {
   "cell_type": "code",
   "execution_count": 4,
   "metadata": {
    "collapsed": false
   },
   "outputs": [
    {
     "name": "stdout",
     "output_type": "stream",
     "text": [
      "We have 18309 tags.\n"
     ]
    }
   ],
   "source": [
    "tags = set([tag for tags in data.tags.values for tag in tags.split()])\n",
    "print \"We have\", len(tags), \"tags.\""
   ]
  },
  {
   "cell_type": "markdown",
   "metadata": {},
   "source": [
    "That is a lot. We could maybe cluster these, and then feed the cluster category into the model, rather than an ID for one of the 18K tags.  We could use `CountVectorizer` for this again."
   ]
  },
  {
   "cell_type": "code",
   "execution_count": 5,
   "metadata": {
    "collapsed": true
   },
   "outputs": [],
   "source": [
    "n_clusters = 10\n",
    "# N = 10000  # only use the first N documents for clustering (to speed up computations)\n",
    "# data = data.iloc[:N]"
   ]
  },
  {
   "cell_type": "code",
   "execution_count": 6,
   "metadata": {
    "collapsed": false
   },
   "outputs": [
    {
     "name": "stdout",
     "output_type": "stream",
     "text": [
      "CPU times: user 1.01 s, sys: 22.8 ms, total: 1.04 s\n",
      "Wall time: 1.03 s\n"
     ]
    }
   ],
   "source": [
    "%%time\n",
    "cv = CountVectorizer(stop_words='english', ngram_range=(1, 1), max_features=5000, min_df=10, max_df=.95, binary=True)\n",
    "X = cv.fit_transform(data.tags)"
   ]
  },
  {
   "cell_type": "markdown",
   "metadata": {},
   "source": [
    "#### Clustering tags by their documents"
   ]
  },
  {
   "cell_type": "code",
   "execution_count": 7,
   "metadata": {
    "collapsed": false
   },
   "outputs": [],
   "source": [
    "XT = X.T\n",
    "XT = StandardScaler().fit_transform(XT.toarray().astype(float))"
   ]
  },
  {
   "cell_type": "code",
   "execution_count": 8,
   "metadata": {
    "collapsed": false
   },
   "outputs": [
    {
     "name": "stdout",
     "output_type": "stream",
     "text": [
      "CPU times: user 4min 35s, sys: 3.03 s, total: 4min 38s\n",
      "Wall time: 1min 39s\n"
     ]
    }
   ],
   "source": [
    "%%time\n",
    "model = KMeans(n_clusters=n_clusters)\n",
    "model.fit(XT)"
   ]
  },
  {
   "cell_type": "code",
   "execution_count": 9,
   "metadata": {
    "collapsed": false
   },
   "outputs": [
    {
     "data": {
      "text/plain": [
       "(array([0, 1, 2, 3, 4, 5, 6, 7, 8, 9], dtype=int32),\n",
       " array([   1,    1, 3226,    1,    1,    1,    1,    1,    1,    1]))"
      ]
     },
     "execution_count": 9,
     "metadata": {},
     "output_type": "execute_result"
    }
   ],
   "source": [
    "np.unique(model.predict(XT), return_counts=True)"
   ]
  },
  {
   "cell_type": "markdown",
   "metadata": {},
   "source": [
    "Hmm, that didn't quite work: almost all tags got into one cluster, and the other clusters just got one tag. (Note we have less tags since we only used part of the data.)\n",
    "\n",
    "#### Clustering documents by their tags\n",
    "\n",
    "One other way we could do, is clustering the documents according to their tags, and then use their document cluster to feed into the model."
   ]
  },
  {
   "cell_type": "code",
   "execution_count": 10,
   "metadata": {
    "collapsed": false
   },
   "outputs": [
    {
     "name": "stdout",
     "output_type": "stream",
     "text": [
      "CPU times: user 36.4 s, sys: 97.9 ms, total: 36.5 s\n",
      "Wall time: 36.5 s\n"
     ]
    },
    {
     "data": {
      "text/plain": [
       "KMeans(copy_x=True, init='k-means++', max_iter=300, n_clusters=10, n_init=10,\n",
       "    n_jobs=1, precompute_distances='auto', random_state=None, tol=0.0001,\n",
       "    verbose=0)"
      ]
     },
     "execution_count": 10,
     "metadata": {},
     "output_type": "execute_result"
    }
   ],
   "source": [
    "%%time\n",
    "model.fit(X)"
   ]
  },
  {
   "cell_type": "code",
   "execution_count": 11,
   "metadata": {
    "collapsed": false
   },
   "outputs": [
    {
     "name": "stderr",
     "output_type": "stream",
     "text": [
      "/Users/ruben/anaconda/lib/python2.7/site-packages/sklearn/cluster/k_means_.py:862: RuntimeWarning: Got data type int64, converted to float to avoid overflows\n",
      "  X = self._check_test_data(X)\n"
     ]
    },
    {
     "data": {
      "text/plain": [
       "(array([0, 1, 2, 3, 4, 5, 6, 7, 8, 9], dtype=int32),\n",
       " array([ 4143,  4314,  1807,  6427,  8624, 10950, 12022,  4622,  5960, 81403]))"
      ]
     },
     "execution_count": 11,
     "metadata": {},
     "output_type": "execute_result"
    }
   ],
   "source": [
    "np.unique(model.predict(X), return_counts=True)"
   ]
  },
  {
   "cell_type": "markdown",
   "metadata": {},
   "source": [
    "Much better! Let's inspect the most common tags in these clusters."
   ]
  },
  {
   "cell_type": "code",
   "execution_count": 12,
   "metadata": {
    "collapsed": false
   },
   "outputs": [
    {
     "name": "stdout",
     "output_type": "stream",
     "text": [
      "Top 12 tags per cluster:\n",
      "Cluster 0: sql server 2008 mysql database 2005 net tsql query linq oracle windows\n",
      "Cluster 1: html css javascript jquery internet explorer html5 css3 div php browser web\n",
      "Cluster 2: visual studio 2010 net 2008 asp windows vb sql 2005 debugging server\n",
      "Cluster 3: jquery javascript ajax php html ui css plugins mobile json html5 forms\n",
      "Cluster 4: android java layout eclipse listview google iphone emulator application mobile sqlite activity\n",
      "Cluster 5: java ee swing spring web eclipse javascript hibernate jsp php xml multithreading\n",
      "Cluster 6: php mysql javascript html php5 arrays wordpress codeigniter database sql apache facebook\n",
      "Cluster 7: python django google ruby engine app php list web regex mysql numpy\n",
      "Cluster 8: net asp mvc jquery javascript ajax web sql vb framework entity server\n",
      "Cluster 9: iphone javascript net ruby objective ios rails windows linux mysql facebook google\n"
     ]
    }
   ],
   "source": [
    "top = 12\n",
    "print \"Top %d tags per cluster:\" % top\n",
    "order_centroids = model.cluster_centers_.argsort()[:, ::-1]\n",
    "terms = cv.get_feature_names()\n",
    "for i in range(n_clusters):\n",
    "    print \"Cluster %d:\" % i,\n",
    "    for ind in order_centroids[i, :top]:\n",
    "        print terms[ind],\n",
    "    print"
   ]
  },
  {
   "cell_type": "markdown",
   "metadata": {},
   "source": [
    "Seems like there are at least a front-end cluster, a database cluster, and a mobile cluster.  Note that, since we clustered documents, not tags, a tag might be associated with several clusters."
   ]
  },
  {
   "cell_type": "code",
   "execution_count": 13,
   "metadata": {
    "collapsed": false
   },
   "outputs": [
    {
     "data": {
      "image/png": "[encoded data removed]",
      "text/plain": [
       "<matplotlib.figure.Figure at 0x110e78ad0>"
      ]
     },
     "metadata": {},
     "output_type": "display_data"
    }
   ],
   "source": [
    "data['tag_cluster'] = model.predict(X)\n",
    "s = data.groupby('tag_cluster').OpenStatus.mean().sort(inplace=False)\n",
    "f = s.plot(kind='barh')"
   ]
  },
  {
   "cell_type": "markdown",
   "metadata": {},
   "source": [
    "The difference in closed posts per cluster suggests we could try extracting some value from this.  We leave it as an exercise to verify if adding these clusters to your feature matrix indeed leads to a higher preduction accuracy.\n",
    "\n",
    "#### Jaccard distance\n",
    "\n",
    "The [_Jaccard index_](https://en.wikipedia.org/wiki/Jaccard_index) is a similarity metric between text documents. It measures how many words two documents have in common, as a fraction of the total number of distinct words in both documents.\n",
    "\n",
    "$$\\text{Jaccard index} = \\frac{ |A \\cap B | }{ |A \\cup B| }$$\n",
    "\n",
    "We could make a Jaccard matrix $J$, with pairwise similarities $J_{ij}$ as entries.\n",
    "- `J[i, j]` = Jaccard similarity between doc _i_ and _j_ (between 0 and 1)\n",
    "- `J[i, i]` = 1, obviously, and\n",
    "- `J[i, j]` = `J[i, j]`, i.e., the matrix is symmetric.\n",
    "\n",
    "We could also define the _Jaccard distance_, which has $D_{ii} = 0$ for identical documents, and bigger values as the documents have less words in common.  We define: $D = 1 - J,$ which has values between 0 and 1.\n",
    "\n",
    "We could also use this for comparing our tags: how many documents do two tages have in common?"
   ]
  },
  {
   "cell_type": "code",
   "execution_count": 14,
   "metadata": {
    "collapsed": false
   },
   "outputs": [
    {
     "name": "stdout",
     "output_type": "stream",
     "text": [
      "CPU times: user 916 ms, sys: 23.3 ms, total: 939 ms\n",
      "Wall time: 926 ms\n"
     ]
    }
   ],
   "source": [
    "%%time\n",
    "cv = CountVectorizer(stop_words='english', ngram_range=(1, 1), max_features=5000,\n",
    "                     min_df=10, max_df=.95, binary=True)  # binary=True is important!\n",
    "X = cv.fit_transform(data.tags)"
   ]
  },
  {
   "cell_type": "markdown",
   "metadata": {},
   "source": [
    "Compute the Jaccard matrix and the distance matrix."
   ]
  },
  {
   "cell_type": "code",
   "execution_count": 15,
   "metadata": {
    "collapsed": false
   },
   "outputs": [],
   "source": [
    "n_tags = X.shape[1]  # number of tags\n",
    "I = X.T.dot(X).toarray()  # X-transposed times X gives a tag x tag matrix with the # of docs in common\n",
    "n_docs = np.diag(I)  # number of docs per tag\n",
    "# U = np.array([[n_docs[i] + n_docs[j] - I[i, j] for i in xrange(n_tags)] for j in xrange(n_tags)])  # this is slow\n",
    "N = np.array([n_docs] * n_tags)  # number of docs broadcasted over the entire row\n",
    "U = N + N.T - I  # total distinct docs = n_docs_i + n_docs_j - words in common\n",
    "J = I / U.astype(float)\n",
    "D = 1 - J"
   ]
  },
  {
   "cell_type": "markdown",
   "metadata": {},
   "source": [
    "Let's pick a few random tags and see what the closest tags are."
   ]
  },
  {
   "cell_type": "code",
   "execution_count": 16,
   "metadata": {
    "collapsed": false
   },
   "outputs": [
    {
     "name": "stdout",
     "output_type": "stream",
     "text": [
      "w3c               : w3c validation xhtml standards dtd logo compliance validator digital crud\n",
      "recaptcha         : recaptcha captcha googlebot messagebox prevention spam iframe message redirect error\n",
      "jdk7              : jdk7 jdk1 jdk nio jython jre classes closures jruby production\n",
      "carrierwave       : carrierwave rmagick paperclip rackspace asset pipeline gem compare cloud rails\n",
      "analytics         : analytics google tracking mining flurry usage statistics api intelligence analysis\n",
      "getter            : getter setter phpdoc encapsulation notation dot member blank dao nullpointerexception\n",
      "flexbuilder       : flexbuilder flex4 flex flex3 adobe air actionscript builder access source\n",
      "change            : change password itil isotope radio src textfield detect portlet sas\n",
      "axapta            : axapta ax 2009 dynamics 2012 cobol methods career development forms\n",
      "relational        : relational algebra database non foreign nosql relationship schema databases backbone\n"
     ]
    }
   ],
   "source": [
    "top = 10\n",
    "tags = np.array(cv.get_feature_names())\n",
    "for no in np.random.choice(n_tags, top, replace=False):  # pick 10 random tags\n",
    "    print \"%-18s:\" % tags[no], \" \".join(tags[D[no].argsort()[:top]])"
   ]
  },
  {
   "cell_type": "markdown",
   "metadata": {},
   "source": [
    "Makes sense. Some tags have more meaning than others, I expect. Note that this is not a partitioning, as we only have a distance between words.\n",
    "\n",
    "We could also apply `KMeans` to this Jaccard matrix, as the entries are indeed distances."
   ]
  },
  {
   "cell_type": "code",
   "execution_count": 17,
   "metadata": {
    "collapsed": false
   },
   "outputs": [
    {
     "name": "stdout",
     "output_type": "stream",
     "text": [
      "Top 10 tags per cluster:\n",
      "Cluster 0: graduate school masters degree college education systems university science old\n",
      "Cluster 1: web cream sandwich ice net asp internet iphone explorer ios\n",
      "Cluster 2: studio visual 2010 server engine 2008 sql opengl xna app\n",
      "Cluster 3: fault segmentation gdb berkeley scanf resque sfml jit nasm slots\n",
      "Cluster 4: password conf httpd protection passwords recovery alias salt storage encryption\n",
      "Cluster 5: unit tests automated testing mocks tdd rhino integration continuous driven\n",
      "Cluster 6: lotus domino asset notes package pipeline 04 10 directory active\n",
      "Cluster 7: style coding ref counting anonymous handling automatic event types exception\n",
      "Cluster 8: garbage collection ruby rails programming lisp node js languages clojure\n",
      "Cluster 9: procedures stored plsql 2005 cursor server sql tsql oracle db2\n"
     ]
    }
   ],
   "source": [
    "model.fit(D)\n",
    "print \"Top %d tags per cluster:\" % top\n",
    "order_centroids = model.cluster_centers_.argsort()\n",
    "for i in range(n_clusters):\n",
    "    print \"Cluster %d:\" % i, \" \".join(tags[order_centroids[i, :top]])"
   ]
  },
  {
   "cell_type": "markdown",
   "metadata": {},
   "source": [
    "That looks quite promising.\n",
    "\n",
    "Unfortunately, the model has put a lot of tags into the same cluster again:"
   ]
  },
  {
   "cell_type": "code",
   "execution_count": 18,
   "metadata": {
    "collapsed": false
   },
   "outputs": [
    {
     "data": {
      "text/plain": [
       "(array([0, 1, 2, 3, 4, 5, 6, 7, 8, 9], dtype=int32),\n",
       " array([   7, 2878,  104,    2,   11,   35,   43,   52,  101,    2]))"
      ]
     },
     "execution_count": 18,
     "metadata": {},
     "output_type": "execute_result"
    }
   ],
   "source": [
    "np.unique(model.predict(D), return_counts=True)"
   ]
  },
  {
   "cell_type": "markdown",
   "metadata": {
    "collapsed": true
   },
   "source": [
    "<hr>\n",
    "## Exercise\n",
    "- Add the cluster information to your feature set and train a model on your data. Does the inclusion of these clusters indeed imporve prediction accuracy?  (Don't forget to cross-validate.)\n",
    "- Try different values for `n_clusters` and see if you could find a good value using the _elbow method_.\n",
    "\n",
    "We have looked at clustering tags by documents, clustering documents by tags, and at the Jaccard distance between two tags using the number of documents they have in common.  \n",
    "- Could you think of other ways of clustering tags or documents?  Try to implement these and see how effective they are."
   ]
  },
  {
   "cell_type": "code",
   "execution_count": null,
   "metadata": {
    "collapsed": true
   },
   "outputs": [],
   "source": []
  }
 ],
 "metadata": {
  "kernelspec": {
   "display_name": "Python 2",
   "language": "python",
   "name": "python2"
  },
  "language_info": {
   "codemirror_mode": {
    "name": "ipython",
    "version": 2
   },
   "file_extension": ".py",
   "mimetype": "text/x-python",
   "name": "python",
   "nbconvert_exporter": "python",
   "pygments_lexer": "ipython2",
   "version": "2.7.10"
  }
 },
 "nbformat": 4,
 "nbformat_minor": 0
}
