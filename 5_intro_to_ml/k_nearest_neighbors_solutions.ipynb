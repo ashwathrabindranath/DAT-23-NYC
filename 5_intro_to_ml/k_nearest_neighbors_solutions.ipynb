{
 "cells": [
  {
   "cell_type": "markdown",
   "metadata": {},
   "source": [
    "# k-Nearest Neighbors (kNN) "
   ]
  },
  {
   "cell_type": "markdown",
   "metadata": {},
   "source": [
    "## Exercises"
   ]
  },
  {
   "cell_type": "markdown",
   "metadata": {},
   "source": [
    "### Import data"
   ]
  },
  {
   "cell_type": "code",
   "execution_count": 1,
   "metadata": {
    "collapsed": false
   },
   "outputs": [],
   "source": [
    "import pandas as pd\n",
    "path_to_repo = '/Users/ruben/repo/personal/ga/DAT-23-NYC/'"
   ]
  },
  {
   "cell_type": "markdown",
   "metadata": {},
   "source": [
    "#### Applying kNN"
   ]
  },
  {
   "cell_type": "markdown",
   "metadata": {},
   "source": [
    "Let's look at the 538 polling data and see if we can use the census data to predict who was ahead in the polls, using kNN."
   ]
  },
  {
   "cell_type": "code",
   "execution_count": 2,
   "metadata": {
    "collapsed": false
   },
   "outputs": [],
   "source": [
    "# Load data\n",
    "poll_data = pd.read_csv(path_to_repo + 'data/538/2012_poll_data_states.csv', sep='\\t')\n",
    "census_data = pd.read_csv(path_to_repo + 'data/538/census_demographics.csv')\n",
    "states = pd.read_csv(path_to_repo + 'data/538/states.csv')"
   ]
  },
  {
   "cell_type": "code",
   "execution_count": 3,
   "metadata": {
    "collapsed": false
   },
   "outputs": [],
   "source": [
    "# Join all the tables\n",
    "census_w_polls = \\\n",
    "    census_data.merge(states, left_on='state', right_on='State_name') \\\n",
    "    .merge(poll_data, left_on='State_code', right_on='State')"
   ]
  },
  {
   "cell_type": "code",
   "execution_count": 4,
   "metadata": {
    "collapsed": false
   },
   "outputs": [
    {
     "name": "stdout",
     "output_type": "stream",
     "text": [
      "767\n"
     ]
    },
    {
     "data": {
      "text/html": [
       "<div style=\"max-height:1000px;max-width:1500px;overflow:auto;\">\n",
       "<table border=\"1\" class=\"dataframe\">\n",
       "  <thead>\n",
       "    <tr style=\"text-align: right;\">\n",
       "      <th></th>\n",
       "      <th>state</th>\n",
       "      <th>per_black</th>\n",
       "      <th>per_hisp</th>\n",
       "      <th>per_white</th>\n",
       "      <th>educ_hs</th>\n",
       "      <th>educ_coll</th>\n",
       "      <th>average_income</th>\n",
       "      <th>median_income</th>\n",
       "      <th>pop_density</th>\n",
       "      <th>vote_pop</th>\n",
       "      <th>older_pop</th>\n",
       "      <th>per_older</th>\n",
       "      <th>per_vote</th>\n",
       "      <th>State_name</th>\n",
       "      <th>State_code</th>\n",
       "      <th>Date</th>\n",
       "      <th>MoE</th>\n",
       "      <th>Obama (D)</th>\n",
       "      <th>Poll</th>\n",
       "      <th>Romney (R)</th>\n",
       "      <th>Sample</th>\n",
       "      <th>Spread</th>\n",
       "      <th>State</th>\n",
       "    </tr>\n",
       "  </thead>\n",
       "  <tbody>\n",
       "    <tr>\n",
       "      <th>0</th>\n",
       "      <td> ARIZONA</td>\n",
       "      <td> 4.5</td>\n",
       "      <td> 30.1</td>\n",
       "      <td> 57.4</td>\n",
       "      <td> 85</td>\n",
       "      <td> 26.3</td>\n",
       "      <td> 25680</td>\n",
       "      <td> 50448</td>\n",
       "      <td> 56.3</td>\n",
       "      <td> 3934880.535</td>\n",
       "      <td> 920515.71</td>\n",
       "      <td> 0.142</td>\n",
       "      <td> 0.607</td>\n",
       "      <td> ARIZONA</td>\n",
       "      <td> AZ</td>\n",
       "      <td> 9/15 - 9/26</td>\n",
       "      <td> --</td>\n",
       "      <td> 43</td>\n",
       "      <td> RCP Average</td>\n",
       "      <td> 48.7</td>\n",
       "      <td> --</td>\n",
       "      <td> Romney +5.7</td>\n",
       "      <td> AZ</td>\n",
       "    </tr>\n",
       "  </tbody>\n",
       "</table>\n",
       "</div>"
      ],
      "text/plain": [
       "     state  per_black  per_hisp  per_white  educ_hs  educ_coll  \\\n",
       "0  ARIZONA        4.5      30.1       57.4       85       26.3   \n",
       "\n",
       "   average_income  median_income  pop_density     vote_pop  older_pop  \\\n",
       "0           25680          50448         56.3  3934880.535  920515.71   \n",
       "\n",
       "   per_older  per_vote State_name State_code         Date MoE  Obama (D)  \\\n",
       "0      0.142     0.607    ARIZONA         AZ  9/15 - 9/26  --         43   \n",
       "\n",
       "          Poll  Romney (R) Sample       Spread State  \n",
       "0  RCP Average        48.7     --  Romney +5.7    AZ  "
      ]
     },
     "execution_count": 4,
     "metadata": {},
     "output_type": "execute_result"
    }
   ],
   "source": [
    "print len(census_w_polls)\n",
    "pd.options.display.max_columns = 35\n",
    "census_w_polls.head(1)"
   ]
  },
  {
   "cell_type": "code",
   "execution_count": 5,
   "metadata": {
    "collapsed": false
   },
   "outputs": [],
   "source": [
    "# Select some features\n",
    "features = ['per_black', 'per_hisp', 'per_white', 'educ_hs', 'educ_coll', 'pop_density', 'per_older', 'per_vote']\n",
    "X = census_w_polls[features]\n",
    "y = (census_w_polls['Obama (D)'] > census_w_polls['Romney (R)']).astype(int)"
   ]
  },
  {
   "cell_type": "markdown",
   "metadata": {},
   "source": [
    "**Nota bene** \n",
    "- Please note that _X_ has a lot of duplicate rows, since we ommitted the date of the poll, but included all samples – and with different polling results. \n",
    "- Let's do the following questions for both the full dataset, and the dataset with unique rows"
   ]
  },
  {
   "cell_type": "markdown",
   "metadata": {},
   "source": [
    "#### All dataset"
   ]
  },
  {
   "cell_type": "markdown",
   "metadata": {},
   "source": [
    "- Initialize kNN, fit the model on all data, and compute the accuracy of your model."
   ]
  },
  {
   "cell_type": "code",
   "execution_count": 6,
   "metadata": {
    "collapsed": false
   },
   "outputs": [
    {
     "data": {
      "text/plain": [
       "0.80573663624511083"
      ]
     },
     "execution_count": 6,
     "metadata": {},
     "output_type": "execute_result"
    }
   ],
   "source": [
    "from sklearn.neighbors import KNeighborsClassifier\n",
    "model = KNeighborsClassifier(n_neighbors=10)\n",
    "model.fit(X, y)\n",
    "model.score(X, y)"
   ]
  },
  {
   "cell_type": "markdown",
   "metadata": {},
   "source": [
    "Wow, 80% accuracy! Seems great."
   ]
  },
  {
   "cell_type": "markdown",
   "metadata": {},
   "source": [
    "- Now use a training and test set for fit and test your model.\n",
    "- How is its performance different?"
   ]
  },
  {
   "cell_type": "code",
   "execution_count": 7,
   "metadata": {
    "collapsed": false
   },
   "outputs": [
    {
     "data": {
      "text/plain": [
       "0.72727272727272729"
      ]
     },
     "execution_count": 7,
     "metadata": {},
     "output_type": "execute_result"
    }
   ],
   "source": [
    "from sklearn.cross_validation import train_test_split\n",
    "X_train, X_test, y_train, y_test = train_test_split(X, y, train_size=.8)\n",
    "model.fit(X_train, y_train)\n",
    "model.score(X_test, y_test)"
   ]
  },
  {
   "cell_type": "markdown",
   "metadata": {},
   "source": [
    "Note that `train_test_split` makes random splits, so your accuracy can be different than the one above, as you can see below:"
   ]
  },
  {
   "cell_type": "code",
   "execution_count": 8,
   "metadata": {
    "collapsed": false
   },
   "outputs": [
    {
     "name": "stdout",
     "output_type": "stream",
     "text": [
      "0.77 0.79 0.73 0.79 0.81 0.73 0.77 0.79 0.8 0.8 0.81 0.77 0.77 0.86 0.8 \n",
      "avg: 0.785281385281\n"
     ]
    }
   ],
   "source": [
    "import numpy as np\n",
    "scores = []\n",
    "for i in xrange(15):\n",
    "    X_train, X_test, y_train, y_test = train_test_split(X, y, train_size=.8)\n",
    "    scores.append(model.fit(X_train, y_train).score(X_test, y_test))\n",
    "for score in scores:\n",
    "    print np.round(score, 2),\n",
    "print \"\\navg:\", np.mean(scores)"
   ]
  },
  {
   "cell_type": "markdown",
   "metadata": {},
   "source": [
    "So a lower accuracy, not still pretty good."
   ]
  },
  {
   "cell_type": "markdown",
   "metadata": {},
   "source": [
    "- Try a few different values for $k$ to see how your model changes"
   ]
  },
  {
   "cell_type": "markdown",
   "metadata": {},
   "source": [
    "First, let's try in-sample data"
   ]
  },
  {
   "cell_type": "code",
   "execution_count": 9,
   "metadata": {
    "collapsed": false
   },
   "outputs": [
    {
     "data": {
      "image/png": "[encoded data removed]",
      "text/plain": [
       "<matplotlib.figure.Figure at 0x10ca08690>"
      ]
     },
     "metadata": {},
     "output_type": "display_data"
    }
   ],
   "source": [
    "from matplotlib import pyplot as plt\n",
    "%matplotlib inline\n",
    "\n",
    "scores = []\n",
    "for k in xrange(1, 40):\n",
    "    scores.append(KNeighborsClassifier(n_neighbors=k).fit(X, y).score(X, y))\n",
    "f = plt.plot(scores)"
   ]
  },
  {
   "cell_type": "markdown",
   "metadata": {},
   "source": [
    "Hey, that is funny – we would expect an accuracy of 100% for $k=1$. This is because the dataset contains a lot of duplicate rows, so kNN behaves differently.\n",
    "\n",
    "Now let's look at out-of-sample data."
   ]
  },
  {
   "cell_type": "code",
   "execution_count": 10,
   "metadata": {
    "collapsed": false
   },
   "outputs": [
    {
     "data": {
      "image/png": "[encoded data removed]",
      "text/plain": [
       "<matplotlib.figure.Figure at 0x10a75dd50>"
      ]
     },
     "metadata": {},
     "output_type": "display_data"
    }
   ],
   "source": [
    "scores = []\n",
    "for k in xrange(1, 36):\n",
    "    X_train, X_test, y_train, y_test = train_test_split(X, y, train_size=.8)\n",
    "    scores.append(KNeighborsClassifier(n_neighbors=k).fit(X_train, y_train).score(X_test, y_test))\n",
    "f = plt.plot(scores)"
   ]
  },
  {
   "cell_type": "markdown",
   "metadata": {},
   "source": [
    "Crazy time. Let's look at the set without duplicates."
   ]
  },
  {
   "cell_type": "markdown",
   "metadata": {},
   "source": [
    "#### Dataset with only unique rows"
   ]
  },
  {
   "cell_type": "markdown",
   "metadata": {},
   "source": [
    "Let's arbitrarily keep the first row of each duplicate."
   ]
  },
  {
   "cell_type": "code",
   "execution_count": 11,
   "metadata": {
    "collapsed": false
   },
   "outputs": [
    {
     "data": {
      "text/plain": [
       "45"
      ]
     },
     "execution_count": 11,
     "metadata": {},
     "output_type": "execute_result"
    }
   ],
   "source": [
    "X = X.drop_duplicates()\n",
    "y = y.loc[X.index]\n",
    "len(X)"
   ]
  },
  {
   "cell_type": "markdown",
   "metadata": {
    "collapsed": true
   },
   "source": [
    "We're only left with 45 states now. We might had gotten more states if we had done the merge better: maybe we have a few different keys for the same state. (I haven't closely looked at it.)"
   ]
  },
  {
   "cell_type": "code",
   "execution_count": 12,
   "metadata": {
    "collapsed": false
   },
   "outputs": [
    {
     "data": {
      "text/plain": [
       "0.73333333333333328"
      ]
     },
     "execution_count": 12,
     "metadata": {},
     "output_type": "execute_result"
    }
   ],
   "source": [
    "KNeighborsClassifier(n_neighbors=10).fit(X, y).score(X, y)"
   ]
  },
  {
   "cell_type": "markdown",
   "metadata": {},
   "source": [
    "73% - not as great as the earlier 80%, but still decent as a first result without putting too much thought in it.µm"
   ]
  },
  {
   "cell_type": "code",
   "execution_count": 13,
   "metadata": {
    "collapsed": false
   },
   "outputs": [
    {
     "name": "stdout",
     "output_type": "stream",
     "text": [
      "0.89 0.78 0.89 0.78 0.67 0.56 0.67 0.56 0.56 0.56 0.67 0.44 0.22 0.67 0.67 \n",
      "avg: 0.637037037037\n"
     ]
    }
   ],
   "source": [
    "import numpy as np\n",
    "scores = []\n",
    "for i in xrange(15):\n",
    "    X_train, X_test, y_train, y_test = train_test_split(X, y, train_size=.8)\n",
    "    scores.append(model.fit(X_train, y_train).score(X_test, y_test))\n",
    "for score in scores:\n",
    "    print np.round(score, 2),\n",
    "print \"\\navg:\", np.mean(scores)"
   ]
  },
  {
   "cell_type": "markdown",
   "metadata": {},
   "source": [
    "Wow, these results are terrible! Also note that with a 80% training set, the remaining 20% test set only consists of 9 samples – which is why each accuracy is a fraction of nineths.\n",
    "\n",
    "Let's plot the accuracy for varying $k$s for in-sample data."
   ]
  },
  {
   "cell_type": "code",
   "execution_count": 14,
   "metadata": {
    "collapsed": false
   },
   "outputs": [
    {
     "data": {
      "image/png": "[encoded data removed]",
      "text/plain": [
       "<matplotlib.figure.Figure at 0x10a750e10>"
      ]
     },
     "metadata": {},
     "output_type": "display_data"
    }
   ],
   "source": [
    "scores = []\n",
    "for k in xrange(1, 45):\n",
    "    scores.append(KNeighborsClassifier(n_neighbors=k).fit(X, y).score(X, y))\n",
    "f = plt.plot(scores)"
   ]
  },
  {
   "cell_type": "markdown",
   "metadata": {},
   "source": [
    "Nice, starts out at 100% as we expected for k=1, then descreases to the 70% level, which is the baseline of the naive \"Obama-always-wins\" classifier, and eventually drops even lower.\n",
    "\n",
    "Now out-of-sample."
   ]
  },
  {
   "cell_type": "code",
   "execution_count": 15,
   "metadata": {
    "collapsed": false
   },
   "outputs": [
    {
     "data": {
      "image/png": "[encoded data removed]",
      "text/plain": [
       "<matplotlib.figure.Figure at 0x10aee6b90>"
      ]
     },
     "metadata": {},
     "output_type": "display_data"
    }
   ],
   "source": [
    "scores = []\n",
    "for k in xrange(1, 36):\n",
    "    X_train, X_test, y_train, y_test = train_test_split(X, y, train_size=.8)\n",
    "    scores.append(KNeighborsClassifier(n_neighbors=k).fit(X_train, y_train).score(X_test, y_test))\n",
    "f = plt.plot(scores)"
   ]
  },
  {
   "cell_type": "markdown",
   "metadata": {},
   "source": [
    "Crazy time: I think we have a pretty bad model for our data."
   ]
  },
  {
   "cell_type": "markdown",
   "metadata": {},
   "source": [
    "- Try removing features, or adding some other features and see how your model changes "
   ]
  },
  {
   "cell_type": "markdown",
   "metadata": {
    "collapsed": true
   },
   "source": [
    "I am not going to do this, since this could require a lot of work and does not garantuee a success.\n",
    "\n",
    "You could think of:\n",
    "- better dedupe our data (not just first row, but most recent one, or all of the same time period)\n",
    "- find a solution to incorporate the date field: maybe replace the custom string by a real timestamp, or just an ordinal number to indicate its position between other polls. (So polls closer in time are closer together for the kNN algorithm)\n",
    "- Maybe adding median or average income to the features would help\n",
    "- Maybe the `per_vote` column (% people voting) only adds noise and could better be removed \n",
    "\n",
    "Please be aware, though, that these features are not on the same scale (e.g., $$ income vs. % voters), so you might want to rescale the features as well. Even the features that are currenlty included, despite being all percentages, could be on an incomporable scale. We'll look at rescaling in the next lessons."
   ]
  },
  {
   "cell_type": "markdown",
   "metadata": {},
   "source": [
    "#### (*) Parameter optimization"
   ]
  },
  {
   "cell_type": "markdown",
   "metadata": {},
   "source": [
    "Finding the best $k$ for your kNN-model is called _parameter optimization."
   ]
  },
  {
   "cell_type": "markdown",
   "metadata": {},
   "source": [
    "- (*) Take the iris dataset again, and plot the _in-sample_ accuracy of your model for all relevant $k$ (i.e., not using a training and test set, just using all data)."
   ]
  },
  {
   "cell_type": "code",
   "execution_count": 16,
   "metadata": {
    "collapsed": true
   },
   "outputs": [],
   "source": [
    "column_headers = ['sepal_length', 'sepal_width', 'petal_length', 'petal_width', 'species']\n",
    "data = pd.read_csv(path_to_repo + 'data/iris/iris.csv', header=None, names=column_headers)"
   ]
  },
  {
   "cell_type": "code",
   "execution_count": 17,
   "metadata": {
    "collapsed": false
   },
   "outputs": [
    {
     "data": {
      "image/png": "[encoded data removed]",
      "text/plain": [
       "<matplotlib.figure.Figure at 0x10cf8b2d0>"
      ]
     },
     "metadata": {},
     "output_type": "display_data"
    }
   ],
   "source": [
    "X, y = data[['sepal_length', 'sepal_width', 'petal_length', 'petal_width']], data.species\n",
    "scores = []\n",
    "for k in xrange(1, 100):\n",
    "    scores.append(KNeighborsClassifier(n_neighbors=k).fit(X, y).score(X, y))\n",
    "f = plt.plot(scores)"
   ]
  },
  {
   "cell_type": "markdown",
   "metadata": {},
   "source": [
    "- (*) Take the iris dataset again, and plot the cross-validated accuracy of your model for all relevant $k$."
   ]
  },
  {
   "cell_type": "code",
   "execution_count": 18,
   "metadata": {
    "collapsed": false
   },
   "outputs": [
    {
     "data": {
      "image/png": "[encoded data removed]",
      "text/plain": [
       "<matplotlib.figure.Figure at 0x10dc3d390>"
      ]
     },
     "metadata": {},
     "output_type": "display_data"
    }
   ],
   "source": [
    "scores = []\n",
    "for k in xrange(1, 120):\n",
    "    X_train, X_test, y_train, y_test = train_test_split(X, y, train_size=.8)    \n",
    "    scores.append(KNeighborsClassifier(n_neighbors=k).fit(X_train, y_train).score(X_test, y_test))\n",
    "f = plt.plot(scores)"
   ]
  },
  {
   "cell_type": "markdown",
   "metadata": {},
   "source": [
    "You can imagine that using the test set to find your best $k$ poses the same _overfitting_ problem as we saw before: maybe we chose the $k$ only because it worked well for a specific test set. \n",
    "Best is therefore, to split up the dataset in a training set, an optimization set, and a test set, in say a 60-20-20 ratio.\n",
    "- (**) Train your model on your training set, find the best $k$ using the optimization set, and use the test set to measure how good your model is.\n"
   ]
  },
  {
   "cell_type": "code",
   "execution_count": 19,
   "metadata": {
    "collapsed": false
   },
   "outputs": [],
   "source": [
    "# First take some test data out of your dataset\n",
    "X_train_cv, X_test, y_train_cv, y_test = train_test_split(X, y, test_size=.2)"
   ]
  },
  {
   "cell_type": "code",
   "execution_count": 20,
   "metadata": {
    "collapsed": true
   },
   "outputs": [],
   "source": [
    "# Now optimize your model finding the best k\n",
    "scores = {}\n",
    "# Try a ton of different ks\n",
    "for k in xrange(1, 50):\n",
    "    scores[k] = []\n",
    "    # Best is also to repeat this step a few times for each k, to average the random splits\n",
    "    for i in xrange(20):\n",
    "        # Taking 75% of 80% is 60% -- we now have 60% train, 20% cross-validation, 20% test\n",
    "        X_train, X_cv, y_train, y_cv = train_test_split(X_train_cv, y_train_cv, train_size=.75)\n",
    "        scores[k].append(KNeighborsClassifier(n_neighbors=k).fit(X_train, y_train).score(X_cv, y_cv))\n",
    "df = pd.DataFrame(scores)"
   ]
  },
  {
   "cell_type": "markdown",
   "metadata": {},
   "source": [
    "We now have a dataframe with accuracies, with a column for each k and the bunch of repeated cross-validations in the rows."
   ]
  },
  {
   "cell_type": "code",
   "execution_count": 21,
   "metadata": {
    "collapsed": false
   },
   "outputs": [
    {
     "data": {
      "text/html": [
       "<div style=\"max-height:1000px;max-width:1500px;overflow:auto;\">\n",
       "<table border=\"1\" class=\"dataframe\">\n",
       "  <thead>\n",
       "    <tr style=\"text-align: right;\">\n",
       "      <th></th>\n",
       "      <th>1</th>\n",
       "      <th>2</th>\n",
       "      <th>3</th>\n",
       "      <th>4</th>\n",
       "      <th>5</th>\n",
       "      <th>6</th>\n",
       "      <th>7</th>\n",
       "      <th>8</th>\n",
       "      <th>9</th>\n",
       "      <th>10</th>\n",
       "      <th>11</th>\n",
       "      <th>12</th>\n",
       "      <th>13</th>\n",
       "      <th>14</th>\n",
       "      <th>15</th>\n",
       "      <th>16</th>\n",
       "      <th>17</th>\n",
       "      <th>...</th>\n",
       "      <th>33</th>\n",
       "      <th>34</th>\n",
       "      <th>35</th>\n",
       "      <th>36</th>\n",
       "      <th>37</th>\n",
       "      <th>38</th>\n",
       "      <th>39</th>\n",
       "      <th>40</th>\n",
       "      <th>41</th>\n",
       "      <th>42</th>\n",
       "      <th>43</th>\n",
       "      <th>44</th>\n",
       "      <th>45</th>\n",
       "      <th>46</th>\n",
       "      <th>47</th>\n",
       "      <th>48</th>\n",
       "      <th>49</th>\n",
       "    </tr>\n",
       "  </thead>\n",
       "  <tbody>\n",
       "    <tr>\n",
       "      <th>0</th>\n",
       "      <td> 0.933333</td>\n",
       "      <td> 1.000000</td>\n",
       "      <td> 0.966667</td>\n",
       "      <td> 0.900000</td>\n",
       "      <td> 1.000000</td>\n",
       "      <td> 0.933333</td>\n",
       "      <td> 0.966667</td>\n",
       "      <td> 0.933333</td>\n",
       "      <td> 1.000000</td>\n",
       "      <td> 0.933333</td>\n",
       "      <td> 0.933333</td>\n",
       "      <td> 0.966667</td>\n",
       "      <td> 0.933333</td>\n",
       "      <td> 0.900000</td>\n",
       "      <td> 0.933333</td>\n",
       "      <td> 0.933333</td>\n",
       "      <td> 0.966667</td>\n",
       "      <td>...</td>\n",
       "      <td> 0.900000</td>\n",
       "      <td> 0.900000</td>\n",
       "      <td> 0.966667</td>\n",
       "      <td> 0.933333</td>\n",
       "      <td> 0.800000</td>\n",
       "      <td> 0.933333</td>\n",
       "      <td> 0.866667</td>\n",
       "      <td> 0.966667</td>\n",
       "      <td> 0.833333</td>\n",
       "      <td> 0.900000</td>\n",
       "      <td> 0.866667</td>\n",
       "      <td> 0.933333</td>\n",
       "      <td> 0.933333</td>\n",
       "      <td> 0.933333</td>\n",
       "      <td> 0.866667</td>\n",
       "      <td> 0.800000</td>\n",
       "      <td> 0.633333</td>\n",
       "    </tr>\n",
       "    <tr>\n",
       "      <th>1</th>\n",
       "      <td> 0.966667</td>\n",
       "      <td> 1.000000</td>\n",
       "      <td> 0.966667</td>\n",
       "      <td> 1.000000</td>\n",
       "      <td> 0.900000</td>\n",
       "      <td> 0.966667</td>\n",
       "      <td> 0.900000</td>\n",
       "      <td> 0.933333</td>\n",
       "      <td> 1.000000</td>\n",
       "      <td> 1.000000</td>\n",
       "      <td> 0.866667</td>\n",
       "      <td> 0.866667</td>\n",
       "      <td> 1.000000</td>\n",
       "      <td> 0.933333</td>\n",
       "      <td> 0.933333</td>\n",
       "      <td> 0.933333</td>\n",
       "      <td> 0.933333</td>\n",
       "      <td>...</td>\n",
       "      <td> 0.866667</td>\n",
       "      <td> 0.933333</td>\n",
       "      <td> 0.900000</td>\n",
       "      <td> 0.900000</td>\n",
       "      <td> 0.833333</td>\n",
       "      <td> 0.900000</td>\n",
       "      <td> 0.900000</td>\n",
       "      <td> 0.966667</td>\n",
       "      <td> 0.866667</td>\n",
       "      <td> 0.933333</td>\n",
       "      <td> 0.633333</td>\n",
       "      <td> 0.866667</td>\n",
       "      <td> 0.900000</td>\n",
       "      <td> 0.900000</td>\n",
       "      <td> 0.933333</td>\n",
       "      <td> 0.933333</td>\n",
       "      <td> 0.833333</td>\n",
       "    </tr>\n",
       "    <tr>\n",
       "      <th>2</th>\n",
       "      <td> 0.900000</td>\n",
       "      <td> 0.966667</td>\n",
       "      <td> 0.966667</td>\n",
       "      <td> 0.933333</td>\n",
       "      <td> 0.966667</td>\n",
       "      <td> 0.966667</td>\n",
       "      <td> 0.933333</td>\n",
       "      <td> 0.933333</td>\n",
       "      <td> 1.000000</td>\n",
       "      <td> 0.933333</td>\n",
       "      <td> 0.933333</td>\n",
       "      <td> 0.900000</td>\n",
       "      <td> 0.933333</td>\n",
       "      <td> 0.933333</td>\n",
       "      <td> 0.900000</td>\n",
       "      <td> 0.933333</td>\n",
       "      <td> 0.933333</td>\n",
       "      <td>...</td>\n",
       "      <td> 0.966667</td>\n",
       "      <td> 0.866667</td>\n",
       "      <td> 0.933333</td>\n",
       "      <td> 0.800000</td>\n",
       "      <td> 0.866667</td>\n",
       "      <td> 0.933333</td>\n",
       "      <td> 0.933333</td>\n",
       "      <td> 0.833333</td>\n",
       "      <td> 0.933333</td>\n",
       "      <td> 0.866667</td>\n",
       "      <td> 0.933333</td>\n",
       "      <td> 0.866667</td>\n",
       "      <td> 0.833333</td>\n",
       "      <td> 0.933333</td>\n",
       "      <td> 0.800000</td>\n",
       "      <td> 0.666667</td>\n",
       "      <td> 0.900000</td>\n",
       "    </tr>\n",
       "    <tr>\n",
       "      <th>3</th>\n",
       "      <td> 0.933333</td>\n",
       "      <td> 0.933333</td>\n",
       "      <td> 0.900000</td>\n",
       "      <td> 1.000000</td>\n",
       "      <td> 0.900000</td>\n",
       "      <td> 0.966667</td>\n",
       "      <td> 0.966667</td>\n",
       "      <td> 0.933333</td>\n",
       "      <td> 0.966667</td>\n",
       "      <td> 0.966667</td>\n",
       "      <td> 1.000000</td>\n",
       "      <td> 1.000000</td>\n",
       "      <td> 1.000000</td>\n",
       "      <td> 0.966667</td>\n",
       "      <td> 0.966667</td>\n",
       "      <td> 0.966667</td>\n",
       "      <td> 0.933333</td>\n",
       "      <td>...</td>\n",
       "      <td> 0.933333</td>\n",
       "      <td> 0.933333</td>\n",
       "      <td> 0.966667</td>\n",
       "      <td> 0.966667</td>\n",
       "      <td> 0.933333</td>\n",
       "      <td> 0.933333</td>\n",
       "      <td> 0.933333</td>\n",
       "      <td> 1.000000</td>\n",
       "      <td> 0.900000</td>\n",
       "      <td> 0.833333</td>\n",
       "      <td> 0.933333</td>\n",
       "      <td> 0.866667</td>\n",
       "      <td> 0.766667</td>\n",
       "      <td> 0.900000</td>\n",
       "      <td> 0.666667</td>\n",
       "      <td> 0.800000</td>\n",
       "      <td> 1.000000</td>\n",
       "    </tr>\n",
       "    <tr>\n",
       "      <th>4</th>\n",
       "      <td> 0.933333</td>\n",
       "      <td> 0.933333</td>\n",
       "      <td> 0.966667</td>\n",
       "      <td> 0.966667</td>\n",
       "      <td> 0.966667</td>\n",
       "      <td> 0.966667</td>\n",
       "      <td> 1.000000</td>\n",
       "      <td> 0.933333</td>\n",
       "      <td> 0.966667</td>\n",
       "      <td> 0.866667</td>\n",
       "      <td> 1.000000</td>\n",
       "      <td> 0.933333</td>\n",
       "      <td> 1.000000</td>\n",
       "      <td> 0.866667</td>\n",
       "      <td> 0.933333</td>\n",
       "      <td> 0.966667</td>\n",
       "      <td> 0.900000</td>\n",
       "      <td>...</td>\n",
       "      <td> 0.866667</td>\n",
       "      <td> 0.966667</td>\n",
       "      <td> 0.833333</td>\n",
       "      <td> 0.866667</td>\n",
       "      <td> 0.933333</td>\n",
       "      <td> 0.933333</td>\n",
       "      <td> 0.800000</td>\n",
       "      <td> 0.800000</td>\n",
       "      <td> 0.900000</td>\n",
       "      <td> 0.866667</td>\n",
       "      <td> 0.866667</td>\n",
       "      <td> 0.700000</td>\n",
       "      <td> 0.866667</td>\n",
       "      <td> 0.766667</td>\n",
       "      <td> 0.933333</td>\n",
       "      <td> 0.933333</td>\n",
       "      <td> 0.766667</td>\n",
       "    </tr>\n",
       "  </tbody>\n",
       "</table>\n",
       "<p>5 rows × 49 columns</p>\n",
       "</div>"
      ],
      "text/plain": [
       "         1         2         3         4         5         6         7   \\\n",
       "0  0.933333  1.000000  0.966667  0.900000  1.000000  0.933333  0.966667   \n",
       "1  0.966667  1.000000  0.966667  1.000000  0.900000  0.966667  0.900000   \n",
       "2  0.900000  0.966667  0.966667  0.933333  0.966667  0.966667  0.933333   \n",
       "3  0.933333  0.933333  0.900000  1.000000  0.900000  0.966667  0.966667   \n",
       "4  0.933333  0.933333  0.966667  0.966667  0.966667  0.966667  1.000000   \n",
       "\n",
       "         8         9         10        11        12        13        14  \\\n",
       "0  0.933333  1.000000  0.933333  0.933333  0.966667  0.933333  0.900000   \n",
       "1  0.933333  1.000000  1.000000  0.866667  0.866667  1.000000  0.933333   \n",
       "2  0.933333  1.000000  0.933333  0.933333  0.900000  0.933333  0.933333   \n",
       "3  0.933333  0.966667  0.966667  1.000000  1.000000  1.000000  0.966667   \n",
       "4  0.933333  0.966667  0.866667  1.000000  0.933333  1.000000  0.866667   \n",
       "\n",
       "         15        16        17    ...           33        34        35  \\\n",
       "0  0.933333  0.933333  0.966667    ...     0.900000  0.900000  0.966667   \n",
       "1  0.933333  0.933333  0.933333    ...     0.866667  0.933333  0.900000   \n",
       "2  0.900000  0.933333  0.933333    ...     0.966667  0.866667  0.933333   \n",
       "3  0.966667  0.966667  0.933333    ...     0.933333  0.933333  0.966667   \n",
       "4  0.933333  0.966667  0.900000    ...     0.866667  0.966667  0.833333   \n",
       "\n",
       "         36        37        38        39        40        41        42  \\\n",
       "0  0.933333  0.800000  0.933333  0.866667  0.966667  0.833333  0.900000   \n",
       "1  0.900000  0.833333  0.900000  0.900000  0.966667  0.866667  0.933333   \n",
       "2  0.800000  0.866667  0.933333  0.933333  0.833333  0.933333  0.866667   \n",
       "3  0.966667  0.933333  0.933333  0.933333  1.000000  0.900000  0.833333   \n",
       "4  0.866667  0.933333  0.933333  0.800000  0.800000  0.900000  0.866667   \n",
       "\n",
       "         43        44        45        46        47        48        49  \n",
       "0  0.866667  0.933333  0.933333  0.933333  0.866667  0.800000  0.633333  \n",
       "1  0.633333  0.866667  0.900000  0.900000  0.933333  0.933333  0.833333  \n",
       "2  0.933333  0.866667  0.833333  0.933333  0.800000  0.666667  0.900000  \n",
       "3  0.933333  0.866667  0.766667  0.900000  0.666667  0.800000  1.000000  \n",
       "4  0.866667  0.700000  0.866667  0.766667  0.933333  0.933333  0.766667  \n",
       "\n",
       "[5 rows x 49 columns]"
      ]
     },
     "execution_count": 21,
     "metadata": {},
     "output_type": "execute_result"
    }
   ],
   "source": [
    "df.head()"
   ]
  },
  {
   "cell_type": "code",
   "execution_count": 22,
   "metadata": {
    "collapsed": false
   },
   "outputs": [
    {
     "data": {
      "image/png": "[encoded data removed]",
      "text/plain": [
       "<matplotlib.figure.Figure at 0x10f00f950>"
      ]
     },
     "metadata": {},
     "output_type": "display_data"
    }
   ],
   "source": [
    "# Let's plot the averages, as well as the averages +/- the standard deviation, to get a sense of our results\n",
    "mu, std = df.mean(), df.std()\n",
    "plt.plot(mu + std, ':b')\n",
    "plt.plot(mu - std, ':b')\n",
    "f = plt.plot(mu, 'r')"
   ]
  },
  {
   "cell_type": "markdown",
   "metadata": {},
   "source": [
    "I don't think it really matters what k we would pick exactly: anything between 5 and 15 looks reasonable."
   ]
  },
  {
   "cell_type": "code",
   "execution_count": 23,
   "metadata": {
    "collapsed": false
   },
   "outputs": [
    {
     "data": {
      "text/plain": [
       "5"
      ]
     },
     "execution_count": 23,
     "metadata": {},
     "output_type": "execute_result"
    }
   ],
   "source": [
    "# Let's take the one with the highest average accuracy\n",
    "k = df.mean().argmax()\n",
    "k"
   ]
  },
  {
   "cell_type": "code",
   "execution_count": 24,
   "metadata": {
    "collapsed": false
   },
   "outputs": [
    {
     "data": {
      "text/plain": [
       "0.90000000000000002"
      ]
     },
     "execution_count": 24,
     "metadata": {},
     "output_type": "execute_result"
    }
   ],
   "source": [
    "KNeighborsClassifier(n_neighbors=16).fit(X_train, y_train).score(X_test, y_test)"
   ]
  },
  {
   "cell_type": "markdown",
   "metadata": {},
   "source": [
    "90% accuracy – pretty awesome."
   ]
  },
  {
   "cell_type": "markdown",
   "metadata": {},
   "source": [
    "A better name for the optimization set is **cross-validation set**."
   ]
  },
  {
   "cell_type": "markdown",
   "metadata": {},
   "source": [
    "#### (**) Implementing kNN yourself"
   ]
  },
  {
   "cell_type": "markdown",
   "metadata": {},
   "source": [
    "Goal of this exercise is to write the entire kNN algorithm yourself in python. This is a great exercise for those students who'd like to master the math *and* coding behind the algorithm.\n",
    "- Please see the file `knn.py` in the course repo.\n",
    "- Review the code. There are three methods that you need to complete: `fit`, `predict` and `score`.\n",
    "- When you're done, you can check your work by running `$python knn_test.py` on the command line. \n",
    "- You can also run the code in this notebook below.\n",
    "- Solutions are already given in `knn_solutions.py`"
   ]
  },
  {
   "cell_type": "code",
   "execution_count": 25,
   "metadata": {
    "collapsed": false
   },
   "outputs": [],
   "source": [
    "path_to_code = path_to_repo + '5_intro_to_ml/'"
   ]
  },
  {
   "cell_type": "code",
   "execution_count": 26,
   "metadata": {
    "collapsed": false
   },
   "outputs": [
    {
     "data": {
      "text/plain": [
       "0.98666666666666669"
      ]
     },
     "execution_count": 26,
     "metadata": {},
     "output_type": "execute_result"
    }
   ],
   "source": [
    "import sys, os\n",
    "sys.path.append(path_to_code)\n",
    "import knn_solutions as knn \n",
    "# import knn\n",
    "reload(knn)\n",
    "\n",
    "model = knn.kNN(k=15)\n",
    "model.fit(X, y)\n",
    "model.score(X, y)"
   ]
  },
  {
   "cell_type": "code",
   "execution_count": null,
   "metadata": {
    "collapsed": true
   },
   "outputs": [],
   "source": []
  },
  {
   "cell_type": "code",
   "execution_count": null,
   "metadata": {
    "collapsed": true
   },
   "outputs": [],
   "source": []
  },
  {
   "cell_type": "code",
   "execution_count": null,
   "metadata": {
    "collapsed": false
   },
   "outputs": [],
   "source": []
  }
 ],
 "metadata": {
  "kernelspec": {
   "display_name": "Python 2",
   "language": "python",
   "name": "python2"
  },
  "language_info": {
   "codemirror_mode": {
    "name": "ipython",
    "version": 2
   },
   "file_extension": ".py",
   "mimetype": "text/x-python",
   "name": "python",
   "nbconvert_exporter": "python",
   "pygments_lexer": "ipython2",
   "version": "2.7.10"
  }
 },
 "nbformat": 4,
 "nbformat_minor": 0
}
