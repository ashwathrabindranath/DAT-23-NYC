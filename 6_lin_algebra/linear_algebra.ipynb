{
 "cells": [
  {
   "cell_type": "markdown",
   "metadata": {},
   "source": [
    "# Linear Algebra in Data Science"
   ]
  },
  {
   "cell_type": "markdown",
   "metadata": {},
   "source": [
    "Most of our operations on data require translating our raw datasets into something we can write code to operate on.  Often we will attempt to translate raw datasets into tables and perform filter or aggregations.  If our table is made up mostly numerical values, we can also view it as a matrix and use many ideas from linear algebra to help analyze the data stored in the matrix."
   ]
  },
  {
   "cell_type": "code",
   "execution_count": 1,
   "metadata": {
    "collapsed": true
   },
   "outputs": [],
   "source": [
    "import numpy as np"
   ]
  },
  {
   "cell_type": "markdown",
   "metadata": {},
   "source": [
    "A _vector_ is an array of numbers."
   ]
  },
  {
   "cell_type": "code",
   "execution_count": 2,
   "metadata": {
    "collapsed": false
   },
   "outputs": [
    {
     "data": {
      "text/plain": [
       "array([ 0.66993459,  0.63246441,  0.38614197,  0.75450976,  0.28195878,\n",
       "        0.66846293,  0.19292232,  0.2021837 ,  0.82736718,  0.63091287])"
      ]
     },
     "execution_count": 2,
     "metadata": {},
     "output_type": "execute_result"
    }
   ],
   "source": [
    "v = np.random.random(10)\n",
    "v"
   ]
  },
  {
   "cell_type": "markdown",
   "metadata": {},
   "source": [
    "Two vectors of the same dimension can be added and subtracted, or multiplied by a single value."
   ]
  },
  {
   "cell_type": "code",
   "execution_count": 3,
   "metadata": {
    "collapsed": false
   },
   "outputs": [
    {
     "data": {
      "text/plain": [
       "array([ 1.33986917,  1.26492882,  0.77228393,  1.50901952,  0.56391756,\n",
       "        1.33692585,  0.38584463,  0.4043674 ,  1.65473437,  1.26182574])"
      ]
     },
     "execution_count": 3,
     "metadata": {},
     "output_type": "execute_result"
    }
   ],
   "source": [
    "v + v"
   ]
  },
  {
   "cell_type": "code",
   "execution_count": 4,
   "metadata": {
    "collapsed": false
   },
   "outputs": [
    {
     "data": {
      "text/plain": [
       "array([ 1.33986917,  1.26492882,  0.77228393,  1.50901952,  0.56391756,\n",
       "        1.33692585,  0.38584463,  0.4043674 ,  1.65473437,  1.26182574])"
      ]
     },
     "execution_count": 4,
     "metadata": {},
     "output_type": "execute_result"
    }
   ],
   "source": [
    "2 * v"
   ]
  },
  {
   "cell_type": "markdown",
   "metadata": {},
   "source": [
    "A matrix $M$ can be seen as\n",
    "- a $m \\times n$ grid of elements, or\n",
    "- a collection of vectors, where each column represents a $m \\times 1$ vector (or each row is a $1\\times n$ vector)."
   ]
  },
  {
   "cell_type": "code",
   "execution_count": 5,
   "metadata": {
    "collapsed": false
   },
   "outputs": [
    {
     "data": {
      "text/plain": [
       "array([[ 0.43534357,  0.80832371,  0.74769297],\n",
       "       [ 0.25168462,  0.29323653,  0.93740695]])"
      ]
     },
     "execution_count": 5,
     "metadata": {},
     "output_type": "execute_result"
    }
   ],
   "source": [
    "M = np.random.random((2, 3))  # 2x3 matrix\n",
    "M"
   ]
  },
  {
   "cell_type": "code",
   "execution_count": 6,
   "metadata": {
    "collapsed": false
   },
   "outputs": [
    {
     "data": {
      "text/plain": [
       "array([ 0.43534357,  0.80832371,  0.74769297])"
      ]
     },
     "execution_count": 6,
     "metadata": {},
     "output_type": "execute_result"
    }
   ],
   "source": [
    "M[0]  # first row"
   ]
  },
  {
   "cell_type": "code",
   "execution_count": 7,
   "metadata": {
    "collapsed": false
   },
   "outputs": [
    {
     "data": {
      "text/plain": [
       "array([ 0.43534357,  0.25168462])"
      ]
     },
     "execution_count": 7,
     "metadata": {},
     "output_type": "execute_result"
    }
   ],
   "source": [
    "M[:,0]  # first column"
   ]
  },
  {
   "cell_type": "markdown",
   "metadata": {},
   "source": [
    "- _Matrices_ are often notated by a capital letter (e.g., _M_), and\n",
    "- _vectors_ by a lower case letter (e.g., _v_). \n",
    "- A _scalar_, in constrast to a vector, is a single value or variable, and is often notated with a Greek character (e.g., $\\alpha$ or $\\lambda$)"
   ]
  },
  {
   "cell_type": "code",
   "execution_count": 8,
   "metadata": {
    "collapsed": false
   },
   "outputs": [],
   "source": [
    "M = np.random.random((2, 5))\n",
    "v = np.random.random(5)\n",
    "alpha = 10"
   ]
  },
  {
   "cell_type": "markdown",
   "metadata": {},
   "source": [
    "### Matrix multiplication"
   ]
  },
  {
   "cell_type": "markdown",
   "metadata": {},
   "source": [
    "Operations work like you know from linear algebra: we can multiply any $n \\times m$ matrix with an $m$-dimendional vector, giving us a vector in $n$ dimensions."
   ]
  },
  {
   "cell_type": "code",
   "execution_count": 9,
   "metadata": {
    "collapsed": false
   },
   "outputs": [
    {
     "data": {
      "text/plain": [
       "array([ 0.59698243,  0.65230239])"
      ]
     },
     "execution_count": 9,
     "metadata": {},
     "output_type": "execute_result"
    }
   ],
   "source": [
    "M.dot(v)  # 2x5 matrix times 5-dim vector gives a 2-dim vector"
   ]
  },
  {
   "cell_type": "code",
   "execution_count": 10,
   "metadata": {
    "collapsed": false
   },
   "outputs": [
    {
     "data": {
      "text/plain": [
       "array([[ 0.02554489,  0.03384006,  0.26629625,  0.25660951,  0.0146917 ],\n",
       "       [ 0.14710188,  0.09327531,  0.20719716,  0.05819591,  0.14653212]])"
      ]
     },
     "execution_count": 10,
     "metadata": {},
     "output_type": "execute_result"
    }
   ],
   "source": [
    "M * v  # Don't confuse the above with the element-wise multiplication"
   ]
  },
  {
   "cell_type": "markdown",
   "metadata": {},
   "source": [
    "The dot product is the most fundamental operations on vectors.  `x.dot(y)` compute the sum of the element-wise product of the two arrays.  If `x` and  `y` are equal-length arrays then the dot product is a scalar value.\n",
    "\n",
    "The `.dot` operator also defines matrix multiplication. If $x$ and $y$ are matrices then `x.dot(y)` is the product of the two matrices.  If two matrices are to be multiplied, the number of columns in the first matrix *must* match the number of rows in the second.  For the above to work, if `x` is an m x n matrix, then `y` must have n rows.  Then, the multiplication operation is just the dot product of all rows in $x$ with all columns in $y$.  Any cell $(i, j)$ in the product is `x_i.dot(y_j)` where $x_i$ is row $i$ and $y_j$ is column $j$.\n"
   ]
  },
  {
   "cell_type": "markdown",
   "metadata": {},
   "source": [
    "The transposed matrix $M^T$ of $M$, which swaps rows with columns."
   ]
  },
  {
   "cell_type": "code",
   "execution_count": 11,
   "metadata": {
    "collapsed": false
   },
   "outputs": [
    {
     "data": {
      "text/plain": [
       "array([[ 0.13298838,  0.7658221 ],\n",
       "       [ 0.20470843,  0.5642496 ],\n",
       "       [ 0.43728473,  0.34023819],\n",
       "       [ 0.59251793,  0.13437586],\n",
       "       [ 0.02563998,  0.25572802]])"
      ]
     },
     "execution_count": 11,
     "metadata": {},
     "output_type": "execute_result"
    }
   ],
   "source": [
    "M.T  # transpose 2x5 matrix to 5x2 one"
   ]
  },
  {
   "cell_type": "code",
   "execution_count": 12,
   "metadata": {
    "collapsed": false,
    "scrolled": true
   },
   "outputs": [
    {
     "data": {
      "text/plain": [
       "array([ 0.59698243,  0.65230239])"
      ]
     },
     "execution_count": 12,
     "metadata": {},
     "output_type": "execute_result"
    }
   ],
   "source": [
    "v.dot(M.T)  # 5-dim vector times 5x2 matrix gives 2-dim vector"
   ]
  },
  {
   "cell_type": "markdown",
   "metadata": {},
   "source": [
    "Scalar multiplication is straight-forward."
   ]
  },
  {
   "cell_type": "code",
   "execution_count": 13,
   "metadata": {
    "collapsed": false
   },
   "outputs": [
    {
     "data": {
      "text/plain": [
       "array([[ 1.32988379,  2.04708427,  4.37284733,  5.92517934,  0.25639977],\n",
       "       [ 7.65822096,  5.64249604,  3.4023819 ,  1.34375855,  2.55728017]])"
      ]
     },
     "execution_count": 13,
     "metadata": {},
     "output_type": "execute_result"
    }
   ],
   "source": [
    "alpha * M"
   ]
  },
  {
   "cell_type": "code",
   "execution_count": 14,
   "metadata": {
    "collapsed": false
   },
   "outputs": [
    {
     "data": {
      "text/plain": [
       "array([ 1.92083616,  1.65308599,  6.08976794,  4.33083118,  5.72999879])"
      ]
     },
     "execution_count": 14,
     "metadata": {},
     "output_type": "execute_result"
    }
   ],
   "source": [
    "alpha * v"
   ]
  },
  {
   "cell_type": "markdown",
   "metadata": {},
   "source": [
    "Also matrices can be multiplied with each other..."
   ]
  },
  {
   "cell_type": "code",
   "execution_count": 15,
   "metadata": {
    "collapsed": false
   },
   "outputs": [
    {
     "data": {
      "text/plain": [
       "array([[ 0.77716772,  0.79474174,  0.57896433],\n",
       "       [ 1.38034767,  1.32252039,  1.22523139]])"
      ]
     },
     "execution_count": 15,
     "metadata": {},
     "output_type": "execute_result"
    }
   ],
   "source": [
    "N = np.random.random((5, 3))\n",
    "M.dot(N)"
   ]
  },
  {
   "cell_type": "markdown",
   "metadata": {},
   "source": [
    "... or with themselves (if $n = m$)"
   ]
  },
  {
   "cell_type": "code",
   "execution_count": 16,
   "metadata": {
    "collapsed": false
   },
   "outputs": [
    {
     "data": {
      "text/plain": [
       "array([[ 0.17249202,  0.40365045,  0.53284669,  0.17779053,  0.32519868],\n",
       "       [ 0.28439827,  0.90610937,  0.18140915,  0.69444175,  0.61413287],\n",
       "       [ 0.0661374 ,  0.9773175 ,  0.01620026,  0.09241967,  0.51670086],\n",
       "       [ 0.90356179,  0.21492623,  0.46544369,  0.86079233,  0.28981792],\n",
       "       [ 0.19532   ,  0.43288774,  0.13355917,  0.63150408,  0.51643255]])"
      ]
     },
     "execution_count": 16,
     "metadata": {},
     "output_type": "execute_result"
    }
   ],
   "source": [
    "A = np.random.random((5,5))\n",
    "A"
   ]
  },
  {
   "cell_type": "code",
   "execution_count": 17,
   "metadata": {
    "collapsed": false
   },
   "outputs": [
    {
     "data": {
      "text/plain": [
       "array([[ 0.40395461,  1.1351247 ,  0.29995469,  0.7186297 ,  0.79878159],\n",
       "       [ 1.06617376,  1.52823036,  0.72410269,  1.68216682,  1.26111163],\n",
       "       [ 0.47485591,  1.17162262,  0.32482417,  1.09779875,  0.92370731],\n",
       "       [ 1.08215138,  1.32482153,  0.967348  ,  1.27689926,  1.06546996],\n",
       "       [ 0.83710948,  0.96089846,  0.547673  ,  1.21740799,  0.84810231]])"
      ]
     },
     "execution_count": 17,
     "metadata": {},
     "output_type": "execute_result"
    }
   ],
   "source": [
    "A.dot(A)"
   ]
  },
  {
   "cell_type": "code",
   "execution_count": 18,
   "metadata": {
    "collapsed": false
   },
   "outputs": [
    {
     "data": {
      "text/plain": [
       "array([[ 0.40395461,  1.1351247 ,  0.29995469,  0.7186297 ,  0.79878159],\n",
       "       [ 1.06617376,  1.52823036,  0.72410269,  1.68216682,  1.26111163],\n",
       "       [ 0.47485591,  1.17162262,  0.32482417,  1.09779875,  0.92370731],\n",
       "       [ 1.08215138,  1.32482153,  0.967348  ,  1.27689926,  1.06546996],\n",
       "       [ 0.83710948,  0.96089846,  0.547673  ,  1.21740799,  0.84810231]])"
      ]
     },
     "execution_count": 18,
     "metadata": {},
     "output_type": "execute_result"
    }
   ],
   "source": [
    "np.linalg.matrix_power(A, 2)  # A squared, which is the same as A times A"
   ]
  },
  {
   "cell_type": "code",
   "execution_count": 19,
   "metadata": {
    "collapsed": false
   },
   "outputs": [
    {
     "data": {
      "text/plain": [
       "array([[ 2.96218851,  4.26430867,  2.17318357,  4.41911357,  3.47438766],\n",
       "       [ 5.279937  ,  7.83447434,  3.97952308,  7.81508648,  6.30961789],\n",
       "       [ 3.55644678,  5.05207763,  2.66416406,  5.19500888,  4.10996541],\n",
       "       [ 4.58269421,  7.10184812,  3.4168563 ,  6.99577371,  5.69282218],\n",
       "       [ 3.65007893,  5.48815243,  2.76692142,  5.40619184,  4.40274657]])"
      ]
     },
     "execution_count": 19,
     "metadata": {},
     "output_type": "execute_result"
    }
   ],
   "source": [
    "np.linalg.matrix_power(A, 4)"
   ]
  },
  {
   "cell_type": "markdown",
   "metadata": {},
   "source": [
    "A special matrix is the _identity matrix **1**_, which doesn't do much: _**1**A = A**1** = A_"
   ]
  },
  {
   "cell_type": "code",
   "execution_count": 20,
   "metadata": {
    "collapsed": false
   },
   "outputs": [
    {
     "data": {
      "text/plain": [
       "array([[ 1.,  0.,  0.,  0.,  0.],\n",
       "       [ 0.,  1.,  0.,  0.,  0.],\n",
       "       [ 0.,  0.,  1.,  0.,  0.],\n",
       "       [ 0.,  0.,  0.,  1.,  0.],\n",
       "       [ 0.,  0.,  0.,  0.,  1.]])"
      ]
     },
     "execution_count": 20,
     "metadata": {},
     "output_type": "execute_result"
    }
   ],
   "source": [
    "I = np.identity(5)\n",
    "I"
   ]
  },
  {
   "cell_type": "code",
   "execution_count": 21,
   "metadata": {
    "collapsed": false
   },
   "outputs": [
    {
     "data": {
      "text/plain": [
       "array([[ 0.17249202,  0.40365045,  0.53284669,  0.17779053,  0.32519868],\n",
       "       [ 0.28439827,  0.90610937,  0.18140915,  0.69444175,  0.61413287],\n",
       "       [ 0.0661374 ,  0.9773175 ,  0.01620026,  0.09241967,  0.51670086],\n",
       "       [ 0.90356179,  0.21492623,  0.46544369,  0.86079233,  0.28981792],\n",
       "       [ 0.19532   ,  0.43288774,  0.13355917,  0.63150408,  0.51643255]])"
      ]
     },
     "execution_count": 21,
     "metadata": {},
     "output_type": "execute_result"
    }
   ],
   "source": [
    "A.dot(I)"
   ]
  },
  {
   "cell_type": "code",
   "execution_count": 22,
   "metadata": {
    "collapsed": false
   },
   "outputs": [
    {
     "data": {
      "text/plain": [
       "array([[ 0.17249202,  0.40365045,  0.53284669,  0.17779053,  0.32519868],\n",
       "       [ 0.28439827,  0.90610937,  0.18140915,  0.69444175,  0.61413287],\n",
       "       [ 0.0661374 ,  0.9773175 ,  0.01620026,  0.09241967,  0.51670086],\n",
       "       [ 0.90356179,  0.21492623,  0.46544369,  0.86079233,  0.28981792],\n",
       "       [ 0.19532   ,  0.43288774,  0.13355917,  0.63150408,  0.51643255]])"
      ]
     },
     "execution_count": 22,
     "metadata": {},
     "output_type": "execute_result"
    }
   ],
   "source": [
    "I.dot(A)"
   ]
  },
  {
   "cell_type": "code",
   "execution_count": 23,
   "metadata": {
    "collapsed": false
   },
   "outputs": [
    {
     "data": {
      "text/plain": [
       "array([[ 1.,  0.,  0.,  0.,  0.],\n",
       "       [ 0.,  1.,  0.,  0.,  0.],\n",
       "       [ 0.,  0.,  1.,  0.,  0.],\n",
       "       [ 0.,  0.,  0.,  1.,  0.],\n",
       "       [ 0.,  0.,  0.,  0.,  1.]])"
      ]
     },
     "execution_count": 23,
     "metadata": {},
     "output_type": "execute_result"
    }
   ],
   "source": [
    "np.linalg.matrix_power(I, 1000)"
   ]
  },
  {
   "cell_type": "markdown",
   "metadata": {},
   "source": [
    "Note that a matrix $A$ could have an inverse $A^{-1}$, such that $AA^{-1} = \\textbf{1} $"
   ]
  },
  {
   "cell_type": "code",
   "execution_count": 24,
   "metadata": {
    "collapsed": false
   },
   "outputs": [
    {
     "data": {
      "text/plain": [
       "array([[ 1.,  0.,  0., -0.,  0.],\n",
       "       [-0.,  1.,  0.,  0.,  0.],\n",
       "       [-0.,  0.,  1., -0.,  0.],\n",
       "       [ 0.,  0., -0.,  1., -0.],\n",
       "       [ 0., -0.,  0.,  0.,  1.]])"
      ]
     },
     "execution_count": 24,
     "metadata": {},
     "output_type": "execute_result"
    }
   ],
   "source": [
    "A_inv = np.linalg.inv(A)\n",
    "A.dot(A_inv).round(4)  # you might see weird \"negative zeroes\" in the matrix due to rouding errors"
   ]
  },
  {
   "cell_type": "markdown",
   "metadata": {},
   "source": [
    "Note that the inverse $A^{-1}$ is literally $A$ to the power -1:"
   ]
  },
  {
   "cell_type": "code",
   "execution_count": 25,
   "metadata": {
    "collapsed": false
   },
   "outputs": [
    {
     "data": {
      "text/plain": [
       "array([[ True,  True,  True,  True,  True],\n",
       "       [ True,  True,  True,  True,  True],\n",
       "       [ True,  True,  True,  True,  True],\n",
       "       [ True,  True,  True,  True,  True],\n",
       "       [ True,  True,  True,  True,  True]], dtype=bool)"
      ]
     },
     "execution_count": 25,
     "metadata": {},
     "output_type": "execute_result"
    }
   ],
   "source": [
    "np.isclose(A_inv, np.linalg.matrix_power(A, -1))"
   ]
  },
  {
   "cell_type": "markdown",
   "metadata": {},
   "source": [
    "### Matrix Rank"
   ]
  },
  {
   "cell_type": "markdown",
   "metadata": {},
   "source": [
    "The _rank_ of a matrix is its number of linearly-independent vectors. Its a fundamental result in linear algebra that the _column rank_ equals the _row rank_ of a matrix, so we safely speak of its _rank_ in general. Hence, it follows that rank $A$ = rank $A^T$."
   ]
  },
  {
   "cell_type": "code",
   "execution_count": 26,
   "metadata": {
    "collapsed": true
   },
   "outputs": [],
   "source": [
    "A = np.array([[1, 2, 3],\n",
    "              [4, 5, 6],\n",
    "              [6, 9, 12]])"
   ]
  },
  {
   "cell_type": "code",
   "execution_count": 27,
   "metadata": {
    "collapsed": false
   },
   "outputs": [
    {
     "name": "stdout",
     "output_type": "stream",
     "text": [
      "2 2\n"
     ]
    }
   ],
   "source": [
    "print np.linalg.matrix_rank(A), np.linalg.matrix_rank(A.T)"
   ]
  },
  {
   "cell_type": "markdown",
   "metadata": {},
   "source": [
    "Indeed, the third row is twice the first plus the second."
   ]
  },
  {
   "cell_type": "code",
   "execution_count": 28,
   "metadata": {
    "collapsed": false
   },
   "outputs": [
    {
     "name": "stdout",
     "output_type": "stream",
     "text": [
      "[ 6  9 12]\n",
      "[ 6  9 12]\n"
     ]
    }
   ],
   "source": [
    "print 2 * A[0] + A[1] \n",
    "print A[2]"
   ]
  },
  {
   "cell_type": "markdown",
   "metadata": {},
   "source": [
    "But also, the third column is negative the first plus twice the second."
   ]
  },
  {
   "cell_type": "code",
   "execution_count": 29,
   "metadata": {
    "collapsed": false
   },
   "outputs": [
    {
     "name": "stdout",
     "output_type": "stream",
     "text": [
      "[ 3  6 12]\n",
      "[ 3  6 12]\n"
     ]
    }
   ],
   "source": [
    "print -A[:, 0] + 2 * A[:, 1]\n",
    "print A[:, 2]"
   ]
  },
  {
   "cell_type": "markdown",
   "metadata": {},
   "source": [
    "We say a matrix has _full rank_ if its rank equals the number of rows or columns, whichever is smaller."
   ]
  },
  {
   "cell_type": "markdown",
   "metadata": {},
   "source": [
    "Since matrices can be multiplied with vectors, we often regard them as linear transformations, or mappings, from one vector space to another:\n",
    "\n",
    "$$M: v \\mapsto Mv$$"
   ]
  },
  {
   "cell_type": "markdown",
   "metadata": {},
   "source": [
    "The rank is also the dimension of the image of the linear transformation that is given by multiplication by _M_. More generally, if a linear operator on a vector space (possibly infinite-dimensional) has finite-dimensional image (e.g., a finite-rank operator), then the rank of the operator is defined as the dimension of the image."
   ]
  },
  {
   "cell_type": "markdown",
   "metadata": {},
   "source": [
    "As a special case, when $n = m$, then rank $A = n$ if and only if its inverse $A^{-1}$ exists."
   ]
  },
  {
   "cell_type": "code",
   "execution_count": 30,
   "metadata": {
    "collapsed": false
   },
   "outputs": [
    {
     "name": "stdout",
     "output_type": "stream",
     "text": [
      "20\n"
     ]
    },
    {
     "data": {
      "text/plain": [
       "400"
      ]
     },
     "execution_count": 30,
     "metadata": {},
     "output_type": "execute_result"
    }
   ],
   "source": [
    "M = np.random.random((20, 20))\n",
    "print np.linalg.matrix_rank(M)\n",
    "M_inv = np.linalg.inv(M)\n",
    "np.isclose(np.identity(20), M_inv.dot(M)).sum()"
   ]
  },
  {
   "cell_type": "markdown",
   "metadata": {},
   "source": [
    "### Norm"
   ]
  },
  {
   "cell_type": "markdown",
   "metadata": {},
   "source": [
    "The _norm_ of a vector is its distance to the Origin, or the length of its arrow."
   ]
  },
  {
   "cell_type": "code",
   "execution_count": 31,
   "metadata": {
    "collapsed": false
   },
   "outputs": [
    {
     "data": {
      "text/plain": [
       "1.1601186067634819"
      ]
     },
     "execution_count": 31,
     "metadata": {},
     "output_type": "execute_result"
    }
   ],
   "source": [
    "v = np.random.random(5)\n",
    "np.linalg.norm(v)"
   ]
  },
  {
   "cell_type": "markdown",
   "metadata": {},
   "source": [
    "This is computed by using Pythagoras (for any dimension): $a^2 + b^2 = c^2$."
   ]
  },
  {
   "cell_type": "code",
   "execution_count": 32,
   "metadata": {
    "collapsed": false
   },
   "outputs": [
    {
     "name": "stdout",
     "output_type": "stream",
     "text": [
      "1.16011860676\n",
      "1.16011860676\n"
     ]
    }
   ],
   "source": [
    "print sum([elt ** 2 for elt in v]) ** (1/2.)  # in python style\n",
    "print np.sqrt(np.square(v).sum())  # numpy style"
   ]
  },
  {
   "cell_type": "markdown",
   "metadata": {},
   "source": [
    "- The above norm using Pythogoras is called the Euclidean norm, or the L2-norm. \n",
    "- Another commonly used norm is the Manhattan distance, or the L1-norm: $||v|| = \\sum_i |v_i|$\n",
    "- It's called Manhattan distance, because you can only walk on a grid."
   ]
  },
  {
   "cell_type": "code",
   "execution_count": 33,
   "metadata": {
    "collapsed": false
   },
   "outputs": [
    {
     "data": {
      "text/plain": [
       "1.9906856683365495"
      ]
     },
     "execution_count": 33,
     "metadata": {},
     "output_type": "execute_result"
    }
   ],
   "source": [
    "np.linalg.norm(v, ord=1)"
   ]
  },
  {
   "cell_type": "code",
   "execution_count": 34,
   "metadata": {
    "collapsed": false
   },
   "outputs": [
    {
     "name": "stdout",
     "output_type": "stream",
     "text": [
      "1.99068566834\n",
      "1.99068566834\n"
     ]
    }
   ],
   "source": [
    "print sum([abs(elt) for elt in v])  # in python style\n",
    "print np.abs(v).sum()  # numpy style"
   ]
  },
  {
   "cell_type": "code",
   "execution_count": 35,
   "metadata": {
    "collapsed": false
   },
   "outputs": [
    {
     "data": {
      "text/plain": [
       "1.7856167815727257"
      ]
     },
     "execution_count": 35,
     "metadata": {},
     "output_type": "execute_result"
    }
   ],
   "source": [
    "np.linalg.norm(v, ord=1.1)"
   ]
  },
  {
   "cell_type": "markdown",
   "metadata": {},
   "source": [
    "### Dot Product"
   ]
  },
  {
   "cell_type": "markdown",
   "metadata": {},
   "source": [
    "<img src=\"https://upload.wikimedia.org/wikipedia/commons/3/3e/Dot_Product.svg\"  style=\"height: 170px;\"/ align=right>\n",
    "- The _dot product_ or _inner product_ of two vectors $v$ and $w$ of the same dimension is defined as $<v, w> = \\sum_i v_i w_i$.\n",
    "- Note that the _dot product_ is a single value, or a scalar, and not a vector.\n",
    "- Geometrically, it's the length of the projection of the one vector onto the other (see picture).\n",
    "- That implies that $<v, w> = ||v||  ||w|| $ cos $\\theta$.\n",
    "- In an Euclidean space, we have $ ||v||^2 = <v, v>$"
   ]
  },
  {
   "cell_type": "code",
   "execution_count": 36,
   "metadata": {
    "collapsed": false
   },
   "outputs": [
    {
     "data": {
      "text/plain": [
       "1.1105542853696984"
      ]
     },
     "execution_count": 36,
     "metadata": {},
     "output_type": "execute_result"
    }
   ],
   "source": [
    "w = np.random.random(v.shape[0])\n",
    "v.dot(w)"
   ]
  },
  {
   "cell_type": "code",
   "execution_count": 37,
   "metadata": {
    "collapsed": false
   },
   "outputs": [
    {
     "name": "stdout",
     "output_type": "stream",
     "text": [
      "1.34587518176\n",
      "1.34587518176\n"
     ]
    }
   ],
   "source": [
    "print np.linalg.norm(v) ** 2\n",
    "print v.dot(v)"
   ]
  },
  {
   "cell_type": "markdown",
   "metadata": {},
   "source": [
    "The angle $\\theta$ can be computed as follows."
   ]
  },
  {
   "cell_type": "code",
   "execution_count": 38,
   "metadata": {
    "collapsed": false
   },
   "outputs": [
    {
     "data": {
      "text/plain": [
       "0.9258868904299643"
      ]
     },
     "execution_count": 38,
     "metadata": {},
     "output_type": "execute_result"
    }
   ],
   "source": [
    "theta = np.arccos(v.dot(w) / (np.linalg.norm(v) * np.linalg.norm(w)))\n",
    "theta"
   ]
  },
  {
   "cell_type": "markdown",
   "metadata": {},
   "source": [
    "In particular, two vectors are _orthogonal_ ($90^o$ angle) if their dot product is zero."
   ]
  },
  {
   "cell_type": "markdown",
   "metadata": {},
   "source": [
    "### (*) Eigenvectors"
   ]
  },
  {
   "cell_type": "markdown",
   "metadata": {},
   "source": [
    "Let's look at an arbitrary matrix _M_"
   ]
  },
  {
   "cell_type": "code",
   "execution_count": 39,
   "metadata": {
    "collapsed": false
   },
   "outputs": [
    {
     "data": {
      "text/plain": [
       "array([[ 0.72152139,  0.96889166],\n",
       "       [ 0.18037866,  0.89068293]])"
      ]
     },
     "execution_count": 39,
     "metadata": {},
     "output_type": "execute_result"
    }
   ],
   "source": [
    "M = np.random.random((2,2))\n",
    "M"
   ]
  },
  {
   "cell_type": "markdown",
   "metadata": {},
   "source": [
    "We know we can multiply this matrix with any 2-dimensional vector, which whill give us another 2-dimensional vector."
   ]
  },
  {
   "cell_type": "code",
   "execution_count": 40,
   "metadata": {
    "collapsed": true
   },
   "outputs": [],
   "source": [
    "a = np.random.random(2)\n",
    "b = M.dot(a)"
   ]
  },
  {
   "cell_type": "markdown",
   "metadata": {},
   "source": [
    "Let's draw both vectors"
   ]
  },
  {
   "cell_type": "code",
   "execution_count": 41,
   "metadata": {
    "collapsed": false
   },
   "outputs": [],
   "source": [
    "from matplotlib import pyplot as plt\n",
    "%matplotlib inline\n",
    "\n",
    "def draw(a, lim=1.5):\n",
    "    plt.figure(figsize=(3,3))\n",
    "    colors = list('kyrgb')\n",
    "    if type(a) != list:\n",
    "        a = [a]\n",
    "    for a in a:\n",
    "        c = colors.pop()\n",
    "        plt.arrow(0, 0, a[0], a[1], head_width=0.2, fc=c, ec=c)\n",
    "    plt.xlim(-lim, lim), plt.ylim(-lim, lim)"
   ]
  },
  {
   "cell_type": "code",
   "execution_count": 42,
   "metadata": {
    "collapsed": false
   },
   "outputs": [
    {
     "data": {
      "image/png": "[encoded data removed]",
      "text/plain": [
       "<matplotlib.figure.Figure at 0x1069278d0>"
      ]
     },
     "metadata": {},
     "output_type": "display_data"
    }
   ],
   "source": [
    "draw([a, b])"
   ]
  },
  {
   "cell_type": "markdown",
   "metadata": {},
   "source": [
    "For this matrix _M_, we now try to find a vector _v_, along with a scalar $\\lambda$, such that:\n",
    "- $M \\times v = \\lambda v$\n",
    "\n",
    "In fact, if we accept complex numbers, we know that each $n \\times n$-matrix has\n",
    "- $n$ such vectors, called _eigenvectors_, along with their\n",
    "- respective scalars, called _eigenvalues_."
   ]
  },
  {
   "cell_type": "code",
   "execution_count": 43,
   "metadata": {
    "collapsed": false
   },
   "outputs": [
    {
     "name": "stdout",
     "output_type": "stream",
     "text": [
      "[ 0.37957984  1.23262448]\n",
      "[[-0.94299651 -0.88448135]\n",
      " [ 0.33280262 -0.46657554]]\n"
     ]
    }
   ],
   "source": [
    "eigenvalues, eigenvectors = np.linalg.eig(M)\n",
    "print eigenvalues\n",
    "print eigenvectors"
   ]
  },
  {
   "cell_type": "markdown",
   "metadata": {},
   "source": [
    "Let's try it out."
   ]
  },
  {
   "cell_type": "code",
   "execution_count": 44,
   "metadata": {
    "collapsed": false
   },
   "outputs": [
    {
     "name": "stdout",
     "output_type": "stream",
     "text": [
      "[-0.35794246  0.12632517] and [-0.35794246  0.12632517] : True\n",
      "[-1.09023337 -0.57511243] and [-1.09023337 -0.57511243] : True\n"
     ]
    }
   ],
   "source": [
    "for i in xrange(len(eigenvalues)):\n",
    "    v = eigenvectors[:,i]  # columns are eigenvectors\n",
    "    print M.dot(v), \"and\", eigenvalues[i] * v, \":\", np.isclose(M.dot(v), eigenvalues[i] * v).all()"
   ]
  },
  {
   "cell_type": "markdown",
   "metadata": {},
   "source": [
    "Let's draw them."
   ]
  },
  {
   "cell_type": "code",
   "execution_count": 45,
   "metadata": {
    "collapsed": false
   },
   "outputs": [
    {
     "data": {
      "image/png": "[encoded data removed]",
      "text/plain": [
       "<matplotlib.figure.Figure at 0x1085e0210>"
      ]
     },
     "metadata": {},
     "output_type": "display_data"
    }
   ],
   "source": [
    "draw([eigenvectors[:,0], eigenvectors[:,1]])"
   ]
  },
  {
   "cell_type": "markdown",
   "metadata": {},
   "source": [
    "Let's draw the images $Mv = \\lambda v$ as well."
   ]
  },
  {
   "cell_type": "code",
   "execution_count": 46,
   "metadata": {
    "collapsed": false
   },
   "outputs": [
    {
     "data": {
      "image/png": "[encoded data removed]",
      "text/plain": [
       "<matplotlib.figure.Figure at 0x1085bd550>"
      ]
     },
     "metadata": {},
     "output_type": "display_data"
    }
   ],
   "source": [
    "draw([eigenvectors[:,0], eigenvectors[:,1],\n",
    "      M.dot(eigenvectors[:,0]), M.dot(eigenvectors[:,1])])"
   ]
  },
  {
   "cell_type": "code",
   "execution_count": 47,
   "metadata": {
    "collapsed": false
   },
   "outputs": [
    {
     "name": "stdout",
     "output_type": "stream",
     "text": [
      "[ 0.37957984  1.23262448]\n"
     ]
    }
   ],
   "source": [
    "print eigenvalues"
   ]
  },
  {
   "cell_type": "markdown",
   "metadata": {},
   "source": [
    "<hr>"
   ]
  },
  {
   "cell_type": "markdown",
   "metadata": {},
   "source": [
    "# Exercises"
   ]
  },
  {
   "cell_type": "markdown",
   "metadata": {},
   "source": [
    "Given the following matrix $M$, vector $v$ and scalar $\\alpha$."
   ]
  },
  {
   "cell_type": "code",
   "execution_count": 48,
   "metadata": {
    "collapsed": false
   },
   "outputs": [],
   "source": [
    "M = np.array([[1,2,3], [4,5,6], [7,8,9]])\n",
    "v = np.array([2,4,6])\n",
    "alpha = 123"
   ]
  },
  {
   "cell_type": "markdown",
   "metadata": {},
   "source": [
    "- Compute the mean of each row of $M$, and the mean of each column of $M$, and the mean of all of $M$\n",
    "- What is the standard deviation of $v$\n",
    "- What is $\\alpha M v$?\n",
    "- Can we compute $v M$? And what about $v  M^T$?\n",
    "- (*) What are the eigenvalues of $M$, and what are the corresponding eigenvectors?"
   ]
  },
  {
   "cell_type": "code",
   "execution_count": null,
   "metadata": {
    "collapsed": true
   },
   "outputs": [],
   "source": []
  }
 ],
 "metadata": {
  "kernelspec": {
   "display_name": "Python 2",
   "language": "python",
   "name": "python2"
  },
  "language_info": {
   "codemirror_mode": {
    "name": "ipython",
    "version": 2
   },
   "file_extension": ".py",
   "mimetype": "text/x-python",
   "name": "python",
   "nbconvert_exporter": "python",
   "pygments_lexer": "ipython2",
   "version": "2.7.10"
  }
 },
 "nbformat": 4,
 "nbformat_minor": 0
}
