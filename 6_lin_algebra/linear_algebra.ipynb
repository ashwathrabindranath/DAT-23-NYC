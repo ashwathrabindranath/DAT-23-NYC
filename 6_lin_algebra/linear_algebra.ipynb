{
 "cells": [
  {
   "cell_type": "markdown",
   "metadata": {},
   "source": [
    "# Linear Algebra in Data Science"
   ]
  },
  {
   "cell_type": "markdown",
   "metadata": {},
   "source": [
    "Most of our operations on data require translating our raw datasets into something we can write code to operate on.  Often we will attempt to translate raw datasets into tables and perform filter or aggregations.  If our table is made up mostly numerical values, we can also view it as a matrix and use many ideas from linear algebra to help analyze the data stored in the matrix."
   ]
  },
  {
   "cell_type": "code",
   "execution_count": 1,
   "metadata": {
    "collapsed": true
   },
   "outputs": [],
   "source": [
    "import numpy as np"
   ]
  },
  {
   "cell_type": "markdown",
   "metadata": {},
   "source": [
    "A matrix $M$ can be seen as\n",
    "- a $m \\times n$ grid of elements, or\n",
    "- a collection of vectors, where each column represents a $m \\times 1$ vector (or each row is a $1\\times n$ vector)."
   ]
  },
  {
   "cell_type": "code",
   "execution_count": 2,
   "metadata": {
    "collapsed": false
   },
   "outputs": [
    {
     "data": {
      "text/plain": [
       "array([[ 0.84199112,  0.69620224,  0.83316928],\n",
       "       [ 0.5470212 ,  0.25345065,  0.10588872]])"
      ]
     },
     "execution_count": 2,
     "metadata": {},
     "output_type": "execute_result"
    }
   ],
   "source": [
    "M = np.random.random((2, 3))  # 2x3 matrix\n",
    "M"
   ]
  },
  {
   "cell_type": "code",
   "execution_count": 3,
   "metadata": {
    "collapsed": false
   },
   "outputs": [
    {
     "data": {
      "text/plain": [
       "array([ 0.84199112,  0.69620224,  0.83316928])"
      ]
     },
     "execution_count": 3,
     "metadata": {},
     "output_type": "execute_result"
    }
   ],
   "source": [
    "M[0]  # first row"
   ]
  },
  {
   "cell_type": "code",
   "execution_count": 4,
   "metadata": {
    "collapsed": false
   },
   "outputs": [
    {
     "data": {
      "text/plain": [
       "array([ 0.84199112,  0.5470212 ])"
      ]
     },
     "execution_count": 4,
     "metadata": {},
     "output_type": "execute_result"
    }
   ],
   "source": [
    "M[:,0]  # first column"
   ]
  },
  {
   "cell_type": "markdown",
   "metadata": {},
   "source": [
    "- _Matrices_ are often notated by a capital letter (e.g., _M_), and\n",
    "- _vectors_ by a lower case letter (e.g., _v_). \n",
    "- A _scalar_, in constrast to a vector, is a single value or variable, and is often notated with a Greek character (e.g., $\\alpha$ or $\\lambda$)"
   ]
  },
  {
   "cell_type": "code",
   "execution_count": 5,
   "metadata": {
    "collapsed": false
   },
   "outputs": [],
   "source": [
    "M = np.random.random((2, 5))\n",
    "v = np.random.random(5)\n",
    "alpha = 10"
   ]
  },
  {
   "cell_type": "markdown",
   "metadata": {},
   "source": [
    "Operations work like you know from linear algebra: we can multiply any $n \\times m$ matrix with an $m$-dimendional vector, giving us a vector in $n$ dimensions."
   ]
  },
  {
   "cell_type": "code",
   "execution_count": 6,
   "metadata": {
    "collapsed": false
   },
   "outputs": [
    {
     "data": {
      "text/plain": [
       "array([ 1.39257051,  2.08102847])"
      ]
     },
     "execution_count": 6,
     "metadata": {},
     "output_type": "execute_result"
    }
   ],
   "source": [
    "M.dot(v)  # 2x5 matrix times 5-dim vector gives a 2-dim vector"
   ]
  },
  {
   "cell_type": "code",
   "execution_count": 7,
   "metadata": {
    "collapsed": false
   },
   "outputs": [
    {
     "data": {
      "text/plain": [
       "array([[ 0.16326753,  0.25239868,  0.46096443,  0.51463936,  0.0013005 ],\n",
       "       [ 0.21266423,  0.96993267,  0.54960114,  0.34738291,  0.00144751]])"
      ]
     },
     "execution_count": 7,
     "metadata": {},
     "output_type": "execute_result"
    }
   ],
   "source": [
    "M * v  # Don't confuse the above with the element-wise multiplication"
   ]
  },
  {
   "cell_type": "markdown",
   "metadata": {},
   "source": [
    "The dot product is the most fundamental operations on vectors.  `x.dot(y)` compute the sum of the element-wise product of the two arrays.  If `x` and  `y` are equal-length arrays then the dot product is a scalar value.\n",
    "\n",
    "The `.dot` operator also defines matrix multiplication. If $x$ and $y$ are matrices then `x.dot(y)` is the product of the two matrices.  If two matrices are to be multiplied, the number of columns in the first matrix *must* match the number of rows in the second.  For the above to work, if `x` is an m x n matrix, then `y` must have n rows.  Then, the multiplication operation is just the dot product of all rows in $x$ with all columns in $y$.  Any cell $(i, j)$ in the product is `x_i.dot(y_j)` where $x_i$ is row $i$ and $y_j$ is column $j$.\n"
   ]
  },
  {
   "cell_type": "markdown",
   "metadata": {},
   "source": [
    "The transposed matrix $M^T$ of $M$, which swaps rows with columns."
   ]
  },
  {
   "cell_type": "code",
   "execution_count": 8,
   "metadata": {
    "collapsed": false
   },
   "outputs": [
    {
     "data": {
      "text/plain": [
       "array([[ 0.24270176,  0.31613133],\n",
       "       [ 0.2578262 ,  0.99078985],\n",
       "       [ 0.79556893,  0.94854518],\n",
       "       [ 0.89755851,  0.60585433],\n",
       "       [ 0.03653011,  0.04065964]])"
      ]
     },
     "execution_count": 8,
     "metadata": {},
     "output_type": "execute_result"
    }
   ],
   "source": [
    "M.T  # transpose 2x5 matrix to 5x2 one"
   ]
  },
  {
   "cell_type": "code",
   "execution_count": 9,
   "metadata": {
    "collapsed": false,
    "scrolled": true
   },
   "outputs": [
    {
     "data": {
      "text/plain": [
       "array([ 1.39257051,  2.08102847])"
      ]
     },
     "execution_count": 9,
     "metadata": {},
     "output_type": "execute_result"
    }
   ],
   "source": [
    "v.dot(M.T)  # 5-dim vector times 5x2 matrix gives 2-dim vector"
   ]
  },
  {
   "cell_type": "markdown",
   "metadata": {},
   "source": [
    "Scalar multiplication is straight-forward."
   ]
  },
  {
   "cell_type": "code",
   "execution_count": 10,
   "metadata": {
    "collapsed": false
   },
   "outputs": [
    {
     "data": {
      "text/plain": [
       "array([[ 2.42701756,  2.57826197,  7.95568932,  8.97558514,  0.36530112],\n",
       "       [ 3.16131333,  9.90789846,  9.48545175,  6.05854335,  0.40659644]])"
      ]
     },
     "execution_count": 10,
     "metadata": {},
     "output_type": "execute_result"
    }
   ],
   "source": [
    "alpha * M"
   ]
  },
  {
   "cell_type": "code",
   "execution_count": 11,
   "metadata": {
    "collapsed": false
   },
   "outputs": [
    {
     "data": {
      "text/plain": [
       "array([ 6.727085  ,  9.78948941,  5.79414826,  5.73376952,  0.35600717])"
      ]
     },
     "execution_count": 11,
     "metadata": {},
     "output_type": "execute_result"
    }
   ],
   "source": [
    "alpha * v"
   ]
  },
  {
   "cell_type": "markdown",
   "metadata": {},
   "source": [
    "Also matrices can be multiplied with each other..."
   ]
  },
  {
   "cell_type": "code",
   "execution_count": 12,
   "metadata": {
    "collapsed": false
   },
   "outputs": [
    {
     "data": {
      "text/plain": [
       "array([[ 1.61892306,  1.51441954,  1.15004183],\n",
       "       [ 2.28850945,  2.31043012,  1.45688102]])"
      ]
     },
     "execution_count": 12,
     "metadata": {},
     "output_type": "execute_result"
    }
   ],
   "source": [
    "N = np.random.random((5, 3))\n",
    "M.dot(N)"
   ]
  },
  {
   "cell_type": "markdown",
   "metadata": {},
   "source": [
    "... or with themselves (if $n = m$)"
   ]
  },
  {
   "cell_type": "code",
   "execution_count": 13,
   "metadata": {
    "collapsed": false
   },
   "outputs": [
    {
     "data": {
      "text/plain": [
       "array([[ 0.98929316,  0.87172621,  0.15052253,  0.47827181,  0.52644846],\n",
       "       [ 0.46189768,  0.48744489,  0.09970418,  0.89711479,  0.05921285],\n",
       "       [ 0.64412542,  0.47827312,  0.03838826,  0.12268552,  0.36586478],\n",
       "       [ 0.06833583,  0.57458631,  0.57363848,  0.80148023,  0.68236482],\n",
       "       [ 0.12987249,  0.23023508,  0.90546167,  0.74093454,  0.68462027]])"
      ]
     },
     "execution_count": 13,
     "metadata": {},
     "output_type": "execute_result"
    }
   ],
   "source": [
    "A = np.random.random((5,5))\n",
    "A"
   ]
  },
  {
   "cell_type": "code",
   "execution_count": 14,
   "metadata": {
    "collapsed": false
   },
   "outputs": [
    {
     "data": {
      "text/plain": [
       "array([[ 1.57935892,  1.75531748,  0.99263797,  2.04704569,  1.31427329],\n",
       "       [ 0.81531907,  1.21703941,  0.6901883 ,  1.43333153,  0.96120446],\n",
       "       [ 0.93876855,  0.96772119,  0.54776855,  1.11125447,  0.71565839],\n",
       "       [ 0.8458896 ,  1.23162904,  1.1672108 ,  1.76648832,  1.293935  ],\n",
       "       [ 0.9576036 ,  1.24185258,  1.1221892 ,  1.48085186,  1.38757316]])"
      ]
     },
     "execution_count": 14,
     "metadata": {},
     "output_type": "execute_result"
    }
   ],
   "source": [
    "A.dot(A)"
   ]
  },
  {
   "cell_type": "code",
   "execution_count": 15,
   "metadata": {
    "collapsed": false
   },
   "outputs": [
    {
     "data": {
      "text/plain": [
       "array([[ 1.57935892,  1.75531748,  0.99263797,  2.04704569,  1.31427329],\n",
       "       [ 0.81531907,  1.21703941,  0.6901883 ,  1.43333153,  0.96120446],\n",
       "       [ 0.93876855,  0.96772119,  0.54776855,  1.11125447,  0.71565839],\n",
       "       [ 0.8458896 ,  1.23162904,  1.1672108 ,  1.76648832,  1.293935  ],\n",
       "       [ 0.9576036 ,  1.24185258,  1.1221892 ,  1.48085186,  1.38757316]])"
      ]
     },
     "execution_count": 15,
     "metadata": {},
     "output_type": "execute_result"
    }
   ],
   "source": [
    "np.linalg.matrix_power(A, 2)  # A squared, which is the same as A times A"
   ]
  },
  {
   "cell_type": "code",
   "execution_count": 16,
   "metadata": {
    "collapsed": false
   },
   "outputs": [
    {
     "data": {
      "text/plain": [
       "array([[  7.84750321,  10.02249826,   7.1871642 ,  12.41437148,\n",
       "          8.94571232],\n",
       "       [  5.06077705,   6.53924556,   4.77901978,   8.13575601,\n",
       "          5.92369417],\n",
       "       [  4.41119756,   5.6130744 ,   3.99998987,   6.94027975,\n",
       "          4.98691093],\n",
       "       [  6.16920564,   7.89581535,   5.84298359,   9.83058267,\n",
       "          7.21205218],\n",
       "       [  6.15976405,   7.82526961,   5.70795167,   9.65798037,\n",
       "          7.09681651]])"
      ]
     },
     "execution_count": 16,
     "metadata": {},
     "output_type": "execute_result"
    }
   ],
   "source": [
    "np.linalg.matrix_power(A, 4)"
   ]
  },
  {
   "cell_type": "markdown",
   "metadata": {},
   "source": [
    "A special matrix is the _identity matrix **1**_, which doesn't do much: _**1**A = A**1** = A_"
   ]
  },
  {
   "cell_type": "code",
   "execution_count": 17,
   "metadata": {
    "collapsed": false
   },
   "outputs": [
    {
     "data": {
      "text/plain": [
       "array([[ 1.,  0.,  0.,  0.,  0.],\n",
       "       [ 0.,  1.,  0.,  0.,  0.],\n",
       "       [ 0.,  0.,  1.,  0.,  0.],\n",
       "       [ 0.,  0.,  0.,  1.,  0.],\n",
       "       [ 0.,  0.,  0.,  0.,  1.]])"
      ]
     },
     "execution_count": 17,
     "metadata": {},
     "output_type": "execute_result"
    }
   ],
   "source": [
    "I = np.identity(5)\n",
    "I"
   ]
  },
  {
   "cell_type": "code",
   "execution_count": 18,
   "metadata": {
    "collapsed": false
   },
   "outputs": [
    {
     "data": {
      "text/plain": [
       "array([[ 0.98929316,  0.87172621,  0.15052253,  0.47827181,  0.52644846],\n",
       "       [ 0.46189768,  0.48744489,  0.09970418,  0.89711479,  0.05921285],\n",
       "       [ 0.64412542,  0.47827312,  0.03838826,  0.12268552,  0.36586478],\n",
       "       [ 0.06833583,  0.57458631,  0.57363848,  0.80148023,  0.68236482],\n",
       "       [ 0.12987249,  0.23023508,  0.90546167,  0.74093454,  0.68462027]])"
      ]
     },
     "execution_count": 18,
     "metadata": {},
     "output_type": "execute_result"
    }
   ],
   "source": [
    "A.dot(I)"
   ]
  },
  {
   "cell_type": "code",
   "execution_count": 19,
   "metadata": {
    "collapsed": false
   },
   "outputs": [
    {
     "data": {
      "text/plain": [
       "array([[ 0.98929316,  0.87172621,  0.15052253,  0.47827181,  0.52644846],\n",
       "       [ 0.46189768,  0.48744489,  0.09970418,  0.89711479,  0.05921285],\n",
       "       [ 0.64412542,  0.47827312,  0.03838826,  0.12268552,  0.36586478],\n",
       "       [ 0.06833583,  0.57458631,  0.57363848,  0.80148023,  0.68236482],\n",
       "       [ 0.12987249,  0.23023508,  0.90546167,  0.74093454,  0.68462027]])"
      ]
     },
     "execution_count": 19,
     "metadata": {},
     "output_type": "execute_result"
    }
   ],
   "source": [
    "I.dot(A)"
   ]
  },
  {
   "cell_type": "code",
   "execution_count": 20,
   "metadata": {
    "collapsed": false
   },
   "outputs": [
    {
     "data": {
      "text/plain": [
       "array([[ 1.,  0.,  0.,  0.,  0.],\n",
       "       [ 0.,  1.,  0.,  0.,  0.],\n",
       "       [ 0.,  0.,  1.,  0.,  0.],\n",
       "       [ 0.,  0.,  0.,  1.,  0.],\n",
       "       [ 0.,  0.,  0.,  0.,  1.]])"
      ]
     },
     "execution_count": 20,
     "metadata": {},
     "output_type": "execute_result"
    }
   ],
   "source": [
    "np.linalg.matrix_power(I, 1000)"
   ]
  },
  {
   "cell_type": "markdown",
   "metadata": {},
   "source": [
    "Note that a matrix $A$ could have an inverse $A^{-1}$, such that $AA^{-1} = \\textbf{1} $"
   ]
  },
  {
   "cell_type": "code",
   "execution_count": 21,
   "metadata": {
    "collapsed": false
   },
   "outputs": [
    {
     "data": {
      "text/plain": [
       "array([[ 1.,  0., -0.,  0., -0.],\n",
       "       [-0.,  1.,  0.,  0.,  0.],\n",
       "       [ 0., -0.,  1.,  0., -0.],\n",
       "       [-0.,  0., -0.,  1., -0.],\n",
       "       [-0., -0.,  0.,  0.,  1.]])"
      ]
     },
     "execution_count": 21,
     "metadata": {},
     "output_type": "execute_result"
    }
   ],
   "source": [
    "A_inv = np.linalg.inv(A)\n",
    "A.dot(A_inv).round(4)  # you might see weird \"negative zeroes\" in the matrix due to rouding errors"
   ]
  },
  {
   "cell_type": "markdown",
   "metadata": {},
   "source": [
    "Note that the inverse $A^{-1}$ is literally $A$ to the power -1:"
   ]
  },
  {
   "cell_type": "code",
   "execution_count": 22,
   "metadata": {
    "collapsed": false
   },
   "outputs": [
    {
     "data": {
      "text/plain": [
       "array([[ True,  True,  True,  True,  True],\n",
       "       [ True,  True,  True,  True,  True],\n",
       "       [ True,  True,  True,  True,  True],\n",
       "       [ True,  True,  True,  True,  True],\n",
       "       [ True,  True,  True,  True,  True]], dtype=bool)"
      ]
     },
     "execution_count": 22,
     "metadata": {},
     "output_type": "execute_result"
    }
   ],
   "source": [
    "np.isclose(A_inv, np.linalg.matrix_power(A, -1))"
   ]
  },
  {
   "cell_type": "markdown",
   "metadata": {},
   "source": [
    "### Matrix Rank"
   ]
  },
  {
   "cell_type": "markdown",
   "metadata": {},
   "source": [
    "The _rank_ of a matrix is its number of linearly-independent vectors. Its a fundamental result in linear algebra that the _column rank_ equals the _row rank_ of a matrix, so we safely speak of its _rank_ in general. Hence, it follows that rank $A$ = rank $A^T$."
   ]
  },
  {
   "cell_type": "code",
   "execution_count": 23,
   "metadata": {
    "collapsed": true
   },
   "outputs": [],
   "source": [
    "A = np.array([[1, 2, 3],\n",
    "              [4, 5, 6],\n",
    "              [6, 9, 12]])"
   ]
  },
  {
   "cell_type": "code",
   "execution_count": 24,
   "metadata": {
    "collapsed": false
   },
   "outputs": [
    {
     "name": "stdout",
     "output_type": "stream",
     "text": [
      "2 2\n"
     ]
    }
   ],
   "source": [
    "print np.linalg.matrix_rank(A), np.linalg.matrix_rank(A.T)"
   ]
  },
  {
   "cell_type": "markdown",
   "metadata": {},
   "source": [
    "Indeed, the third row is twice the first plus the second."
   ]
  },
  {
   "cell_type": "code",
   "execution_count": 25,
   "metadata": {
    "collapsed": false
   },
   "outputs": [
    {
     "name": "stdout",
     "output_type": "stream",
     "text": [
      "[ 6  9 12]\n",
      "[ 6  9 12]\n"
     ]
    }
   ],
   "source": [
    "print 2 * A[0] + A[1] \n",
    "print A[2]"
   ]
  },
  {
   "cell_type": "markdown",
   "metadata": {},
   "source": [
    "But also, the third column is negative the first plus twice the second."
   ]
  },
  {
   "cell_type": "code",
   "execution_count": 26,
   "metadata": {
    "collapsed": false
   },
   "outputs": [
    {
     "name": "stdout",
     "output_type": "stream",
     "text": [
      "[ 3  6 12]\n",
      "[ 3  6 12]\n"
     ]
    }
   ],
   "source": [
    "print -A[:, 0] + 2 * A[:, 1]\n",
    "print A[:, 2]"
   ]
  },
  {
   "cell_type": "markdown",
   "metadata": {},
   "source": [
    "We say a matrix has _full rank_ if its rank equals the number of rows or columns, whichever is smaller."
   ]
  },
  {
   "cell_type": "markdown",
   "metadata": {},
   "source": [
    "Since matrices can be multiplied with vectors, we often regard them as linear transformations, or mappings, from one vector space to another:\n",
    "\n",
    "$$M: v \\mapsto Mv$$"
   ]
  },
  {
   "cell_type": "markdown",
   "metadata": {},
   "source": [
    "The rank is also the dimension of the image of the linear transformation that is given by multiplication by _M_. More generally, if a linear operator on a vector space (possibly infinite-dimensional) has finite-dimensional image (e.g., a finite-rank operator), then the rank of the operator is defined as the dimension of the image."
   ]
  },
  {
   "cell_type": "markdown",
   "metadata": {},
   "source": [
    "As a special case, when $n = m$, then rank $A = n$ if and only if its inverse $A^{-1}$ exists."
   ]
  },
  {
   "cell_type": "code",
   "execution_count": 27,
   "metadata": {
    "collapsed": false
   },
   "outputs": [
    {
     "name": "stdout",
     "output_type": "stream",
     "text": [
      "20\n"
     ]
    },
    {
     "data": {
      "text/plain": [
       "400"
      ]
     },
     "execution_count": 27,
     "metadata": {},
     "output_type": "execute_result"
    }
   ],
   "source": [
    "M = np.random.random((20, 20))\n",
    "print np.linalg.matrix_rank(M)\n",
    "M_inv = np.linalg.inv(M)\n",
    "np.isclose(np.identity(20), M_inv.dot(M)).sum()"
   ]
  },
  {
   "cell_type": "markdown",
   "metadata": {},
   "source": [
    "### (*) Eigenvectors"
   ]
  },
  {
   "cell_type": "markdown",
   "metadata": {},
   "source": [
    "Let's look at an arbitrary matrix _M_"
   ]
  },
  {
   "cell_type": "code",
   "execution_count": 28,
   "metadata": {
    "collapsed": false
   },
   "outputs": [
    {
     "data": {
      "text/plain": [
       "array([[ 0.26816303,  0.61826462],\n",
       "       [ 0.33410202,  0.74984875]])"
      ]
     },
     "execution_count": 28,
     "metadata": {},
     "output_type": "execute_result"
    }
   ],
   "source": [
    "M = np.random.random((2,2))\n",
    "M"
   ]
  },
  {
   "cell_type": "markdown",
   "metadata": {},
   "source": [
    "We know we can multiply this matrix with any 2-dimensional vector, which whill give us another 2-dimensional vector."
   ]
  },
  {
   "cell_type": "code",
   "execution_count": 29,
   "metadata": {
    "collapsed": true
   },
   "outputs": [],
   "source": [
    "a = np.random.random(2)\n",
    "b = M.dot(a)"
   ]
  },
  {
   "cell_type": "markdown",
   "metadata": {},
   "source": [
    "Let's draw both vectors"
   ]
  },
  {
   "cell_type": "code",
   "execution_count": 30,
   "metadata": {
    "collapsed": false
   },
   "outputs": [],
   "source": [
    "from matplotlib import pyplot as plt\n",
    "%matplotlib inline\n",
    "\n",
    "def draw(a, lim=1.5):\n",
    "    plt.figure(figsize=(3,3))\n",
    "    colors = list('kyrgb')\n",
    "    if type(a) != list:\n",
    "        a = [a]\n",
    "    for a in a:\n",
    "        c = colors.pop()\n",
    "        plt.arrow(0, 0, a[0], a[1], head_width=0.2, fc=c, ec=c)\n",
    "    plt.xlim(-lim, lim), plt.ylim(-lim, lim)"
   ]
  },
  {
   "cell_type": "code",
   "execution_count": 31,
   "metadata": {
    "collapsed": false
   },
   "outputs": [
    {
     "data": {
      "image/png": "[encoded data removed]",
      "text/plain": [
       "<matplotlib.figure.Figure at 0x107228ed0>"
      ]
     },
     "metadata": {},
     "output_type": "display_data"
    }
   ],
   "source": [
    "draw([a, b])"
   ]
  },
  {
   "cell_type": "markdown",
   "metadata": {},
   "source": [
    "For this matrix _M_, we now try to find a vector _v_, along with a scalar $\\lambda$, such that:\n",
    "- $M \\times v = \\lambda v$\n",
    "\n",
    "In fact, if we accept complex numbers, we know that each $n \\times n$-matrix has\n",
    "- $n$ such vectors, called _eigenvectors_, along with their\n",
    "- respective scalars, called _eigenvalues_."
   ]
  },
  {
   "cell_type": "code",
   "execution_count": 32,
   "metadata": {
    "collapsed": false
   },
   "outputs": [
    {
     "name": "stdout",
     "output_type": "stream",
     "text": [
      "[-0.00535657  1.02336835]\n",
      "[[-0.91450447 -0.63346445]\n",
      " [ 0.40457579 -0.77377179]]\n"
     ]
    }
   ],
   "source": [
    "eigenvalues, eigenvectors = np.linalg.eig(M)\n",
    "print eigenvalues\n",
    "print eigenvectors"
   ]
  },
  {
   "cell_type": "markdown",
   "metadata": {},
   "source": [
    "Let's try it out."
   ]
  },
  {
   "cell_type": "code",
   "execution_count": 33,
   "metadata": {
    "collapsed": false
   },
   "outputs": [
    {
     "name": "stdout",
     "output_type": "stream",
     "text": [
      "[ 0.00489861 -0.00216714] and [ 0.00489861 -0.00216714] : True\n",
      "[-0.64826747 -0.79185356] and [-0.64826747 -0.79185356] : True\n"
     ]
    }
   ],
   "source": [
    "for i in xrange(len(eigenvalues)):\n",
    "    v = eigenvectors[:,i]  # columns are eigenvectors\n",
    "    print M.dot(v), \"and\", eigenvalues[i] * v, \":\", np.isclose(M.dot(v), eigenvalues[i] * v).all()"
   ]
  },
  {
   "cell_type": "markdown",
   "metadata": {},
   "source": [
    "Let's draw them."
   ]
  },
  {
   "cell_type": "code",
   "execution_count": 34,
   "metadata": {
    "collapsed": false
   },
   "outputs": [
    {
     "data": {
      "image/png": "[encoded data removed]",
      "text/plain": [
       "<matplotlib.figure.Figure at 0x1084cc310>"
      ]
     },
     "metadata": {},
     "output_type": "display_data"
    }
   ],
   "source": [
    "draw([eigenvectors[:,0], eigenvectors[:,1]])"
   ]
  },
  {
   "cell_type": "markdown",
   "metadata": {},
   "source": [
    "Let's draw the images $Mv = \\lambda v$ as well."
   ]
  },
  {
   "cell_type": "code",
   "execution_count": 35,
   "metadata": {
    "collapsed": false
   },
   "outputs": [
    {
     "data": {
      "image/png": "[encoded data removed]",
      "text/plain": [
       "<matplotlib.figure.Figure at 0x10852a790>"
      ]
     },
     "metadata": {},
     "output_type": "display_data"
    }
   ],
   "source": [
    "draw([eigenvectors[:,0], eigenvectors[:,1],\n",
    "      M.dot(eigenvectors[:,0]), M.dot(eigenvectors[:,1])])"
   ]
  },
  {
   "cell_type": "code",
   "execution_count": 36,
   "metadata": {
    "collapsed": false
   },
   "outputs": [
    {
     "name": "stdout",
     "output_type": "stream",
     "text": [
      "[-0.00535657  1.02336835]\n"
     ]
    }
   ],
   "source": [
    "print eigenvalues"
   ]
  },
  {
   "cell_type": "markdown",
   "metadata": {},
   "source": [
    "<hr>"
   ]
  },
  {
   "cell_type": "markdown",
   "metadata": {},
   "source": [
    "# Exercises"
   ]
  },
  {
   "cell_type": "markdown",
   "metadata": {},
   "source": [
    "Given the following matrix $M$, vector $v$ and scalar $\\alpha$."
   ]
  },
  {
   "cell_type": "code",
   "execution_count": 37,
   "metadata": {
    "collapsed": false
   },
   "outputs": [],
   "source": [
    "M = np.array([[1,2,3], [4,5,6], [7,8,9]])\n",
    "v = np.array([2,4,6])\n",
    "alpha = 123"
   ]
  },
  {
   "cell_type": "markdown",
   "metadata": {},
   "source": [
    "- Compute the mean of each row of $M$, and the mean of each column of $M$, and the mean of all of $M$\n",
    "- What is the standard deviation of $v$\n",
    "- What is $\\alpha M v$?\n",
    "- Can we compute $v M$? And what about $v  M^T$?\n",
    "- (*) What are the eigenvalues of $M$, and what are the corresponding eigenvectors?"
   ]
  },
  {
   "cell_type": "code",
   "execution_count": null,
   "metadata": {
    "collapsed": true
   },
   "outputs": [],
   "source": []
  }
 ],
 "metadata": {
  "kernelspec": {
   "display_name": "Python 2",
   "language": "python",
   "name": "python2"
  },
  "language_info": {
   "codemirror_mode": {
    "name": "ipython",
    "version": 2
   },
   "file_extension": ".py",
   "mimetype": "text/x-python",
   "name": "python",
   "nbconvert_exporter": "python",
   "pygments_lexer": "ipython2",
   "version": "2.7.10"
  }
 },
 "nbformat": 4,
 "nbformat_minor": 0
}
