{
 "cells": [
  {
   "cell_type": "markdown",
   "metadata": {},
   "source": [
    "# Who To Follow: Recommending Brands\n",
    "\n",
    "In this exercise, we consider a simple dataset: users following brands. We only know of a user follows a brand or not, but not how much he or she likes this brand.  Given the brands the user is following, we would like to recommend similar brands that s/he might be interested in.  \n",
    "\n",
    "This is an example of _item-based collaborative filtering_ (also called _memory-based collaborative filtering_).  It's the approach known as _\"because you liked this, we think you'd also like this.\"_  This is a neighborhood method, which is easy to understand.\n",
    "\n",
    "### Import code and data"
   ]
  },
  {
   "cell_type": "code",
   "execution_count": 1,
   "metadata": {
    "collapsed": false
   },
   "outputs": [],
   "source": [
    "import numpy as np\n",
    "import pandas as pd\n",
    "import seaborn as sb\n",
    "from matplotlib import pyplot as plt\n",
    "%matplotlib inline"
   ]
  },
  {
   "cell_type": "code",
   "execution_count": 2,
   "metadata": {
    "collapsed": true
   },
   "outputs": [],
   "source": [
    "path_to_repo = '/Users/ruben/repo/personal/ga/DAT-23-NYC/'"
   ]
  },
  {
   "cell_type": "code",
   "execution_count": 3,
   "metadata": {
    "collapsed": false
   },
   "outputs": [
    {
     "name": "stdout",
     "output_type": "stream",
     "text": [
      "We have 23804 pairs of 3759 users and 198 brands.\n"
     ]
    },
    {
     "data": {
      "text/html": [
       "<div>\n",
       "<table border=\"1\" class=\"dataframe\">\n",
       "  <thead>\n",
       "    <tr style=\"text-align: right;\">\n",
       "      <th></th>\n",
       "      <th>id</th>\n",
       "      <th>brand</th>\n",
       "    </tr>\n",
       "  </thead>\n",
       "  <tbody>\n",
       "    <tr>\n",
       "      <th>0</th>\n",
       "      <td>80002</td>\n",
       "      <td>Target</td>\n",
       "    </tr>\n",
       "    <tr>\n",
       "      <th>1</th>\n",
       "      <td>80002</td>\n",
       "      <td>Home Depot</td>\n",
       "    </tr>\n",
       "    <tr>\n",
       "      <th>2</th>\n",
       "      <td>80010</td>\n",
       "      <td>Levi's</td>\n",
       "    </tr>\n",
       "    <tr>\n",
       "      <th>3</th>\n",
       "      <td>80010</td>\n",
       "      <td>Puma</td>\n",
       "    </tr>\n",
       "    <tr>\n",
       "      <th>4</th>\n",
       "      <td>80010</td>\n",
       "      <td>Cuisinart</td>\n",
       "    </tr>\n",
       "  </tbody>\n",
       "</table>\n",
       "</div>"
      ],
      "text/plain": [
       "      id       brand\n",
       "0  80002      Target\n",
       "1  80002  Home Depot\n",
       "2  80010      Levi's\n",
       "3  80010        Puma\n",
       "4  80010   Cuisinart"
      ]
     },
     "execution_count": 3,
     "metadata": {},
     "output_type": "execute_result"
    }
   ],
   "source": [
    "data = pd.read_csv(path_to_repo + 'data/brand_followers/user-brands.csv')\n",
    "print \"We have %d pairs of %s users and %s brands.\" % \\\n",
    "    (len(data), data.id.nunique(), data.brand.nunique())\n",
    "data.head()"
   ]
  },
  {
   "cell_type": "markdown",
   "metadata": {},
   "source": [
    "### User-by-brand matrix\n",
    "\n",
    "Note that our data above is in condensed format. We could make it into a sparse matrix, which might be easier to work with.  You could do this with `pd.pivot_table`:\n",
    "\n",
    "    M = pd.pivot_table(data, index='id', columns='brand', aggfunc='size', fill_value=0)\n",
    "\n",
    "We use a `groupby` statement, which gives us a multi-index series, and then we make an `unstack` call to transform it into a dataframe again.  \n",
    "\n",
    "Note that these steps are not necessary as you could complete this exercise in several different ways."
   ]
  },
  {
   "cell_type": "code",
   "execution_count": 3,
   "metadata": {
    "collapsed": false
   },
   "outputs": [
    {
     "data": {
      "text/html": [
       "<div>\n",
       "<table border=\"1\" class=\"dataframe\">\n",
       "  <thead>\n",
       "    <tr style=\"text-align: right;\">\n",
       "      <th>brand</th>\n",
       "      <th>6pm.com</th>\n",
       "      <th>Abercrombie &amp; Fitch</th>\n",
       "      <th>Adidas</th>\n",
       "      <th>Aeropostale</th>\n",
       "      <th>Aldo</th>\n",
       "      <th>All Saints</th>\n",
       "      <th>Amazon.com</th>\n",
       "      <th>American Apparel</th>\n",
       "      <th>American Eagle</th>\n",
       "      <th>Ann Taylor</th>\n",
       "      <th>...</th>\n",
       "      <th>Walgreens</th>\n",
       "      <th>Walk-Over</th>\n",
       "      <th>Wet Seal</th>\n",
       "      <th>Windsor</th>\n",
       "      <th>YSL</th>\n",
       "      <th>Yves Saint Laurent</th>\n",
       "      <th>ZOO</th>\n",
       "      <th>Zara</th>\n",
       "      <th>Zipcar</th>\n",
       "      <th>vineyard vines</th>\n",
       "    </tr>\n",
       "    <tr>\n",
       "      <th>id</th>\n",
       "      <th></th>\n",
       "      <th></th>\n",
       "      <th></th>\n",
       "      <th></th>\n",
       "      <th></th>\n",
       "      <th></th>\n",
       "      <th></th>\n",
       "      <th></th>\n",
       "      <th></th>\n",
       "      <th></th>\n",
       "      <th></th>\n",
       "      <th></th>\n",
       "      <th></th>\n",
       "      <th></th>\n",
       "      <th></th>\n",
       "      <th></th>\n",
       "      <th></th>\n",
       "      <th></th>\n",
       "      <th></th>\n",
       "      <th></th>\n",
       "      <th></th>\n",
       "    </tr>\n",
       "  </thead>\n",
       "  <tbody>\n",
       "    <tr>\n",
       "      <th>80002</th>\n",
       "      <td>0</td>\n",
       "      <td>0</td>\n",
       "      <td>0</td>\n",
       "      <td>0</td>\n",
       "      <td>0</td>\n",
       "      <td>0</td>\n",
       "      <td>0</td>\n",
       "      <td>0</td>\n",
       "      <td>0</td>\n",
       "      <td>0</td>\n",
       "      <td>...</td>\n",
       "      <td>0</td>\n",
       "      <td>0</td>\n",
       "      <td>0</td>\n",
       "      <td>0</td>\n",
       "      <td>0</td>\n",
       "      <td>0</td>\n",
       "      <td>0</td>\n",
       "      <td>0</td>\n",
       "      <td>0</td>\n",
       "      <td>0</td>\n",
       "    </tr>\n",
       "    <tr>\n",
       "      <th>80010</th>\n",
       "      <td>0</td>\n",
       "      <td>0</td>\n",
       "      <td>0</td>\n",
       "      <td>0</td>\n",
       "      <td>0</td>\n",
       "      <td>0</td>\n",
       "      <td>0</td>\n",
       "      <td>0</td>\n",
       "      <td>0</td>\n",
       "      <td>0</td>\n",
       "      <td>...</td>\n",
       "      <td>0</td>\n",
       "      <td>0</td>\n",
       "      <td>0</td>\n",
       "      <td>0</td>\n",
       "      <td>0</td>\n",
       "      <td>0</td>\n",
       "      <td>0</td>\n",
       "      <td>0</td>\n",
       "      <td>0</td>\n",
       "      <td>0</td>\n",
       "    </tr>\n",
       "    <tr>\n",
       "      <th>80011</th>\n",
       "      <td>0</td>\n",
       "      <td>0</td>\n",
       "      <td>0</td>\n",
       "      <td>0</td>\n",
       "      <td>0</td>\n",
       "      <td>0</td>\n",
       "      <td>0</td>\n",
       "      <td>0</td>\n",
       "      <td>0</td>\n",
       "      <td>0</td>\n",
       "      <td>...</td>\n",
       "      <td>0</td>\n",
       "      <td>0</td>\n",
       "      <td>0</td>\n",
       "      <td>0</td>\n",
       "      <td>0</td>\n",
       "      <td>0</td>\n",
       "      <td>0</td>\n",
       "      <td>0</td>\n",
       "      <td>0</td>\n",
       "      <td>0</td>\n",
       "    </tr>\n",
       "  </tbody>\n",
       "</table>\n",
       "<p>3 rows × 198 columns</p>\n",
       "</div>"
      ],
      "text/plain": [
       "brand  6pm.com  Abercrombie & Fitch  Adidas  Aeropostale  Aldo  All Saints  \\\n",
       "id                                                                           \n",
       "80002        0                    0       0            0     0           0   \n",
       "80010        0                    0       0            0     0           0   \n",
       "80011        0                    0       0            0     0           0   \n",
       "\n",
       "brand  Amazon.com  American Apparel  American Eagle  Ann Taylor  \\\n",
       "id                                                                \n",
       "80002           0                 0               0           0   \n",
       "80010           0                 0               0           0   \n",
       "80011           0                 0               0           0   \n",
       "\n",
       "brand       ...        Walgreens  Walk-Over  Wet Seal  Windsor  YSL  \\\n",
       "id          ...                                                       \n",
       "80002       ...                0          0         0        0    0   \n",
       "80010       ...                0          0         0        0    0   \n",
       "80011       ...                0          0         0        0    0   \n",
       "\n",
       "brand  Yves Saint Laurent  ZOO  Zara  Zipcar  vineyard vines  \n",
       "id                                                            \n",
       "80002                   0    0     0       0               0  \n",
       "80010                   0    0     0       0               0  \n",
       "80011                   0    0     0       0               0  \n",
       "\n",
       "[3 rows x 198 columns]"
      ]
     },
     "execution_count": 3,
     "metadata": {},
     "output_type": "execute_result"
    }
   ],
   "source": [
    "M = data.groupby(['id', 'brand']).size().unstack().fillna(0)\n",
    "n_users, n_brands = M.shape\n",
    "brands = M.columns\n",
    "M.head(3)"
   ]
  },
  {
   "cell_type": "markdown",
   "metadata": {},
   "source": [
    "### Jaccard distance\n",
    "\n",
    "Since we will use a neighborhood method, we need a definition of _distance_.  We'll use the _Jaccard distance_ for this. (Also see an earlier notebook on SVD which covered the Jaccard distance.)\n",
    "\n",
    "The [_Jaccard index_](https://en.wikipedia.org/wiki/Jaccard_index) is a similarity metric between two sets.  It measures how many elements two sets have in common, as a fraction of the total number of distinct elements in both sets.  \n",
    "\n",
    "$$\\text{Jaccard index} = \\frac{ |A \\cap B | }{ |A \\cup B| }$$\n",
    "\n",
    "We could make a Jaccard matrix $J$, with pairwise similarities $J_{ij}$ as entries.\n",
    "- `J[i, j]` = Jaccard similarity between doc _i_ and _j_ (between 0 and 1)\n",
    "- `J[i, i]` = 1, obviously, and\n",
    "- `J[i, j]` = `J[i, j]`, i.e., the matrix is symmetric.\n",
    "\n",
    "We could also define the _Jaccard distance_, which has $D_{ii} = 0$ for identical sets, and bigger values as the sets have less words in common.  We define: $D = 1 - J,$ which has values between 0 and 1.\n",
    "\n",
    "Common applications of the Jaccard index include text clustering, but we can use it for brand clustering as well, counting the number of followers they have in common."
   ]
  },
  {
   "cell_type": "markdown",
   "metadata": {},
   "source": [
    "<hr>\n",
    "## Exercise\n",
    "\n",
    "\n",
    "- Create a brand-by-brand matrix, with the similarity distances between two brands in each entry.\n",
    "   - Obviously, you'd have $N_{ii} = 0$ for each brand $i$, and $N_{ij} = N_{ji}$ for each pair of brands.\n",
    "   - You can create a 2-dimenional `np.array` for this, or a nested dictionary `N = {i: {j: distance}}`, or anything you like.\n",
    "      \n",
    "      \n",
    "- For a few brands of your choice, show the top most similar brands.  \n",
    "   - Do your results make sense? Would you agree?\n",
    "   \n",
    "   \n",
    "- For a few users, make a few top recommendations.\n",
    "   - Per user, display the brands s/he's already following\n",
    "   - For each brand, compute the distance to all other brands\n",
    "   - Average all distances to find the few closest brands, with the shortest average distance\n",
    "   - Make sure you exclude the brands the user is already following from the recommendations"
   ]
  },
  {
   "cell_type": "code",
   "execution_count": 4,
   "metadata": {
    "collapsed": false
   },
   "outputs": [],
   "source": [
    "def jaccard_distance(M):\n",
    "    I = M.T.dot(M)  # number of users in common \n",
    "    n_users_per_brand = np.diag(I)\n",
    "    N = n_users_per_brand.reshape(n_brands, 1) * np.ones(n_brands)\n",
    "    U = N + N.T - I  # total unique followers = n_users_i + n_users_j - users in common\n",
    "    J = I / U.astype(float)  # similarity matrix\n",
    "    D = 1 - J  # distance\n",
    "    return D"
   ]
  },
  {
   "cell_type": "code",
   "execution_count": 5,
   "metadata": {
    "collapsed": false
   },
   "outputs": [
    {
     "data": {
      "text/html": [
       "<div>\n",
       "<table border=\"1\" class=\"dataframe\">\n",
       "  <thead>\n",
       "    <tr style=\"text-align: right;\">\n",
       "      <th>brand</th>\n",
       "      <th>6pm.com</th>\n",
       "      <th>Abercrombie &amp; Fitch</th>\n",
       "      <th>Adidas</th>\n",
       "      <th>Aeropostale</th>\n",
       "      <th>Aldo</th>\n",
       "      <th>All Saints</th>\n",
       "      <th>Amazon.com</th>\n",
       "      <th>American Apparel</th>\n",
       "      <th>American Eagle</th>\n",
       "      <th>Ann Taylor</th>\n",
       "      <th>...</th>\n",
       "      <th>Walgreens</th>\n",
       "      <th>Walk-Over</th>\n",
       "      <th>Wet Seal</th>\n",
       "      <th>Windsor</th>\n",
       "      <th>YSL</th>\n",
       "      <th>Yves Saint Laurent</th>\n",
       "      <th>ZOO</th>\n",
       "      <th>Zara</th>\n",
       "      <th>Zipcar</th>\n",
       "      <th>vineyard vines</th>\n",
       "    </tr>\n",
       "    <tr>\n",
       "      <th>brand</th>\n",
       "      <th></th>\n",
       "      <th></th>\n",
       "      <th></th>\n",
       "      <th></th>\n",
       "      <th></th>\n",
       "      <th></th>\n",
       "      <th></th>\n",
       "      <th></th>\n",
       "      <th></th>\n",
       "      <th></th>\n",
       "      <th></th>\n",
       "      <th></th>\n",
       "      <th></th>\n",
       "      <th></th>\n",
       "      <th></th>\n",
       "      <th></th>\n",
       "      <th></th>\n",
       "      <th></th>\n",
       "      <th></th>\n",
       "      <th></th>\n",
       "      <th></th>\n",
       "    </tr>\n",
       "  </thead>\n",
       "  <tbody>\n",
       "    <tr>\n",
       "      <th>6pm.com</th>\n",
       "      <td>0.000000</td>\n",
       "      <td>0.996255</td>\n",
       "      <td>0.996154</td>\n",
       "      <td>0.996241</td>\n",
       "      <td>1</td>\n",
       "      <td>1</td>\n",
       "      <td>1</td>\n",
       "      <td>0.996183</td>\n",
       "      <td>0.996441</td>\n",
       "      <td>0.992481</td>\n",
       "      <td>...</td>\n",
       "      <td>1</td>\n",
       "      <td>1</td>\n",
       "      <td>1.0000</td>\n",
       "      <td>1</td>\n",
       "      <td>1</td>\n",
       "      <td>1</td>\n",
       "      <td>1</td>\n",
       "      <td>1.000000</td>\n",
       "      <td>1</td>\n",
       "      <td>1</td>\n",
       "    </tr>\n",
       "    <tr>\n",
       "      <th>Abercrombie &amp; Fitch</th>\n",
       "      <td>0.996255</td>\n",
       "      <td>0.000000</td>\n",
       "      <td>1.000000</td>\n",
       "      <td>0.928571</td>\n",
       "      <td>1</td>\n",
       "      <td>1</td>\n",
       "      <td>1</td>\n",
       "      <td>1.000000</td>\n",
       "      <td>0.888889</td>\n",
       "      <td>1.000000</td>\n",
       "      <td>...</td>\n",
       "      <td>1</td>\n",
       "      <td>1</td>\n",
       "      <td>0.9375</td>\n",
       "      <td>1</td>\n",
       "      <td>1</td>\n",
       "      <td>1</td>\n",
       "      <td>1</td>\n",
       "      <td>0.909091</td>\n",
       "      <td>1</td>\n",
       "      <td>1</td>\n",
       "    </tr>\n",
       "    <tr>\n",
       "      <th>Adidas</th>\n",
       "      <td>0.996154</td>\n",
       "      <td>1.000000</td>\n",
       "      <td>0.000000</td>\n",
       "      <td>1.000000</td>\n",
       "      <td>1</td>\n",
       "      <td>1</td>\n",
       "      <td>1</td>\n",
       "      <td>1.000000</td>\n",
       "      <td>1.000000</td>\n",
       "      <td>1.000000</td>\n",
       "      <td>...</td>\n",
       "      <td>1</td>\n",
       "      <td>1</td>\n",
       "      <td>1.0000</td>\n",
       "      <td>1</td>\n",
       "      <td>1</td>\n",
       "      <td>1</td>\n",
       "      <td>1</td>\n",
       "      <td>1.000000</td>\n",
       "      <td>1</td>\n",
       "      <td>1</td>\n",
       "    </tr>\n",
       "  </tbody>\n",
       "</table>\n",
       "<p>3 rows × 198 columns</p>\n",
       "</div>"
      ],
      "text/plain": [
       "brand                 6pm.com  Abercrombie & Fitch    Adidas  Aeropostale  \\\n",
       "brand                                                                       \n",
       "6pm.com              0.000000             0.996255  0.996154     0.996241   \n",
       "Abercrombie & Fitch  0.996255             0.000000  1.000000     0.928571   \n",
       "Adidas               0.996154             1.000000  0.000000     1.000000   \n",
       "\n",
       "brand                Aldo  All Saints  Amazon.com  American Apparel  \\\n",
       "brand                                                                 \n",
       "6pm.com                 1           1           1          0.996183   \n",
       "Abercrombie & Fitch     1           1           1          1.000000   \n",
       "Adidas                  1           1           1          1.000000   \n",
       "\n",
       "brand                American Eagle  Ann Taylor       ...        Walgreens  \\\n",
       "brand                                                 ...                    \n",
       "6pm.com                    0.996441    0.992481       ...                1   \n",
       "Abercrombie & Fitch        0.888889    1.000000       ...                1   \n",
       "Adidas                     1.000000    1.000000       ...                1   \n",
       "\n",
       "brand                Walk-Over  Wet Seal  Windsor  YSL  Yves Saint Laurent  \\\n",
       "brand                                                                        \n",
       "6pm.com                      1    1.0000        1    1                   1   \n",
       "Abercrombie & Fitch          1    0.9375        1    1                   1   \n",
       "Adidas                       1    1.0000        1    1                   1   \n",
       "\n",
       "brand                ZOO      Zara  Zipcar  vineyard vines  \n",
       "brand                                                       \n",
       "6pm.com                1  1.000000       1               1  \n",
       "Abercrombie & Fitch    1  0.909091       1               1  \n",
       "Adidas                 1  1.000000       1               1  \n",
       "\n",
       "[3 rows x 198 columns]"
      ]
     },
     "execution_count": 5,
     "metadata": {},
     "output_type": "execute_result"
    }
   ],
   "source": [
    "brand_distance = jaccard_distance(M)\n",
    "brand_distance.head(3)"
   ]
  },
  {
   "cell_type": "markdown",
   "metadata": {},
   "source": [
    "Note that this is a _distance_ matrix, so the lower, the closer, the more similar.  Hence we have zeros on the diagonal.\n",
    "\n",
    "Let's show the top most similar brands for some known brands."
   ]
  },
  {
   "cell_type": "code",
   "execution_count": 6,
   "metadata": {
    "collapsed": false
   },
   "outputs": [
    {
     "name": "stdout",
     "output_type": "stream",
     "text": [
      "Home Depot          : Home Depot, Target, Kohl's, Old Navy, Crate & Barrel\n",
      "Armani              : Armani, Ecco, Hugo Boss, Giorgio Armani, Horchow\n",
      "UNIQLO              : UNIQLO, American Apparel, 6pm.com, Shoebuy, Columbia\n"
     ]
    }
   ],
   "source": [
    "top = 5\n",
    "for brand in ['Home Depot', 'Armani', 'UNIQLO']:\n",
    "    print \"%-20s:\" % brand, \n",
    "    print \", \".join(brand_distance[brand].sort(inplace=False).index[:top]) "
   ]
  },
  {
   "cell_type": "markdown",
   "metadata": {},
   "source": [
    "And let's pick some other random brands."
   ]
  },
  {
   "cell_type": "code",
   "execution_count": 7,
   "metadata": {
    "collapsed": false,
    "scrolled": true
   },
   "outputs": [
    {
     "name": "stdout",
     "output_type": "stream",
     "text": [
      "Top 5 similar brands for some random 10 brands\n",
      "Sephora             : Sephora, Billabong, Roxy, Rip Curl, O'Neill\n",
      "John Varvatos       : John Varvatos, Kosta Boda, Nambe, Villeroy & Boch, Horchow\n",
      "Carter's            : Carter's, The Limited, Justice, Sephora, JC Penney\n",
      "Oakley              : Oakley, Under Armour, Nike, Columbia, Lacoste\n",
      "Under Armour        : Under Armour, TOMS Shoes, Oakley, Keds, Nike\n",
      "Brooks Brothers     : Brooks Brothers, Mikasa, Crocs, Lacoste, New Balance\n",
      "MINKPINK            : MINKPINK, Bloomingdale's, Giorgio Armani, JC Penney, Aeropostale\n",
      "Kohl's              : Kohl's, Old Navy, Target, Home Depot, Gap\n",
      "Pottery Barn        : Pottery Barn, Villeroy & Boch, Lenox, Urban Outfitters, Serena and Lily\n",
      "Windsor             : Windsor, Ethan Allen, Betsey Johnson, Columbia, Guess\n"
     ]
    }
   ],
   "source": [
    "n_show = 10  # show a few brands\n",
    "print \"Top %d similar brands for some random %d brands\" % (top, n_show)\n",
    "for brand in np.random.choice(brands, n_show, replace=False):\n",
    "    print \"%-20s:\" % brand, \n",
    "    print \", \".join(brand_distance[brand].sort(inplace=False).index[:top])"
   ]
  },
  {
   "cell_type": "markdown",
   "metadata": {},
   "source": [
    "### Recommendations\n",
    "Given a user, return recommended brands with scores"
   ]
  },
  {
   "cell_type": "code",
   "execution_count": 8,
   "metadata": {
    "collapsed": false
   },
   "outputs": [],
   "source": [
    "def recommend_brands_for_user(user, M, top=5):\n",
    "    user_brands = M.loc[user][M.loc[user] > 0].index  # get brands of user\n",
    "    brand_distance = jaccard_distance(M)        \n",
    "    recs = brand_distance[user_brands].mean(axis=1).sort(ascending=True, inplace=False).index\n",
    "    # remove all top brands that are already on this user's list\n",
    "    recs = [rec for rec in recs if rec not in user_brands]\n",
    "    return recs[:top]"
   ]
  },
  {
   "cell_type": "code",
   "execution_count": 9,
   "metadata": {
    "collapsed": false
   },
   "outputs": [
    {
     "name": "stdout",
     "output_type": "stream",
     "text": [
      "User 90377\n",
      "Already following: Banana Republic\n",
      "Recommended: Gap, J.Crew, Nordstrom, Express, Crate & Barrel\n",
      "\n",
      "User 86499\n",
      "Already following: Kohl's, Target\n",
      "Recommended: Old Navy, Home Depot, Gap, Crate & Barrel, KitchenAid\n",
      "\n",
      "User 81036\n",
      "Already following: Levi's\n",
      "Recommended: Converse, Calvin Klein, Puma, Guess, KitchenAid\n",
      "\n",
      "User 85458\n",
      "Already following: Express, Home Depot, Kohl's, Old Navy, Target\n",
      "Recommended: Gap, Crate & Barrel, KitchenAid, Nordstrom, Banana Republic\n",
      "\n",
      "User 82989\n",
      "Already following: Calvin Klein, Express, Guess, Nine West\n",
      "Recommended: Steve Madden, DKNY, Banana Republic, BCBGMAXAZRIA, Kenneth Cole\n",
      "\n"
     ]
    }
   ],
   "source": [
    "n_users = 5\n",
    "# for user in [90217, 86156, 89116, 89112]:\n",
    "for user in np.random.choice(M.index, n_users, replace=False):\n",
    "    print \"User %s\" % user\n",
    "    print \"Already following:\", \", \".join(brands[M.loc[user] > 0])\n",
    "    print \"Recommended:\", \", \".join(recommend_brands_for_user(user, M))\n",
    "    print"
   ]
  },
  {
   "cell_type": "code",
   "execution_count": null,
   "metadata": {
    "collapsed": true
   },
   "outputs": [],
   "source": []
  }
 ],
 "metadata": {
  "kernelspec": {
   "display_name": "Python 2",
   "language": "python",
   "name": "python2"
  },
  "language_info": {
   "codemirror_mode": {
    "name": "ipython",
    "version": 2
   },
   "file_extension": ".py",
   "mimetype": "text/x-python",
   "name": "python",
   "nbconvert_exporter": "python",
   "pygments_lexer": "ipython2",
   "version": "2.7.10"
  }
 },
 "nbformat": 4,
 "nbformat_minor": 0
}
