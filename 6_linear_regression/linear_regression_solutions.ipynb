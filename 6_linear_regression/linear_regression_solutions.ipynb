{
 "cells": [
  {
   "cell_type": "markdown",
   "metadata": {},
   "source": [
    "# Linear Regression"
   ]
  },
  {
   "cell_type": "markdown",
   "metadata": {},
   "source": [
    "## Exercises"
   ]
  },
  {
   "cell_type": "code",
   "execution_count": 1,
   "metadata": {
    "collapsed": false
   },
   "outputs": [],
   "source": [
    "import pandas as pd\n",
    "import numpy as np\n",
    "from sklearn.linear_model import LinearRegression\n",
    "from sklearn.cross_validation import train_test_split\n",
    "from matplotlib import pyplot as plt\n",
    "%matplotlib inline"
   ]
  },
  {
   "cell_type": "markdown",
   "metadata": {},
   "source": [
    "####First Anscombe dataset\n",
    "Have a look at the first Anscombe dataset, and fit a linear model to the data.\n",
    "- Plot the data\n",
    "- Fit a linear model\n",
    "- Find the $R^2$ of the correlation between $x$ and $y$\n",
    "- Write down the formula $y = ax + b$ and find $a$ and $b$\n",
    "- Do you think this is a reasonable model for the data?\n",
    "- Given this model, what $y$ would you expect for a point with $x = 10$?\n",
    "- (*) Compute the mean absolute error (MAE) and what is the mean square error (MSE)\n",
    "- (**) Show that indeed, $R^2 = 1 - \\text{MSE}/\\text{Var}(y)$"
   ]
  },
  {
   "cell_type": "code",
   "execution_count": 2,
   "metadata": {
    "collapsed": false
   },
   "outputs": [
    {
     "data": {
      "image/png": "[encoded data removed]",
      "text/plain": [
       "<matplotlib.figure.Figure at 0x10d638e10>"
      ]
     },
     "metadata": {},
     "output_type": "display_data"
    }
   ],
   "source": [
    "data = pd.DataFrame({'x': [10.0, 8.0, 13.0, 9.0, 11.0, 14.0, 6.0, 4.0, 12.0, 7.0, 5.0],\n",
    "     'y': [8.04, 6.95, 7.58, 8.81, 8.33, 9.96, 7.24, 4.26, 10.84, 4.82, 5.68]})\n",
    "f = data.plot(kind='scatter', x='x', y='y', figsize=(4,4), xlim=(0, 20), ylim=(0, 20))"
   ]
  },
  {
   "cell_type": "code",
   "execution_count": 3,
   "metadata": {
    "collapsed": false
   },
   "outputs": [
    {
     "data": {
      "text/plain": [
       "0.66654245950877478"
      ]
     },
     "execution_count": 3,
     "metadata": {},
     "output_type": "execute_result"
    }
   ],
   "source": [
    "X, y = data[['x']], data.y\n",
    "model = LinearRegression().fit(X, y)\n",
    "model.score(X, y)"
   ]
  },
  {
   "cell_type": "code",
   "execution_count": 4,
   "metadata": {
    "collapsed": false
   },
   "outputs": [
    {
     "name": "stdout",
     "output_type": "stream",
     "text": [
      "3.00009090909 [ 0.50009091]\n"
     ]
    }
   ],
   "source": [
    "print model.intercept_, model.coef_"
   ]
  },
  {
   "cell_type": "code",
   "execution_count": 5,
   "metadata": {
    "collapsed": true
   },
   "outputs": [],
   "source": [
    "# Hence: y = 0.5 x + 3"
   ]
  },
  {
   "cell_type": "code",
   "execution_count": 6,
   "metadata": {
    "collapsed": false
   },
   "outputs": [
    {
     "data": {
      "text/plain": [
       "array([ 8.001])"
      ]
     },
     "execution_count": 6,
     "metadata": {},
     "output_type": "execute_result"
    }
   ],
   "source": [
    "model.predict(10)"
   ]
  },
  {
   "cell_type": "code",
   "execution_count": 7,
   "metadata": {
    "collapsed": false
   },
   "outputs": [
    {
     "name": "stdout",
     "output_type": "stream",
     "text": [
      "0.837404958678 1.25115363636\n"
     ]
    }
   ],
   "source": [
    "import numpy as np\n",
    "y_pred = model.predict(X)\n",
    "MAE = np.abs(y_pred - y).mean()\n",
    "MSE = np.square(y_pred - y).mean()\n",
    "print MAE, MSE"
   ]
  },
  {
   "cell_type": "code",
   "execution_count": 8,
   "metadata": {
    "collapsed": false
   },
   "outputs": [
    {
     "data": {
      "text/plain": [
       "0.66654245950877478"
      ]
     },
     "execution_count": 8,
     "metadata": {},
     "output_type": "execute_result"
    }
   ],
   "source": [
    "var_y = np.square(y - y.mean()).mean()\n",
    "R2 = 1 - MSE / var_y\n",
    "R2"
   ]
  },
  {
   "cell_type": "code",
   "execution_count": 9,
   "metadata": {
    "collapsed": false
   },
   "outputs": [
    {
     "data": {
      "text/plain": [
       "0.66654245950877478"
      ]
     },
     "execution_count": 9,
     "metadata": {},
     "output_type": "execute_result"
    }
   ],
   "source": [
    "model.score(X, y)"
   ]
  },
  {
   "cell_type": "markdown",
   "metadata": {},
   "source": [
    "#### Boston"
   ]
  },
  {
   "cell_type": "markdown",
   "metadata": {},
   "source": [
    "In this exercise, we'll use one of sklearn's standard datasets to analyze Boston house prices."
   ]
  },
  {
   "cell_type": "code",
   "execution_count": 10,
   "metadata": {
    "collapsed": false
   },
   "outputs": [],
   "source": [
    "from sklearn.datasets import load_boston\n",
    "boston = load_boston()\n",
    "X, y = boston.data, boston.target\n",
    "features = boston.feature_names\n",
    "# print boston.DESCR  # print this to get information on the dataset"
   ]
  },
  {
   "cell_type": "markdown",
   "metadata": {},
   "source": [
    "- Let's make a histogram of all house prices in the dataset. \n",
    "- It's a little unclear in what units the prices are, let's assume it's in $K."
   ]
  },
  {
   "cell_type": "code",
   "execution_count": 11,
   "metadata": {
    "collapsed": false
   },
   "outputs": [
    {
     "data": {
      "image/png": "[encoded data removed]",
      "text/plain": [
       "<matplotlib.figure.Figure at 0x10d8a6790>"
      ]
     },
     "metadata": {},
     "output_type": "display_data"
    }
   ],
   "source": [
    "f = plt.hist(y, bins=20)\n",
    "f = plt.title(\"Boston house prices around 1978\")"
   ]
  },
  {
   "cell_type": "markdown",
   "metadata": {},
   "source": [
    "- Find a linear model that fits the data, and with which you feel comfortable.\n",
    "- Compute the $R^2$ of the model with and without cross-validation\n",
    "- (*) Compute the MAE and MSE of the model as well\n",
    "- Prices often behave expontential, rather than linear (people often say +2%, rather than +\\$200). Let's try modeling the logarithm of the price and see if that improves your model: `y = np.log(boston.target)` \n",
    "\n",
    "- (*) How much more worth would a house be in a crime-free community, compared to the same house in a community with a crime rate of 6 per resident? (Note that this might not be a fair analysis as features might correlate with themselves  as well.)\n",
    "- (**) What would be a good way of analyzing which feature has the biggest influence on the house price?"
   ]
  },
  {
   "cell_type": "code",
   "execution_count": 12,
   "metadata": {
    "collapsed": false
   },
   "outputs": [
    {
     "name": "stdout",
     "output_type": "stream",
     "text": [
      "0.740607742865\n",
      "0.756 0.773 0.749 0.798 0.662 0.706 0.715 0.639 0.793 0.736\n"
     ]
    }
   ],
   "source": [
    "model = LinearRegression()\n",
    "print model.fit(X, y).score(X, y)\n",
    "from sklearn.cross_validation import train_test_split\n",
    "for k in xrange(10):\n",
    "    X_train, X_test, y_train, y_test = train_test_split(X, y, train_size=.8)\n",
    "    print model.fit(X_train, y_train).score(X_test, y_test).round(3), "
   ]
  },
  {
   "cell_type": "markdown",
   "metadata": {},
   "source": [
    "Seems good to me!"
   ]
  },
  {
   "cell_type": "code",
   "execution_count": 13,
   "metadata": {
    "collapsed": false
   },
   "outputs": [
    {
     "name": "stdout",
     "output_type": "stream",
     "text": [
      "3.32528748393 22.132180361\n"
     ]
    }
   ],
   "source": [
    "y_pred = model.predict(X)\n",
    "MAE = np.abs(y - y_pred).mean()\n",
    "MSE = np.square(y_pred - y).mean()\n",
    "print MAE, MSE"
   ]
  },
  {
   "cell_type": "code",
   "execution_count": 14,
   "metadata": {
    "collapsed": false
   },
   "outputs": [
    {
     "name": "stdout",
     "output_type": "stream",
     "text": [
      "0.789578558952\n",
      "0.732 0.75 0.765 0.775 0.788 0.705 0.824 0.767 0.798 0.784\n"
     ]
    }
   ],
   "source": [
    "model = LinearRegression()\n",
    "y = np.log(boston.target)\n",
    "print model.fit(X, y).score(X, y)\n",
    "from sklearn.cross_validation import cross_val_score, train_test_split\n",
    "for k in xrange(10):\n",
    "    X_train, X_test, y_train, y_test = train_test_split(X, y, train_size=.8)\n",
    "    print model.fit(X_train, y_train).score(X_test, y_test).round(3), "
   ]
  },
  {
   "cell_type": "markdown",
   "metadata": {},
   "source": [
    "Not bad at all!"
   ]
  },
  {
   "cell_type": "code",
   "execution_count": 15,
   "metadata": {
    "collapsed": false
   },
   "outputs": [
    {
     "data": {
      "text/plain": [
       "[('CRIM', -0.010795505539240269),\n",
       " ('ZN', 0.00094844062565703252),\n",
       " ('INDUS', 0.0023640474783938256),\n",
       " ('CHAS', 0.10157558970278166),\n",
       " ('NOX', -0.82272556822441245),\n",
       " ('RM', 0.11276088041278803),\n",
       " ('AGE', -4.0786174271081627e-05),\n",
       " ('DIS', -0.047849679687835184),\n",
       " ('RAD', 0.014939220827682629),\n",
       " ('TAX', -0.00064858543031262096),\n",
       " ('PTRATIO', -0.041294565274673248),\n",
       " ('B', 0.00044830440888611996),\n",
       " ('LSTAT', -0.024522844402722489)]"
      ]
     },
     "execution_count": 15,
     "metadata": {},
     "output_type": "execute_result"
    }
   ],
   "source": [
    "zip(boston.feature_names, model.coef_)"
   ]
  },
  {
   "cell_type": "code",
   "execution_count": 16,
   "metadata": {
    "collapsed": false
   },
   "outputs": [
    {
     "data": {
      "text/plain": [
       "-0.064773033235441618"
      ]
     },
     "execution_count": 16,
     "metadata": {},
     "output_type": "execute_result"
    }
   ],
   "source": [
    "6 * model.coef_[0]  # this is the +/- impact on log price"
   ]
  },
  {
   "cell_type": "code",
   "execution_count": 17,
   "metadata": {
    "collapsed": false
   },
   "outputs": [
    {
     "data": {
      "text/plain": [
       "-0.06271982931442921"
      ]
     },
     "execution_count": 17,
     "metadata": {},
     "output_type": "execute_result"
    }
   ],
   "source": [
    "np.exp(6 * model.coef_[0]) - 1  # this is the % impact on price"
   ]
  },
  {
   "cell_type": "code",
   "execution_count": 18,
   "metadata": {
    "collapsed": false
   },
   "outputs": [
    {
     "data": {
      "text/plain": [
       "-1.4132537666233127"
      ]
     },
     "execution_count": 18,
     "metadata": {},
     "output_type": "execute_result"
    }
   ],
   "source": [
    "boston.target.mean() * (np.exp(6 * model.coef_[0]) - 1)"
   ]
  },
  {
   "cell_type": "markdown",
   "metadata": {},
   "source": [
    "A house would be 6% cheaper, or \\$1300 on an average sale. If you didn't model the log price, you could have found something like $650 cheaper. Note that these numbers are quite different. This is probably caused by the fact that the features are not independent."
   ]
  },
  {
   "cell_type": "markdown",
   "metadata": {},
   "source": [
    "- For analyzing which feature has the biggest influence on the house price, we could look at the coefficients of the features.\n",
    "- But we need to decide how we compare different features: Is \\$20 per crime mean a bigger influence than \\$300 per year of house age?\n",
    "- We might want to transform all features to the same scale first.\n",
    "- We use `StandardScaler` which scales all data to mean 0, and standard deviation 1"
   ]
  },
  {
   "cell_type": "code",
   "execution_count": 19,
   "metadata": {
    "collapsed": false
   },
   "outputs": [],
   "source": [
    "from sklearn.preprocessing import StandardScaler \n",
    "X_scaled = StandardScaler().fit_transform(X).round(3)  # rescales columns to mean = 0, and std = 1"
   ]
  },
  {
   "cell_type": "markdown",
   "metadata": {},
   "source": [
    "Note that this does not affect the modeling performance at all"
   ]
  },
  {
   "cell_type": "code",
   "execution_count": 20,
   "metadata": {
    "collapsed": false
   },
   "outputs": [
    {
     "name": "stdout",
     "output_type": "stream",
     "text": [
      "0.789578558952\n",
      "0.789582586181\n"
     ]
    }
   ],
   "source": [
    "print model.fit(X, y).score(X, y)\n",
    "print model.fit(X_scaled, y).score(X_scaled, y)"
   ]
  },
  {
   "cell_type": "markdown",
   "metadata": {},
   "source": [
    "But it obviously does affact the coefficients."
   ]
  },
  {
   "cell_type": "code",
   "execution_count": 21,
   "metadata": {
    "collapsed": false
   },
   "outputs": [
    {
     "data": {
      "text/plain": [
       "[(-0.20758544921258554, 'LSTAT'),\n",
       " (-0.10527558570457664, 'TAX'),\n",
       " (-0.10333519334072219, 'DIS'),\n",
       " (-0.09046979968667887, 'NOX'),\n",
       " (-0.087680610112145785, 'CRIM'),\n",
       " (-0.0829188164061887, 'PTRATIO'),\n",
       " (0.0061015273718776075, 'AGE'),\n",
       " (0.01710108980993524, 'INDUS'),\n",
       " (0.025640165355663692, 'CHAS'),\n",
       " (0.027282023397004876, 'ZN'),\n",
       " (0.038402675962402322, 'B'),\n",
       " (0.063415705245153969, 'RM'),\n",
       " (0.12388223357270044, 'RAD')]"
      ]
     },
     "execution_count": 21,
     "metadata": {},
     "output_type": "execute_result"
    }
   ],
   "source": [
    "sorted(zip(model.coef_, boston.feature_names))"
   ]
  },
  {
   "cell_type": "markdown",
   "metadata": {},
   "source": [
    "We find that\n",
    "- % lower status of the population (`LSTAT`)  has the highest (negative) influence on the house prices, closely followed by\n",
    "- accessibility to radial highways (`RAD`), which has the highest positive influence on the house prices."
   ]
  },
  {
   "cell_type": "code",
   "execution_count": null,
   "metadata": {
    "collapsed": true
   },
   "outputs": [],
   "source": []
  }
 ],
 "metadata": {
  "kernelspec": {
   "display_name": "Python 2",
   "language": "python",
   "name": "python2"
  },
  "language_info": {
   "codemirror_mode": {
    "name": "ipython",
    "version": 2
   },
   "file_extension": ".py",
   "mimetype": "text/x-python",
   "name": "python",
   "nbconvert_exporter": "python",
   "pygments_lexer": "ipython2",
   "version": "2.7.10"
  }
 },
 "nbformat": 4,
 "nbformat_minor": 0
}
