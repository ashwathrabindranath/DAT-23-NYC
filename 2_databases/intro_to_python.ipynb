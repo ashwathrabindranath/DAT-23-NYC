{
 "metadata": {
  "name": "",
  "signature": "sha256:0d25747b599e0dfb9f5fc9f9c9639c8eaa72129c505e5cbee50c8f67357fb456"
 },
 "nbformat": 3,
 "nbformat_minor": 0,
 "worksheets": [
  {
   "cells": [
    {
     "cell_type": "heading",
     "level": 1,
     "metadata": {},
     "source": [
      "Intro to Python"
     ]
    },
    {
     "cell_type": "markdown",
     "metadata": {},
     "source": [
      "To start ipython notebook, just type in your terminal\n",
      "\n",
      "```\n",
      "ipython notebook\n",
      "```\n",
      "\n",
      "To open this particular notebook, go to the course repo on your local machine, and type\n",
      "\n",
      "```\n",
      "ipython notebook --notebook-dir=.\n",
      "```"
     ]
    },
    {
     "cell_type": "markdown",
     "metadata": {},
     "source": [
      "<img src=\"https://secure.gravatar.com/avatar/d688a3cba2f5fc1c10cfef2aa6f99fda.jpg?r=pg&s=40&d=https%3A%2F%2Fkaggle2.blob.core.windows.net%2Favatars%2Fthumbnails%2Fdefault-thumb.png\" align=\"right\">\n",
      "- In your ipython notebook, you can type common text like this with the command `control-m-m`. \n",
      "- A big header like the one here above you create with `command-m-1`. \n",
      "- You can use HTML code, e.g., to create a link to our\n",
      "<a href=\"https://github.com/ga-students/DAT-23-NYC\" target=\"_blank\">course repo</a>,\n",
      "or to include images in your notebook\n",
      "- You will get an overview of all useful commands with `command-m-h` for help."
     ]
    },
    {
     "cell_type": "code",
     "collapsed": false,
     "input": [
      "# By default, your cell is set to code\n",
      "1 + 1"
     ],
     "language": "python",
     "metadata": {},
     "outputs": [
      {
       "metadata": {},
       "output_type": "pyout",
       "prompt_number": 1,
       "text": [
        "2"
       ]
      }
     ],
     "prompt_number": 1
    },
    {
     "cell_type": "markdown",
     "metadata": {},
     "source": [
      "Your notebook will only display the last line of your code. Unless you use commands like `print`, obviously:"
     ]
    },
    {
     "cell_type": "code",
     "collapsed": false,
     "input": [
      "1 + 1\n",
      "print \"hello, world\"\n",
      "2 + 3"
     ],
     "language": "python",
     "metadata": {},
     "outputs": [
      {
       "output_type": "stream",
       "stream": "stdout",
       "text": [
        "hello, world\n"
       ]
      },
      {
       "metadata": {},
       "output_type": "pyout",
       "prompt_number": 2,
       "text": [
        "5"
       ]
      }
     ],
     "prompt_number": 2
    },
    {
     "cell_type": "heading",
     "level": 2,
     "metadata": {},
     "source": [
      "Examples from Class"
     ]
    },
    {
     "cell_type": "heading",
     "level": 3,
     "metadata": {},
     "source": [
      "Data structures"
     ]
    },
    {
     "cell_type": "code",
     "collapsed": false,
     "input": [
      "x = 36  # this is an integer\n",
      "x = 3.14  # a decimal number\n",
      "x = True  # either True or False\n",
      "x = \"This is a string\""
     ],
     "language": "python",
     "metadata": {},
     "outputs": [],
     "prompt_number": 3
    },
    {
     "cell_type": "code",
     "collapsed": false,
     "input": [
      "print x"
     ],
     "language": "python",
     "metadata": {},
     "outputs": [
      {
       "output_type": "stream",
       "stream": "stdout",
       "text": [
        "This is a string\n"
       ]
      }
     ],
     "prompt_number": 4
    },
    {
     "cell_type": "code",
     "collapsed": false,
     "input": [
      "x = [1, 2, 3, 4]  # a list\n",
      "\n",
      "# lists can contain elements of any type\n",
      "x = [36, 3.14, True, \"This is a string\"]\n",
      "x = [36, 3.14, True, \"This is a string\", [1, 2, 3, 4]]\n",
      "\n",
      "# elements are numbered, starting with 0 (!)\n",
      "print x[0]  # will print first element"
     ],
     "language": "python",
     "metadata": {},
     "outputs": [
      {
       "output_type": "stream",
       "stream": "stdout",
       "text": [
        "36\n"
       ]
      }
     ],
     "prompt_number": 5
    },
    {
     "cell_type": "code",
     "collapsed": false,
     "input": [
      "x = {'name': 'Joe', 'age': 75}  # this is a dictionary\n",
      "x = dict(name='Joe', age=75)  # same as above (old syntax)\n",
      "\n",
      "print x['name']  # will print 'Joe'"
     ],
     "language": "python",
     "metadata": {},
     "outputs": [
      {
       "output_type": "stream",
       "stream": "stdout",
       "text": [
        "Joe\n"
       ]
      }
     ],
     "prompt_number": 6
    },
    {
     "cell_type": "heading",
     "level": 3,
     "metadata": {},
     "source": [
      "Operations"
     ]
    },
    {
     "cell_type": "code",
     "collapsed": false,
     "input": [
      "3 + 4"
     ],
     "language": "python",
     "metadata": {},
     "outputs": [
      {
       "metadata": {},
       "output_type": "pyout",
       "prompt_number": 7,
       "text": [
        "7"
       ]
      }
     ],
     "prompt_number": 7
    },
    {
     "cell_type": "code",
     "collapsed": false,
     "input": [
      "1 / 2  # integer division"
     ],
     "language": "python",
     "metadata": {},
     "outputs": [
      {
       "metadata": {},
       "output_type": "pyout",
       "prompt_number": 8,
       "text": [
        "0"
       ]
      }
     ],
     "prompt_number": 8
    },
    {
     "cell_type": "code",
     "collapsed": false,
     "input": [
      "1 / 2.  # float division"
     ],
     "language": "python",
     "metadata": {},
     "outputs": [
      {
       "metadata": {},
       "output_type": "pyout",
       "prompt_number": 9,
       "text": [
        "0.5"
       ]
      }
     ],
     "prompt_number": 9
    },
    {
     "cell_type": "code",
     "collapsed": false,
     "input": [
      "3 ** 2 "
     ],
     "language": "python",
     "metadata": {},
     "outputs": [
      {
       "metadata": {},
       "output_type": "pyout",
       "prompt_number": 10,
       "text": [
        "9"
       ]
      }
     ],
     "prompt_number": 10
    },
    {
     "cell_type": "code",
     "collapsed": false,
     "input": [
      "['A', 'B'] + ['A', 'C']"
     ],
     "language": "python",
     "metadata": {},
     "outputs": [
      {
       "metadata": {},
       "output_type": "pyout",
       "prompt_number": 11,
       "text": [
        "['A', 'B', 'A', 'C']"
       ]
      }
     ],
     "prompt_number": 11
    },
    {
     "cell_type": "code",
     "collapsed": false,
     "input": [
      "['A'] * 5"
     ],
     "language": "python",
     "metadata": {},
     "outputs": [
      {
       "metadata": {},
       "output_type": "pyout",
       "prompt_number": 12,
       "text": [
        "['A', 'A', 'A', 'A', 'A']"
       ]
      }
     ],
     "prompt_number": 12
    },
    {
     "cell_type": "code",
     "collapsed": false,
     "input": [
      "'A' * 5"
     ],
     "language": "python",
     "metadata": {},
     "outputs": [
      {
       "metadata": {},
       "output_type": "pyout",
       "prompt_number": 13,
       "text": [
        "'AAAAA'"
       ]
      }
     ],
     "prompt_number": 13
    },
    {
     "cell_type": "code",
     "collapsed": false,
     "input": [
      "list('ABCDEF')"
     ],
     "language": "python",
     "metadata": {},
     "outputs": [
      {
       "metadata": {},
       "output_type": "pyout",
       "prompt_number": 14,
       "text": [
        "['A', 'B', 'C', 'D', 'E', 'F']"
       ]
      }
     ],
     "prompt_number": 14
    },
    {
     "cell_type": "code",
     "collapsed": false,
     "input": [
      "# Note that Python follows PEMDAS\n",
      "# parentheses, exponents, multiplication & division, addition & subtraction\n",
      "1 + 2 / 3. + 2 * 7 - (123 + 321) / 2 ** 5  "
     ],
     "language": "python",
     "metadata": {},
     "outputs": [
      {
       "metadata": {},
       "output_type": "pyout",
       "prompt_number": 15,
       "text": [
        "2.666666666666666"
       ]
      }
     ],
     "prompt_number": 15
    },
    {
     "cell_type": "heading",
     "level": 3,
     "metadata": {},
     "source": [
      "if/else"
     ]
    },
    {
     "cell_type": "code",
     "collapsed": false,
     "input": [
      "x = 5\n",
      "if x > 4:\n",
      "    print \"This number is greater than 4\""
     ],
     "language": "python",
     "metadata": {},
     "outputs": [
      {
       "output_type": "stream",
       "stream": "stdout",
       "text": [
        "This number is greater than 4\n"
       ]
      }
     ],
     "prompt_number": 16
    },
    {
     "cell_type": "code",
     "collapsed": false,
     "input": [
      "x = 4\n",
      "if x > 4:\n",
      "    print \"This number is greater than 4\"\n",
      "else:\n",
      "    print \"This number is not greater than 4\""
     ],
     "language": "python",
     "metadata": {},
     "outputs": [
      {
       "output_type": "stream",
       "stream": "stdout",
       "text": [
        "This number is not greater than 4\n"
       ]
      }
     ],
     "prompt_number": 17
    },
    {
     "cell_type": "code",
     "collapsed": false,
     "input": [
      "if x > 4:\n",
      "    print \"This number is greater than 4\"\n",
      "elif x == 4:\n",
      "    print \"This number is equal to 4\"\n",
      "else:\n",
      "    print \"This number is smaller than 4\""
     ],
     "language": "python",
     "metadata": {},
     "outputs": [
      {
       "output_type": "stream",
       "stream": "stdout",
       "text": [
        "This number is equal to 4\n"
       ]
      }
     ],
     "prompt_number": 18
    },
    {
     "cell_type": "heading",
     "level": 3,
     "metadata": {},
     "source": [
      "looping: for & while"
     ]
    },
    {
     "cell_type": "code",
     "collapsed": false,
     "input": [
      "emotions = [\"happy\", \"sad\", \"\u00af\\_(\u30c4)_/\u00af\"]\n",
      "for state in emotions:\n",
      "    print \"I feel\", state\n",
      "    if state == \"happy\":\n",
      "        print \"Happy is good, hooray!\""
     ],
     "language": "python",
     "metadata": {},
     "outputs": [
      {
       "output_type": "stream",
       "stream": "stdout",
       "text": [
        "I feel happy\n",
        "Happy is good, hooray!\n",
        "I feel sad\n",
        "I feel \u00af\\_(\u30c4)_/\u00af\n"
       ]
      }
     ],
     "prompt_number": 19
    },
    {
     "cell_type": "markdown",
     "metadata": {},
     "source": [
      "Note that python supports unicode"
     ]
    },
    {
     "cell_type": "code",
     "collapsed": false,
     "input": [
      "print emotions"
     ],
     "language": "python",
     "metadata": {},
     "outputs": [
      {
       "output_type": "stream",
       "stream": "stdout",
       "text": [
        "['happy', 'sad', '\\xc2\\xaf\\\\_(\\xe3\\x83\\x84)_/\\xc2\\xaf']\n"
       ]
      }
     ],
     "prompt_number": 20
    },
    {
     "cell_type": "code",
     "collapsed": false,
     "input": [
      "while len(emotions) > 0:\n",
      "    state = emotions.pop()\n",
      "    print \"I feel\", state\n",
      "    if state == \"happy\":\n",
      "        print \"Happy is good, hooray!\""
     ],
     "language": "python",
     "metadata": {},
     "outputs": [
      {
       "output_type": "stream",
       "stream": "stdout",
       "text": [
        "I feel \u00af\\_(\u30c4)_/\u00af\n",
        "I feel sad\n",
        "I feel happy\n",
        "Happy is good, hooray!\n"
       ]
      }
     ],
     "prompt_number": 21
    },
    {
     "cell_type": "markdown",
     "metadata": {},
     "source": [
      "Note that `pop()` removes the last element from a list."
     ]
    },
    {
     "cell_type": "code",
     "collapsed": false,
     "input": [
      "print emotions"
     ],
     "language": "python",
     "metadata": {},
     "outputs": [
      {
       "output_type": "stream",
       "stream": "stdout",
       "text": [
        "[]\n"
       ]
      }
     ],
     "prompt_number": 22
    },
    {
     "cell_type": "heading",
     "level": 3,
     "metadata": {},
     "source": [
      "Functions"
     ]
    },
    {
     "cell_type": "markdown",
     "metadata": {},
     "source": [
      "In Python we define functions by using the `def` keyword. The value of the function is giving in the `return` statement."
     ]
    },
    {
     "cell_type": "code",
     "collapsed": false,
     "input": [
      "def greater_then_four(x):\n",
      "    if x > 4:\n",
      "        return \"This number is greater than 4\"\n",
      "    elif x == 4:\n",
      "        return \"This number is equal to 4\"\n",
      "    else:\n",
      "        print \"This number is smaller than 4\""
     ],
     "language": "python",
     "metadata": {},
     "outputs": [],
     "prompt_number": 23
    },
    {
     "cell_type": "markdown",
     "metadata": {},
     "source": [
      "Note the different outcomes of the following similarly-looking statements."
     ]
    },
    {
     "cell_type": "code",
     "collapsed": false,
     "input": [
      "greater_then_four(23)"
     ],
     "language": "python",
     "metadata": {},
     "outputs": [
      {
       "metadata": {},
       "output_type": "pyout",
       "prompt_number": 24,
       "text": [
        "'This number is greater than 4'"
       ]
      }
     ],
     "prompt_number": 24
    },
    {
     "cell_type": "code",
     "collapsed": false,
     "input": [
      "print greater_then_four(23)"
     ],
     "language": "python",
     "metadata": {},
     "outputs": [
      {
       "output_type": "stream",
       "stream": "stdout",
       "text": [
        "This number is greater than 4\n"
       ]
      }
     ],
     "prompt_number": 25
    },
    {
     "cell_type": "code",
     "collapsed": false,
     "input": [
      "print greater_then_four"
     ],
     "language": "python",
     "metadata": {},
     "outputs": [
      {
       "output_type": "stream",
       "stream": "stdout",
       "text": [
        "<function greater_then_four at 0x106112848>\n"
       ]
      }
     ],
     "prompt_number": 26
    },
    {
     "cell_type": "markdown",
     "metadata": {},
     "source": [
      "<hr>"
     ]
    },
    {
     "cell_type": "heading",
     "level": 2,
     "metadata": {},
     "source": [
      "More Basic Functionality"
     ]
    },
    {
     "cell_type": "markdown",
     "metadata": {},
     "source": [
      "With `range`, can quickly get a range of integers:"
     ]
    },
    {
     "cell_type": "code",
     "collapsed": false,
     "input": [
      "range(10)"
     ],
     "language": "python",
     "metadata": {},
     "outputs": [
      {
       "metadata": {},
       "output_type": "pyout",
       "prompt_number": 27,
       "text": [
        "[0, 1, 2, 3, 4, 5, 6, 7, 8, 9]"
       ]
      }
     ],
     "prompt_number": 27
    },
    {
     "cell_type": "code",
     "collapsed": false,
     "input": [
      "l = []  # empty list\n",
      "for i in range(10):\n",
      "    l.append(i ** 2)\n",
      "print l"
     ],
     "language": "python",
     "metadata": {},
     "outputs": [
      {
       "output_type": "stream",
       "stream": "stdout",
       "text": [
        "[0, 1, 4, 9, 16, 25, 36, 49, 64, 81]\n"
       ]
      }
     ],
     "prompt_number": 28
    },
    {
     "cell_type": "markdown",
     "metadata": {},
     "source": [
      "- If you iterate over a large range, the above command can be inefficient since it copies the entire range into memory first.\n",
      "- In that case, you could better use <b>`xrange`</b>, which creates an iterator object.\n"
     ]
    },
    {
     "cell_type": "code",
     "collapsed": false,
     "input": [
      "xrange(10)"
     ],
     "language": "python",
     "metadata": {},
     "outputs": [
      {
       "metadata": {},
       "output_type": "pyout",
       "prompt_number": 29,
       "text": [
        "xrange(10)"
       ]
      }
     ],
     "prompt_number": 29
    },
    {
     "cell_type": "code",
     "collapsed": false,
     "input": [
      "l = []  # empty list\n",
      "for i in xrange(10):\n",
      "    l.append(i ** 2)\n",
      "print l"
     ],
     "language": "python",
     "metadata": {},
     "outputs": [
      {
       "output_type": "stream",
       "stream": "stdout",
       "text": [
        "[0, 1, 4, 9, 16, 25, 36, 49, 64, 81]\n"
       ]
      }
     ],
     "prompt_number": 30
    },
    {
     "cell_type": "markdown",
     "metadata": {},
     "source": [
      "Also note this elegant and very pythonesque shorthand notation."
     ]
    },
    {
     "cell_type": "code",
     "collapsed": false,
     "input": [
      "print [i ** 2 for i in xrange(10)]"
     ],
     "language": "python",
     "metadata": {},
     "outputs": [
      {
       "output_type": "stream",
       "stream": "stdout",
       "text": [
        "[0, 1, 4, 9, 16, 25, 36, 49, 64, 81]\n"
       ]
      }
     ],
     "prompt_number": 31
    },
    {
     "cell_type": "markdown",
     "metadata": {},
     "source": [
      "Python has a handy slice notation for lists."
     ]
    },
    {
     "cell_type": "code",
     "collapsed": false,
     "input": [
      "print l\n",
      "print l[2]\n",
      "print l[0:3]\n",
      "print l[:3]\n",
      "print l[-1]\n",
      "print l[-3:]\n",
      "print l[:]  # same as l, but it creates a copy"
     ],
     "language": "python",
     "metadata": {},
     "outputs": [
      {
       "output_type": "stream",
       "stream": "stdout",
       "text": [
        "[0, 1, 4, 9, 16, 25, 36, 49, 64, 81]\n",
        "4\n",
        "[0, 1, 4]\n",
        "[0, 1, 4]\n",
        "81\n",
        "[49, 64, 81]\n",
        "[0, 1, 4, 9, 16, 25, 36, 49, 64, 81]\n"
       ]
      }
     ],
     "prompt_number": 32
    },
    {
     "cell_type": "markdown",
     "metadata": {},
     "source": [
      "The `enumerate` function lets you iterate both over the index and the elements at once."
     ]
    },
    {
     "cell_type": "code",
     "collapsed": false,
     "input": [
      "for i, element in enumerate(l):\n",
      "   print \"Element no\", i, \"is\", element"
     ],
     "language": "python",
     "metadata": {},
     "outputs": [
      {
       "output_type": "stream",
       "stream": "stdout",
       "text": [
        "Element no 0 is 0\n",
        "Element no 1 is 1\n",
        "Element no 2 is 4\n",
        "Element no 3 is 9\n",
        "Element no 4 is 16\n",
        "Element no 5 is 25\n",
        "Element no 6 is 36\n",
        "Element no 7 is 49\n",
        "Element no 8 is 64\n",
        "Element no 9 is 81\n"
       ]
      }
     ],
     "prompt_number": 33
    },
    {
     "cell_type": "heading",
     "level": 3,
     "metadata": {},
     "source": [
      "Example Exercises"
     ]
    },
    {
     "cell_type": "markdown",
     "metadata": {},
     "source": [
      "If you'd like to practise your basic python skills, consider the following exercises:"
     ]
    },
    {
     "cell_type": "markdown",
     "metadata": {},
     "source": [
      "- Complete the sequence $1, 4, 9, 16, 25, ...$ up to the 13th element."
     ]
    },
    {
     "cell_type": "code",
     "collapsed": false,
     "input": [
      "[x**2 for x in range(1, 14)]  # note range(1, 14) = [1, 2, .., 13] without the 14"
     ],
     "language": "python",
     "metadata": {},
     "outputs": [
      {
       "metadata": {},
       "output_type": "pyout",
       "prompt_number": 34,
       "text": [
        "[1, 4, 9, 16, 25, 36, 49, 64, 81, 100, 121, 144, 169]"
       ]
      }
     ],
     "prompt_number": 34
    },
    {
     "cell_type": "markdown",
     "metadata": {},
     "source": [
      "- Write down all positive odd numbers up to 99."
     ]
    },
    {
     "cell_type": "code",
     "collapsed": false,
     "input": [
      "print [2 * x + 1 for x in range(50)] "
     ],
     "language": "python",
     "metadata": {},
     "outputs": [
      {
       "output_type": "stream",
       "stream": "stdout",
       "text": [
        "[1, 3, 5, 7, 9, 11, 13, 15, 17, 19, 21, 23, 25, 27, 29, 31, 33, 35, 37, 39, 41, 43, 45, 47, 49, 51, 53, 55, 57, 59, 61, 63, 65, 67, 69, 71, 73, 75, 77, 79, 81, 83, 85, 87, 89, 91, 93, 95, 97, 99]\n"
       ]
      }
     ],
     "prompt_number": 35
    },
    {
     "cell_type": "markdown",
     "metadata": {},
     "source": [
      "Consider the function $f(x) = 3 x^2 - 2 x - 7$. \n",
      "- What is $f(12345)$?"
     ]
    },
    {
     "cell_type": "code",
     "collapsed": false,
     "input": [
      "def f(x):\n",
      "    return 3 * x ** 2 - 2 * x - 7"
     ],
     "language": "python",
     "metadata": {},
     "outputs": [],
     "prompt_number": 36
    },
    {
     "cell_type": "code",
     "collapsed": false,
     "input": [
      "f(12345)"
     ],
     "language": "python",
     "metadata": {},
     "outputs": [
      {
       "metadata": {},
       "output_type": "pyout",
       "prompt_number": 37,
       "text": [
        "457172378"
       ]
      }
     ],
     "prompt_number": 37
    },
    {
     "cell_type": "markdown",
     "metadata": {},
     "source": [
      "Consider the Fibonacci sequence $a_n = a_{n-1} + a_{n-2}$, with $a_0 = a_1 = 1$.\n",
      "\n",
      "So, $a = 1, 1, 2, 3, 5, 8, 13, ...$.\n",
      "\n",
      "- What is the 13th element?"
     ]
    },
    {
     "cell_type": "code",
     "collapsed": false,
     "input": [
      "def a(n):\n",
      "    if (n == 0) or (n == 1):\n",
      "        return 1\n",
      "    else:\n",
      "        return a(n - 1) + a(n - 2)"
     ],
     "language": "python",
     "metadata": {},
     "outputs": [],
     "prompt_number": 38
    },
    {
     "cell_type": "code",
     "collapsed": false,
     "input": [
      "a(13)"
     ],
     "language": "python",
     "metadata": {},
     "outputs": [
      {
       "metadata": {},
       "output_type": "pyout",
       "prompt_number": 39,
       "text": [
        "377"
       ]
      }
     ],
     "prompt_number": 39
    },
    {
     "cell_type": "markdown",
     "metadata": {},
     "source": [
      "<hr>"
     ]
    },
    {
     "cell_type": "heading",
     "level": 2,
     "metadata": {},
     "source": [
      "Data Exploration in Python\n",
      "(without pandas)"
     ]
    },
    {
     "cell_type": "heading",
     "level": 3,
     "metadata": {},
     "source": [
      "Amazon Reviews Dataset"
     ]
    },
    {
     "cell_type": "markdown",
     "metadata": {},
     "source": [
      "Up until now, we've worked mainly with CSV data that has been easy to import. However, often its not the modeling part that is difficult (once we understand the models) but getting data into a format that we can use for modeling.\n",
      "\n",
      "Today we'll look at 2 datasets from Amazon. The first is a collection of movie reviews (the original set of 7 million reviews is also available) and the second is meta data on products including which customers reviewed it. However, neither is in a ready-to-use format so we must work on that first."
     ]
    },
    {
     "cell_type": "heading",
     "level": 3,
     "metadata": {},
     "source": [
      "Amazon Movie Reviews"
     ]
    },
    {
     "cell_type": "markdown",
     "metadata": {},
     "source": [
      "- We use limited version of this data, which is stored in our repo under `/data/amazon/small-movies.txt`\n",
      "- The full data set is available\n",
      "<a href=\"http://snap.stanford.edu/data/web-Movies.html\" target=\"_blank\">here</a>."
     ]
    },
    {
     "cell_type": "code",
     "collapsed": false,
     "input": [
      "# Replace the following path to your own local path\n",
      "path_to_repo = \"/Users/ruben/repo/personal/ga/DAT-23-NYC/\"\n",
      "path_to_data = path_to_repo + \"data/amazon/\""
     ],
     "language": "python",
     "metadata": {},
     "outputs": [],
     "prompt_number": 40
    },
    {
     "cell_type": "code",
     "collapsed": false,
     "input": [
      "# Load the dataset into a list of separate lines in python\n",
      "with open(path_to_data + 'small-movies.txt') as f:\n",
      "    lines = [line for line in f]"
     ],
     "language": "python",
     "metadata": {},
     "outputs": [],
     "prompt_number": 41
    },
    {
     "cell_type": "code",
     "collapsed": false,
     "input": [
      "# Print first lines of the datafile\n",
      "for i in xrange(8):\n",
      "    print lines[i],  # the comma surpresses the newline that the print command prints by default"
     ],
     "language": "python",
     "metadata": {},
     "outputs": [
      {
       "output_type": "stream",
       "stream": "stdout",
       "text": [
        "product/productId: B003AI2VGA\n",
        "review/userId: A141HP4LYPWMSR\n",
        "review/profileName: Brian E. Erland \"Rainbow Sphinx\"\n",
        "review/helpfulness: 7/7\n",
        "review/score: 3.0\n",
        "review/time: 1182729600\n",
        "review/summary: \"There Is So Much Darkness Now ~ Come For The Miracle\"\n",
        "review/text: Synopsis: On the daily trek from Juarez, Mexico to El Paso, Texas an ever increasing number of female workers are found raped and murdered in the surrounding desert. Investigative reporter Karina Danes (Minnie Driver) arrives from Los Angeles to pursue the story and angers both the local police and the factory owners who employee the undocumented aliens with her pointed questions and relentless quest for the truth.<br /><br />Her story goes nationwide when a young girl named Mariela (Ana Claudia Talancon) survives a vicious attack and walks out of the desert crediting the Blessed Virgin for her rescue. Her story is further enhanced when the \"Wounds of Christ\" (stigmata) appear in her palms. She also claims to have received a message of hope for the Virgin Mary and soon a fanatical movement forms around her to fight against the evil that holds such a stranglehold on the area.<br /><br />Critique: Possessing a lifelong fascination with such esoteric matters as Catholic mysticism, miracles and the mysterious appearance of the stigmata, I was immediately attracted to the '05 DVD release `Virgin of Juarez'. The film offers a rather unique storyline blending current socio-political concerns, the constant flow of Mexican migrant workers back and forth across the U.S./Mexican border and the traditional Catholic beliefs of the Hispanic population. I must say I was quite surprised by the unexpected route taken by the plot and the means and methods by which the heavenly message unfolds.<br /><br />`Virgin of Juarez' is not a film that you would care to watch over and over again, but it was interesting enough to merit at least one viewing. Minnie Driver delivers a solid performance and Ana Claudia Talancon is perfect as the fragile and innocent visionary Mariela. Also starring Esai Morales and Angus Macfadyen (Braveheart).\n"
       ]
      }
     ],
     "prompt_number": 42
    },
    {
     "cell_type": "code",
     "collapsed": false,
     "input": [
      "# Print the entire file - your notebook will crash if your file is very large\n",
      "# print ''.join(lines)"
     ],
     "language": "python",
     "metadata": {},
     "outputs": [],
     "prompt_number": 43
    },
    {
     "cell_type": "heading",
     "level": 4,
     "metadata": {},
     "source": [
      "Exercise 1"
     ]
    },
    {
     "cell_type": "markdown",
     "metadata": {},
     "source": [
      "Create a tab-separated file from the file above the contains the following columns: productId, userId, review text, helpfulness score (as a numeric value) and review score (as a numeric value).\n",
      "Note: What are the issues with helpfulness? How can you resolve them?"
     ]
    },
    {
     "cell_type": "code",
     "collapsed": false,
     "input": [
      "# Hint: use startswidth\n",
      "\"Hello, world!\".startswith(\"Hello\")"
     ],
     "language": "python",
     "metadata": {},
     "outputs": [
      {
       "metadata": {},
       "output_type": "pyout",
       "prompt_number": 44,
       "text": [
        "True"
       ]
      }
     ],
     "prompt_number": 44
    },
    {
     "cell_type": "code",
     "collapsed": false,
     "input": [
      "# Put here your code\n",
      "reviews = []\n",
      "\n",
      "pass  # your code\n",
      "\n",
      "for line in lines:\n",
      "    pass  # your code\n"
     ],
     "language": "python",
     "metadata": {},
     "outputs": [],
     "prompt_number": 45
    },
    {
     "cell_type": "code",
     "collapsed": false,
     "input": [
      "rows = []\n",
      "\n",
      "for review in reviews:\n",
      "    pass  # your code"
     ],
     "language": "python",
     "metadata": {},
     "outputs": [],
     "prompt_number": 46
    },
    {
     "cell_type": "code",
     "collapsed": false,
     "input": [
      "rows = ['1\\tqwqw' for i in xrange(3)]"
     ],
     "language": "python",
     "metadata": {},
     "outputs": [],
     "prompt_number": 47
    },
    {
     "cell_type": "code",
     "collapsed": false,
     "input": [
      "output_file = path_to_data + 'small-movies-results.csv'\n",
      "with open(output_file, 'w') as f:\n",
      "    for row in rows:\n",
      "        f.write(row + '\\n')"
     ],
     "language": "python",
     "metadata": {},
     "outputs": [],
     "prompt_number": 48
    },
    {
     "cell_type": "markdown",
     "metadata": {},
     "source": [
      "Let's ensure that you have a properly formatted TSV and that you can parse it back in with Pandas."
     ]
    },
    {
     "cell_type": "code",
     "collapsed": false,
     "input": [
      "import pandas as pd\n",
      "df = pd.read_csv(output_file, sep='\\t', header=None)\n",
      "df.head()"
     ],
     "language": "python",
     "metadata": {},
     "outputs": [
      {
       "html": [
        "<div style=\"max-height:1000px;max-width:1500px;overflow:auto;\">\n",
        "<table border=\"1\" class=\"dataframe\">\n",
        "  <thead>\n",
        "    <tr style=\"text-align: right;\">\n",
        "      <th></th>\n",
        "      <th>0</th>\n",
        "      <th>1</th>\n",
        "    </tr>\n",
        "  </thead>\n",
        "  <tbody>\n",
        "    <tr>\n",
        "      <th>0</th>\n",
        "      <td> 1</td>\n",
        "      <td> qwqw</td>\n",
        "    </tr>\n",
        "    <tr>\n",
        "      <th>1</th>\n",
        "      <td> 1</td>\n",
        "      <td> qwqw</td>\n",
        "    </tr>\n",
        "    <tr>\n",
        "      <th>2</th>\n",
        "      <td> 1</td>\n",
        "      <td> qwqw</td>\n",
        "    </tr>\n",
        "  </tbody>\n",
        "</table>\n",
        "</div>"
       ],
       "metadata": {},
       "output_type": "pyout",
       "prompt_number": 50,
       "text": [
        "   0     1\n",
        "0  1  qwqw\n",
        "1  1  qwqw\n",
        "2  1  qwqw"
       ]
      }
     ],
     "prompt_number": 50
    },
    {
     "cell_type": "heading",
     "level": 3,
     "metadata": {},
     "source": [
      "Amazon Metadata"
     ]
    },
    {
     "cell_type": "markdown",
     "metadata": {},
     "source": [
      "A limited version of this data is available here and the full data set is available here\n",
      "\n",
      "- We use limited version of this data, which is stored in our repo under `/data/amazon/small-amazon-meta.txt`\n",
      "- The full data set is available\n",
      "<a href=\"http://snap.stanford.edu/data/amazon-meta.html\" target=\"_blank\">here</a>."
     ]
    },
    {
     "cell_type": "markdown",
     "metadata": {},
     "source": [
      "The task here is to parse this file into a collection of product ids (ASIN), title and list of customers (by id) who have reviewed the product.\n",
      "\n",
      "```\n",
      "productID, title, [customer1, customer2]\n",
      "```"
     ]
    },
    {
     "cell_type": "heading",
     "level": 4,
     "metadata": {},
     "source": [
      "Exercise 2"
     ]
    },
    {
     "cell_type": "markdown",
     "metadata": {},
     "source": [
      "- (**) If you'd like create a review class that holds the customer id and star rating. Use this to output a product id, title and list of reviews.\n",
      "- (*) Create a product class that holds the id, title and collection of reviews."
     ]
    },
    {
     "cell_type": "code",
     "collapsed": false,
     "input": [],
     "language": "python",
     "metadata": {},
     "outputs": [],
     "prompt_number": 50
    },
    {
     "cell_type": "code",
     "collapsed": false,
     "input": [],
     "language": "python",
     "metadata": {},
     "outputs": [],
     "prompt_number": 50
    },
    {
     "cell_type": "heading",
     "level": 3,
     "metadata": {},
     "source": [
      "Lahman Baseball Dataset"
     ]
    },
    {
     "cell_type": "markdown",
     "metadata": {},
     "source": [
      "Available here: \n",
      "<a href=\"http://seanlahman.com/files/database/lahman-csv_2014-02-14.zip\">Lahman Baseball Dataset</a>.\n",
      "\n",
      "- Without using Pandas, read in Salaries.csv and output average salary by playerID.\n",
      "- (**) Without using Pandas, read in Salaries.csv and Master.csv and output salary by nameFirst and nameLast."
     ]
    },
    {
     "cell_type": "code",
     "collapsed": false,
     "input": [],
     "language": "python",
     "metadata": {},
     "outputs": [],
     "prompt_number": 50
    },
    {
     "cell_type": "code",
     "collapsed": false,
     "input": [],
     "language": "python",
     "metadata": {},
     "outputs": [],
     "prompt_number": 50
    },
    {
     "cell_type": "markdown",
     "metadata": {},
     "source": [
      "<hr>"
     ]
    },
    {
     "cell_type": "heading",
     "level": 2,
     "metadata": {},
     "source": [
      "Further reading"
     ]
    },
    {
     "cell_type": "markdown",
     "metadata": {},
     "source": [
      "- <a href=\"https://docs.python.org/2/tutorial/introduction.html\">Official Python tutorial</a>"
     ]
    }
   ],
   "metadata": {}
  }
 ]
}