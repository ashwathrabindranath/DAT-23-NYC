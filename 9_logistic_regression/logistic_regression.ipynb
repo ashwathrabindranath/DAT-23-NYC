{
 "cells": [
  {
   "cell_type": "markdown",
   "metadata": {},
   "source": [
    "# Logistic Regression"
   ]
  },
  {
   "cell_type": "code",
   "execution_count": 20,
   "metadata": {
    "collapsed": true
   },
   "outputs": [],
   "source": [
    "import numpy as np\n",
    "import pandas as pd\n",
    "from sklearn.linear_model import LogisticRegression\n",
    "from sklearn.cross_validation import cross_val_score\n",
    "from matplotlib import pyplot as plt\n",
    "import seaborn\n",
    "%matplotlib inline"
   ]
  },
  {
   "cell_type": "markdown",
   "metadata": {},
   "source": [
    "### Iris Dataset"
   ]
  },
  {
   "cell_type": "code",
   "execution_count": 21,
   "metadata": {
    "collapsed": false
   },
   "outputs": [],
   "source": [
    "path_to_repo = '/Users/ruben/repo/personal/ga/DAT-23-NYC/'"
   ]
  },
  {
   "cell_type": "code",
   "execution_count": 22,
   "metadata": {
    "collapsed": false
   },
   "outputs": [
    {
     "data": {
      "text/html": [
       "<div>\n",
       "<table border=\"1\" class=\"dataframe\">\n",
       "  <thead>\n",
       "    <tr style=\"text-align: right;\">\n",
       "      <th></th>\n",
       "      <th>sepal_length</th>\n",
       "      <th>sepal_width</th>\n",
       "      <th>petal_length</th>\n",
       "      <th>petal_width</th>\n",
       "      <th>species</th>\n",
       "    </tr>\n",
       "  </thead>\n",
       "  <tbody>\n",
       "    <tr>\n",
       "      <th>0</th>\n",
       "      <td>5.1</td>\n",
       "      <td>3.5</td>\n",
       "      <td>1.4</td>\n",
       "      <td>0.2</td>\n",
       "      <td>setosa</td>\n",
       "    </tr>\n",
       "    <tr>\n",
       "      <th>1</th>\n",
       "      <td>4.9</td>\n",
       "      <td>3.0</td>\n",
       "      <td>1.4</td>\n",
       "      <td>0.2</td>\n",
       "      <td>setosa</td>\n",
       "    </tr>\n",
       "  </tbody>\n",
       "</table>\n",
       "</div>"
      ],
      "text/plain": [
       "   sepal_length  sepal_width  petal_length  petal_width species\n",
       "0           5.1          3.5           1.4          0.2  setosa\n",
       "1           4.9          3.0           1.4          0.2  setosa"
      ]
     },
     "execution_count": 22,
     "metadata": {},
     "output_type": "execute_result"
    }
   ],
   "source": [
    "column_headers = ['sepal_length', 'sepal_width', 'petal_length', 'petal_width', 'species']\n",
    "data = pd.read_csv(path_to_repo + 'data/iris/iris.csv', header=None, names=column_headers)\n",
    "data.head(2)"
   ]
  },
  {
   "cell_type": "markdown",
   "metadata": {},
   "source": [
    "###Classifying setosas\n",
    "Let's add a binary label: setosa or not setosa?"
   ]
  },
  {
   "cell_type": "code",
   "execution_count": 23,
   "metadata": {
    "collapsed": false
   },
   "outputs": [],
   "source": [
    "data[\"setosa\"] = data.species == \"setosa\""
   ]
  },
  {
   "cell_type": "markdown",
   "metadata": {},
   "source": [
    "Let's try to predict if it's a setosa, based on just two features."
   ]
  },
  {
   "cell_type": "code",
   "execution_count": 24,
   "metadata": {
    "collapsed": false
   },
   "outputs": [],
   "source": [
    "features = ['sepal_width', 'sepal_length']\n",
    "X, y = data[features], data.setosa"
   ]
  },
  {
   "cell_type": "code",
   "execution_count": 25,
   "metadata": {
    "collapsed": false,
    "scrolled": true
   },
   "outputs": [
    {
     "data": {
      "text/plain": [
       "0.9933333333333334"
      ]
     },
     "execution_count": 25,
     "metadata": {},
     "output_type": "execute_result"
    }
   ],
   "source": [
    "model = LogisticRegression()\n",
    "cross_val_score(model, X, y, cv=10).mean()"
   ]
  },
  {
   "cell_type": "markdown",
   "metadata": {},
   "source": [
    "###Predictions\n",
    "That seems to work well. Let's try out some predictions."
   ]
  },
  {
   "cell_type": "code",
   "execution_count": 26,
   "metadata": {
    "collapsed": false
   },
   "outputs": [
    {
     "name": "stdout",
     "output_type": "stream",
     "text": [
      "[ True  True  True  True  True]\n",
      "[[ 0.10678679  0.89321321]\n",
      " [ 0.35021525  0.64978475]\n",
      " [ 0.12794251  0.87205749]\n",
      " [ 0.14581086  0.85418914]\n",
      " [ 0.05871329  0.94128671]]\n"
     ]
    }
   ],
   "source": [
    "model.fit(X, y)\n",
    "print model.predict(X)[:5]  # this will give you True or False\n",
    "print model.predict_proba(X)[:5]  # this will give you the probability"
   ]
  },
  {
   "cell_type": "markdown",
   "metadata": {},
   "source": [
    "Note that each prediction gives a probability for each class: not setosa, yes setosa. We want the latter."
   ]
  },
  {
   "cell_type": "code",
   "execution_count": 27,
   "metadata": {
    "collapsed": false
   },
   "outputs": [
    {
     "data": {
      "text/plain": [
       "array([ 0.89321321,  0.64978475,  0.87205749,  0.85418914,  0.94128671,\n",
       "        0.95163009,  0.95124094,  0.87788572,  0.81229292,  0.73479813])"
      ]
     },
     "execution_count": 27,
     "metadata": {},
     "output_type": "execute_result"
    }
   ],
   "source": [
    "y_pred = np.array(zip(*model.predict_proba(X))[1])\n",
    "y_pred[:10]"
   ]
  },
  {
   "cell_type": "markdown",
   "metadata": {},
   "source": [
    "###Decision boundaries\n",
    "Let's try to see if we could draw a decision boundary between the flowers. \n",
    "\n",
    "Note that for linear regression, the probability $P$ is given by\n",
    "\n",
    "$$P = \\frac{1}{1 + e^{-\\big(\\alpha + \\beta_1 x_1 + \\beta_2 x_2\\big)}}$$\n",
    "\n",
    "In classification, we usually round $P$ to 0 or 1, so with the cut-off at 1/2. \n",
    "\n",
    "But $P = 1/2$ if and only if\n",
    "\n",
    "$$\\alpha + \\beta_1 x_1 + \\beta_2 x_2 = 0$$\n",
    "\n",
    "which we could rewrite as the linear line:\n",
    "\n",
    "$$x_2 = -\\frac{\\alpha + \\beta_1 x_1}{\\beta_2}$$\n",
    "\n",
    "Let's draw it!"
   ]
  },
  {
   "cell_type": "code",
   "execution_count": 43,
   "metadata": {
    "collapsed": false
   },
   "outputs": [
    {
     "data": {
      "image/png": "[encoded data removed]",
      "text/plain": [
       "<matplotlib.figure.Figure at 0x10c67ca90>"
      ]
     },
     "metadata": {},
     "output_type": "display_data"
    }
   ],
   "source": [
    "x1, x2 = features\n",
    "colors = list(\"rby\")\n",
    "\n",
    "# Plot the flowers with color labels\n",
    "for spec in data.species.unique():\n",
    "    data_spec = data[data.species == spec]\n",
    "    plt.scatter(data_spec[x1], data_spec[x2], label=spec, c=colors.pop(),\n",
    "                linewidths=0, s=100, alpha=.4)\n",
    "    \n",
    "# draw the decision boundary\n",
    "boundary_x1 = np.array([data[x1].min() - .3, data[x1].max() + .3])\n",
    "boundary_x2 = -(model.intercept_ + model.coef_[0, 0] * boundary_x1) / model.coef_[0, 1]\n",
    "f = plt.plot(boundary_x1, boundary_x2, ':')\n",
    "    \n",
    "f = plt.legend(loc=\"upper left\", bbox_to_anchor=(1,1))\n",
    "f = plt.xlabel(x1), plt.ylabel(x2), plt.ylim(4, 9)"
   ]
  },
  {
   "cell_type": "markdown",
   "metadata": {},
   "source": [
    "###More features, more labels\n",
    "- Obviously, we could add more features to the $X$\n",
    "- We could also add more classes to $y$"
   ]
  },
  {
   "cell_type": "code",
   "execution_count": 10,
   "metadata": {
    "collapsed": false
   },
   "outputs": [
    {
     "data": {
      "text/plain": [
       "0.95333333333333337"
      ]
     },
     "execution_count": 10,
     "metadata": {},
     "output_type": "execute_result"
    }
   ],
   "source": [
    "features = ['sepal_length', 'sepal_width', 'petal_length', 'petal_width']\n",
    "X, y = data[features], data.species\n",
    "model = LogisticRegression()\n",
    "cross_val_score(model, X, y, cv=10).mean()"
   ]
  },
  {
   "cell_type": "code",
   "execution_count": 11,
   "metadata": {
    "collapsed": false
   },
   "outputs": [
    {
     "name": "stdout",
     "output_type": "stream",
     "text": [
      "['setosa' 'setosa' 'setosa' 'setosa' 'setosa']\n",
      "[[  8.79681649e-01   1.20307538e-01   1.08131372e-05]\n",
      " [  7.99706325e-01   2.00263292e-01   3.03825365e-05]\n",
      " [  8.53796795e-01   1.46177302e-01   2.59031285e-05]\n",
      " [  8.25383127e-01   1.74558937e-01   5.79356669e-05]\n",
      " [  8.97323628e-01   1.02665167e-01   1.12050036e-05]]\n"
     ]
    }
   ],
   "source": [
    "model.fit(X, y)\n",
    "print model.predict(X)[:5]  # this gives the predicted labels\n",
    "print model.predict_proba(X)[:5]  # this gives the probabilties per label"
   ]
  },
  {
   "cell_type": "markdown",
   "metadata": {},
   "source": [
    "<hr>\n",
    "## Exercises"
   ]
  },
  {
   "cell_type": "markdown",
   "metadata": {},
   "source": [
    "- Make a classifier for virginicas using logistic regression (i.e., only predicting 1 for verginicas and 0 otherwise), **only** using petal's width and length\n",
    "- Train and test of the model using cross validation\n",
    "- What is a good baseline for accuracy (i.e., how would the naive classifier score)?\n",
    "- What is the model's precision, recall, and F1 score, aside from its accuracy?\n",
    "- (\\*) What is the model's AUC (Area Under the ROC Curve)?\n",
    "- (\\*\\*) Plot the flower's petal width and length and draw the decision boundary"
   ]
  },
  {
   "cell_type": "code",
   "execution_count": 18,
   "metadata": {
    "collapsed": false
   },
   "outputs": [
    {
     "name": "stdout",
     "output_type": "stream",
     "text": [
      "0.666666666667 baseline (always predicting False)\n",
      "0.946666666667\n",
      "0.92619047619\n",
      "0.94\n",
      "0.921464646465\n",
      "0.983\n"
     ]
    }
   ],
   "source": [
    "data['virginica'] = data.species == 'virginica'\n",
    "features = ['petal_length', 'petal_width']\n",
    "X, y = data[features], data.virginica\n",
    "model = LogisticRegression().fit(X, y)\n",
    "print 1 - y.mean(), \"baseline (always predicting False)\"\n",
    "print cross_val_score(model, X, y, cv=10).mean()\n",
    "print cross_val_score(model, X, y, cv=10, scoring='precision').mean()\n",
    "print cross_val_score(model, X, y, cv=10, scoring='recall').mean()\n",
    "print cross_val_score(model, X, y, cv=10, scoring='f1').mean()\n",
    "print cross_val_score(model, X, y, cv=10, scoring='roc_auc').mean()"
   ]
  },
  {
   "cell_type": "code",
   "execution_count": 13,
   "metadata": {
    "collapsed": false
   },
   "outputs": [
    {
     "data": {
      "image/png": "[encoded data removed]",
      "text/plain": [
       "<matplotlib.figure.Figure at 0x10bf99f90>"
      ]
     },
     "metadata": {},
     "output_type": "display_data"
    }
   ],
   "source": [
    "x1, x2 = features\n",
    "colors = list(\"rby\")\n",
    "\n",
    "# Plot the flowers with color labels\n",
    "for spec in data.species.unique():\n",
    "    data_spec = data[data.species == spec]\n",
    "    plt.scatter(data_spec[x1], data_spec[x2], label=spec, c=colors.pop(),\n",
    "                linewidths=0, s=100, alpha=.4)\n",
    "    \n",
    "# draw the decision boundary\n",
    "boundary_x1 = np.array([data[x1].min() - .3, data[x1].max() + .3])\n",
    "boundary_x2 = -(model.intercept_ + model.coef_[0, 0] * boundary_x1) / model.coef_[0, 1]\n",
    "f = plt.plot(boundary_x1, boundary_x2, ':')\n",
    "    \n",
    "f = plt.legend(loc=\"upper left\", bbox_to_anchor=(1,1))\n",
    "f = plt.xlabel(x1), plt.ylabel(x2)"
   ]
  },
  {
   "cell_type": "code",
   "execution_count": null,
   "metadata": {
    "collapsed": true
   },
   "outputs": [],
   "source": []
  },
  {
   "cell_type": "code",
   "execution_count": null,
   "metadata": {
    "collapsed": true
   },
   "outputs": [],
   "source": []
  },
  {
   "cell_type": "code",
   "execution_count": null,
   "metadata": {
    "collapsed": true
   },
   "outputs": [],
   "source": []
  },
  {
   "cell_type": "code",
   "execution_count": null,
   "metadata": {
    "collapsed": false
   },
   "outputs": [],
   "source": []
  }
 ],
 "metadata": {
  "kernelspec": {
   "display_name": "Python 2",
   "language": "python",
   "name": "python2"
  },
  "language_info": {
   "codemirror_mode": {
    "name": "ipython",
    "version": 2
   },
   "file_extension": ".py",
   "mimetype": "text/x-python",
   "name": "python",
   "nbconvert_exporter": "python",
   "pygments_lexer": "ipython2",
   "version": "2.7.10"
  }
 },
 "nbformat": 4,
 "nbformat_minor": 0
}
