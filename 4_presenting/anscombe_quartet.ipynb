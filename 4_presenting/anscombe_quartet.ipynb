{
 "cells": [
  {
   "cell_type": "markdown",
   "metadata": {},
   "source": [
    "# Anscombe's Quartet"
   ]
  },
  {
   "cell_type": "markdown",
   "metadata": {},
   "source": [
    "Source: [Wikipedia](https://en.wikipedia.org/wiki/Anscombe's_quartet)"
   ]
  },
  {
   "cell_type": "code",
   "execution_count": 1,
   "metadata": {
    "collapsed": false
   },
   "outputs": [],
   "source": [
    "import pandas as pd\n",
    "from scipy.stats import linregress\n",
    "from matplotlib import pyplot as plt\n",
    "import seaborn\n",
    "%matplotlib inline"
   ]
  },
  {
   "cell_type": "markdown",
   "metadata": {},
   "source": [
    "### Load data"
   ]
  },
  {
   "cell_type": "code",
   "execution_count": 2,
   "metadata": {
    "collapsed": false
   },
   "outputs": [
    {
     "data": {
      "text/html": [
       "<div style=\"max-height:1000px;max-width:1500px;overflow:auto;\">\n",
       "<table border=\"1\" class=\"dataframe\">\n",
       "  <thead>\n",
       "    <tr style=\"text-align: right;\">\n",
       "      <th></th>\n",
       "      <th>x1</th>\n",
       "      <th>x2</th>\n",
       "      <th>x3</th>\n",
       "      <th>x4</th>\n",
       "      <th>y1</th>\n",
       "      <th>y2</th>\n",
       "      <th>y3</th>\n",
       "      <th>y4</th>\n",
       "    </tr>\n",
       "  </thead>\n",
       "  <tbody>\n",
       "    <tr>\n",
       "      <th>0 </th>\n",
       "      <td> 10</td>\n",
       "      <td> 10</td>\n",
       "      <td> 10</td>\n",
       "      <td>  8</td>\n",
       "      <td>  8.04</td>\n",
       "      <td> 9.14</td>\n",
       "      <td>  7.46</td>\n",
       "      <td>  6.58</td>\n",
       "    </tr>\n",
       "    <tr>\n",
       "      <th>1 </th>\n",
       "      <td>  8</td>\n",
       "      <td>  8</td>\n",
       "      <td>  8</td>\n",
       "      <td>  8</td>\n",
       "      <td>  6.95</td>\n",
       "      <td> 8.14</td>\n",
       "      <td>  6.77</td>\n",
       "      <td>  5.76</td>\n",
       "    </tr>\n",
       "    <tr>\n",
       "      <th>2 </th>\n",
       "      <td> 13</td>\n",
       "      <td> 13</td>\n",
       "      <td> 13</td>\n",
       "      <td>  8</td>\n",
       "      <td>  7.58</td>\n",
       "      <td> 8.74</td>\n",
       "      <td> 12.74</td>\n",
       "      <td>  7.71</td>\n",
       "    </tr>\n",
       "    <tr>\n",
       "      <th>3 </th>\n",
       "      <td>  9</td>\n",
       "      <td>  9</td>\n",
       "      <td>  9</td>\n",
       "      <td>  8</td>\n",
       "      <td>  8.81</td>\n",
       "      <td> 8.77</td>\n",
       "      <td>  7.11</td>\n",
       "      <td>  8.84</td>\n",
       "    </tr>\n",
       "    <tr>\n",
       "      <th>4 </th>\n",
       "      <td> 11</td>\n",
       "      <td> 11</td>\n",
       "      <td> 11</td>\n",
       "      <td>  8</td>\n",
       "      <td>  8.33</td>\n",
       "      <td> 9.26</td>\n",
       "      <td>  7.81</td>\n",
       "      <td>  8.47</td>\n",
       "    </tr>\n",
       "    <tr>\n",
       "      <th>5 </th>\n",
       "      <td> 14</td>\n",
       "      <td> 14</td>\n",
       "      <td> 14</td>\n",
       "      <td>  8</td>\n",
       "      <td>  9.96</td>\n",
       "      <td> 8.10</td>\n",
       "      <td>  8.84</td>\n",
       "      <td>  7.04</td>\n",
       "    </tr>\n",
       "    <tr>\n",
       "      <th>6 </th>\n",
       "      <td>  6</td>\n",
       "      <td>  6</td>\n",
       "      <td>  6</td>\n",
       "      <td>  8</td>\n",
       "      <td>  7.24</td>\n",
       "      <td> 6.13</td>\n",
       "      <td>  6.08</td>\n",
       "      <td>  5.25</td>\n",
       "    </tr>\n",
       "    <tr>\n",
       "      <th>7 </th>\n",
       "      <td>  4</td>\n",
       "      <td>  4</td>\n",
       "      <td>  4</td>\n",
       "      <td> 19</td>\n",
       "      <td>  4.26</td>\n",
       "      <td> 3.10</td>\n",
       "      <td>  5.39</td>\n",
       "      <td> 12.50</td>\n",
       "    </tr>\n",
       "    <tr>\n",
       "      <th>8 </th>\n",
       "      <td> 12</td>\n",
       "      <td> 12</td>\n",
       "      <td> 12</td>\n",
       "      <td>  8</td>\n",
       "      <td> 10.84</td>\n",
       "      <td> 9.13</td>\n",
       "      <td>  8.15</td>\n",
       "      <td>  5.56</td>\n",
       "    </tr>\n",
       "    <tr>\n",
       "      <th>9 </th>\n",
       "      <td>  7</td>\n",
       "      <td>  7</td>\n",
       "      <td>  7</td>\n",
       "      <td>  8</td>\n",
       "      <td>  4.82</td>\n",
       "      <td> 7.26</td>\n",
       "      <td>  6.42</td>\n",
       "      <td>  7.91</td>\n",
       "    </tr>\n",
       "    <tr>\n",
       "      <th>10</th>\n",
       "      <td>  5</td>\n",
       "      <td>  5</td>\n",
       "      <td>  5</td>\n",
       "      <td>  8</td>\n",
       "      <td>  5.68</td>\n",
       "      <td> 4.74</td>\n",
       "      <td>  5.73</td>\n",
       "      <td>  6.89</td>\n",
       "    </tr>\n",
       "  </tbody>\n",
       "</table>\n",
       "</div>"
      ],
      "text/plain": [
       "    x1  x2  x3  x4     y1    y2     y3     y4\n",
       "0   10  10  10   8   8.04  9.14   7.46   6.58\n",
       "1    8   8   8   8   6.95  8.14   6.77   5.76\n",
       "2   13  13  13   8   7.58  8.74  12.74   7.71\n",
       "3    9   9   9   8   8.81  8.77   7.11   8.84\n",
       "4   11  11  11   8   8.33  9.26   7.81   8.47\n",
       "5   14  14  14   8   9.96  8.10   8.84   7.04\n",
       "6    6   6   6   8   7.24  6.13   6.08   5.25\n",
       "7    4   4   4  19   4.26  3.10   5.39  12.50\n",
       "8   12  12  12   8  10.84  9.13   8.15   5.56\n",
       "9    7   7   7   8   4.82  7.26   6.42   7.91\n",
       "10   5   5   5   8   5.68  4.74   5.73   6.89"
      ]
     },
     "execution_count": 2,
     "metadata": {},
     "output_type": "execute_result"
    }
   ],
   "source": [
    "data = pd.DataFrame({'x1': [10.0, 8.0, 13.0, 9.0, 11.0, 14.0, 6.0, 4.0, 12.0, 7.0, 5.0],\n",
    "     'y1': [8.04, 6.95, 7.58, 8.81, 8.33, 9.96, 7.24, 4.26, 10.84, 4.82, 5.68],\n",
    "     'x2': [10.0, 8.0, 13.0, 9.0, 11.0, 14.0, 6.0, 4.0, 12.0, 7.0, 5.0,],\n",
    "     'y2': [9.14, 8.14, 8.74, 8.77, 9.26, 8.10, 6.13, 3.10, 9.13, 7.26, 4.74],\n",
    "     'x3': [10.0, 8.0, 13.0, 9.0, 11.0, 14.0, 6.0, 4.0, 12.0, 7.0, 5.0,],\n",
    "     'y3': [7.46, 6.77, 12.74, 7.11, 7.81, 8.84, 6.08, 5.39, 8.15, 6.42, 5.73],\n",
    "     'x4': [8.0, 8.0, 8.0, 8.0, 8.0, 8.0, 8.0, 19.0, 8.0, 8.0, 8.0],\n",
    "     'y4': [6.58, 5.76, 7.71, 8.84, 8.47, 7.04, 5.25, 12.50, 5.56, 7.91, 6.89]})\n",
    "data"
   ]
  },
  {
   "cell_type": "markdown",
   "metadata": {},
   "source": [
    "### Basic statistics"
   ]
  },
  {
   "cell_type": "code",
   "execution_count": 3,
   "metadata": {
    "collapsed": false
   },
   "outputs": [
    {
     "name": "stdout",
     "output_type": "stream",
     "text": [
      "Basic statistics\n",
      "1) x: mean 9.000, std 3.317;  y: mean 7.501, std 2.032;  y = 0.500x + 3.000;  corr 0.816, err. 0.118\n",
      "2) x: mean 9.000, std 3.317;  y: mean 7.501, std 2.032;  y = 0.500x + 3.001;  corr 0.816, err. 0.118\n",
      "3) x: mean 9.000, std 3.317;  y: mean 7.500, std 2.030;  y = 0.500x + 3.002;  corr 0.816, err. 0.118\n",
      "4) x: mean 9.000, std 3.317;  y: mean 7.501, std 2.031;  y = 0.500x + 3.002;  corr 0.817, err. 0.118\n"
     ]
    }
   ],
   "source": [
    "print \"Basic statistics\"\n",
    "trendlines = []\n",
    "for i in xrange(1, 5):\n",
    "    x, y = \"x\" + str(i), \"y\" + str(i)\n",
    "    df = data[[x, y]]\n",
    "    x_mean, y_mean = df.mean()\n",
    "    x_std, y_std = df.std()\n",
    "    slope, intercept, r_value, p_value, std_err = linregress(df)\n",
    "    trendlines.append((slope, intercept))\n",
    "    print \"%d) x: mean %5.3f, std %5.3f;  y: mean %5.3f, std %5.3f;  \" \\\n",
    "        \"y = %5.3fx + %5.3f;  corr %5.3f, err. %5.3f\" % \\\n",
    "        (i, x_mean, x_std, y_mean, y_std, slope, intercept, r_value, std_err)"
   ]
  },
  {
   "cell_type": "markdown",
   "metadata": {},
   "source": [
    "Wow, these datasets are pretty much identical!"
   ]
  },
  {
   "cell_type": "markdown",
   "metadata": {},
   "source": [
    "### Basic visualizations"
   ]
  },
  {
   "cell_type": "code",
   "execution_count": 4,
   "metadata": {
    "collapsed": false
   },
   "outputs": [
    {
     "data": {
      "image/png": "[encoded data removed]",
      "text/plain": [
       "<matplotlib.figure.Figure at 0x10d9c7f90>"
      ]
     },
     "metadata": {},
     "output_type": "display_data"
    }
   ],
   "source": [
    "fig, axes = plt.subplots(nrows=1, ncols=4, figsize=(18,4))\n",
    "for i in xrange(1, 5):\n",
    "    x, y = \"x\" + str(i), \"y\" + str(i)\n",
    "    data.plot(kind='scatter', x=x, y=y, ax=axes[i-1], s=50)\n",
    "    slope, intercept = trendlines[i - 1]\n",
    "    axes[i - 1].plot([2, 18], [intercept + 2 * slope, intercept + 18 * slope], ':')"
   ]
  },
  {
   "cell_type": "markdown",
   "metadata": {},
   "source": [
    "Whoops, they are pretty different.."
   ]
  }
 ],
 "metadata": {
  "kernelspec": {
   "display_name": "Python 2",
   "language": "python",
   "name": "python2"
  },
  "language_info": {
   "codemirror_mode": {
    "name": "ipython",
    "version": 2
   },
   "file_extension": ".py",
   "mimetype": "text/x-python",
   "name": "python",
   "nbconvert_exporter": "python",
   "pygments_lexer": "ipython2",
   "version": "2.7.10"
  }
 },
 "nbformat": 4,
 "nbformat_minor": 0
}
