{
 "cells": [
  {
   "cell_type": "markdown",
   "metadata": {},
   "source": [
    "# Restricted Boltzmann Machine features for digit classification\n",
    "_Example based on [sklearn documentation](http://scikit-learn.org/stable/auto_examples/neural_networks/plot_rbm_logistic_classification.html) by Yann N. Dauphin, Vlad Niculae, Gabriel Synnaeve_\n",
    "\n",
    "In this example, we will use a neural network to perform an unsupervised learning step before feeding the data into a logistic regression. We will see that this greatly improves our prediction accuracy.\n",
    "\n",
    "For greyscale image data where pixel values can be interpreted as degrees of\n",
    "blackness on a white background, like handwritten digit recognition, the\n",
    "[Bernoulli Restricted Boltzmann machine model](http://scikit-learn.org/stable/modules/generated/sklearn.neural_network.BernoulliRBM.html#sklearn.neural_network.BernoulliRBM) can perform effective non-linear\n",
    "feature extraction.\n",
    "\n",
    "This example shows how to build a classification pipeline with a `BernoulliRBM`\n",
    "feature extractor and a `LogisticRegression` classifier. The hyperparameters\n",
    "of the entire model (learning rate, hidden layer size, regularization)\n",
    "were optimized by grid search, but the search is not reproduced here because\n",
    "of runtime constraints.\n",
    "\n",
    "Logistic regression on raw pixel values is presented for comparison. The\n",
    "example shows that the features extracted by the BernoulliRBM help improve the\n",
    "classification accuracy."
   ]
  },
  {
   "cell_type": "code",
   "execution_count": 1,
   "metadata": {
    "collapsed": true
   },
   "outputs": [],
   "source": [
    "import numpy as np\n",
    "from scipy.ndimage import convolve\n",
    "from sklearn import linear_model, datasets, metrics\n",
    "from sklearn.cross_validation import train_test_split\n",
    "from sklearn.neural_network import BernoulliRBM\n",
    "from sklearn.pipeline import Pipeline\n",
    "import matplotlib.pyplot as plt\n",
    "%matplotlib inline"
   ]
  },
  {
   "cell_type": "markdown",
   "metadata": {},
   "source": [
    "### Load data"
   ]
  },
  {
   "cell_type": "code",
   "execution_count": 37,
   "metadata": {
    "collapsed": true
   },
   "outputs": [],
   "source": [
    "digits = datasets.load_digits()"
   ]
  },
  {
   "cell_type": "markdown",
   "metadata": {},
   "source": [
    "Let's plot the digits."
   ]
  },
  {
   "cell_type": "code",
   "execution_count": 33,
   "metadata": {
    "collapsed": false
   },
   "outputs": [
    {
     "data": {
      "image/png": "[encoded data removed]",
      "text/plain": [
       "<matplotlib.figure.Figure at 0x1125f4d50>"
      ]
     },
     "metadata": {},
     "output_type": "display_data"
    }
   ],
   "source": [
    "images_and_labels = list(zip(digits.images, digits.target))\n",
    "plt.figure(figsize=(20,4))\n",
    "for index, (image, label) in enumerate(images_and_labels[:10]):\n",
    "    plt.subplot(1, 10, index + 1)\n",
    "    plt.axis('off')\n",
    "    plt.imshow(image, cmap=plt.cm.gray_r, interpolation='nearest')\n",
    "    plt.title('Training: %i\\n' % label)"
   ]
  },
  {
   "cell_type": "markdown",
   "metadata": {},
   "source": [
    "#### Data creation\n",
    "In order to learn good latent representations from a small dataset, we\n",
    "artificially generate more labeled data by perturbing the training data with\n",
    "linear shifts of 1 pixel in each direction."
   ]
  },
  {
   "cell_type": "code",
   "execution_count": 34,
   "metadata": {
    "collapsed": true
   },
   "outputs": [],
   "source": [
    "def nudge_dataset(X, y):\n",
    "    \"\"\"This produces a dataset 5 times bigger than the original one,\n",
    "    by moving the 8x8 images in X around by 1px to left, right, down, up.\"\"\"\n",
    "    direction_vectors = [\n",
    "        [[0, 1, 0], [0, 0, 0], [0, 0, 0]],\n",
    "        [[0, 0, 0], [1, 0, 0], [0, 0, 0]],\n",
    "        [[0, 0, 0], [0, 0, 1], [0, 0, 0]],\n",
    "        [[0, 0, 0], [0, 0, 0], [0, 1, 0]]]\n",
    "\n",
    "    shift = lambda x, w: convolve(\n",
    "        x.reshape((8, 8)), mode='constant', weights=w).ravel()\n",
    "    X = np.concatenate(\n",
    "        [X] + [np.apply_along_axis(shift, 1, X, vector)\n",
    "               for vector in direction_vectors])\n",
    "    y = np.concatenate([y for _ in xrange(5)], axis=0)\n",
    "    return X, y"
   ]
  },
  {
   "cell_type": "code",
   "execution_count": 35,
   "metadata": {
    "collapsed": false
   },
   "outputs": [],
   "source": [
    "X = np.asarray(digits.data, 'float32')\n",
    "X, y = nudge_dataset(X, digits.target)\n",
    "X = (X - np.min(X, 0)) / (np.max(X, 0) + 0.0001)  # 0-1 scaling\n",
    "X_train, X_test, y_train, y_test = train_test_split(\n",
    "    X, y, test_size=0.2, random_state=0)"
   ]
  },
  {
   "cell_type": "markdown",
   "metadata": {},
   "source": [
    "#### Train models\n",
    "The hyper-parameters were set by cross-validation, using a `GridSearchCV`. Here we are not performing cross-validation to save time. Note that more components (`rbm.n_components`) tend to give better prediction performance, but larger fitting time."
   ]
  },
  {
   "cell_type": "code",
   "execution_count": 17,
   "metadata": {
    "collapsed": true
   },
   "outputs": [],
   "source": [
    "logistic = linear_model.LogisticRegression(C=6000.0)\n",
    "rbm = BernoulliRBM(random_state=0, verbose=True, \n",
    "                   learning_rate=0.06, n_iter=20, n_components=100)\n",
    "model = Pipeline(steps=[('rbm', rbm), ('logistic', logistic)])"
   ]
  },
  {
   "cell_type": "markdown",
   "metadata": {},
   "source": [
    "Training RBM-Logistic Pipeline."
   ]
  },
  {
   "cell_type": "code",
   "execution_count": 18,
   "metadata": {
    "collapsed": false
   },
   "outputs": [
    {
     "name": "stdout",
     "output_type": "stream",
     "text": [
      "[BernoulliRBM] Iteration 1, pseudo-likelihood = -25.39, time = 0.17s\n",
      "[BernoulliRBM] Iteration 2, pseudo-likelihood = -23.77, time = 0.22s\n",
      "[BernoulliRBM] Iteration 3, pseudo-likelihood = -22.94, time = 0.23s\n",
      "[BernoulliRBM] Iteration 4, pseudo-likelihood = -21.91, time = 0.26s\n",
      "[BernoulliRBM] Iteration 5, pseudo-likelihood = -21.69, time = 0.22s\n",
      "[BernoulliRBM] Iteration 6, pseudo-likelihood = -21.06, time = 0.22s\n",
      "[BernoulliRBM] Iteration 7, pseudo-likelihood = -20.89, time = 0.22s\n",
      "[BernoulliRBM] Iteration 8, pseudo-likelihood = -20.64, time = 0.24s\n",
      "[BernoulliRBM] Iteration 9, pseudo-likelihood = -20.36, time = 0.22s\n",
      "[BernoulliRBM] Iteration 10, pseudo-likelihood = -20.09, time = 0.24s\n",
      "[BernoulliRBM] Iteration 11, pseudo-likelihood = -20.08, time = 0.22s\n",
      "[BernoulliRBM] Iteration 12, pseudo-likelihood = -19.82, time = 0.21s\n",
      "[BernoulliRBM] Iteration 13, pseudo-likelihood = -19.64, time = 0.23s\n",
      "[BernoulliRBM] Iteration 14, pseudo-likelihood = -19.61, time = 0.22s\n",
      "[BernoulliRBM] Iteration 15, pseudo-likelihood = -19.57, time = 0.21s\n",
      "[BernoulliRBM] Iteration 16, pseudo-likelihood = -19.41, time = 0.22s\n",
      "[BernoulliRBM] Iteration 17, pseudo-likelihood = -19.30, time = 0.21s\n",
      "[BernoulliRBM] Iteration 18, pseudo-likelihood = -19.25, time = 0.23s\n",
      "[BernoulliRBM] Iteration 19, pseudo-likelihood = -19.27, time = 0.24s\n",
      "[BernoulliRBM] Iteration 20, pseudo-likelihood = -19.01, time = 0.22s\n",
      "CPU times: user 19.3 s, sys: 152 ms, total: 19.4 s\n",
      "Wall time: 19.2 s\n"
     ]
    },
    {
     "data": {
      "text/plain": [
       "Pipeline(steps=[('rbm', BernoulliRBM(batch_size=10, learning_rate=0.06, n_components=100, n_iter=20,\n",
       "       random_state=0, verbose=True)), ('logistic', LogisticRegression(C=6000.0, class_weight=None, dual=False,\n",
       "          fit_intercept=True, intercept_scaling=1, max_iter=100,\n",
       "          multi_class='ovr', penalty='l2', random_state=None,\n",
       "          solver='liblinear', tol=0.0001, verbose=0))])"
      ]
     },
     "execution_count": 18,
     "metadata": {},
     "output_type": "execute_result"
    }
   ],
   "source": [
    "%%time\n",
    "model.fit(X_train, y_train)"
   ]
  },
  {
   "cell_type": "markdown",
   "metadata": {},
   "source": [
    "Just a plain logistic regression."
   ]
  },
  {
   "cell_type": "code",
   "execution_count": 19,
   "metadata": {
    "collapsed": false
   },
   "outputs": [
    {
     "name": "stdout",
     "output_type": "stream",
     "text": [
      "CPU times: user 1.75 s, sys: 4.04 ms, total: 1.75 s\n",
      "Wall time: 1.75 s\n"
     ]
    }
   ],
   "source": [
    "%%time\n",
    "logistic_classifier = linear_model.LogisticRegression(C=100.0)\n",
    "logistic_classifier.fit(X_train, y_train)"
   ]
  },
  {
   "cell_type": "markdown",
   "metadata": {},
   "source": [
    "#### Evaluation"
   ]
  },
  {
   "cell_type": "code",
   "execution_count": 22,
   "metadata": {
    "collapsed": false
   },
   "outputs": [
    {
     "name": "stdout",
     "output_type": "stream",
     "text": [
      "\n",
      "Logistic regression using RBM features:\n",
      "             precision    recall  f1-score   support\n",
      "\n",
      "          0       0.99      0.99      0.99       174\n",
      "          1       0.92      0.95      0.93       184\n",
      "          2       0.96      0.98      0.97       166\n",
      "          3       0.97      0.92      0.94       194\n",
      "          4       0.97      0.95      0.96       186\n",
      "          5       0.93      0.93      0.93       181\n",
      "          6       0.98      0.97      0.97       207\n",
      "          7       0.95      1.00      0.97       154\n",
      "          8       0.90      0.88      0.89       182\n",
      "          9       0.91      0.93      0.92       169\n",
      "\n",
      "avg / total       0.95      0.95      0.95      1797\n",
      "\n",
      "\n",
      "Logistic regression using raw pixel features:\n",
      "             precision    recall  f1-score   support\n",
      "\n",
      "          0       0.85      0.94      0.89       174\n",
      "          1       0.57      0.55      0.56       184\n",
      "          2       0.72      0.85      0.78       166\n",
      "          3       0.76      0.74      0.75       194\n",
      "          4       0.85      0.82      0.84       186\n",
      "          5       0.74      0.75      0.75       181\n",
      "          6       0.93      0.88      0.91       207\n",
      "          7       0.86      0.90      0.88       154\n",
      "          8       0.68      0.55      0.61       182\n",
      "          9       0.71      0.74      0.72       169\n",
      "\n",
      "avg / total       0.77      0.77      0.77      1797\n",
      "\n",
      "\n"
     ]
    }
   ],
   "source": [
    "print \n",
    "print \"Logistic regression using RBM features:\\n%s\\n\" % \\\n",
    "    metrics.classification_report(\n",
    "        y_test, model.predict(X_test))\n",
    "\n",
    "print \"Logistic regression using raw pixel features:\\n%s\\n\" % \\\n",
    "    metrics.classification_report(\n",
    "        y_test, logistic_classifier.predict(X_test))"
   ]
  },
  {
   "cell_type": "markdown",
   "metadata": {},
   "source": [
    "#### Plotting"
   ]
  },
  {
   "cell_type": "code",
   "execution_count": 36,
   "metadata": {
    "collapsed": false
   },
   "outputs": [
    {
     "data": {
      "image/png": "[encoded data removed]",
      "text/plain": [
       "<matplotlib.figure.Figure at 0x1125f4210>"
      ]
     },
     "metadata": {},
     "output_type": "display_data"
    }
   ],
   "source": [
    "plt.figure(figsize=(6.2, 6))\n",
    "for i, comp in enumerate(rbm.components_):\n",
    "    plt.subplot(10, 10, i + 1)\n",
    "    plt.imshow(comp.reshape((8, 8)), cmap=plt.cm.gray_r,\n",
    "               interpolation='nearest')\n",
    "    plt.xticks(())\n",
    "    plt.yticks(())\n",
    "plt.suptitle('100 components extracted by RBM', fontsize=16)\n",
    "plt.subplots_adjust(0.08, 0.02, 0.92, 0.85, 0.08, 0.23)"
   ]
  },
  {
   "cell_type": "markdown",
   "metadata": {},
   "source": [
    "### References\n",
    "\n",
    "1. [Neural Networks](http://scikit-learn.org/stable/modules/neural_networks.html) in `sklearn`\n",
    "1. Hinton, G. E., Osindero, S. and Teh, Y. A fast learning algorithm for\n",
    "deep belief nets. Neural Computation 18, pp 1527-1554. http://www.cs.toronto.edu/~hinton/absps/fastnc.pdf\n",
    "1. Tieleman, T. Training Restricted Boltzmann Machines using\n",
    "Approximations to the Likelihood Gradient. International Conference on Machine Learning (ICML) 2008"
   ]
  },
  {
   "cell_type": "code",
   "execution_count": null,
   "metadata": {
    "collapsed": true
   },
   "outputs": [],
   "source": []
  }
 ],
 "metadata": {
  "kernelspec": {
   "display_name": "Python 2",
   "language": "python",
   "name": "python2"
  },
  "language_info": {
   "codemirror_mode": {
    "name": "ipython",
    "version": 2
   },
   "file_extension": ".py",
   "mimetype": "text/x-python",
   "name": "python",
   "nbconvert_exporter": "python",
   "pygments_lexer": "ipython2",
   "version": "2.7.10"
  }
 },
 "nbformat": 4,
 "nbformat_minor": 0
}
