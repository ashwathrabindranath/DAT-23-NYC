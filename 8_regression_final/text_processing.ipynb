{
 "cells": [
  {
   "cell_type": "markdown",
   "metadata": {},
   "source": [
    "#Text Processing and Linear Regression\n",
    "\n",
    "In this notebook, we will look at the Amazon movie review dataset again, and try\n",
    "- to predict the score and helpfulness from the actual review\n",
    "- to find particular words that could indicate a good or bad review."
   ]
  },
  {
   "cell_type": "markdown",
   "metadata": {},
   "source": [
    "###Parse the data\n",
    "This was an exercise in lesson #2, so we'll do it right away in a super concise pandas way."
   ]
  },
  {
   "cell_type": "code",
   "execution_count": 1,
   "metadata": {
    "collapsed": false
   },
   "outputs": [],
   "source": [
    "import pandas as pd\n",
    "with open(\"/Users/ruben/repo/personal/ga/DAT-23-NYC/data/amazon/small-movies.txt\") as f:\n",
    "    data = pd.DataFrame([{line[:line.find(':')]: line[line.find(':')+2:] \n",
    "                          for line in review.split('\\nreview/')}\n",
    "                         for review in ('\\n' + f.read()).split('\\nproduct/') if len(review) > 1])\n",
    "    data['score'] = data.score.astype(float).astype(int)\n",
    "    data['helpfulness'] = data.helpfulness.str.split('/').map(\n",
    "        lambda frac: float(frac[0])/float(frac[1]) if frac[1] != '0' else None)"
   ]
  },
  {
   "cell_type": "code",
   "execution_count": 2,
   "metadata": {
    "collapsed": false
   },
   "outputs": [
    {
     "name": "stdout",
     "output_type": "stream",
     "text": [
      "1111\n"
     ]
    },
    {
     "data": {
      "text/html": [
       "<div>\n",
       "<table border=\"1\" class=\"dataframe\">\n",
       "  <thead>\n",
       "    <tr style=\"text-align: right;\">\n",
       "      <th></th>\n",
       "      <th>helpfulness</th>\n",
       "      <th>productId</th>\n",
       "      <th>profileName</th>\n",
       "      <th>score</th>\n",
       "      <th>summary</th>\n",
       "      <th>text</th>\n",
       "      <th>time</th>\n",
       "      <th>userId</th>\n",
       "    </tr>\n",
       "  </thead>\n",
       "  <tbody>\n",
       "    <tr>\n",
       "      <th>0</th>\n",
       "      <td>1</td>\n",
       "      <td>B003AI2VGA</td>\n",
       "      <td>Brian E. Erland \"Rainbow Sphinx\"</td>\n",
       "      <td>3</td>\n",
       "      <td>\"There Is So Much Darkness Now ~ Come For The ...</td>\n",
       "      <td>Synopsis: On the daily trek from Juarez, Mexic...</td>\n",
       "      <td>1182729600</td>\n",
       "      <td>A141HP4LYPWMSR</td>\n",
       "    </tr>\n",
       "    <tr>\n",
       "      <th>1</th>\n",
       "      <td>1</td>\n",
       "      <td>B003AI2VGA</td>\n",
       "      <td>Grady Harp</td>\n",
       "      <td>3</td>\n",
       "      <td>Worthwhile and Important Story Hampered by Poo...</td>\n",
       "      <td>THE VIRGIN OF JUAREZ is based on true events s...</td>\n",
       "      <td>1181952000</td>\n",
       "      <td>A328S9RN3U5M68</td>\n",
       "    </tr>\n",
       "  </tbody>\n",
       "</table>\n",
       "</div>"
      ],
      "text/plain": [
       "   helpfulness   productId                       profileName  score  \\\n",
       "0            1  B003AI2VGA  Brian E. Erland \"Rainbow Sphinx\"      3   \n",
       "1            1  B003AI2VGA                        Grady Harp      3   \n",
       "\n",
       "                                             summary  \\\n",
       "0  \"There Is So Much Darkness Now ~ Come For The ...   \n",
       "1  Worthwhile and Important Story Hampered by Poo...   \n",
       "\n",
       "                                                text        time  \\\n",
       "0  Synopsis: On the daily trek from Juarez, Mexic...  1182729600   \n",
       "1  THE VIRGIN OF JUAREZ is based on true events s...  1181952000   \n",
       "\n",
       "           userId  \n",
       "0  A141HP4LYPWMSR  \n",
       "1  A328S9RN3U5M68  "
      ]
     },
     "execution_count": 2,
     "metadata": {},
     "output_type": "execute_result"
    }
   ],
   "source": [
    "print len(data)\n",
    "data.head(2)"
   ]
  },
  {
   "cell_type": "markdown",
   "metadata": {},
   "source": [
    "### Which words indicate a good or bad review?"
   ]
  },
  {
   "cell_type": "markdown",
   "metadata": {},
   "source": [
    "####Adding a single text feature"
   ]
  },
  {
   "cell_type": "markdown",
   "metadata": {},
   "source": [
    "Let's look at the most common words"
   ]
  },
  {
   "cell_type": "code",
   "execution_count": 3,
   "metadata": {
    "collapsed": false
   },
   "outputs": [
    {
     "data": {
      "text/plain": [
       "the      306\n",
       "a        204\n",
       "of       176\n",
       "movie    131\n",
       "great    110\n",
       "dtype: int64"
      ]
     },
     "execution_count": 3,
     "metadata": {},
     "output_type": "execute_result"
    }
   ],
   "source": [
    "words = pd.Series([word for line in data.summary.values for word in line.lower().split()]).value_counts()\n",
    "words.head()"
   ]
  },
  {
   "cell_type": "code",
   "execution_count": 4,
   "metadata": {
    "collapsed": false
   },
   "outputs": [
    {
     "data": {
      "text/plain": [
       "False    714\n",
       "True     397\n",
       "dtype: int64"
      ]
     },
     "execution_count": 4,
     "metadata": {},
     "output_type": "execute_result"
    }
   ],
   "source": [
    "data['great'] = data.text.map(lambda x: x.find('great') > -1)\n",
    "data.great.value_counts()"
   ]
  },
  {
   "cell_type": "markdown",
   "metadata": {},
   "source": [
    "#### Add text features"
   ]
  },
  {
   "cell_type": "code",
   "execution_count": 5,
   "metadata": {
    "collapsed": false
   },
   "outputs": [
    {
     "name": "stdout",
     "output_type": "stream",
     "text": [
      "CPU times: user 713 ms, sys: 173 ms, total: 885 ms\n",
      "Wall time: 1.15 s\n"
     ]
    }
   ],
   "source": [
    "%%time\n",
    "from sklearn.feature_extraction.text import CountVectorizer\n",
    "from sklearn.linear_model import LinearRegression, Lasso, Ridge\n",
    "from sklearn.cross_validation import cross_val_score\n",
    "cross_val_score\n",
    "cv = CountVectorizer(stop_words = 'english', ngram_range=(1,2), max_features=100, \n",
    "                     min_df=.10, # only use words that appear at least some times (integer = absolute count)\n",
    "                     max_df=.95)  # ignore words that appear too frequently\n",
    "X, y = cv.fit_transform(data.text).todense(), data.score"
   ]
  },
  {
   "cell_type": "markdown",
   "metadata": {},
   "source": [
    "####Test some models\n",
    "Let's try some linear models with different regularization parameters."
   ]
  },
  {
   "cell_type": "code",
   "execution_count": 6,
   "metadata": {
    "collapsed": false
   },
   "outputs": [
    {
     "name": "stdout",
     "output_type": "stream",
     "text": [
      "alpha     0.0010  OLS 0.8311 Lasso 0.8279 Ridge 0.8311\n",
      "alpha     0.0100  OLS 0.8311 Lasso 0.8170 Ridge 0.8311\n",
      "alpha     0.1000  OLS 0.8311 Lasso 0.8648 Ridge 0.8310\n",
      "alpha     1.0000  OLS 0.8311 Lasso 0.8751 Ridge 0.8305\n",
      "alpha    10.0000  OLS 0.8311 Lasso 0.8751 Ridge 0.8266\n",
      "alpha   100.0000  OLS 0.8311 Lasso 0.8751 Ridge 0.8137\n",
      "alpha  1000.0000  OLS 0.8311 Lasso 0.8751 Ridge 0.8316\n",
      "alpha 10000.0000  OLS 0.8311 Lasso 0.8751 Ridge 0.8611\n"
     ]
    }
   ],
   "source": [
    "for n in xrange(-3, 5):\n",
    "    alpha = 10 ** n\n",
    "    print \"alpha %10.4f  OLS %.4f Lasso %.4f Ridge %.4f\" % \\\n",
    "        (alpha, \n",
    "         -cross_val_score(LinearRegression(), X, y, cv=10, scoring='mean_absolute_error').mean(),\n",
    "         -cross_val_score(Lasso(alpha), X, y, cv=10, scoring='mean_absolute_error').mean(), \n",
    "         -cross_val_score(Ridge(alpha), X, y, cv=10, scoring='mean_absolute_error').mean())"
   ]
  },
  {
   "cell_type": "markdown",
   "metadata": {},
   "source": [
    "Let's take `Ridge` with `alpha = 100`.\n",
    "\n",
    "Note that `0.81` sounds like a reasonable mean absolute error when predicting the score from just tallying some words. However, also note that when our model would simply always predict a score of 4, we would have had an error of `.92`, so not _that_ much bigger:"
   ]
  },
  {
   "cell_type": "code",
   "execution_count": 7,
   "metadata": {
    "collapsed": false
   },
   "outputs": [
    {
     "name": "stdout",
     "output_type": "stream",
     "text": [
      "Always 0 gives MAE 4.2763\n",
      "Always 1 gives MAE 3.2763\n",
      "Always 2 gives MAE 2.3789\n",
      "Always 3 gives MAE 1.5680\n",
      "Always 4 gives MAE 0.9172\n",
      "Always 5 gives MAE 0.7237\n"
     ]
    }
   ],
   "source": [
    "import numpy as np\n",
    "for score in range(6):\n",
    "    print \"Always %d gives MAE %.4f\" % (score, np.abs(score - data.score).mean())"
   ]
  },
  {
   "cell_type": "markdown",
   "metadata": {},
   "source": [
    "####Train model and analyze coefficients"
   ]
  },
  {
   "cell_type": "code",
   "execution_count": 8,
   "metadata": {
    "collapsed": false
   },
   "outputs": [
    {
     "data": {
      "text/plain": [
       "Ridge(alpha=100, copy_X=True, fit_intercept=True, max_iter=None,\n",
       "   normalize=False, solver='auto', tol=0.001)"
      ]
     },
     "execution_count": 8,
     "metadata": {},
     "output_type": "execute_result"
    }
   ],
   "source": [
    "model = Ridge(alpha=100)\n",
    "model.fit(X, y)"
   ]
  },
  {
   "cell_type": "code",
   "execution_count": 9,
   "metadata": {
    "collapsed": false
   },
   "outputs": [
    {
     "name": "stdout",
     "output_type": "stream",
     "text": [
      "Worst: read, scene, plot, japanese, japan, hollywood, like, far, count, scenes, man, book, don, make, think\n",
      "Best : movie, years, movies, tom, say, special, watching, does, time, times, life, best, love, great, excellent\n"
     ]
    },
    {
     "data": {
      "image/png": "[encoded data removed]",
      "text/plain": [
       "<matplotlib.figure.Figure at 0x10d289b50>"
      ]
     },
     "metadata": {},
     "output_type": "display_data"
    }
   ],
   "source": [
    "from matplotlib import pyplot as plt\n",
    "%matplotlib inline\n",
    "coef = pd.Series(model.coef_, index=cv.get_feature_names())\n",
    "coef.sort()\n",
    "top = 15\n",
    "fig, axes = plt.subplots(1, 2, figsize=(12, 4))\n",
    "f = coef[:top].plot(kind='barh', ax=axes[0])\n",
    "f = coef[-top:].plot(kind='barh', ax=axes[1])\n",
    "print \"Worst:\", \", \".join(coef[:top].index)\n",
    "print \"Best :\", \", \".join(coef[-top:].index)"
   ]
  },
  {
   "cell_type": "markdown",
   "metadata": {},
   "source": [
    "- Seems like movies are better reviewed than books\n",
    "- Japan and Hollywood seem to be more negative"
   ]
  },
  {
   "cell_type": "markdown",
   "metadata": {},
   "source": [
    "### Which words could constitute helpfulness?"
   ]
  },
  {
   "cell_type": "code",
   "execution_count": 10,
   "metadata": {
    "collapsed": true
   },
   "outputs": [],
   "source": [
    "# left as exercise"
   ]
  },
  {
   "cell_type": "code",
   "execution_count": null,
   "metadata": {
    "collapsed": true
   },
   "outputs": [],
   "source": []
  },
  {
   "cell_type": "code",
   "execution_count": null,
   "metadata": {
    "collapsed": true
   },
   "outputs": [],
   "source": []
  }
 ],
 "metadata": {
  "kernelspec": {
   "display_name": "Python 2",
   "language": "python",
   "name": "python2"
  },
  "language_info": {
   "codemirror_mode": {
    "name": "ipython",
    "version": 2
   },
   "file_extension": ".py",
   "mimetype": "text/x-python",
   "name": "python",
   "nbconvert_exporter": "python",
   "pygments_lexer": "ipython2",
   "version": "2.7.10"
  }
 },
 "nbformat": 4,
 "nbformat_minor": 0
}
