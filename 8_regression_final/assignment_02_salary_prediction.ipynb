{
 "cells": [
  {
   "cell_type": "markdown",
   "metadata": {},
   "source": [
    "# Assignment 2: Linear Regression\n",
    "\n",
    "### The Problem\n",
    "In this assignment, we are going to recreate the Kaggle competition to predict salaries based on job descriptions: http://www.kaggle.com/c/job-salary-prediction.  This problem came from a company called [Adzuna](http://www.adzuna.co.uk/), that wanted to be able to predict the salary of a job just based on it's description.\n",
    "\n",
    "### The Data\n",
    "We've paired down the problem a bit to make the dataset small and allow you to complete it in a reasonable time frame.  There are 3 important files available.\n",
    "\n",
    "1. [train.csv](http://gadatascience.com/datasets/adzuna_salary_prediction/train-cedited.csv)\n",
    "1. [test.csv](http://gadatascience.com/datasets/adzuna_salary_prediction/test-cedited.csv)\n",
    "1. [Location_Tree.csv](https://www.dropbox.com/s/hhieedt1b92adw5/Location_Tree.csv?dl=0)\n",
    "\n",
    "You will train and test your model on the `train.csv` dataset. This dataset is reasonably small, with 10k samples, so you can work smoothly. If you'd like to use larger datasets, you could try [train-50k.csv](https://www.dropbox.com/s/ssc14lubyua8hii/train_50k.csv?dl=0).\n",
    "\n",
    "If you have found a model you like, you can make predictions on the samples of the `test.csv` dataset. The test files contains all but the final two columns (the salary information), so you won't know how well you do. We will compare your predictions with those from the other students.\n",
    "\n",
    "\n",
    "\n",
    "### Assignment\n",
    "\n",
    "Your job is to submit\n",
    "- a commented IPython notebook with some of the things you tried,\n",
    "- your best predictions for the test file, in a file `[your_name]_predictions.csv`, in the format\n",
    "    ```\n",
    "    Id, Salary\n",
    "    1234, 77999\n",
    "    2345, 88999\n",
    "    ```\n",
    "\n",
    "At any point in the following steps you can use your model to predict salaries on the final test set and submit. \n",
    "Some bullets have stars and rank from Basic (no star) to Challenging (3 stars)\n",
    "\n",
    "- 1 star (\\*) - Try these out but they will be harder\n",
    "- 2 stars (\\*\\*) - For those looking for a challenge or really explore the topic\n",
    "- 3 stars (\\*\\*\\*) - Test out some of the ideas using different tools"
   ]
  },
  {
   "cell_type": "markdown",
   "metadata": {},
   "source": [
    "###Steps\n",
    "\n",
    "1. Split the data into training and test sets (using one of the training files above).  You will use one as your training set and the other for validation.  At the end you may train your final parameters on the full dataset.\n",
    "\n",
    "1. Build a simple linear regression using the available categorical variables.  Try adding and dropping parameters and see if they improve the model.  Try adding interaction effects to improve your model. (Note: beware of the computational overhead) Compare both R-squared and MAE on your test set. \n",
    "\n",
    "1. Perform cross-validation to verify that the inclusion (or exclusion) of any variables provides a tangible improvement to the model.\n",
    "\n",
    "1. (\\*) Use the regularization options available to attempt to improve the model\n",
    "\n",
    "1. (\\*\\*) Now let's try adding some text features.  You can create these by hand using `.map` on your dataframe or using scikits-learn and the `CountVectorizer` (import from `sklearn.feature_extraction.text`)\n",
    "\n",
    "1. (\\*\\*) Merge `location_tree.csv` on to your dataset - do any features from here to improve performance. You'll need to convert this file before you can effectively use it.\n",
    "\n",
    "1. (\\*\\*) If you were just loading the `train.csv` file so far, try loading one of the large datasets.  Does the larger dataset improve performance on the held-out test set?  If possible, try loading an even larger file.\n"
   ]
  },
  {
   "cell_type": "code",
   "execution_count": null,
   "metadata": {
    "collapsed": true
   },
   "outputs": [],
   "source": []
  },
  {
   "cell_type": "code",
   "execution_count": null,
   "metadata": {
    "collapsed": true
   },
   "outputs": [],
   "source": []
  },
  {
   "cell_type": "code",
   "execution_count": null,
   "metadata": {
    "collapsed": true
   },
   "outputs": [],
   "source": []
  },
  {
   "cell_type": "code",
   "execution_count": null,
   "metadata": {
    "collapsed": true
   },
   "outputs": [],
   "source": []
  },
  {
   "cell_type": "code",
   "execution_count": null,
   "metadata": {
    "collapsed": true
   },
   "outputs": [],
   "source": []
  }
 ],
 "metadata": {
  "kernelspec": {
   "display_name": "Python 2",
   "language": "python",
   "name": "python2"
  },
  "language_info": {
   "codemirror_mode": {
    "name": "ipython",
    "version": 2
   },
   "file_extension": ".py",
   "mimetype": "text/x-python",
   "name": "python",
   "nbconvert_exporter": "python",
   "pygments_lexer": "ipython2",
   "version": "2.7.10"
  }
 },
 "nbformat": 4,
 "nbformat_minor": 0
}
